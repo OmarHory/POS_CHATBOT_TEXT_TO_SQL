{
 "cells": [
  {
   "cell_type": "code",
   "execution_count": 57,
   "metadata": {},
   "outputs": [],
   "source": [
    "import pandas as pd\n",
    "pd.set_option('display.max_rows', 5000)\n",
    "pd.set_option('display.max_columns', 5000)"
   ]
  },
  {
   "cell_type": "code",
   "execution_count": 58,
   "metadata": {},
   "outputs": [],
   "source": [
    "data = pd.read_csv('data/raw/orders.csv')"
   ]
  },
  {
   "cell_type": "code",
   "execution_count": 59,
   "metadata": {},
   "outputs": [],
   "source": [
    "orders_types = {1:'Dine In', 2:'Pick Up', 3:'Delivery', '4':'Drive Thru'}\n",
    "orders_sources = {1:'Cashier', 2:'API', 3:'Call Center'}\n",
    "orders_statuses = {1:'Pending', 2:'Active', 3:'Declined', 4:'Closed', 5:'Returned', 6:'Joined', 7:'Void'}\n",
    "orders_delivery_statuses = {1:'sent to kitchen', 2:'ready', 3:'assigned', 4:'en route', 5:'delivered', 6:'closed'}\n",
    "products_statuses = {1:'Pending', 2:'Active', 3:'Closed', 4:'Moved', 5:'Void', 6:'Returned', 7:'Declined'}\n",
    "discounts_types = {1:'Open', 2:'Predefined', 3:'Coupon', 4:'Loyalty', 5:'Promotion'}"
   ]
  },
  {
   "cell_type": "code",
   "execution_count": 60,
   "metadata": {},
   "outputs": [
    {
     "data": {
      "text/plain": [
       "id                                object\n",
       "app_id                            object\n",
       "promotion_id                     float64\n",
       "discount_type                    float64\n",
       "reference_x                      float64\n",
       "number                             int64\n",
       "type                               int64\n",
       "source                             int64\n",
       "status                             int64\n",
       "delivery_status                  float64\n",
       "guests                             int64\n",
       "kitchen_notes                     object\n",
       "customer_notes                    object\n",
       "business_date                     object\n",
       "subtotal_price                   float64\n",
       "discount_amount                  float64\n",
       "rounding_amount                    int64\n",
       "total_price                      float64\n",
       "tax_exclusive_discount_amount    float64\n",
       "delay_in_seconds                 float64\n",
       "meta                              object\n",
       "opened_at                         object\n",
       "accepted_at                       object\n",
       "due_at                            object\n",
       "driver_assigned_at               float64\n",
       "dispatched_at                    float64\n",
       "driver_collected_at              float64\n",
       "delivered_at                     float64\n",
       "closed_at                         object\n",
       "created_at                        object\n",
       "updated_at                        object\n",
       "reference                          int64\n",
       "check_number                       int64\n",
       "dtype: object"
      ]
     },
     "execution_count": 60,
     "metadata": {},
     "output_type": "execute_result"
    }
   ],
   "source": [
    "data.dtypes"
   ]
  },
  {
   "cell_type": "code",
   "execution_count": 61,
   "metadata": {},
   "outputs": [],
   "source": [
    "data['type'] = data['type'].map(orders_types)\n",
    "data['source'] = data['source'].map(orders_sources)\n",
    "data['status'] = data['status'].map(orders_statuses)\n",
    "data['delivery_status'] = data['delivery_status'].map(orders_delivery_statuses)\n",
    "# data['product_status'] = data['product_status'].map(products_statuses)\n",
    "data['discount_type'] = data['discount_type'].map(discounts_types)\n"
   ]
  },
  {
   "cell_type": "code",
   "execution_count": 67,
   "metadata": {},
   "outputs": [],
   "source": [
    "needed_columns = ['id', 'created_at', 'type', 'source', 'status', 'delivery_status', 'subtotal_price', 'total_price']"
   ]
  },
  {
   "cell_type": "code",
   "execution_count": 68,
   "metadata": {},
   "outputs": [],
   "source": [
    "sub_data = data[needed_columns].copy()"
   ]
  },
  {
   "cell_type": "code",
   "execution_count": 69,
   "metadata": {},
   "outputs": [
    {
     "data": {
      "text/plain": [
       "id                   0\n",
       "created_at           0\n",
       "type                 0\n",
       "source               0\n",
       "status               0\n",
       "delivery_status    281\n",
       "subtotal_price       0\n",
       "total_price          0\n",
       "dtype: int64"
      ]
     },
     "execution_count": 69,
     "metadata": {},
     "output_type": "execute_result"
    }
   ],
   "source": [
    "sub_data.isnull().sum()"
   ]
  },
  {
   "cell_type": "code",
   "execution_count": 72,
   "metadata": {},
   "outputs": [],
   "source": [
    "sub_data['delivery_status'] = sub_data['delivery_status'].fillna(\"None\")"
   ]
  },
  {
   "cell_type": "code",
   "execution_count": 73,
   "metadata": {},
   "outputs": [
    {
     "data": {
      "text/plain": [
       "id                 0\n",
       "created_at         0\n",
       "type               0\n",
       "source             0\n",
       "status             0\n",
       "delivery_status    0\n",
       "subtotal_price     0\n",
       "total_price        0\n",
       "dtype: int64"
      ]
     },
     "execution_count": 73,
     "metadata": {},
     "output_type": "execute_result"
    }
   ],
   "source": [
    "sub_data.isnull().sum()"
   ]
  },
  {
   "cell_type": "code",
   "execution_count": 75,
   "metadata": {},
   "outputs": [],
   "source": [
    "sub_data.sort_values(\"created_at\", inplace=True)"
   ]
  },
  {
   "cell_type": "code",
   "execution_count": 77,
   "metadata": {},
   "outputs": [],
   "source": [
    "sub_data = sub_data.reset_index(drop=True)"
   ]
  },
  {
   "cell_type": "code",
   "execution_count": 83,
   "metadata": {},
   "outputs": [
    {
     "data": {
      "text/plain": [
       "Closed      14571\n",
       "Void          334\n",
       "Returned       65\n",
       "Name: status, dtype: int64"
      ]
     },
     "execution_count": 83,
     "metadata": {},
     "output_type": "execute_result"
    }
   ],
   "source": [
    "sub_data.status.value_counts()"
   ]
  },
  {
   "cell_type": "code",
   "execution_count": 85,
   "metadata": {},
   "outputs": [
    {
     "data": {
      "text/plain": [
       "Cashier        14959\n",
       "Call Center       11\n",
       "Name: source, dtype: int64"
      ]
     },
     "execution_count": 85,
     "metadata": {},
     "output_type": "execute_result"
    }
   ],
   "source": [
    "sub_data.source.value_counts()"
   ]
  },
  {
   "cell_type": "code",
   "execution_count": 87,
   "metadata": {},
   "outputs": [
    {
     "data": {
      "text/plain": [
       "Pick Up     12206\n",
       "Dine In      2752\n",
       "Delivery       12\n",
       "Name: type, dtype: int64"
      ]
     },
     "execution_count": 87,
     "metadata": {},
     "output_type": "execute_result"
    }
   ],
   "source": [
    "sub_data.type.value_counts()"
   ]
  },
  {
   "cell_type": "code",
   "execution_count": null,
   "metadata": {},
   "outputs": [],
   "source": []
  }
 ],
 "metadata": {
  "kernelspec": {
   "display_name": ".venv",
   "language": "python",
   "name": "python3"
  },
  "language_info": {
   "codemirror_mode": {
    "name": "ipython",
    "version": 3
   },
   "file_extension": ".py",
   "mimetype": "text/x-python",
   "name": "python",
   "nbconvert_exporter": "python",
   "pygments_lexer": "ipython3",
   "version": "3.10.11"
  },
  "orig_nbformat": 4
 },
 "nbformat": 4,
 "nbformat_minor": 2
}
