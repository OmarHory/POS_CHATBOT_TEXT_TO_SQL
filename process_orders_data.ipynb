{
 "cells": [
  {
   "cell_type": "code",
   "execution_count": 108,
   "metadata": {},
   "outputs": [],
   "source": [
    "import pandas as pd\n",
    "pd.set_option('display.max_rows', 5000)\n",
    "pd.set_option('display.max_columns', 5000)"
   ]
  },
  {
   "cell_type": "code",
   "execution_count": 109,
   "metadata": {},
   "outputs": [],
   "source": [
    "data = pd.read_csv('data/raw/orders.csv')"
   ]
  },
  {
   "cell_type": "code",
   "execution_count": 110,
   "metadata": {},
   "outputs": [],
   "source": [
    "orders_types = {1:'Dine In', 2:'Pick Up', 3:'Delivery', '4':'Drive Thru'}\n",
    "orders_sources = {1:'Cashier', 2:'API', 3:'Call Center'}\n",
    "orders_statuses = {1:'Pending', 2:'Active', 3:'Declined', 4:'Closed', 5:'Returned', 6:'Joined', 7:'Void'}\n",
    "orders_delivery_statuses = {1:'sent to kitchen', 2:'ready', 3:'assigned', 4:'en route', 5:'delivered', 6:'closed'}\n",
    "products_statuses = {1:'Pending', 2:'Active', 3:'Closed', 4:'Moved', 5:'Void', 6:'Returned', 7:'Declined'}\n",
    "discounts_types = {1:'Open', 2:'Predefined', 3:'Coupon', 4:'Loyalty', 5:'Promotion'}"
   ]
  },
  {
   "cell_type": "code",
   "execution_count": 111,
   "metadata": {},
   "outputs": [
    {
     "data": {
      "text/plain": [
       "id                                object\n",
       "app_id                            object\n",
       "promotion_id                     float64\n",
       "discount_type                    float64\n",
       "reference_x                      float64\n",
       "number                             int64\n",
       "type                               int64\n",
       "source                             int64\n",
       "status                             int64\n",
       "delivery_status                  float64\n",
       "guests                             int64\n",
       "kitchen_notes                     object\n",
       "customer_notes                    object\n",
       "business_date                     object\n",
       "subtotal_price                   float64\n",
       "discount_amount                  float64\n",
       "rounding_amount                    int64\n",
       "total_price                      float64\n",
       "tax_exclusive_discount_amount    float64\n",
       "delay_in_seconds                 float64\n",
       "meta                              object\n",
       "opened_at                         object\n",
       "accepted_at                       object\n",
       "due_at                            object\n",
       "driver_assigned_at               float64\n",
       "dispatched_at                    float64\n",
       "driver_collected_at              float64\n",
       "delivered_at                     float64\n",
       "closed_at                         object\n",
       "created_at                        object\n",
       "updated_at                        object\n",
       "reference                          int64\n",
       "check_number                       int64\n",
       "dtype: object"
      ]
     },
     "execution_count": 111,
     "metadata": {},
     "output_type": "execute_result"
    }
   ],
   "source": [
    "data.dtypes"
   ]
  },
  {
   "cell_type": "code",
   "execution_count": 112,
   "metadata": {},
   "outputs": [],
   "source": [
    "data['type'] = data['type'].map(orders_types)\n",
    "data['source'] = data['source'].map(orders_sources)\n",
    "data['status'] = data['status'].map(orders_statuses)\n",
    "data['delivery_status'] = data['delivery_status'].map(orders_delivery_statuses)\n",
    "# data['product_status'] = data['product_status'].map(products_statuses)\n",
    "data['discount_type'] = data['discount_type'].map(discounts_types)\n"
   ]
  },
  {
   "cell_type": "code",
   "execution_count": 113,
   "metadata": {},
   "outputs": [],
   "source": [
    "needed_columns = ['id', 'created_at', 'type', 'source', 'status', 'subtotal_price', 'total_price']"
   ]
  },
  {
   "cell_type": "code",
   "execution_count": 114,
   "metadata": {},
   "outputs": [],
   "source": [
    "sub_data = data[needed_columns].copy()"
   ]
  },
  {
   "cell_type": "code",
   "execution_count": 115,
   "metadata": {},
   "outputs": [
    {
     "data": {
      "text/plain": [
       "id                0\n",
       "created_at        0\n",
       "type              0\n",
       "source            0\n",
       "status            0\n",
       "subtotal_price    0\n",
       "total_price       0\n",
       "dtype: int64"
      ]
     },
     "execution_count": 115,
     "metadata": {},
     "output_type": "execute_result"
    }
   ],
   "source": [
    "sub_data.isnull().sum()"
   ]
  },
  {
   "cell_type": "code",
   "execution_count": 116,
   "metadata": {},
   "outputs": [
    {
     "data": {
      "text/plain": [
       "id                0\n",
       "created_at        0\n",
       "type              0\n",
       "source            0\n",
       "status            0\n",
       "subtotal_price    0\n",
       "total_price       0\n",
       "dtype: int64"
      ]
     },
     "execution_count": 116,
     "metadata": {},
     "output_type": "execute_result"
    }
   ],
   "source": [
    "sub_data.isnull().sum()"
   ]
  },
  {
   "cell_type": "code",
   "execution_count": 117,
   "metadata": {},
   "outputs": [],
   "source": [
    "sub_data.sort_values(\"created_at\", inplace=True)"
   ]
  },
  {
   "cell_type": "code",
   "execution_count": 118,
   "metadata": {},
   "outputs": [],
   "source": [
    "sub_data = sub_data.reset_index(drop=True)"
   ]
  },
  {
   "cell_type": "code",
   "execution_count": 119,
   "metadata": {},
   "outputs": [
    {
     "data": {
      "text/plain": [
       "Closed      14571\n",
       "Void          334\n",
       "Returned       65\n",
       "Name: status, dtype: int64"
      ]
     },
     "execution_count": 119,
     "metadata": {},
     "output_type": "execute_result"
    }
   ],
   "source": [
    "sub_data.status.value_counts()"
   ]
  },
  {
   "cell_type": "code",
   "execution_count": 120,
   "metadata": {},
   "outputs": [
    {
     "data": {
      "text/plain": [
       "Cashier        14959\n",
       "Call Center       11\n",
       "Name: source, dtype: int64"
      ]
     },
     "execution_count": 120,
     "metadata": {},
     "output_type": "execute_result"
    }
   ],
   "source": [
    "sub_data.source.value_counts()"
   ]
  },
  {
   "cell_type": "code",
   "execution_count": 121,
   "metadata": {},
   "outputs": [
    {
     "data": {
      "text/plain": [
       "Pick Up     12206\n",
       "Dine In      2752\n",
       "Delivery       12\n",
       "Name: type, dtype: int64"
      ]
     },
     "execution_count": 121,
     "metadata": {},
     "output_type": "execute_result"
    }
   ],
   "source": [
    "sub_data.type.value_counts()"
   ]
  },
  {
   "cell_type": "code",
   "execution_count": 122,
   "metadata": {},
   "outputs": [],
   "source": [
    "sub_data['created_at'] = pd.to_datetime(sub_data['created_at'])"
   ]
  },
  {
   "cell_type": "code",
   "execution_count": null,
   "metadata": {},
   "outputs": [],
   "source": []
  },
  {
   "cell_type": "code",
   "execution_count": 123,
   "metadata": {},
   "outputs": [],
   "source": [
    "sub_data['create_date'] = sub_data['created_at'].dt.date\n",
    "sub_data['create_hour'] = sub_data['created_at'].dt.hour\n",
    "sub_data['create_day_name'] = sub_data['created_at'].dt.day_name()\n",
    "sub_data['is_weekend'] = sub_data['created_at'].dt.dayofweek.isin([4, 5])\n",
    "sub_data['is_weekend'].replace({True:'Yes', False:'No'}, inplace=True)\n",
    "sub_data['month'] = sub_data['created_at'].dt.month\n",
    "sub_data['year'] = sub_data['created_at'].dt.year\n",
    "\n",
    "\n"
   ]
  },
  {
   "cell_type": "code",
   "execution_count": 124,
   "metadata": {},
   "outputs": [],
   "source": [
    "final_orders_data = sub_data.groupby(['create_date', 'month', 'year', 'create_hour', 'create_day_name', 'is_weekend']).agg(cashflow=('total_price', 'sum')).reset_index()"
   ]
  },
  {
   "cell_type": "code",
   "execution_count": 125,
   "metadata": {},
   "outputs": [
    {
     "data": {
      "text/html": [
       "<div>\n",
       "<style scoped>\n",
       "    .dataframe tbody tr th:only-of-type {\n",
       "        vertical-align: middle;\n",
       "    }\n",
       "\n",
       "    .dataframe tbody tr th {\n",
       "        vertical-align: top;\n",
       "    }\n",
       "\n",
       "    .dataframe thead th {\n",
       "        text-align: right;\n",
       "    }\n",
       "</style>\n",
       "<table border=\"1\" class=\"dataframe\">\n",
       "  <thead>\n",
       "    <tr style=\"text-align: right;\">\n",
       "      <th></th>\n",
       "      <th>create_date</th>\n",
       "      <th>month</th>\n",
       "      <th>year</th>\n",
       "      <th>create_hour</th>\n",
       "      <th>create_day_name</th>\n",
       "      <th>is_weekend</th>\n",
       "      <th>cashflow</th>\n",
       "    </tr>\n",
       "  </thead>\n",
       "  <tbody>\n",
       "    <tr>\n",
       "      <th>2728</th>\n",
       "      <td>2023-05-24</td>\n",
       "      <td>5</td>\n",
       "      <td>2023</td>\n",
       "      <td>22</td>\n",
       "      <td>Wednesday</td>\n",
       "      <td>No</td>\n",
       "      <td>19.75</td>\n",
       "    </tr>\n",
       "    <tr>\n",
       "      <th>2729</th>\n",
       "      <td>2023-05-25</td>\n",
       "      <td>5</td>\n",
       "      <td>2023</td>\n",
       "      <td>7</td>\n",
       "      <td>Thursday</td>\n",
       "      <td>No</td>\n",
       "      <td>0.00</td>\n",
       "    </tr>\n",
       "    <tr>\n",
       "      <th>2730</th>\n",
       "      <td>2023-05-25</td>\n",
       "      <td>5</td>\n",
       "      <td>2023</td>\n",
       "      <td>8</td>\n",
       "      <td>Thursday</td>\n",
       "      <td>No</td>\n",
       "      <td>14.00</td>\n",
       "    </tr>\n",
       "    <tr>\n",
       "      <th>2731</th>\n",
       "      <td>2023-05-25</td>\n",
       "      <td>5</td>\n",
       "      <td>2023</td>\n",
       "      <td>9</td>\n",
       "      <td>Thursday</td>\n",
       "      <td>No</td>\n",
       "      <td>15.25</td>\n",
       "    </tr>\n",
       "    <tr>\n",
       "      <th>2732</th>\n",
       "      <td>2023-05-25</td>\n",
       "      <td>5</td>\n",
       "      <td>2023</td>\n",
       "      <td>10</td>\n",
       "      <td>Thursday</td>\n",
       "      <td>No</td>\n",
       "      <td>12.50</td>\n",
       "    </tr>\n",
       "  </tbody>\n",
       "</table>\n",
       "</div>"
      ],
      "text/plain": [
       "     create_date  month  year  create_hour create_day_name is_weekend  \\\n",
       "2728  2023-05-24      5  2023           22       Wednesday         No   \n",
       "2729  2023-05-25      5  2023            7        Thursday         No   \n",
       "2730  2023-05-25      5  2023            8        Thursday         No   \n",
       "2731  2023-05-25      5  2023            9        Thursday         No   \n",
       "2732  2023-05-25      5  2023           10        Thursday         No   \n",
       "\n",
       "      cashflow  \n",
       "2728     19.75  \n",
       "2729      0.00  \n",
       "2730     14.00  \n",
       "2731     15.25  \n",
       "2732     12.50  "
      ]
     },
     "execution_count": 125,
     "metadata": {},
     "output_type": "execute_result"
    }
   ],
   "source": [
    "final_orders_data.tail()"
   ]
  },
  {
   "cell_type": "code",
   "execution_count": 126,
   "metadata": {},
   "outputs": [],
   "source": [
    "final_orders_data.to_csv('data/processed/orders.csv', index=False)"
   ]
  }
 ],
 "metadata": {
  "kernelspec": {
   "display_name": ".venv",
   "language": "python",
   "name": "python3"
  },
  "language_info": {
   "codemirror_mode": {
    "name": "ipython",
    "version": 3
   },
   "file_extension": ".py",
   "mimetype": "text/x-python",
   "name": "python",
   "nbconvert_exporter": "python",
   "pygments_lexer": "ipython3",
   "version": "3.10.11"
  },
  "orig_nbformat": 4
 },
 "nbformat": 4,
 "nbformat_minor": 2
}
