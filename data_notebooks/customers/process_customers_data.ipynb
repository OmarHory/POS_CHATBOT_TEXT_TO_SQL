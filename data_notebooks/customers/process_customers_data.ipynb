{
 "cells": [
  {
   "cell_type": "code",
   "execution_count": 1,
   "metadata": {},
   "outputs": [],
   "source": [
    "import pandas as pd\n",
    "pd.set_option('display.max_rows', 5000)\n",
    "pd.set_option('display.max_columns', 5000)"
   ]
  },
  {
   "cell_type": "code",
   "execution_count": 2,
   "metadata": {},
   "outputs": [],
   "source": [
    "data = pd.read_csv('../../data/raw/customers.csv')"
   ]
  },
  {
   "cell_type": "code",
   "execution_count": 3,
   "metadata": {},
   "outputs": [
    {
     "data": {
      "text/html": [
       "<div>\n",
       "<style scoped>\n",
       "    .dataframe tbody tr th:only-of-type {\n",
       "        vertical-align: middle;\n",
       "    }\n",
       "\n",
       "    .dataframe tbody tr th {\n",
       "        vertical-align: top;\n",
       "    }\n",
       "\n",
       "    .dataframe thead th {\n",
       "        text-align: right;\n",
       "    }\n",
       "</style>\n",
       "<table border=\"1\" class=\"dataframe\">\n",
       "  <thead>\n",
       "    <tr style=\"text-align: right;\">\n",
       "      <th></th>\n",
       "      <th>house_account_balance</th>\n",
       "      <th>loyalty_balance</th>\n",
       "      <th>id</th>\n",
       "      <th>name</th>\n",
       "      <th>dial_code</th>\n",
       "      <th>phone</th>\n",
       "      <th>email</th>\n",
       "      <th>gender</th>\n",
       "      <th>birth_date</th>\n",
       "      <th>is_blacklisted</th>\n",
       "      <th>is_house_account_enabled</th>\n",
       "      <th>house_account_limit</th>\n",
       "      <th>is_loyalty_enabled</th>\n",
       "      <th>order_count</th>\n",
       "      <th>last_order_at</th>\n",
       "      <th>created_at</th>\n",
       "      <th>updated_at</th>\n",
       "      <th>deleted_at</th>\n",
       "    </tr>\n",
       "  </thead>\n",
       "  <tbody>\n",
       "    <tr>\n",
       "      <th>0</th>\n",
       "      <td>0</td>\n",
       "      <td>0</td>\n",
       "      <td>975b3d7b-369f-41f6-b0b0-371484735d0f</td>\n",
       "      <td>براء الحزيري</td>\n",
       "      <td>962</td>\n",
       "      <td>797519969</td>\n",
       "      <td>NaN</td>\n",
       "      <td>NaN</td>\n",
       "      <td>NaN</td>\n",
       "      <td>False</td>\n",
       "      <td>False</td>\n",
       "      <td>NaN</td>\n",
       "      <td>False</td>\n",
       "      <td>1</td>\n",
       "      <td>2023-02-20 15:55:17</td>\n",
       "      <td>2022-09-26 08:34:53</td>\n",
       "      <td>2023-02-20 15:02:49</td>\n",
       "      <td>NaN</td>\n",
       "    </tr>\n",
       "    <tr>\n",
       "      <th>1</th>\n",
       "      <td>0</td>\n",
       "      <td>0</td>\n",
       "      <td>975b3d7b-3817-4c93-9261-2c221a1e04a5</td>\n",
       "      <td>محمد ابو عايش</td>\n",
       "      <td>962</td>\n",
       "      <td>781989682</td>\n",
       "      <td>NaN</td>\n",
       "      <td>NaN</td>\n",
       "      <td>NaN</td>\n",
       "      <td>False</td>\n",
       "      <td>False</td>\n",
       "      <td>NaN</td>\n",
       "      <td>False</td>\n",
       "      <td>0</td>\n",
       "      <td>NaN</td>\n",
       "      <td>2022-09-26 08:34:53</td>\n",
       "      <td>2022-09-26 08:34:53</td>\n",
       "      <td>NaN</td>\n",
       "    </tr>\n",
       "    <tr>\n",
       "      <th>2</th>\n",
       "      <td>0</td>\n",
       "      <td>0</td>\n",
       "      <td>975b3d7b-3ea9-4ec5-9e69-d9a41eb4523e</td>\n",
       "      <td>محمد</td>\n",
       "      <td>962</td>\n",
       "      <td>791877931</td>\n",
       "      <td>NaN</td>\n",
       "      <td>NaN</td>\n",
       "      <td>NaN</td>\n",
       "      <td>False</td>\n",
       "      <td>False</td>\n",
       "      <td>NaN</td>\n",
       "      <td>False</td>\n",
       "      <td>0</td>\n",
       "      <td>NaN</td>\n",
       "      <td>2022-09-26 08:34:53</td>\n",
       "      <td>2022-09-26 08:41:12</td>\n",
       "      <td>NaN</td>\n",
       "    </tr>\n",
       "    <tr>\n",
       "      <th>3</th>\n",
       "      <td>0</td>\n",
       "      <td>0</td>\n",
       "      <td>975b3d7b-46f2-424f-b03e-c19c2c2e43c0</td>\n",
       "      <td>وائل القضاه</td>\n",
       "      <td>962</td>\n",
       "      <td>798083921</td>\n",
       "      <td>NaN</td>\n",
       "      <td>NaN</td>\n",
       "      <td>NaN</td>\n",
       "      <td>False</td>\n",
       "      <td>False</td>\n",
       "      <td>NaN</td>\n",
       "      <td>False</td>\n",
       "      <td>0</td>\n",
       "      <td>NaN</td>\n",
       "      <td>2022-09-26 08:34:53</td>\n",
       "      <td>2022-09-26 08:41:12</td>\n",
       "      <td>NaN</td>\n",
       "    </tr>\n",
       "    <tr>\n",
       "      <th>4</th>\n",
       "      <td>0</td>\n",
       "      <td>0</td>\n",
       "      <td>975b3d7b-4861-42e1-a812-a1db63ea8a8a</td>\n",
       "      <td>كندا حمدان</td>\n",
       "      <td>962</td>\n",
       "      <td>797150718</td>\n",
       "      <td>NaN</td>\n",
       "      <td>NaN</td>\n",
       "      <td>NaN</td>\n",
       "      <td>False</td>\n",
       "      <td>False</td>\n",
       "      <td>NaN</td>\n",
       "      <td>False</td>\n",
       "      <td>0</td>\n",
       "      <td>NaN</td>\n",
       "      <td>2022-09-26 08:34:53</td>\n",
       "      <td>2022-09-26 08:41:12</td>\n",
       "      <td>NaN</td>\n",
       "    </tr>\n",
       "  </tbody>\n",
       "</table>\n",
       "</div>"
      ],
      "text/plain": [
       "   house_account_balance  loyalty_balance  \\\n",
       "0                      0                0   \n",
       "1                      0                0   \n",
       "2                      0                0   \n",
       "3                      0                0   \n",
       "4                      0                0   \n",
       "\n",
       "                                     id           name  dial_code      phone  \\\n",
       "0  975b3d7b-369f-41f6-b0b0-371484735d0f   براء الحزيري        962  797519969   \n",
       "1  975b3d7b-3817-4c93-9261-2c221a1e04a5  محمد ابو عايش        962  781989682   \n",
       "2  975b3d7b-3ea9-4ec5-9e69-d9a41eb4523e           محمد        962  791877931   \n",
       "3  975b3d7b-46f2-424f-b03e-c19c2c2e43c0    وائل القضاه        962  798083921   \n",
       "4  975b3d7b-4861-42e1-a812-a1db63ea8a8a     كندا حمدان        962  797150718   \n",
       "\n",
       "   email  gender  birth_date  is_blacklisted  is_house_account_enabled  \\\n",
       "0    NaN     NaN         NaN           False                     False   \n",
       "1    NaN     NaN         NaN           False                     False   \n",
       "2    NaN     NaN         NaN           False                     False   \n",
       "3    NaN     NaN         NaN           False                     False   \n",
       "4    NaN     NaN         NaN           False                     False   \n",
       "\n",
       "   house_account_limit  is_loyalty_enabled  order_count        last_order_at  \\\n",
       "0                  NaN               False            1  2023-02-20 15:55:17   \n",
       "1                  NaN               False            0                  NaN   \n",
       "2                  NaN               False            0                  NaN   \n",
       "3                  NaN               False            0                  NaN   \n",
       "4                  NaN               False            0                  NaN   \n",
       "\n",
       "            created_at           updated_at  deleted_at  \n",
       "0  2022-09-26 08:34:53  2023-02-20 15:02:49         NaN  \n",
       "1  2022-09-26 08:34:53  2022-09-26 08:34:53         NaN  \n",
       "2  2022-09-26 08:34:53  2022-09-26 08:41:12         NaN  \n",
       "3  2022-09-26 08:34:53  2022-09-26 08:41:12         NaN  \n",
       "4  2022-09-26 08:34:53  2022-09-26 08:41:12         NaN  "
      ]
     },
     "execution_count": 3,
     "metadata": {},
     "output_type": "execute_result"
    }
   ],
   "source": [
    "data.head()"
   ]
  },
  {
   "cell_type": "code",
   "execution_count": 18,
   "metadata": {},
   "outputs": [],
   "source": [
    "orders_types = {1:'Dine In', 2:'Pick Up', 3:'Delivery', '4':'Drive Thru'}\n",
    "orders_sources = {1:'Cashier', 2:'API', 3:'Call Center'}\n",
    "orders_statuses = {1:'Pending', 2:'Active', 3:'Declined', 4:'Closed', 5:'Returned', 6:'Joined', 7:'Void'}\n",
    "orders_delivery_statuses = {1:'sent to kitchen', 2:'ready', 3:'assigned', 4:'en route', 5:'delivered', 6:'closed'}\n",
    "products_statuses = {1:'Pending', 2:'Active', 3:'Closed', 4:'Moved', 5:'Void', 6:'Returned', 7:'Declined'}\n",
    "discounts_types = {1:'Open', 2:'Predefined', 3:'Coupon', 4:'Loyalty', 5:'Promotion'}"
   ]
  },
  {
   "cell_type": "code",
   "execution_count": 19,
   "metadata": {},
   "outputs": [
    {
     "data": {
      "text/plain": [
       "id                                object\n",
       "app_id                            object\n",
       "promotion_id                     float64\n",
       "discount_type                    float64\n",
       "reference_x                      float64\n",
       "number                             int64\n",
       "type                               int64\n",
       "source                             int64\n",
       "status                             int64\n",
       "delivery_status                  float64\n",
       "guests                             int64\n",
       "kitchen_notes                     object\n",
       "customer_notes                    object\n",
       "business_date                     object\n",
       "subtotal_price                   float64\n",
       "discount_amount                  float64\n",
       "rounding_amount                    int64\n",
       "total_price                      float64\n",
       "tax_exclusive_discount_amount    float64\n",
       "delay_in_seconds                 float64\n",
       "meta                              object\n",
       "opened_at                         object\n",
       "accepted_at                       object\n",
       "due_at                            object\n",
       "driver_assigned_at               float64\n",
       "dispatched_at                    float64\n",
       "driver_collected_at              float64\n",
       "delivered_at                     float64\n",
       "closed_at                         object\n",
       "created_at                        object\n",
       "updated_at                        object\n",
       "reference                          int64\n",
       "check_number                       int64\n",
       "dtype: object"
      ]
     },
     "execution_count": 19,
     "metadata": {},
     "output_type": "execute_result"
    }
   ],
   "source": [
    "data.dtypes"
   ]
  },
  {
   "cell_type": "code",
   "execution_count": 20,
   "metadata": {},
   "outputs": [],
   "source": [
    "data['type'] = data['type'].map(orders_types)\n",
    "data['source'] = data['source'].map(orders_sources)\n",
    "data['status'] = data['status'].map(orders_statuses)\n",
    "data['delivery_status'] = data['delivery_status'].map(orders_delivery_statuses)\n",
    "# data['product_status'] = data['product_status'].map(products_statuses)\n",
    "data['discount_type'] = data['discount_type'].map(discounts_types)\n"
   ]
  },
  {
   "cell_type": "code",
   "execution_count": 21,
   "metadata": {},
   "outputs": [],
   "source": [
    "needed_columns = ['id', 'created_at', 'type', 'source', 'status', 'subtotal_price', 'total_price']"
   ]
  },
  {
   "cell_type": "code",
   "execution_count": 22,
   "metadata": {},
   "outputs": [],
   "source": [
    "sub_data = data[needed_columns].copy()"
   ]
  },
  {
   "cell_type": "code",
   "execution_count": 23,
   "metadata": {},
   "outputs": [
    {
     "data": {
      "text/plain": [
       "id                0\n",
       "created_at        0\n",
       "type              0\n",
       "source            0\n",
       "status            0\n",
       "subtotal_price    0\n",
       "total_price       0\n",
       "dtype: int64"
      ]
     },
     "execution_count": 23,
     "metadata": {},
     "output_type": "execute_result"
    }
   ],
   "source": [
    "sub_data.isnull().sum()"
   ]
  },
  {
   "cell_type": "code",
   "execution_count": 24,
   "metadata": {},
   "outputs": [
    {
     "data": {
      "text/plain": [
       "id                0\n",
       "created_at        0\n",
       "type              0\n",
       "source            0\n",
       "status            0\n",
       "subtotal_price    0\n",
       "total_price       0\n",
       "dtype: int64"
      ]
     },
     "execution_count": 24,
     "metadata": {},
     "output_type": "execute_result"
    }
   ],
   "source": [
    "sub_data.isnull().sum()"
   ]
  },
  {
   "cell_type": "code",
   "execution_count": 25,
   "metadata": {},
   "outputs": [],
   "source": [
    "sub_data.sort_values(\"created_at\", inplace=True)"
   ]
  },
  {
   "cell_type": "code",
   "execution_count": 26,
   "metadata": {},
   "outputs": [],
   "source": [
    "sub_data = sub_data.reset_index(drop=True)"
   ]
  },
  {
   "cell_type": "code",
   "execution_count": 27,
   "metadata": {},
   "outputs": [
    {
     "data": {
      "text/plain": [
       "Closed      14571\n",
       "Void          334\n",
       "Returned       65\n",
       "Name: status, dtype: int64"
      ]
     },
     "execution_count": 27,
     "metadata": {},
     "output_type": "execute_result"
    }
   ],
   "source": [
    "sub_data.status.value_counts()"
   ]
  },
  {
   "cell_type": "code",
   "execution_count": 28,
   "metadata": {},
   "outputs": [
    {
     "data": {
      "text/plain": [
       "Cashier        14959\n",
       "Call Center       11\n",
       "Name: source, dtype: int64"
      ]
     },
     "execution_count": 28,
     "metadata": {},
     "output_type": "execute_result"
    }
   ],
   "source": [
    "sub_data.source.value_counts()"
   ]
  },
  {
   "cell_type": "code",
   "execution_count": 29,
   "metadata": {},
   "outputs": [
    {
     "data": {
      "text/plain": [
       "Pick Up     12206\n",
       "Dine In      2752\n",
       "Delivery       12\n",
       "Name: type, dtype: int64"
      ]
     },
     "execution_count": 29,
     "metadata": {},
     "output_type": "execute_result"
    }
   ],
   "source": [
    "sub_data.type.value_counts()"
   ]
  },
  {
   "cell_type": "code",
   "execution_count": 30,
   "metadata": {},
   "outputs": [],
   "source": [
    "sub_data['created_at'] = pd.to_datetime(sub_data['created_at'])"
   ]
  },
  {
   "cell_type": "code",
   "execution_count": null,
   "metadata": {},
   "outputs": [],
   "source": []
  },
  {
   "cell_type": "code",
   "execution_count": 31,
   "metadata": {},
   "outputs": [],
   "source": [
    "sub_data['date'] = sub_data['created_at'].dt.date\n",
    "sub_data['hour'] = sub_data['created_at'].dt.hour\n",
    "sub_data['day_name'] = sub_data['created_at'].dt.day_name()\n",
    "sub_data['is_weekend'] = sub_data['created_at'].dt.dayofweek.isin([4, 5])\n",
    "sub_data['is_weekend'].replace({True:'Yes', False:'No'}, inplace=True)\n",
    "sub_data['month'] = sub_data['created_at'].dt.month\n",
    "sub_data['year'] = sub_data['created_at'].dt.year\n",
    "\n",
    "\n"
   ]
  },
  {
   "cell_type": "code",
   "execution_count": 35,
   "metadata": {},
   "outputs": [],
   "source": [
    "final_orders_data = sub_data.groupby(['date', 'hour', 'month', 'year', 'day_name', 'is_weekend', 'type', 'source']).agg(cashflow=('total_price', 'sum')).reset_index()"
   ]
  },
  {
   "cell_type": "code",
   "execution_count": 36,
   "metadata": {},
   "outputs": [
    {
     "data": {
      "text/html": [
       "<div>\n",
       "<style scoped>\n",
       "    .dataframe tbody tr th:only-of-type {\n",
       "        vertical-align: middle;\n",
       "    }\n",
       "\n",
       "    .dataframe tbody tr th {\n",
       "        vertical-align: top;\n",
       "    }\n",
       "\n",
       "    .dataframe thead th {\n",
       "        text-align: right;\n",
       "    }\n",
       "</style>\n",
       "<table border=\"1\" class=\"dataframe\">\n",
       "  <thead>\n",
       "    <tr style=\"text-align: right;\">\n",
       "      <th></th>\n",
       "      <th>date</th>\n",
       "      <th>hour</th>\n",
       "      <th>month</th>\n",
       "      <th>year</th>\n",
       "      <th>day_name</th>\n",
       "      <th>is_weekend</th>\n",
       "      <th>type</th>\n",
       "      <th>source</th>\n",
       "      <th>cashflow</th>\n",
       "    </tr>\n",
       "  </thead>\n",
       "  <tbody>\n",
       "    <tr>\n",
       "      <th>4076</th>\n",
       "      <td>2023-05-25</td>\n",
       "      <td>7</td>\n",
       "      <td>5</td>\n",
       "      <td>2023</td>\n",
       "      <td>Thursday</td>\n",
       "      <td>No</td>\n",
       "      <td>Dine In</td>\n",
       "      <td>Cashier</td>\n",
       "      <td>0.00</td>\n",
       "    </tr>\n",
       "    <tr>\n",
       "      <th>4077</th>\n",
       "      <td>2023-05-25</td>\n",
       "      <td>8</td>\n",
       "      <td>5</td>\n",
       "      <td>2023</td>\n",
       "      <td>Thursday</td>\n",
       "      <td>No</td>\n",
       "      <td>Dine In</td>\n",
       "      <td>Cashier</td>\n",
       "      <td>0.00</td>\n",
       "    </tr>\n",
       "    <tr>\n",
       "      <th>4078</th>\n",
       "      <td>2023-05-25</td>\n",
       "      <td>8</td>\n",
       "      <td>5</td>\n",
       "      <td>2023</td>\n",
       "      <td>Thursday</td>\n",
       "      <td>No</td>\n",
       "      <td>Pick Up</td>\n",
       "      <td>Cashier</td>\n",
       "      <td>14.00</td>\n",
       "    </tr>\n",
       "    <tr>\n",
       "      <th>4079</th>\n",
       "      <td>2023-05-25</td>\n",
       "      <td>9</td>\n",
       "      <td>5</td>\n",
       "      <td>2023</td>\n",
       "      <td>Thursday</td>\n",
       "      <td>No</td>\n",
       "      <td>Pick Up</td>\n",
       "      <td>Cashier</td>\n",
       "      <td>15.25</td>\n",
       "    </tr>\n",
       "    <tr>\n",
       "      <th>4080</th>\n",
       "      <td>2023-05-25</td>\n",
       "      <td>10</td>\n",
       "      <td>5</td>\n",
       "      <td>2023</td>\n",
       "      <td>Thursday</td>\n",
       "      <td>No</td>\n",
       "      <td>Dine In</td>\n",
       "      <td>Cashier</td>\n",
       "      <td>12.50</td>\n",
       "    </tr>\n",
       "  </tbody>\n",
       "</table>\n",
       "</div>"
      ],
      "text/plain": [
       "            date  hour  month  year  day_name is_weekend     type   source  \\\n",
       "4076  2023-05-25     7      5  2023  Thursday         No  Dine In  Cashier   \n",
       "4077  2023-05-25     8      5  2023  Thursday         No  Dine In  Cashier   \n",
       "4078  2023-05-25     8      5  2023  Thursday         No  Pick Up  Cashier   \n",
       "4079  2023-05-25     9      5  2023  Thursday         No  Pick Up  Cashier   \n",
       "4080  2023-05-25    10      5  2023  Thursday         No  Dine In  Cashier   \n",
       "\n",
       "      cashflow  \n",
       "4076      0.00  \n",
       "4077      0.00  \n",
       "4078     14.00  \n",
       "4079     15.25  \n",
       "4080     12.50  "
      ]
     },
     "execution_count": 36,
     "metadata": {},
     "output_type": "execute_result"
    }
   ],
   "source": [
    "final_orders_data.tail()"
   ]
  },
  {
   "cell_type": "code",
   "execution_count": 37,
   "metadata": {},
   "outputs": [],
   "source": [
    "final_orders_data.to_csv('data/processed/orders.csv', index=False)"
   ]
  }
 ],
 "metadata": {
  "kernelspec": {
   "display_name": ".venv",
   "language": "python",
   "name": "python3"
  },
  "language_info": {
   "codemirror_mode": {
    "name": "ipython",
    "version": 3
   },
   "file_extension": ".py",
   "mimetype": "text/x-python",
   "name": "python",
   "nbconvert_exporter": "python",
   "pygments_lexer": "ipython3",
   "version": "3.10.11"
  },
  "orig_nbformat": 4
 },
 "nbformat": 4,
 "nbformat_minor": 2
}
