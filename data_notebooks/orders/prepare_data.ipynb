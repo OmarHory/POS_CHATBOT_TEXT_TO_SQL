{
 "cells": [
  {
   "cell_type": "code",
   "execution_count": null,
   "metadata": {
    "execution": {
     "iopub.execute_input": "2023-06-01T11:35:41.082854Z",
     "iopub.status.busy": "2023-06-01T11:35:41.081870Z",
     "iopub.status.idle": "2023-06-01T11:35:41.476614Z",
     "shell.execute_reply": "2023-06-01T11:35:41.475809Z"
    }
   },
   "outputs": [],
   "source": [
    "import pandas as pd\n",
    "import requests\n",
    "import time\n",
    "from datetime import date\n",
    "pd.set_option('display.max_columns', None)\n",
    "import os\n",
    "\n",
    "from utils import *\n"
   ]
  },
  {
   "cell_type": "code",
   "execution_count": null,
   "metadata": {},
   "outputs": [],
   "source": [
    "from dotenv import load_dotenv\n",
    "\n",
    "# Load environment variables from .env file\n",
    "load_dotenv()\n"
   ]
  },
  {
   "cell_type": "code",
   "execution_count": null,
   "metadata": {},
   "outputs": [],
   "source": [
    "os.getenv('data_access_token')\n"
   ]
  },
  {
   "attachments": {},
   "cell_type": "markdown",
   "metadata": {},
   "source": [
    "# Branches"
   ]
  },
  {
   "cell_type": "code",
   "execution_count": 196,
   "metadata": {
    "execution": {
     "iopub.execute_input": "2023-06-01T11:35:41.501611Z",
     "iopub.status.busy": "2023-06-01T11:35:41.501368Z",
     "iopub.status.idle": "2023-06-01T11:35:42.734390Z",
     "shell.execute_reply": "2023-06-01T11:35:42.733543Z"
    }
   },
   "outputs": [
    {
     "name": "stdout",
     "output_type": "stream",
     "text": [
      "1\n",
      "page 1\n",
      "branches?page=1\n",
      "1\n",
      "page 1\n",
      "branches?page=1\n"
     ]
    }
   ],
   "source": [
    "last_page = call_foodics('branches', 1, return_last_page=True)\n",
    "\n",
    "list_responses = call_foodics('branches', last_page)"
   ]
  },
  {
   "cell_type": "code",
   "execution_count": null,
   "metadata": {
    "execution": {
     "iopub.execute_input": "2023-06-01T11:35:42.738704Z",
     "iopub.status.busy": "2023-06-01T11:35:42.737910Z",
     "iopub.status.idle": "2023-06-01T11:35:42.762065Z",
     "shell.execute_reply": "2023-06-01T11:35:42.761178Z"
    }
   },
   "outputs": [],
   "source": [
    "df_branches = pd.DataFrame([item for sublist in list_responses for item in sublist])\n",
    "df_branches"
   ]
  },
  {
   "cell_type": "code",
   "execution_count": null,
   "metadata": {},
   "outputs": [],
   "source": [
    "\n",
    "# # convert this df_branches[['id', 'name']] to a dictionary of {id: name}\n",
    "# dict_branches = df_branches.set_index('id')['name'].to_dict()\n",
    "# dict_branches"
   ]
  },
  {
   "cell_type": "code",
   "execution_count": null,
   "metadata": {
    "execution": {
     "iopub.execute_input": "2023-06-01T11:35:42.766008Z",
     "iopub.status.busy": "2023-06-01T11:35:42.765472Z",
     "iopub.status.idle": "2023-06-01T11:35:42.770773Z",
     "shell.execute_reply": "2023-06-01T11:35:42.769816Z"
    }
   },
   "outputs": [],
   "source": [
    "df_branches = df_branches[['id', 'name', 'opening_from', 'opening_to']]"
   ]
  },
  {
   "cell_type": "code",
   "execution_count": null,
   "metadata": {
    "execution": {
     "iopub.execute_input": "2023-06-01T11:35:42.774626Z",
     "iopub.status.busy": "2023-06-01T11:35:42.773814Z",
     "iopub.status.idle": "2023-06-01T11:35:42.778832Z",
     "shell.execute_reply": "2023-06-01T11:35:42.778008Z"
    }
   },
   "outputs": [],
   "source": [
    "df_branches = df_branches.rename(columns={'id': 'branch_id', 'name': 'branch_name'})"
   ]
  },
  {
   "attachments": {},
   "cell_type": "markdown",
   "metadata": {},
   "source": [
    "# Products"
   ]
  },
  {
   "cell_type": "code",
   "execution_count": 197,
   "metadata": {
    "execution": {
     "iopub.execute_input": "2023-06-01T11:35:42.791437Z",
     "iopub.status.busy": "2023-06-01T11:35:42.790960Z",
     "iopub.status.idle": "2023-06-01T11:35:45.429565Z",
     "shell.execute_reply": "2023-06-01T11:35:45.428758Z"
    }
   },
   "outputs": [
    {
     "name": "stdout",
     "output_type": "stream",
     "text": [
      "page 1\n",
      "products?page=1\n",
      "page 1\n",
      "products?page=1&include=category\n",
      "page 2\n",
      "products?page=2&include=category\n",
      "page 3\n",
      "products?page=3&include=category\n",
      "page 4\n",
      "products?page=4&include=category\n",
      "page 5\n",
      "products?page=5&include=category\n",
      "page 6\n",
      "products?page=6&include=category\n",
      "page 7\n",
      "products?page=7&include=category\n",
      "page 8\n",
      "products?page=8&include=category\n"
     ]
    }
   ],
   "source": [
    "last_page = call_foodics('products', 1, return_last_page=True)\n",
    "\n",
    "list_responses = call_foodics('products', last_page, includables='category')"
   ]
  },
  {
   "cell_type": "code",
   "execution_count": 198,
   "metadata": {},
   "outputs": [],
   "source": [
    "df_products = pd.DataFrame([item for sublist in list_responses for item in sublist])"
   ]
  },
  {
   "cell_type": "code",
   "execution_count": 199,
   "metadata": {},
   "outputs": [
    {
     "data": {
      "text/html": [
       "<div>\n",
       "<style scoped>\n",
       "    .dataframe tbody tr th:only-of-type {\n",
       "        vertical-align: middle;\n",
       "    }\n",
       "\n",
       "    .dataframe tbody tr th {\n",
       "        vertical-align: top;\n",
       "    }\n",
       "\n",
       "    .dataframe thead th {\n",
       "        text-align: right;\n",
       "    }\n",
       "</style>\n",
       "<table border=\"1\" class=\"dataframe\">\n",
       "  <thead>\n",
       "    <tr style=\"text-align: right;\">\n",
       "      <th></th>\n",
       "      <th>category</th>\n",
       "      <th>id</th>\n",
       "      <th>sku</th>\n",
       "      <th>barcode</th>\n",
       "      <th>name</th>\n",
       "      <th>name_localized</th>\n",
       "      <th>description</th>\n",
       "      <th>description_localized</th>\n",
       "      <th>image</th>\n",
       "      <th>is_active</th>\n",
       "      <th>is_stock_product</th>\n",
       "      <th>is_ready</th>\n",
       "      <th>pricing_method</th>\n",
       "      <th>selling_method</th>\n",
       "      <th>costing_method</th>\n",
       "      <th>preparation_time</th>\n",
       "      <th>price</th>\n",
       "      <th>cost</th>\n",
       "      <th>calories</th>\n",
       "      <th>created_at</th>\n",
       "      <th>updated_at</th>\n",
       "      <th>deleted_at</th>\n",
       "      <th>meta</th>\n",
       "    </tr>\n",
       "  </thead>\n",
       "  <tbody>\n",
       "    <tr>\n",
       "      <th>0</th>\n",
       "      <td>{'id': '96ecc1b0-0590-4e3d-9325-91b371c2a18a',...</td>\n",
       "      <td>964fde65-52d5-491c-b227-da1603227e82</td>\n",
       "      <td>MER-013</td>\n",
       "      <td>None</td>\n",
       "      <td>Coffee Bean 250g (Delivery) - F</td>\n",
       "      <td>None</td>\n",
       "      <td>None</td>\n",
       "      <td>None</td>\n",
       "      <td>https://foodics-console-production.s3.eu-west-...</td>\n",
       "      <td>True</td>\n",
       "      <td>False</td>\n",
       "      <td>True</td>\n",
       "      <td>1</td>\n",
       "      <td>1</td>\n",
       "      <td>1</td>\n",
       "      <td>NaN</td>\n",
       "      <td>0.0</td>\n",
       "      <td>0.0</td>\n",
       "      <td>None</td>\n",
       "      <td>2022-05-16 10:42:57</td>\n",
       "      <td>2022-08-22 21:36:18</td>\n",
       "      <td>2022-08-22 21:36:18</td>\n",
       "      <td>None</td>\n",
       "    </tr>\n",
       "    <tr>\n",
       "      <th>1</th>\n",
       "      <td>{'id': '96ecc1b0-0590-4e3d-9325-91b371c2a18a',...</td>\n",
       "      <td>964fde65-55c7-4cc3-84df-285efec97d70</td>\n",
       "      <td>MER-015</td>\n",
       "      <td>None</td>\n",
       "      <td>Matte Mug (Delivery) - F</td>\n",
       "      <td>None</td>\n",
       "      <td>None</td>\n",
       "      <td>None</td>\n",
       "      <td>https://foodics-console-production.s3.eu-west-...</td>\n",
       "      <td>True</td>\n",
       "      <td>False</td>\n",
       "      <td>True</td>\n",
       "      <td>1</td>\n",
       "      <td>1</td>\n",
       "      <td>1</td>\n",
       "      <td>NaN</td>\n",
       "      <td>0.0</td>\n",
       "      <td>0.0</td>\n",
       "      <td>None</td>\n",
       "      <td>2022-05-16 10:42:57</td>\n",
       "      <td>2022-08-22 21:36:19</td>\n",
       "      <td>2022-08-22 21:36:19</td>\n",
       "      <td>None</td>\n",
       "    </tr>\n",
       "    <tr>\n",
       "      <th>2</th>\n",
       "      <td>{'id': '964fde5b-9a21-44db-9dab-b98ff6a4f3d0',...</td>\n",
       "      <td>964fde65-57c6-450f-b537-38b8a3395ee0</td>\n",
       "      <td>sk-004</td>\n",
       "      <td>None</td>\n",
       "      <td>Hot chocolate-F (Hot chocolate-F)</td>\n",
       "      <td>None</td>\n",
       "      <td>None</td>\n",
       "      <td>None</td>\n",
       "      <td>None</td>\n",
       "      <td>True</td>\n",
       "      <td>False</td>\n",
       "      <td>True</td>\n",
       "      <td>1</td>\n",
       "      <td>1</td>\n",
       "      <td>2</td>\n",
       "      <td>NaN</td>\n",
       "      <td>0.0</td>\n",
       "      <td>0.0</td>\n",
       "      <td>None</td>\n",
       "      <td>2022-05-16 10:42:57</td>\n",
       "      <td>2022-08-22 21:36:19</td>\n",
       "      <td>2022-08-22 21:36:19</td>\n",
       "      <td>None</td>\n",
       "    </tr>\n",
       "    <tr>\n",
       "      <th>3</th>\n",
       "      <td>{'id': '964fde5b-55b6-4d27-af90-22bd41e2f54e',...</td>\n",
       "      <td>964fde65-5969-4b44-9a47-00849d643cb8</td>\n",
       "      <td>sk-007</td>\n",
       "      <td>None</td>\n",
       "      <td>Calibration (Calibration)</td>\n",
       "      <td>None</td>\n",
       "      <td>None</td>\n",
       "      <td>None</td>\n",
       "      <td>None</td>\n",
       "      <td>True</td>\n",
       "      <td>False</td>\n",
       "      <td>True</td>\n",
       "      <td>1</td>\n",
       "      <td>1</td>\n",
       "      <td>2</td>\n",
       "      <td>NaN</td>\n",
       "      <td>0.0</td>\n",
       "      <td>0.0</td>\n",
       "      <td>None</td>\n",
       "      <td>2022-05-16 10:42:57</td>\n",
       "      <td>2022-08-22 21:36:19</td>\n",
       "      <td>2022-08-22 21:36:19</td>\n",
       "      <td>None</td>\n",
       "    </tr>\n",
       "    <tr>\n",
       "      <th>4</th>\n",
       "      <td>{'id': '964fde5b-9a21-44db-9dab-b98ff6a4f3d0',...</td>\n",
       "      <td>964fde65-5b14-4fee-a63d-757f5a46dce0</td>\n",
       "      <td>sk-005</td>\n",
       "      <td>None</td>\n",
       "      <td>Iced Lotus Latte-F (SUPER)</td>\n",
       "      <td>None</td>\n",
       "      <td>None</td>\n",
       "      <td>None</td>\n",
       "      <td>https://foodics-console-production.s3.eu-west-...</td>\n",
       "      <td>True</td>\n",
       "      <td>False</td>\n",
       "      <td>True</td>\n",
       "      <td>1</td>\n",
       "      <td>1</td>\n",
       "      <td>2</td>\n",
       "      <td>NaN</td>\n",
       "      <td>0.0</td>\n",
       "      <td>NaN</td>\n",
       "      <td>None</td>\n",
       "      <td>2022-05-16 10:42:57</td>\n",
       "      <td>2022-08-22 21:36:19</td>\n",
       "      <td>2022-08-22 21:36:19</td>\n",
       "      <td>None</td>\n",
       "    </tr>\n",
       "    <tr>\n",
       "      <th>...</th>\n",
       "      <td>...</td>\n",
       "      <td>...</td>\n",
       "      <td>...</td>\n",
       "      <td>...</td>\n",
       "      <td>...</td>\n",
       "      <td>...</td>\n",
       "      <td>...</td>\n",
       "      <td>...</td>\n",
       "      <td>...</td>\n",
       "      <td>...</td>\n",
       "      <td>...</td>\n",
       "      <td>...</td>\n",
       "      <td>...</td>\n",
       "      <td>...</td>\n",
       "      <td>...</td>\n",
       "      <td>...</td>\n",
       "      <td>...</td>\n",
       "      <td>...</td>\n",
       "      <td>...</td>\n",
       "      <td>...</td>\n",
       "      <td>...</td>\n",
       "      <td>...</td>\n",
       "      <td>...</td>\n",
       "    </tr>\n",
       "    <tr>\n",
       "      <th>350</th>\n",
       "      <td>{'id': '97161ba2-e1ed-4711-8d43-3f0e71acc13c',...</td>\n",
       "      <td>98bd655e-1585-4004-994f-4daebfbd8a74</td>\n",
       "      <td>sk-0420</td>\n",
       "      <td>None</td>\n",
       "      <td>Playing Cards</td>\n",
       "      <td>None</td>\n",
       "      <td>None</td>\n",
       "      <td>None</td>\n",
       "      <td>None</td>\n",
       "      <td>True</td>\n",
       "      <td>False</td>\n",
       "      <td>True</td>\n",
       "      <td>1</td>\n",
       "      <td>1</td>\n",
       "      <td>2</td>\n",
       "      <td>NaN</td>\n",
       "      <td>5.0</td>\n",
       "      <td>NaN</td>\n",
       "      <td>None</td>\n",
       "      <td>2023-03-21 09:49:29</td>\n",
       "      <td>2023-03-21 09:50:20</td>\n",
       "      <td>None</td>\n",
       "      <td>None</td>\n",
       "    </tr>\n",
       "    <tr>\n",
       "      <th>351</th>\n",
       "      <td>{'id': '98ad494c-da3f-404c-a63e-1d13bd1cf3d1',...</td>\n",
       "      <td>98bd8f0f-bb1c-4579-986a-55d0a230426d</td>\n",
       "      <td>sk-0423</td>\n",
       "      <td>None</td>\n",
       "      <td>Rice Pudding رز بحليب</td>\n",
       "      <td>None</td>\n",
       "      <td>None</td>\n",
       "      <td>None</td>\n",
       "      <td>None</td>\n",
       "      <td>True</td>\n",
       "      <td>False</td>\n",
       "      <td>True</td>\n",
       "      <td>1</td>\n",
       "      <td>1</td>\n",
       "      <td>2</td>\n",
       "      <td>NaN</td>\n",
       "      <td>2.0</td>\n",
       "      <td>NaN</td>\n",
       "      <td>None</td>\n",
       "      <td>2023-03-21 11:46:04</td>\n",
       "      <td>2023-03-21 11:49:02</td>\n",
       "      <td>None</td>\n",
       "      <td>None</td>\n",
       "    </tr>\n",
       "    <tr>\n",
       "      <th>352</th>\n",
       "      <td>{'id': '98ad4709-821b-4bb6-8c8e-0157f7510d20',...</td>\n",
       "      <td>98bf9b53-3bc9-4715-9626-4c37476995c0</td>\n",
       "      <td>sk-0424</td>\n",
       "      <td>None</td>\n",
       "      <td>Playing Cards (Del)</td>\n",
       "      <td>None</td>\n",
       "      <td>None</td>\n",
       "      <td>None</td>\n",
       "      <td>None</td>\n",
       "      <td>True</td>\n",
       "      <td>False</td>\n",
       "      <td>True</td>\n",
       "      <td>1</td>\n",
       "      <td>1</td>\n",
       "      <td>2</td>\n",
       "      <td>NaN</td>\n",
       "      <td>6.0</td>\n",
       "      <td>NaN</td>\n",
       "      <td>None</td>\n",
       "      <td>2023-03-22 12:12:00</td>\n",
       "      <td>2023-03-22 12:12:14</td>\n",
       "      <td>None</td>\n",
       "      <td>None</td>\n",
       "    </tr>\n",
       "    <tr>\n",
       "      <th>353</th>\n",
       "      <td>{'id': '97161ba2-e1ed-4711-8d43-3f0e71acc13c',...</td>\n",
       "      <td>98cf591d-4deb-4242-9145-de3ee98be981</td>\n",
       "      <td>sk-0426</td>\n",
       "      <td>None</td>\n",
       "      <td>Buy 1 Get 1 Free (Mugs)</td>\n",
       "      <td>None</td>\n",
       "      <td>None</td>\n",
       "      <td>None</td>\n",
       "      <td>None</td>\n",
       "      <td>True</td>\n",
       "      <td>False</td>\n",
       "      <td>True</td>\n",
       "      <td>1</td>\n",
       "      <td>1</td>\n",
       "      <td>2</td>\n",
       "      <td>NaN</td>\n",
       "      <td>10.0</td>\n",
       "      <td>NaN</td>\n",
       "      <td>None</td>\n",
       "      <td>2023-03-30 08:00:07</td>\n",
       "      <td>2023-03-30 08:00:32</td>\n",
       "      <td>None</td>\n",
       "      <td>None</td>\n",
       "    </tr>\n",
       "    <tr>\n",
       "      <th>354</th>\n",
       "      <td>{'id': '98ad4709-821b-4bb6-8c8e-0157f7510d20',...</td>\n",
       "      <td>98cf598b-813d-487a-8723-cb2101247b00</td>\n",
       "      <td>sk-0427</td>\n",
       "      <td>None</td>\n",
       "      <td>Buy 1 Get 1 Free (Mugs) Del</td>\n",
       "      <td>None</td>\n",
       "      <td>None</td>\n",
       "      <td>None</td>\n",
       "      <td>None</td>\n",
       "      <td>True</td>\n",
       "      <td>False</td>\n",
       "      <td>True</td>\n",
       "      <td>1</td>\n",
       "      <td>1</td>\n",
       "      <td>2</td>\n",
       "      <td>NaN</td>\n",
       "      <td>12.0</td>\n",
       "      <td>NaN</td>\n",
       "      <td>None</td>\n",
       "      <td>2023-03-30 08:01:19</td>\n",
       "      <td>2023-03-30 08:10:29</td>\n",
       "      <td>None</td>\n",
       "      <td>None</td>\n",
       "    </tr>\n",
       "  </tbody>\n",
       "</table>\n",
       "<p>355 rows × 23 columns</p>\n",
       "</div>"
      ],
      "text/plain": [
       "                                              category  \\\n",
       "0    {'id': '96ecc1b0-0590-4e3d-9325-91b371c2a18a',...   \n",
       "1    {'id': '96ecc1b0-0590-4e3d-9325-91b371c2a18a',...   \n",
       "2    {'id': '964fde5b-9a21-44db-9dab-b98ff6a4f3d0',...   \n",
       "3    {'id': '964fde5b-55b6-4d27-af90-22bd41e2f54e',...   \n",
       "4    {'id': '964fde5b-9a21-44db-9dab-b98ff6a4f3d0',...   \n",
       "..                                                 ...   \n",
       "350  {'id': '97161ba2-e1ed-4711-8d43-3f0e71acc13c',...   \n",
       "351  {'id': '98ad494c-da3f-404c-a63e-1d13bd1cf3d1',...   \n",
       "352  {'id': '98ad4709-821b-4bb6-8c8e-0157f7510d20',...   \n",
       "353  {'id': '97161ba2-e1ed-4711-8d43-3f0e71acc13c',...   \n",
       "354  {'id': '98ad4709-821b-4bb6-8c8e-0157f7510d20',...   \n",
       "\n",
       "                                       id      sku barcode  \\\n",
       "0    964fde65-52d5-491c-b227-da1603227e82  MER-013    None   \n",
       "1    964fde65-55c7-4cc3-84df-285efec97d70  MER-015    None   \n",
       "2    964fde65-57c6-450f-b537-38b8a3395ee0   sk-004    None   \n",
       "3    964fde65-5969-4b44-9a47-00849d643cb8   sk-007    None   \n",
       "4    964fde65-5b14-4fee-a63d-757f5a46dce0   sk-005    None   \n",
       "..                                    ...      ...     ...   \n",
       "350  98bd655e-1585-4004-994f-4daebfbd8a74  sk-0420    None   \n",
       "351  98bd8f0f-bb1c-4579-986a-55d0a230426d  sk-0423    None   \n",
       "352  98bf9b53-3bc9-4715-9626-4c37476995c0  sk-0424    None   \n",
       "353  98cf591d-4deb-4242-9145-de3ee98be981  sk-0426    None   \n",
       "354  98cf598b-813d-487a-8723-cb2101247b00  sk-0427    None   \n",
       "\n",
       "                                  name name_localized description  \\\n",
       "0      Coffee Bean 250g (Delivery) - F           None        None   \n",
       "1             Matte Mug (Delivery) - F           None        None   \n",
       "2    Hot chocolate-F (Hot chocolate-F)           None        None   \n",
       "3            Calibration (Calibration)           None        None   \n",
       "4           Iced Lotus Latte-F (SUPER)           None        None   \n",
       "..                                 ...            ...         ...   \n",
       "350                      Playing Cards           None        None   \n",
       "351              Rice Pudding رز بحليب           None        None   \n",
       "352                Playing Cards (Del)           None        None   \n",
       "353            Buy 1 Get 1 Free (Mugs)           None        None   \n",
       "354        Buy 1 Get 1 Free (Mugs) Del           None        None   \n",
       "\n",
       "    description_localized                                              image  \\\n",
       "0                    None  https://foodics-console-production.s3.eu-west-...   \n",
       "1                    None  https://foodics-console-production.s3.eu-west-...   \n",
       "2                    None                                               None   \n",
       "3                    None                                               None   \n",
       "4                    None  https://foodics-console-production.s3.eu-west-...   \n",
       "..                    ...                                                ...   \n",
       "350                  None                                               None   \n",
       "351                  None                                               None   \n",
       "352                  None                                               None   \n",
       "353                  None                                               None   \n",
       "354                  None                                               None   \n",
       "\n",
       "     is_active  is_stock_product  is_ready  pricing_method  selling_method  \\\n",
       "0         True             False      True               1               1   \n",
       "1         True             False      True               1               1   \n",
       "2         True             False      True               1               1   \n",
       "3         True             False      True               1               1   \n",
       "4         True             False      True               1               1   \n",
       "..         ...               ...       ...             ...             ...   \n",
       "350       True             False      True               1               1   \n",
       "351       True             False      True               1               1   \n",
       "352       True             False      True               1               1   \n",
       "353       True             False      True               1               1   \n",
       "354       True             False      True               1               1   \n",
       "\n",
       "     costing_method  preparation_time  price  cost calories  \\\n",
       "0                 1               NaN    0.0   0.0     None   \n",
       "1                 1               NaN    0.0   0.0     None   \n",
       "2                 2               NaN    0.0   0.0     None   \n",
       "3                 2               NaN    0.0   0.0     None   \n",
       "4                 2               NaN    0.0   NaN     None   \n",
       "..              ...               ...    ...   ...      ...   \n",
       "350               2               NaN    5.0   NaN     None   \n",
       "351               2               NaN    2.0   NaN     None   \n",
       "352               2               NaN    6.0   NaN     None   \n",
       "353               2               NaN   10.0   NaN     None   \n",
       "354               2               NaN   12.0   NaN     None   \n",
       "\n",
       "              created_at           updated_at           deleted_at  meta  \n",
       "0    2022-05-16 10:42:57  2022-08-22 21:36:18  2022-08-22 21:36:18  None  \n",
       "1    2022-05-16 10:42:57  2022-08-22 21:36:19  2022-08-22 21:36:19  None  \n",
       "2    2022-05-16 10:42:57  2022-08-22 21:36:19  2022-08-22 21:36:19  None  \n",
       "3    2022-05-16 10:42:57  2022-08-22 21:36:19  2022-08-22 21:36:19  None  \n",
       "4    2022-05-16 10:42:57  2022-08-22 21:36:19  2022-08-22 21:36:19  None  \n",
       "..                   ...                  ...                  ...   ...  \n",
       "350  2023-03-21 09:49:29  2023-03-21 09:50:20                 None  None  \n",
       "351  2023-03-21 11:46:04  2023-03-21 11:49:02                 None  None  \n",
       "352  2023-03-22 12:12:00  2023-03-22 12:12:14                 None  None  \n",
       "353  2023-03-30 08:00:07  2023-03-30 08:00:32                 None  None  \n",
       "354  2023-03-30 08:01:19  2023-03-30 08:10:29                 None  None  \n",
       "\n",
       "[355 rows x 23 columns]"
      ]
     },
     "execution_count": 199,
     "metadata": {},
     "output_type": "execute_result"
    }
   ],
   "source": [
    "df_products"
   ]
  },
  {
   "cell_type": "code",
   "execution_count": null,
   "metadata": {
    "execution": {
     "iopub.execute_input": "2023-06-01T11:35:45.442406Z",
     "iopub.status.busy": "2023-06-01T11:35:45.442146Z",
     "iopub.status.idle": "2023-06-01T11:35:45.503100Z",
     "shell.execute_reply": "2023-06-01T11:35:45.501784Z"
    }
   },
   "outputs": [],
   "source": [
    "category_name_col = os.getenv('category_name_col')\n",
    "\n",
    "df_products['category_name'] = df_products['category'].apply(lambda x: x[category_name_col])\n",
    "df_products = df_products[~df_products.category_name.isna()]\n",
    "df_products['category_name'] = df_products['category_name'].apply(lambda x: x.capitalize())\n",
    "\n",
    "df_products['category_id'] = df_products['category'].apply(lambda x: x['id'])\n",
    "df_products.rename(columns={'id': 'product_id', 'name_localized': 'product_name', 'sku':\"product_sku\"}, inplace=True)\n",
    "df_products.drop('category', axis=1, inplace=True)\n",
    "# df_products = df_products[df_products.deleted_at.isna()]\n",
    "df_products"
   ]
  },
  {
   "cell_type": "code",
   "execution_count": null,
   "metadata": {
    "execution": {
     "iopub.execute_input": "2023-06-01T11:35:45.507841Z",
     "iopub.status.busy": "2023-06-01T11:35:45.507559Z",
     "iopub.status.idle": "2023-06-01T11:35:45.516066Z",
     "shell.execute_reply": "2023-06-01T11:35:45.515135Z"
    }
   },
   "outputs": [],
   "source": [
    "df_products.isnull().sum()"
   ]
  },
  {
   "cell_type": "code",
   "execution_count": null,
   "metadata": {
    "execution": {
     "iopub.execute_input": "2023-06-01T11:35:45.519851Z",
     "iopub.status.busy": "2023-06-01T11:35:45.519210Z",
     "iopub.status.idle": "2023-06-01T11:35:45.524916Z",
     "shell.execute_reply": "2023-06-01T11:35:45.523955Z"
    }
   },
   "outputs": [],
   "source": [
    "df_products = df_products[['product_id', 'product_sku', 'name', 'category_name', 'category_id', 'is_active', 'is_stock_product', 'price']]"
   ]
  },
  {
   "cell_type": "code",
   "execution_count": null,
   "metadata": {
    "execution": {
     "iopub.execute_input": "2023-06-01T11:35:45.528311Z",
     "iopub.status.busy": "2023-06-01T11:35:45.528041Z",
     "iopub.status.idle": "2023-06-01T11:35:45.533228Z",
     "shell.execute_reply": "2023-06-01T11:35:45.532461Z"
    }
   },
   "outputs": [],
   "source": [
    "df_products = df_products.rename(columns={'name': 'product_name'})"
   ]
  },
  {
   "cell_type": "code",
   "execution_count": null,
   "metadata": {
    "execution": {
     "iopub.execute_input": "2023-06-01T11:35:45.536671Z",
     "iopub.status.busy": "2023-06-01T11:35:45.536168Z",
     "iopub.status.idle": "2023-06-01T11:35:45.548571Z",
     "shell.execute_reply": "2023-06-01T11:35:45.547734Z"
    }
   },
   "outputs": [],
   "source": [
    "df_products.head()"
   ]
  },
  {
   "cell_type": "code",
   "execution_count": null,
   "metadata": {
    "execution": {
     "iopub.execute_input": "2023-06-01T11:35:45.552097Z",
     "iopub.status.busy": "2023-06-01T11:35:45.551649Z",
     "iopub.status.idle": "2023-06-01T11:35:45.557560Z",
     "shell.execute_reply": "2023-06-01T11:35:45.556761Z"
    }
   },
   "outputs": [],
   "source": [
    "df_products.product_name.unique()"
   ]
  },
  {
   "attachments": {},
   "cell_type": "markdown",
   "metadata": {},
   "source": [
    "# Categories"
   ]
  },
  {
   "cell_type": "code",
   "execution_count": null,
   "metadata": {
    "execution": {
     "iopub.execute_input": "2023-06-01T11:35:45.561103Z",
     "iopub.status.busy": "2023-06-01T11:35:45.560593Z",
     "iopub.status.idle": "2023-06-01T11:35:46.607073Z",
     "shell.execute_reply": "2023-06-01T11:35:46.606255Z"
    }
   },
   "outputs": [],
   "source": [
    "last_page = call_foodics('categories', 1, return_last_page=True)\n",
    "\n",
    "\n",
    "list_responses = call_foodics('categories', last_page)"
   ]
  },
  {
   "cell_type": "code",
   "execution_count": null,
   "metadata": {
    "execution": {
     "iopub.execute_input": "2023-06-01T11:35:46.611090Z",
     "iopub.status.busy": "2023-06-01T11:35:46.610612Z",
     "iopub.status.idle": "2023-06-01T11:35:46.627864Z",
     "shell.execute_reply": "2023-06-01T11:35:46.626831Z"
    }
   },
   "outputs": [],
   "source": [
    "df_categories = pd.DataFrame([item for sublist in list_responses for item in sublist])\n",
    "df_categories"
   ]
  },
  {
   "cell_type": "code",
   "execution_count": null,
   "metadata": {
    "execution": {
     "iopub.execute_input": "2023-06-01T11:35:46.631530Z",
     "iopub.status.busy": "2023-06-01T11:35:46.631045Z",
     "iopub.status.idle": "2023-06-01T11:35:46.646086Z",
     "shell.execute_reply": "2023-06-01T11:35:46.645156Z"
    }
   },
   "outputs": [],
   "source": [
    "cats_to_be_deleted = df_categories[~df_categories.deleted_at.isna()]\n",
    "cats_to_be_deleted"
   ]
  },
  {
   "cell_type": "code",
   "execution_count": null,
   "metadata": {
    "execution": {
     "iopub.execute_input": "2023-06-01T11:35:46.649265Z",
     "iopub.status.busy": "2023-06-01T11:35:46.649010Z",
     "iopub.status.idle": "2023-06-01T11:35:46.653426Z",
     "shell.execute_reply": "2023-06-01T11:35:46.652571Z"
    }
   },
   "outputs": [],
   "source": [
    "df_categories = df_categories[df_categories.deleted_at.isna()]"
   ]
  },
  {
   "cell_type": "code",
   "execution_count": null,
   "metadata": {
    "execution": {
     "iopub.execute_input": "2023-06-01T11:35:46.656947Z",
     "iopub.status.busy": "2023-06-01T11:35:46.656316Z",
     "iopub.status.idle": "2023-06-01T11:35:46.661849Z",
     "shell.execute_reply": "2023-06-01T11:35:46.661002Z"
    }
   },
   "outputs": [],
   "source": [
    "df_categories = df_categories[['id', category_name_col]].rename(columns={\"id\":\"category_id\", category_name_col:\"category_name\"})\n"
   ]
  },
  {
   "cell_type": "code",
   "execution_count": null,
   "metadata": {
    "execution": {
     "iopub.execute_input": "2023-06-01T11:35:46.665613Z",
     "iopub.status.busy": "2023-06-01T11:35:46.664981Z",
     "iopub.status.idle": "2023-06-01T11:35:46.673309Z",
     "shell.execute_reply": "2023-06-01T11:35:46.672489Z"
    }
   },
   "outputs": [],
   "source": [
    "df_categories"
   ]
  },
  {
   "cell_type": "code",
   "execution_count": null,
   "metadata": {
    "execution": {
     "iopub.execute_input": "2023-06-01T11:35:46.677143Z",
     "iopub.status.busy": "2023-06-01T11:35:46.676444Z",
     "iopub.status.idle": "2023-06-01T11:35:46.681412Z",
     "shell.execute_reply": "2023-06-01T11:35:46.680659Z"
    }
   },
   "outputs": [],
   "source": [
    "df_categories.category_name = df_categories.category_name.apply(lambda x: x.capitalize())"
   ]
  },
  {
   "cell_type": "code",
   "execution_count": null,
   "metadata": {
    "execution": {
     "iopub.execute_input": "2023-06-01T11:35:46.684894Z",
     "iopub.status.busy": "2023-06-01T11:35:46.684556Z",
     "iopub.status.idle": "2023-06-01T11:35:46.692336Z",
     "shell.execute_reply": "2023-06-01T11:35:46.691548Z"
    }
   },
   "outputs": [],
   "source": [
    "print(df_categories['category_name'].tolist())"
   ]
  },
  {
   "attachments": {},
   "cell_type": "markdown",
   "metadata": {},
   "source": [
    "# Payment Method"
   ]
  },
  {
   "cell_type": "code",
   "execution_count": null,
   "metadata": {
    "execution": {
     "iopub.execute_input": "2023-06-01T11:35:46.703804Z",
     "iopub.status.busy": "2023-06-01T11:35:46.703522Z",
     "iopub.status.idle": "2023-06-01T11:35:47.753247Z",
     "shell.execute_reply": "2023-06-01T11:35:47.752458Z"
    }
   },
   "outputs": [],
   "source": [
    "last_page = call_foodics('payment_methods', 1, return_last_page=True)\n",
    "\n",
    "list_responses = call_foodics('payment_methods', last_page)"
   ]
  },
  {
   "cell_type": "code",
   "execution_count": null,
   "metadata": {
    "execution": {
     "iopub.execute_input": "2023-06-01T11:35:47.757277Z",
     "iopub.status.busy": "2023-06-01T11:35:47.756781Z",
     "iopub.status.idle": "2023-06-01T11:35:47.772499Z",
     "shell.execute_reply": "2023-06-01T11:35:47.771655Z"
    }
   },
   "outputs": [],
   "source": [
    "df_payment_methods = pd.DataFrame([item for sublist in list_responses for item in sublist])\n",
    "df_payment_methods"
   ]
  },
  {
   "cell_type": "code",
   "execution_count": null,
   "metadata": {
    "execution": {
     "iopub.execute_input": "2023-06-01T11:35:47.776375Z",
     "iopub.status.busy": "2023-06-01T11:35:47.775707Z",
     "iopub.status.idle": "2023-06-01T11:35:47.785885Z",
     "shell.execute_reply": "2023-06-01T11:35:47.785048Z"
    }
   },
   "outputs": [],
   "source": [
    "df_payment_methods = df_payment_methods[['id', 'name']].rename(columns={\"id\":\"payment_method_id\", 'name':\"payment_method_name\"})\n",
    "df_payment_methods"
   ]
  },
  {
   "cell_type": "code",
   "execution_count": null,
   "metadata": {
    "execution": {
     "iopub.execute_input": "2023-06-01T11:35:47.789720Z",
     "iopub.status.busy": "2023-06-01T11:35:47.789098Z",
     "iopub.status.idle": "2023-06-01T11:35:47.794311Z",
     "shell.execute_reply": "2023-06-01T11:35:47.793469Z"
    }
   },
   "outputs": [],
   "source": [
    "df_payment_methods.to_csv('../../data/payment_methods.csv', index=False)"
   ]
  },
  {
   "attachments": {},
   "cell_type": "markdown",
   "metadata": {},
   "source": [
    "# Orders"
   ]
  },
  {
   "cell_type": "code",
   "execution_count": 200,
   "metadata": {},
   "outputs": [
    {
     "name": "stdout",
     "output_type": "stream",
     "text": [
      "Yes it is Blk Coffee\n",
      "orders_final_include.csv does not exist\n",
      "page 1\n",
      "orders?page=1&include=products,branch,products.product,tags,products.promotion,payments.payment_method&filter[business_date_after]=2023-05-01\n",
      "last_page:  2009\n",
      "page 1\n",
      "orders?page=1&include=products,branch,products.product,tags,products.promotion,payments.payment_method&filter[business_date_after]=2023-05-01\n",
      "page 2\n",
      "orders?page=2&include=products,branch,products.product,tags,products.promotion,payments.payment_method&filter[business_date_after]=2023-05-01\n",
      "page 3\n",
      "orders?page=3&include=products,branch,products.product,tags,products.promotion,payments.payment_method&filter[business_date_after]=2023-05-01\n",
      "page 4\n",
      "orders?page=4&include=products,branch,products.product,tags,products.promotion,payments.payment_method&filter[business_date_after]=2023-05-01\n",
      "page 5\n",
      "orders?page=5&include=products,branch,products.product,tags,products.promotion,payments.payment_method&filter[business_date_after]=2023-05-01\n"
     ]
    },
    {
     "ename": "KeyboardInterrupt",
     "evalue": "",
     "output_type": "error",
     "traceback": [
      "\u001b[1;31m---------------------------------------------------------------------------\u001b[0m",
      "\u001b[1;31mKeyboardInterrupt\u001b[0m                         Traceback (most recent call last)",
      "Cell \u001b[1;32mIn[200], line 21\u001b[0m\n\u001b[0;32m     18\u001b[0m last_page \u001b[39m=\u001b[39m call_foodics(\u001b[39m'\u001b[39m\u001b[39morders\u001b[39m\u001b[39m'\u001b[39m, last_page, includables\u001b[39m=\u001b[39mincludables, \u001b[39mfilter\u001b[39m\u001b[39m=\u001b[39m\u001b[39mfilter\u001b[39m, return_last_page\u001b[39m=\u001b[39m\u001b[39mTrue\u001b[39;00m)\n\u001b[0;32m     19\u001b[0m \u001b[39mprint\u001b[39m(\u001b[39m'\u001b[39m\u001b[39mlast_page: \u001b[39m\u001b[39m'\u001b[39m, last_page)\n\u001b[1;32m---> 21\u001b[0m list_responses \u001b[39m=\u001b[39m call_foodics(\u001b[39m'\u001b[39;49m\u001b[39morders\u001b[39;49m\u001b[39m'\u001b[39;49m, last_page, includables\u001b[39m=\u001b[39;49mincludables, \u001b[39mfilter\u001b[39;49m\u001b[39m=\u001b[39;49m\u001b[39mfilter\u001b[39;49m)\n\u001b[0;32m     22\u001b[0m df_orders \u001b[39m=\u001b[39m pd\u001b[39m.\u001b[39mDataFrame([item \u001b[39mfor\u001b[39;00m sublist \u001b[39min\u001b[39;00m list_responses \u001b[39mfor\u001b[39;00m item \u001b[39min\u001b[39;00m sublist])\n\u001b[0;32m     23\u001b[0m df_orders\n",
      "File \u001b[1;32mc:\\Users\\ASUS\\Desktop\\foodics_gpt\\data_notebooks\\orders\\utils.py:45\u001b[0m, in \u001b[0;36mcall_foodics\u001b[1;34m(method, last_page, includables, filter, return_last_page, from_page, checkpoint_path)\u001b[0m\n\u001b[0;32m     42\u001b[0m     method_ \u001b[39m=\u001b[39m method_ \u001b[39m+\u001b[39m filters\n\u001b[0;32m     43\u001b[0m \u001b[39mprint\u001b[39m(method_)\n\u001b[1;32m---> 45\u001b[0m response \u001b[39m=\u001b[39m foodics_api(method_)\n\u001b[0;32m     47\u001b[0m \u001b[39m# If the request is successful, the following line will be executed\u001b[39;00m\n\u001b[0;32m     48\u001b[0m \u001b[39mif\u001b[39;00m return_last_page:\n",
      "File \u001b[1;32mc:\\Users\\ASUS\\Desktop\\foodics_gpt\\data_notebooks\\orders\\utils.py:16\u001b[0m, in \u001b[0;36mfoodics_api\u001b[1;34m(method, payload)\u001b[0m\n\u001b[0;32m      9\u001b[0m token \u001b[39m=\u001b[39m os\u001b[39m.\u001b[39mgetenv(\u001b[39m'\u001b[39m\u001b[39mdata_access_token\u001b[39m\u001b[39m'\u001b[39m)\n\u001b[0;32m     10\u001b[0m headers \u001b[39m=\u001b[39m {\n\u001b[0;32m     11\u001b[0m   \u001b[39m'\u001b[39m\u001b[39mAuthorization\u001b[39m\u001b[39m'\u001b[39m: \u001b[39mf\u001b[39m\u001b[39m'\u001b[39m\u001b[39mBearer \u001b[39m\u001b[39m{\u001b[39;00mtoken\u001b[39m}\u001b[39;00m\u001b[39m'\u001b[39m,\n\u001b[0;32m     12\u001b[0m   \u001b[39m'\u001b[39m\u001b[39mAccept\u001b[39m\u001b[39m'\u001b[39m: \u001b[39m'\u001b[39m\u001b[39mapplication/json\u001b[39m\u001b[39m'\u001b[39m,\n\u001b[0;32m     13\u001b[0m   \u001b[39m'\u001b[39m\u001b[39mContent-Type\u001b[39m\u001b[39m'\u001b[39m: \u001b[39m'\u001b[39m\u001b[39mapplication/json\u001b[39m\u001b[39m'\u001b[39m\n\u001b[0;32m     14\u001b[0m }\n\u001b[1;32m---> 16\u001b[0m response \u001b[39m=\u001b[39m requests\u001b[39m.\u001b[39;49mrequest(\u001b[39m\"\u001b[39;49m\u001b[39mGET\u001b[39;49m\u001b[39m\"\u001b[39;49m, url, headers\u001b[39m=\u001b[39;49mheaders, data\u001b[39m=\u001b[39;49mpayload)\n\u001b[0;32m     17\u001b[0m \u001b[39mif\u001b[39;00m response\u001b[39m.\u001b[39mstatus_code \u001b[39m!=\u001b[39m \u001b[39m200\u001b[39m:\n\u001b[0;32m     18\u001b[0m       \u001b[39mreturn\u001b[39;00m response\u001b[39m.\u001b[39mstatus_code\n",
      "File \u001b[1;32mc:\\Users\\ASUS\\Desktop\\foodics_gpt\\.venv\\lib\\site-packages\\requests\\api.py:59\u001b[0m, in \u001b[0;36mrequest\u001b[1;34m(method, url, **kwargs)\u001b[0m\n\u001b[0;32m     55\u001b[0m \u001b[39m# By using the 'with' statement we are sure the session is closed, thus we\u001b[39;00m\n\u001b[0;32m     56\u001b[0m \u001b[39m# avoid leaving sockets open which can trigger a ResourceWarning in some\u001b[39;00m\n\u001b[0;32m     57\u001b[0m \u001b[39m# cases, and look like a memory leak in others.\u001b[39;00m\n\u001b[0;32m     58\u001b[0m \u001b[39mwith\u001b[39;00m sessions\u001b[39m.\u001b[39mSession() \u001b[39mas\u001b[39;00m session:\n\u001b[1;32m---> 59\u001b[0m     \u001b[39mreturn\u001b[39;00m session\u001b[39m.\u001b[39mrequest(method\u001b[39m=\u001b[39mmethod, url\u001b[39m=\u001b[39murl, \u001b[39m*\u001b[39m\u001b[39m*\u001b[39mkwargs)\n",
      "File \u001b[1;32mc:\\Users\\ASUS\\Desktop\\foodics_gpt\\.venv\\lib\\site-packages\\requests\\sessions.py:589\u001b[0m, in \u001b[0;36mSession.request\u001b[1;34m(self, method, url, params, data, headers, cookies, files, auth, timeout, allow_redirects, proxies, hooks, stream, verify, cert, json)\u001b[0m\n\u001b[0;32m    584\u001b[0m send_kwargs \u001b[39m=\u001b[39m {\n\u001b[0;32m    585\u001b[0m     \u001b[39m\"\u001b[39m\u001b[39mtimeout\u001b[39m\u001b[39m\"\u001b[39m: timeout,\n\u001b[0;32m    586\u001b[0m     \u001b[39m\"\u001b[39m\u001b[39mallow_redirects\u001b[39m\u001b[39m\"\u001b[39m: allow_redirects,\n\u001b[0;32m    587\u001b[0m }\n\u001b[0;32m    588\u001b[0m send_kwargs\u001b[39m.\u001b[39mupdate(settings)\n\u001b[1;32m--> 589\u001b[0m resp \u001b[39m=\u001b[39m \u001b[39mself\u001b[39m\u001b[39m.\u001b[39msend(prep, \u001b[39m*\u001b[39m\u001b[39m*\u001b[39msend_kwargs)\n\u001b[0;32m    591\u001b[0m \u001b[39mreturn\u001b[39;00m resp\n",
      "File \u001b[1;32mc:\\Users\\ASUS\\Desktop\\foodics_gpt\\.venv\\lib\\site-packages\\requests\\sessions.py:703\u001b[0m, in \u001b[0;36mSession.send\u001b[1;34m(self, request, **kwargs)\u001b[0m\n\u001b[0;32m    700\u001b[0m start \u001b[39m=\u001b[39m preferred_clock()\n\u001b[0;32m    702\u001b[0m \u001b[39m# Send the request\u001b[39;00m\n\u001b[1;32m--> 703\u001b[0m r \u001b[39m=\u001b[39m adapter\u001b[39m.\u001b[39msend(request, \u001b[39m*\u001b[39m\u001b[39m*\u001b[39mkwargs)\n\u001b[0;32m    705\u001b[0m \u001b[39m# Total elapsed time of the request (approximately)\u001b[39;00m\n\u001b[0;32m    706\u001b[0m elapsed \u001b[39m=\u001b[39m preferred_clock() \u001b[39m-\u001b[39m start\n",
      "File \u001b[1;32mc:\\Users\\ASUS\\Desktop\\foodics_gpt\\.venv\\lib\\site-packages\\requests\\adapters.py:486\u001b[0m, in \u001b[0;36mHTTPAdapter.send\u001b[1;34m(self, request, stream, timeout, verify, cert, proxies)\u001b[0m\n\u001b[0;32m    483\u001b[0m     timeout \u001b[39m=\u001b[39m TimeoutSauce(connect\u001b[39m=\u001b[39mtimeout, read\u001b[39m=\u001b[39mtimeout)\n\u001b[0;32m    485\u001b[0m \u001b[39mtry\u001b[39;00m:\n\u001b[1;32m--> 486\u001b[0m     resp \u001b[39m=\u001b[39m conn\u001b[39m.\u001b[39;49murlopen(\n\u001b[0;32m    487\u001b[0m         method\u001b[39m=\u001b[39;49mrequest\u001b[39m.\u001b[39;49mmethod,\n\u001b[0;32m    488\u001b[0m         url\u001b[39m=\u001b[39;49murl,\n\u001b[0;32m    489\u001b[0m         body\u001b[39m=\u001b[39;49mrequest\u001b[39m.\u001b[39;49mbody,\n\u001b[0;32m    490\u001b[0m         headers\u001b[39m=\u001b[39;49mrequest\u001b[39m.\u001b[39;49mheaders,\n\u001b[0;32m    491\u001b[0m         redirect\u001b[39m=\u001b[39;49m\u001b[39mFalse\u001b[39;49;00m,\n\u001b[0;32m    492\u001b[0m         assert_same_host\u001b[39m=\u001b[39;49m\u001b[39mFalse\u001b[39;49;00m,\n\u001b[0;32m    493\u001b[0m         preload_content\u001b[39m=\u001b[39;49m\u001b[39mFalse\u001b[39;49;00m,\n\u001b[0;32m    494\u001b[0m         decode_content\u001b[39m=\u001b[39;49m\u001b[39mFalse\u001b[39;49;00m,\n\u001b[0;32m    495\u001b[0m         retries\u001b[39m=\u001b[39;49m\u001b[39mself\u001b[39;49m\u001b[39m.\u001b[39;49mmax_retries,\n\u001b[0;32m    496\u001b[0m         timeout\u001b[39m=\u001b[39;49mtimeout,\n\u001b[0;32m    497\u001b[0m         chunked\u001b[39m=\u001b[39;49mchunked,\n\u001b[0;32m    498\u001b[0m     )\n\u001b[0;32m    500\u001b[0m \u001b[39mexcept\u001b[39;00m (ProtocolError, \u001b[39mOSError\u001b[39;00m) \u001b[39mas\u001b[39;00m err:\n\u001b[0;32m    501\u001b[0m     \u001b[39mraise\u001b[39;00m \u001b[39mConnectionError\u001b[39;00m(err, request\u001b[39m=\u001b[39mrequest)\n",
      "File \u001b[1;32mc:\\Users\\ASUS\\Desktop\\foodics_gpt\\.venv\\lib\\site-packages\\urllib3\\connectionpool.py:714\u001b[0m, in \u001b[0;36mHTTPConnectionPool.urlopen\u001b[1;34m(self, method, url, body, headers, retries, redirect, assert_same_host, timeout, pool_timeout, release_conn, chunked, body_pos, **response_kw)\u001b[0m\n\u001b[0;32m    711\u001b[0m     \u001b[39mself\u001b[39m\u001b[39m.\u001b[39m_prepare_proxy(conn)\n\u001b[0;32m    713\u001b[0m \u001b[39m# Make the request on the httplib connection object.\u001b[39;00m\n\u001b[1;32m--> 714\u001b[0m httplib_response \u001b[39m=\u001b[39m \u001b[39mself\u001b[39;49m\u001b[39m.\u001b[39;49m_make_request(\n\u001b[0;32m    715\u001b[0m     conn,\n\u001b[0;32m    716\u001b[0m     method,\n\u001b[0;32m    717\u001b[0m     url,\n\u001b[0;32m    718\u001b[0m     timeout\u001b[39m=\u001b[39;49mtimeout_obj,\n\u001b[0;32m    719\u001b[0m     body\u001b[39m=\u001b[39;49mbody,\n\u001b[0;32m    720\u001b[0m     headers\u001b[39m=\u001b[39;49mheaders,\n\u001b[0;32m    721\u001b[0m     chunked\u001b[39m=\u001b[39;49mchunked,\n\u001b[0;32m    722\u001b[0m )\n\u001b[0;32m    724\u001b[0m \u001b[39m# If we're going to release the connection in ``finally:``, then\u001b[39;00m\n\u001b[0;32m    725\u001b[0m \u001b[39m# the response doesn't need to know about the connection. Otherwise\u001b[39;00m\n\u001b[0;32m    726\u001b[0m \u001b[39m# it will also try to release it and we'll have a double-release\u001b[39;00m\n\u001b[0;32m    727\u001b[0m \u001b[39m# mess.\u001b[39;00m\n\u001b[0;32m    728\u001b[0m response_conn \u001b[39m=\u001b[39m conn \u001b[39mif\u001b[39;00m \u001b[39mnot\u001b[39;00m release_conn \u001b[39melse\u001b[39;00m \u001b[39mNone\u001b[39;00m\n",
      "File \u001b[1;32mc:\\Users\\ASUS\\Desktop\\foodics_gpt\\.venv\\lib\\site-packages\\urllib3\\connectionpool.py:403\u001b[0m, in \u001b[0;36mHTTPConnectionPool._make_request\u001b[1;34m(self, conn, method, url, timeout, chunked, **httplib_request_kw)\u001b[0m\n\u001b[0;32m    401\u001b[0m \u001b[39m# Trigger any extra validation we need to do.\u001b[39;00m\n\u001b[0;32m    402\u001b[0m \u001b[39mtry\u001b[39;00m:\n\u001b[1;32m--> 403\u001b[0m     \u001b[39mself\u001b[39;49m\u001b[39m.\u001b[39;49m_validate_conn(conn)\n\u001b[0;32m    404\u001b[0m \u001b[39mexcept\u001b[39;00m (SocketTimeout, BaseSSLError) \u001b[39mas\u001b[39;00m e:\n\u001b[0;32m    405\u001b[0m     \u001b[39m# Py2 raises this as a BaseSSLError, Py3 raises it as socket timeout.\u001b[39;00m\n\u001b[0;32m    406\u001b[0m     \u001b[39mself\u001b[39m\u001b[39m.\u001b[39m_raise_timeout(err\u001b[39m=\u001b[39me, url\u001b[39m=\u001b[39murl, timeout_value\u001b[39m=\u001b[39mconn\u001b[39m.\u001b[39mtimeout)\n",
      "File \u001b[1;32mc:\\Users\\ASUS\\Desktop\\foodics_gpt\\.venv\\lib\\site-packages\\urllib3\\connectionpool.py:1053\u001b[0m, in \u001b[0;36mHTTPSConnectionPool._validate_conn\u001b[1;34m(self, conn)\u001b[0m\n\u001b[0;32m   1051\u001b[0m \u001b[39m# Force connect early to allow us to validate the connection.\u001b[39;00m\n\u001b[0;32m   1052\u001b[0m \u001b[39mif\u001b[39;00m \u001b[39mnot\u001b[39;00m \u001b[39mgetattr\u001b[39m(conn, \u001b[39m\"\u001b[39m\u001b[39msock\u001b[39m\u001b[39m\"\u001b[39m, \u001b[39mNone\u001b[39;00m):  \u001b[39m# AppEngine might not have  `.sock`\u001b[39;00m\n\u001b[1;32m-> 1053\u001b[0m     conn\u001b[39m.\u001b[39;49mconnect()\n\u001b[0;32m   1055\u001b[0m \u001b[39mif\u001b[39;00m \u001b[39mnot\u001b[39;00m conn\u001b[39m.\u001b[39mis_verified:\n\u001b[0;32m   1056\u001b[0m     warnings\u001b[39m.\u001b[39mwarn(\n\u001b[0;32m   1057\u001b[0m         (\n\u001b[0;32m   1058\u001b[0m             \u001b[39m\"\u001b[39m\u001b[39mUnverified HTTPS request is being made to host \u001b[39m\u001b[39m'\u001b[39m\u001b[39m%s\u001b[39;00m\u001b[39m'\u001b[39m\u001b[39m. \u001b[39m\u001b[39m\"\u001b[39m\n\u001b[1;32m   (...)\u001b[0m\n\u001b[0;32m   1063\u001b[0m         InsecureRequestWarning,\n\u001b[0;32m   1064\u001b[0m     )\n",
      "File \u001b[1;32mc:\\Users\\ASUS\\Desktop\\foodics_gpt\\.venv\\lib\\site-packages\\urllib3\\connection.py:419\u001b[0m, in \u001b[0;36mHTTPSConnection.connect\u001b[1;34m(self)\u001b[0m\n\u001b[0;32m    410\u001b[0m \u001b[39mif\u001b[39;00m (\n\u001b[0;32m    411\u001b[0m     \u001b[39mnot\u001b[39;00m \u001b[39mself\u001b[39m\u001b[39m.\u001b[39mca_certs\n\u001b[0;32m    412\u001b[0m     \u001b[39mand\u001b[39;00m \u001b[39mnot\u001b[39;00m \u001b[39mself\u001b[39m\u001b[39m.\u001b[39mca_cert_dir\n\u001b[1;32m   (...)\u001b[0m\n\u001b[0;32m    415\u001b[0m     \u001b[39mand\u001b[39;00m \u001b[39mhasattr\u001b[39m(context, \u001b[39m\"\u001b[39m\u001b[39mload_default_certs\u001b[39m\u001b[39m\"\u001b[39m)\n\u001b[0;32m    416\u001b[0m ):\n\u001b[0;32m    417\u001b[0m     context\u001b[39m.\u001b[39mload_default_certs()\n\u001b[1;32m--> 419\u001b[0m \u001b[39mself\u001b[39m\u001b[39m.\u001b[39msock \u001b[39m=\u001b[39m ssl_wrap_socket(\n\u001b[0;32m    420\u001b[0m     sock\u001b[39m=\u001b[39;49mconn,\n\u001b[0;32m    421\u001b[0m     keyfile\u001b[39m=\u001b[39;49m\u001b[39mself\u001b[39;49m\u001b[39m.\u001b[39;49mkey_file,\n\u001b[0;32m    422\u001b[0m     certfile\u001b[39m=\u001b[39;49m\u001b[39mself\u001b[39;49m\u001b[39m.\u001b[39;49mcert_file,\n\u001b[0;32m    423\u001b[0m     key_password\u001b[39m=\u001b[39;49m\u001b[39mself\u001b[39;49m\u001b[39m.\u001b[39;49mkey_password,\n\u001b[0;32m    424\u001b[0m     ca_certs\u001b[39m=\u001b[39;49m\u001b[39mself\u001b[39;49m\u001b[39m.\u001b[39;49mca_certs,\n\u001b[0;32m    425\u001b[0m     ca_cert_dir\u001b[39m=\u001b[39;49m\u001b[39mself\u001b[39;49m\u001b[39m.\u001b[39;49mca_cert_dir,\n\u001b[0;32m    426\u001b[0m     ca_cert_data\u001b[39m=\u001b[39;49m\u001b[39mself\u001b[39;49m\u001b[39m.\u001b[39;49mca_cert_data,\n\u001b[0;32m    427\u001b[0m     server_hostname\u001b[39m=\u001b[39;49mserver_hostname,\n\u001b[0;32m    428\u001b[0m     ssl_context\u001b[39m=\u001b[39;49mcontext,\n\u001b[0;32m    429\u001b[0m     tls_in_tls\u001b[39m=\u001b[39;49mtls_in_tls,\n\u001b[0;32m    430\u001b[0m )\n\u001b[0;32m    432\u001b[0m \u001b[39m# If we're using all defaults and the connection\u001b[39;00m\n\u001b[0;32m    433\u001b[0m \u001b[39m# is TLSv1 or TLSv1.1 we throw a DeprecationWarning\u001b[39;00m\n\u001b[0;32m    434\u001b[0m \u001b[39m# for the host.\u001b[39;00m\n\u001b[0;32m    435\u001b[0m \u001b[39mif\u001b[39;00m (\n\u001b[0;32m    436\u001b[0m     default_ssl_context\n\u001b[0;32m    437\u001b[0m     \u001b[39mand\u001b[39;00m \u001b[39mself\u001b[39m\u001b[39m.\u001b[39mssl_version \u001b[39mis\u001b[39;00m \u001b[39mNone\u001b[39;00m\n\u001b[0;32m    438\u001b[0m     \u001b[39mand\u001b[39;00m \u001b[39mhasattr\u001b[39m(\u001b[39mself\u001b[39m\u001b[39m.\u001b[39msock, \u001b[39m\"\u001b[39m\u001b[39mversion\u001b[39m\u001b[39m\"\u001b[39m)\n\u001b[0;32m    439\u001b[0m     \u001b[39mand\u001b[39;00m \u001b[39mself\u001b[39m\u001b[39m.\u001b[39msock\u001b[39m.\u001b[39mversion() \u001b[39min\u001b[39;00m {\u001b[39m\"\u001b[39m\u001b[39mTLSv1\u001b[39m\u001b[39m\"\u001b[39m, \u001b[39m\"\u001b[39m\u001b[39mTLSv1.1\u001b[39m\u001b[39m\"\u001b[39m}\n\u001b[0;32m    440\u001b[0m ):\n",
      "File \u001b[1;32mc:\\Users\\ASUS\\Desktop\\foodics_gpt\\.venv\\lib\\site-packages\\urllib3\\util\\ssl_.py:449\u001b[0m, in \u001b[0;36mssl_wrap_socket\u001b[1;34m(sock, keyfile, certfile, cert_reqs, ca_certs, server_hostname, ssl_version, ciphers, ssl_context, ca_cert_dir, key_password, ca_cert_data, tls_in_tls)\u001b[0m\n\u001b[0;32m    437\u001b[0m     warnings\u001b[39m.\u001b[39mwarn(\n\u001b[0;32m    438\u001b[0m         \u001b[39m\"\u001b[39m\u001b[39mAn HTTPS request has been made, but the SNI (Server Name \u001b[39m\u001b[39m\"\u001b[39m\n\u001b[0;32m    439\u001b[0m         \u001b[39m\"\u001b[39m\u001b[39mIndication) extension to TLS is not available on this platform. \u001b[39m\u001b[39m\"\u001b[39m\n\u001b[1;32m   (...)\u001b[0m\n\u001b[0;32m    445\u001b[0m         SNIMissingWarning,\n\u001b[0;32m    446\u001b[0m     )\n\u001b[0;32m    448\u001b[0m \u001b[39mif\u001b[39;00m send_sni:\n\u001b[1;32m--> 449\u001b[0m     ssl_sock \u001b[39m=\u001b[39m _ssl_wrap_socket_impl(\n\u001b[0;32m    450\u001b[0m         sock, context, tls_in_tls, server_hostname\u001b[39m=\u001b[39;49mserver_hostname\n\u001b[0;32m    451\u001b[0m     )\n\u001b[0;32m    452\u001b[0m \u001b[39melse\u001b[39;00m:\n\u001b[0;32m    453\u001b[0m     ssl_sock \u001b[39m=\u001b[39m _ssl_wrap_socket_impl(sock, context, tls_in_tls)\n",
      "File \u001b[1;32mc:\\Users\\ASUS\\Desktop\\foodics_gpt\\.venv\\lib\\site-packages\\urllib3\\util\\ssl_.py:493\u001b[0m, in \u001b[0;36m_ssl_wrap_socket_impl\u001b[1;34m(sock, ssl_context, tls_in_tls, server_hostname)\u001b[0m\n\u001b[0;32m    490\u001b[0m     \u001b[39mreturn\u001b[39;00m SSLTransport(sock, ssl_context, server_hostname)\n\u001b[0;32m    492\u001b[0m \u001b[39mif\u001b[39;00m server_hostname:\n\u001b[1;32m--> 493\u001b[0m     \u001b[39mreturn\u001b[39;00m ssl_context\u001b[39m.\u001b[39;49mwrap_socket(sock, server_hostname\u001b[39m=\u001b[39;49mserver_hostname)\n\u001b[0;32m    494\u001b[0m \u001b[39melse\u001b[39;00m:\n\u001b[0;32m    495\u001b[0m     \u001b[39mreturn\u001b[39;00m ssl_context\u001b[39m.\u001b[39mwrap_socket(sock)\n",
      "File \u001b[1;32mC:\\Program Files\\WindowsApps\\PythonSoftwareFoundation.Python.3.10_3.10.3056.0_x64__qbz5n2kfra8p0\\lib\\ssl.py:513\u001b[0m, in \u001b[0;36mSSLContext.wrap_socket\u001b[1;34m(self, sock, server_side, do_handshake_on_connect, suppress_ragged_eofs, server_hostname, session)\u001b[0m\n\u001b[0;32m    507\u001b[0m \u001b[39mdef\u001b[39;00m \u001b[39mwrap_socket\u001b[39m(\u001b[39mself\u001b[39m, sock, server_side\u001b[39m=\u001b[39m\u001b[39mFalse\u001b[39;00m,\n\u001b[0;32m    508\u001b[0m                 do_handshake_on_connect\u001b[39m=\u001b[39m\u001b[39mTrue\u001b[39;00m,\n\u001b[0;32m    509\u001b[0m                 suppress_ragged_eofs\u001b[39m=\u001b[39m\u001b[39mTrue\u001b[39;00m,\n\u001b[0;32m    510\u001b[0m                 server_hostname\u001b[39m=\u001b[39m\u001b[39mNone\u001b[39;00m, session\u001b[39m=\u001b[39m\u001b[39mNone\u001b[39;00m):\n\u001b[0;32m    511\u001b[0m     \u001b[39m# SSLSocket class handles server_hostname encoding before it calls\u001b[39;00m\n\u001b[0;32m    512\u001b[0m     \u001b[39m# ctx._wrap_socket()\u001b[39;00m\n\u001b[1;32m--> 513\u001b[0m     \u001b[39mreturn\u001b[39;00m \u001b[39mself\u001b[39;49m\u001b[39m.\u001b[39;49msslsocket_class\u001b[39m.\u001b[39;49m_create(\n\u001b[0;32m    514\u001b[0m         sock\u001b[39m=\u001b[39;49msock,\n\u001b[0;32m    515\u001b[0m         server_side\u001b[39m=\u001b[39;49mserver_side,\n\u001b[0;32m    516\u001b[0m         do_handshake_on_connect\u001b[39m=\u001b[39;49mdo_handshake_on_connect,\n\u001b[0;32m    517\u001b[0m         suppress_ragged_eofs\u001b[39m=\u001b[39;49msuppress_ragged_eofs,\n\u001b[0;32m    518\u001b[0m         server_hostname\u001b[39m=\u001b[39;49mserver_hostname,\n\u001b[0;32m    519\u001b[0m         context\u001b[39m=\u001b[39;49m\u001b[39mself\u001b[39;49m,\n\u001b[0;32m    520\u001b[0m         session\u001b[39m=\u001b[39;49msession\n\u001b[0;32m    521\u001b[0m     )\n",
      "File \u001b[1;32mC:\\Program Files\\WindowsApps\\PythonSoftwareFoundation.Python.3.10_3.10.3056.0_x64__qbz5n2kfra8p0\\lib\\ssl.py:1071\u001b[0m, in \u001b[0;36mSSLSocket._create\u001b[1;34m(cls, sock, server_side, do_handshake_on_connect, suppress_ragged_eofs, server_hostname, context, session)\u001b[0m\n\u001b[0;32m   1068\u001b[0m         \u001b[39mif\u001b[39;00m timeout \u001b[39m==\u001b[39m \u001b[39m0.0\u001b[39m:\n\u001b[0;32m   1069\u001b[0m             \u001b[39m# non-blocking\u001b[39;00m\n\u001b[0;32m   1070\u001b[0m             \u001b[39mraise\u001b[39;00m \u001b[39mValueError\u001b[39;00m(\u001b[39m\"\u001b[39m\u001b[39mdo_handshake_on_connect should not be specified for non-blocking sockets\u001b[39m\u001b[39m\"\u001b[39m)\n\u001b[1;32m-> 1071\u001b[0m         \u001b[39mself\u001b[39;49m\u001b[39m.\u001b[39;49mdo_handshake()\n\u001b[0;32m   1072\u001b[0m \u001b[39mexcept\u001b[39;00m (\u001b[39mOSError\u001b[39;00m, \u001b[39mValueError\u001b[39;00m):\n\u001b[0;32m   1073\u001b[0m     \u001b[39mself\u001b[39m\u001b[39m.\u001b[39mclose()\n",
      "File \u001b[1;32mC:\\Program Files\\WindowsApps\\PythonSoftwareFoundation.Python.3.10_3.10.3056.0_x64__qbz5n2kfra8p0\\lib\\ssl.py:1342\u001b[0m, in \u001b[0;36mSSLSocket.do_handshake\u001b[1;34m(self, block)\u001b[0m\n\u001b[0;32m   1340\u001b[0m     \u001b[39mif\u001b[39;00m timeout \u001b[39m==\u001b[39m \u001b[39m0.0\u001b[39m \u001b[39mand\u001b[39;00m block:\n\u001b[0;32m   1341\u001b[0m         \u001b[39mself\u001b[39m\u001b[39m.\u001b[39msettimeout(\u001b[39mNone\u001b[39;00m)\n\u001b[1;32m-> 1342\u001b[0m     \u001b[39mself\u001b[39;49m\u001b[39m.\u001b[39;49m_sslobj\u001b[39m.\u001b[39;49mdo_handshake()\n\u001b[0;32m   1343\u001b[0m \u001b[39mfinally\u001b[39;00m:\n\u001b[0;32m   1344\u001b[0m     \u001b[39mself\u001b[39m\u001b[39m.\u001b[39msettimeout(timeout)\n",
      "\u001b[1;31mKeyboardInterrupt\u001b[0m: "
     ]
    }
   ],
   "source": [
    "filter = {}\n",
    "\n",
    "\n",
    "\n",
    "if os.path.exists('../../data/orders_final_include.csv'):\n",
    "    print('orders_final_include.csv already exists')\n",
    "    df_orders = pd.read_csv('../../data/orders_final_include.csv')\n",
    "    df_orders.reset_index(drop=True, inplace=True)  \n",
    "else:\n",
    "    business_name = os.getenv('business_name')\n",
    "    if business_name == 'Blk Coffee':\n",
    "        print(f\"Yes it is {business_name}\")\n",
    "        filter = {\"business_date_after\": \"2023-05-01\"}\n",
    "        \n",
    "    print('orders_final_include.csv does not exist')\n",
    "    includables = 'products,branch,products.product,tags,products.promotion,payments.payment_method'\n",
    "    # call the foodics api to get the orders\n",
    "    last_page = call_foodics('orders', last_page, includables=includables, filter=filter, return_last_page=True)\n",
    "    print('last_page: ', last_page)\n",
    "    \n",
    "    list_responses = call_foodics('orders', last_page, includables=includables, filter=filter)\n",
    "    df_orders = pd.DataFrame([item for sublist in list_responses for item in sublist])\n",
    "    df_orders\n",
    "    df_orders.to_csv('../../data/orders_final_include.csv', index=False)\n",
    "\n",
    "# TODO: remove this line after testing\n",
    "df_orders = pd.read_csv('../../data/orders_final_include.csv')\n",
    "df_orders.reset_index(drop=True, inplace=True)\n",
    "    "
   ]
  },
  {
   "cell_type": "code",
   "execution_count": null,
   "metadata": {
    "execution": {
     "iopub.execute_input": "2023-06-01T11:35:53.466690Z",
     "iopub.status.busy": "2023-06-01T11:35:53.465970Z",
     "iopub.status.idle": "2023-06-01T11:35:53.538075Z",
     "shell.execute_reply": "2023-06-01T11:35:53.537123Z"
    }
   },
   "outputs": [],
   "source": [
    "df_orders.created_at = pd.to_datetime(df_orders.created_at)\n",
    "max_date = df_orders.created_at.max().date().strftime('%Y-%m-%d')\n",
    "max_date"
   ]
  },
  {
   "cell_type": "code",
   "execution_count": null,
   "metadata": {
    "execution": {
     "iopub.execute_input": "2023-06-01T11:35:53.542138Z",
     "iopub.status.busy": "2023-06-01T11:35:53.541596Z",
     "iopub.status.idle": "2023-06-01T11:35:53.547096Z",
     "shell.execute_reply": "2023-06-01T11:35:53.546261Z"
    }
   },
   "outputs": [],
   "source": [
    "today = date.today().strftime('%Y-%m-%d')\n",
    "today"
   ]
  },
  {
   "cell_type": "code",
   "execution_count": null,
   "metadata": {
    "execution": {
     "iopub.execute_input": "2023-06-01T11:35:53.570657Z",
     "iopub.status.busy": "2023-06-01T11:35:53.570408Z",
     "iopub.status.idle": "2023-06-01T11:35:53.608167Z",
     "shell.execute_reply": "2023-06-01T11:35:53.607342Z"
    }
   },
   "outputs": [],
   "source": [
    "df_orders=df_orders.reset_index(drop=True)"
   ]
  },
  {
   "cell_type": "code",
   "execution_count": null,
   "metadata": {
    "execution": {
     "iopub.execute_input": "2023-06-01T11:35:53.612213Z",
     "iopub.status.busy": "2023-06-01T11:35:53.611606Z",
     "iopub.status.idle": "2023-06-01T11:35:53.643979Z",
     "shell.execute_reply": "2023-06-01T11:35:53.643025Z"
    }
   },
   "outputs": [],
   "source": [
    "df_orders.head()"
   ]
  },
  {
   "cell_type": "code",
   "execution_count": null,
   "metadata": {
    "execution": {
     "iopub.execute_input": "2023-06-01T11:35:53.647500Z",
     "iopub.status.busy": "2023-06-01T11:35:53.647217Z",
     "iopub.status.idle": "2023-06-01T11:35:53.777141Z",
     "shell.execute_reply": "2023-06-01T11:35:53.776270Z"
    }
   },
   "outputs": [],
   "source": [
    "df_orders['branch'] = df_orders['branch'].astype(str)\n",
    "df_orders['tags'] = df_orders['tags'].astype(str)\n",
    "df_orders['payments'] = df_orders['payments'].astype(str)\n",
    "df_orders['products'] = df_orders['products'].astype(str)\n"
   ]
  },
  {
   "cell_type": "code",
   "execution_count": null,
   "metadata": {
    "execution": {
     "iopub.execute_input": "2023-06-01T11:35:53.781152Z",
     "iopub.status.busy": "2023-06-01T11:35:53.780829Z",
     "iopub.status.idle": "2023-06-01T11:36:00.663079Z",
     "shell.execute_reply": "2023-06-01T11:36:00.662177Z"
    }
   },
   "outputs": [],
   "source": [
    "df_orders['branch_id'] = df_orders['branch'].apply(lambda x: eval(x)['id'])\n"
   ]
  },
  {
   "cell_type": "code",
   "execution_count": null,
   "metadata": {
    "execution": {
     "iopub.execute_input": "2023-06-01T11:36:00.667169Z",
     "iopub.status.busy": "2023-06-01T11:36:00.666696Z",
     "iopub.status.idle": "2023-06-01T11:36:00.801569Z",
     "shell.execute_reply": "2023-06-01T11:36:00.800653Z"
    }
   },
   "outputs": [],
   "source": [
    "orders_header = df_orders[['id', 'branch_id', 'created_at', 'total_price', 'source', 'type', 'status']].rename(columns={'id':'order_id', 'created_at':'order_date', 'total_price':'order_total_price', 'source':'order_source', 'type':'order_type', 'status':'order_status'})\n",
    "orders_header.isnull().sum()"
   ]
  },
  {
   "cell_type": "code",
   "execution_count": null,
   "metadata": {
    "execution": {
     "iopub.execute_input": "2023-06-01T11:36:00.805572Z",
     "iopub.status.busy": "2023-06-01T11:36:00.805081Z",
     "iopub.status.idle": "2023-06-01T11:36:00.816385Z",
     "shell.execute_reply": "2023-06-01T11:36:00.815535Z"
    }
   },
   "outputs": [],
   "source": [
    "orders_header.head()"
   ]
  },
  {
   "cell_type": "code",
   "execution_count": null,
   "metadata": {},
   "outputs": [],
   "source": []
  },
  {
   "attachments": {},
   "cell_type": "markdown",
   "metadata": {},
   "source": [
    "# Order Details"
   ]
  },
  {
   "cell_type": "code",
   "execution_count": null,
   "metadata": {
    "execution": {
     "iopub.execute_input": "2023-06-01T11:36:00.820028Z",
     "iopub.status.busy": "2023-06-01T11:36:00.819771Z",
     "iopub.status.idle": "2023-06-01T11:36:00.852859Z",
     "shell.execute_reply": "2023-06-01T11:36:00.852000Z"
    }
   },
   "outputs": [],
   "source": [
    "df_orders.head()"
   ]
  },
  {
   "cell_type": "code",
   "execution_count": null,
   "metadata": {},
   "outputs": [],
   "source": [
    "df_products"
   ]
  },
  {
   "cell_type": "code",
   "execution_count": null,
   "metadata": {
    "execution": {
     "iopub.execute_input": "2023-06-01T11:36:00.856391Z",
     "iopub.status.busy": "2023-06-01T11:36:00.856127Z",
     "iopub.status.idle": "2023-06-01T11:38:12.128186Z",
     "shell.execute_reply": "2023-06-01T11:38:12.127319Z"
    }
   },
   "outputs": [],
   "source": [
    "# I want to create a dataframe with the following columns:\n",
    "# order_id, product_id, category_id, quantity, price\n",
    "\n",
    "# I will create a list of dictionaries, where each dictionary is a row in the dataframe\n",
    "# I will then convert the list of dictionaries to a dataframe\n",
    "\n",
    "need_unavailable_category = False\n",
    "\n",
    "list_order_details = []\n",
    "\n",
    "for index, row in df_orders.iterrows():\n",
    "\n",
    "    order_id = row['id']\n",
    "    branch_id = eval(row['branch'])['id']\n",
    "    order_date = row['created_at']\n",
    "    order_total_price = row['total_price']\n",
    "    order_source = row['source']\n",
    "    order_type = row['type']\n",
    "    order_status = row['status']\n",
    "\n",
    "    for order_product in eval(row['products']):\n",
    "\n",
    "        product_id = order_product['product']['id']\n",
    "        try:\n",
    "            category_id = df_products[df_products['product_id'] == product_id]['category_id'].values[0]\n",
    "        except:\n",
    "            need_unavailable_category = True\n",
    "            category_id = '00000000-0000-0000-0000-000000000000'\n",
    "        \n",
    "        quantity = order_product['quantity']\n",
    "        price = order_product['product']['price']\n",
    "\n",
    "        list_order_details.append({'order_id':order_id,\n",
    "                                   'branch_id':branch_id,\n",
    "                                   'order_date':order_date,\n",
    "                                   'order_total_price':order_total_price,\n",
    "                                   'order_source':order_source,\n",
    "                                   'order_type':order_type,\n",
    "                                   'order_status':order_status,\n",
    "                                   'product_id':product_id,\n",
    "                                   'category_id':category_id,\n",
    "                                   'quantity':quantity,\n",
    "                                   'price':price})\n"
   ]
  },
  {
   "cell_type": "code",
   "execution_count": null,
   "metadata": {},
   "outputs": [],
   "source": [
    "if need_unavailable_category:\n",
    "    print(\"Yes, we need to add the unavailable category, make sure to add it in the .env\")\n",
    "    new_row = pd.DataFrame({'category_id': '00000000-0000-0000-0000-000000000000', 'category_name': 'Not Available'}, index=[df_categories.index.max()+1])\n",
    "\n",
    "    df_categories = pd.concat([df_categories, new_row], ignore_index=True)\n",
    "\n",
    "df_categories"
   ]
  },
  {
   "cell_type": "code",
   "execution_count": null,
   "metadata": {
    "execution": {
     "iopub.execute_input": "2023-06-01T11:38:12.132583Z",
     "iopub.status.busy": "2023-06-01T11:38:12.131891Z",
     "iopub.status.idle": "2023-06-01T11:38:12.902431Z",
     "shell.execute_reply": "2023-06-01T11:38:12.901527Z"
    }
   },
   "outputs": [],
   "source": [
    "orders_details = pd.DataFrame(list_order_details)"
   ]
  },
  {
   "cell_type": "code",
   "execution_count": null,
   "metadata": {
    "execution": {
     "iopub.execute_input": "2023-06-01T11:38:12.906470Z",
     "iopub.status.busy": "2023-06-01T11:38:12.905606Z",
     "iopub.status.idle": "2023-06-01T11:38:12.920133Z",
     "shell.execute_reply": "2023-06-01T11:38:12.919255Z"
    }
   },
   "outputs": [],
   "source": [
    "orders_details.head()"
   ]
  },
  {
   "cell_type": "code",
   "execution_count": null,
   "metadata": {},
   "outputs": [],
   "source": [
    "orders_details[orders_details.category_id.isna()].sort_values('order_date')"
   ]
  },
  {
   "cell_type": "code",
   "execution_count": null,
   "metadata": {
    "execution": {
     "iopub.execute_input": "2023-06-01T11:38:12.924160Z",
     "iopub.status.busy": "2023-06-01T11:38:12.923390Z",
     "iopub.status.idle": "2023-06-01T11:38:12.930003Z",
     "shell.execute_reply": "2023-06-01T11:38:12.929108Z"
    }
   },
   "outputs": [],
   "source": [
    "cats_to_be_deleted.id.values.tolist()"
   ]
  },
  {
   "cell_type": "code",
   "execution_count": null,
   "metadata": {
    "execution": {
     "iopub.execute_input": "2023-06-01T11:38:12.933185Z",
     "iopub.status.busy": "2023-06-01T11:38:12.932933Z",
     "iopub.status.idle": "2023-06-01T11:38:12.944677Z",
     "shell.execute_reply": "2023-06-01T11:38:12.943992Z"
    }
   },
   "outputs": [],
   "source": [
    "order_header_id_to_be_deleted = orders_details[orders_details.category_id.isin(cats_to_be_deleted.id.values.tolist())].order_id.unique()"
   ]
  },
  {
   "cell_type": "code",
   "execution_count": null,
   "metadata": {
    "execution": {
     "iopub.execute_input": "2023-06-01T11:38:12.947872Z",
     "iopub.status.busy": "2023-06-01T11:38:12.947334Z",
     "iopub.status.idle": "2023-06-01T11:38:12.975873Z",
     "shell.execute_reply": "2023-06-01T11:38:12.974972Z"
    }
   },
   "outputs": [],
   "source": [
    "orders_details = orders_details[~orders_details.category_id.isin(cats_to_be_deleted.id.values.tolist())]"
   ]
  },
  {
   "cell_type": "code",
   "execution_count": null,
   "metadata": {
    "execution": {
     "iopub.execute_input": "2023-06-01T11:38:12.979946Z",
     "iopub.status.busy": "2023-06-01T11:38:12.979428Z",
     "iopub.status.idle": "2023-06-01T11:38:12.996511Z",
     "shell.execute_reply": "2023-06-01T11:38:12.995566Z"
    }
   },
   "outputs": [],
   "source": [
    "orders_header = orders_header[~orders_header.order_id.isin(order_header_id_to_be_deleted)]"
   ]
  },
  {
   "cell_type": "code",
   "execution_count": null,
   "metadata": {
    "execution": {
     "iopub.execute_input": "2023-06-01T11:38:13.001120Z",
     "iopub.status.busy": "2023-06-01T11:38:13.000392Z",
     "iopub.status.idle": "2023-06-01T11:38:13.005974Z",
     "shell.execute_reply": "2023-06-01T11:38:13.005000Z"
    }
   },
   "outputs": [],
   "source": [
    "df_products = df_products[~df_products.category_id.isin(cats_to_be_deleted.id.values.tolist())]"
   ]
  },
  {
   "attachments": {},
   "cell_type": "markdown",
   "metadata": {},
   "source": [
    "# UTC TO AMMAN"
   ]
  },
  {
   "cell_type": "code",
   "execution_count": null,
   "metadata": {},
   "outputs": [],
   "source": [
    "orders_header.head()"
   ]
  },
  {
   "cell_type": "code",
   "execution_count": null,
   "metadata": {
    "execution": {
     "iopub.execute_input": "2023-06-01T11:38:13.009363Z",
     "iopub.status.busy": "2023-06-01T11:38:13.009111Z",
     "iopub.status.idle": "2023-06-01T11:38:13.074287Z",
     "shell.execute_reply": "2023-06-01T11:38:13.073423Z"
    }
   },
   "outputs": [],
   "source": [
    "# import pytz\n",
    "from datetime import timedelta\n",
    "\n",
    "orders_details['order_date'] = pd.to_datetime(orders_details['order_date'])\n",
    "# orders_details['order_date'] = orders_details['order_date'].dt.tz_localize('UTC')\n",
    "# orders_details['order_date'] = orders_details['order_date'].dt.tz_convert(pytz.timezone('Asia/Amman'))\n",
    "\n",
    "orders_header['order_date'] = pd.to_datetime(orders_header['order_date'])\n",
    "# orders_header['order_date'] = orders_header['order_date'].dt.tz_localize('UTC')\n",
    "# orders_header['order_date'] = orders_header['order_date'].dt.tz_convert(pytz.timezone('Asia/Amman'))\n",
    "\n",
    "business_timezone_offset = int(os.getenv('business_timezone_offset'))\n",
    "time_difference = timedelta(hours=business_timezone_offset)\n",
    "\n",
    "orders_header['order_date'] += time_difference\n",
    "orders_details['order_date'] += time_difference"
   ]
  },
  {
   "cell_type": "code",
   "execution_count": null,
   "metadata": {},
   "outputs": [],
   "source": [
    "orders_header.head()"
   ]
  },
  {
   "attachments": {},
   "cell_type": "markdown",
   "metadata": {},
   "source": [
    "# Write to CSV"
   ]
  },
  {
   "cell_type": "code",
   "execution_count": null,
   "metadata": {
    "execution": {
     "iopub.execute_input": "2023-06-01T11:38:13.078174Z",
     "iopub.status.busy": "2023-06-01T11:38:13.077482Z",
     "iopub.status.idle": "2023-06-01T11:38:13.083224Z",
     "shell.execute_reply": "2023-06-01T11:38:13.082348Z"
    }
   },
   "outputs": [],
   "source": [
    "df_products.to_csv('../../data/products.csv', index=False)"
   ]
  },
  {
   "cell_type": "code",
   "execution_count": null,
   "metadata": {
    "execution": {
     "iopub.execute_input": "2023-06-01T11:38:13.086728Z",
     "iopub.status.busy": "2023-06-01T11:38:13.086249Z",
     "iopub.status.idle": "2023-06-01T11:38:16.355733Z",
     "shell.execute_reply": "2023-06-01T11:38:16.354869Z"
    }
   },
   "outputs": [],
   "source": [
    "orders_details.to_csv('../../data/order_details.csv', index=False)"
   ]
  },
  {
   "cell_type": "code",
   "execution_count": null,
   "metadata": {
    "execution": {
     "iopub.execute_input": "2023-06-01T11:38:16.359602Z",
     "iopub.status.busy": "2023-06-01T11:38:16.359331Z",
     "iopub.status.idle": "2023-06-01T11:38:17.747849Z",
     "shell.execute_reply": "2023-06-01T11:38:17.747000Z"
    }
   },
   "outputs": [],
   "source": [
    "orders_header.to_csv('../../data/order_header.csv', index=False)"
   ]
  },
  {
   "cell_type": "code",
   "execution_count": null,
   "metadata": {},
   "outputs": [],
   "source": [
    "df_categories.to_csv('../../data/categories.csv', index=False)"
   ]
  },
  {
   "cell_type": "code",
   "execution_count": null,
   "metadata": {},
   "outputs": [],
   "source": [
    "df_branches.to_csv('../../data/branches.csv', index=False)"
   ]
  },
  {
   "attachments": {},
   "cell_type": "markdown",
   "metadata": {},
   "source": [
    "# Display all"
   ]
  },
  {
   "cell_type": "code",
   "execution_count": null,
   "metadata": {
    "execution": {
     "iopub.execute_input": "2023-06-01T11:38:17.751785Z",
     "iopub.status.busy": "2023-06-01T11:38:17.751339Z",
     "iopub.status.idle": "2023-06-01T11:38:17.764534Z",
     "shell.execute_reply": "2023-06-01T11:38:17.763654Z"
    }
   },
   "outputs": [],
   "source": [
    "df_products.head()"
   ]
  },
  {
   "cell_type": "code",
   "execution_count": null,
   "metadata": {},
   "outputs": [],
   "source": [
    "df_products.product_name.value_counts()"
   ]
  },
  {
   "cell_type": "code",
   "execution_count": null,
   "metadata": {
    "execution": {
     "iopub.execute_input": "2023-06-01T11:38:17.767923Z",
     "iopub.status.busy": "2023-06-01T11:38:17.767640Z",
     "iopub.status.idle": "2023-06-01T11:38:17.781735Z",
     "shell.execute_reply": "2023-06-01T11:38:17.780852Z"
    }
   },
   "outputs": [],
   "source": [
    "orders_details.head()"
   ]
  },
  {
   "cell_type": "code",
   "execution_count": null,
   "metadata": {
    "execution": {
     "iopub.execute_input": "2023-06-01T11:38:17.785615Z",
     "iopub.status.busy": "2023-06-01T11:38:17.784934Z",
     "iopub.status.idle": "2023-06-01T11:38:17.796937Z",
     "shell.execute_reply": "2023-06-01T11:38:17.795912Z"
    }
   },
   "outputs": [],
   "source": [
    "orders_header.head()"
   ]
  },
  {
   "cell_type": "code",
   "execution_count": null,
   "metadata": {},
   "outputs": [],
   "source": []
  },
  {
   "cell_type": "code",
   "execution_count": null,
   "metadata": {},
   "outputs": [],
   "source": []
  },
  {
   "cell_type": "code",
   "execution_count": null,
   "metadata": {},
   "outputs": [],
   "source": []
  },
  {
   "cell_type": "code",
   "execution_count": null,
   "metadata": {},
   "outputs": [],
   "source": []
  }
 ],
 "metadata": {
  "kernelspec": {
   "display_name": ".venv",
   "language": "python",
   "name": "python3"
  },
  "language_info": {
   "codemirror_mode": {
    "name": "ipython",
    "version": 3
   },
   "file_extension": ".py",
   "mimetype": "text/x-python",
   "name": "python",
   "nbconvert_exporter": "python",
   "pygments_lexer": "ipython3",
   "version": "3.10.11"
  }
 },
 "nbformat": 4,
 "nbformat_minor": 2
}
