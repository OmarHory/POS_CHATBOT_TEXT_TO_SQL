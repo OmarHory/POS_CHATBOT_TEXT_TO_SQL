{
 "cells": [
  {
   "cell_type": "code",
   "execution_count": null,
   "metadata": {
    "execution": {
     "iopub.execute_input": "2023-06-13T22:16:35.091135Z",
     "iopub.status.busy": "2023-06-13T22:16:35.090938Z",
     "iopub.status.idle": "2023-06-13T22:16:35.604925Z",
     "shell.execute_reply": "2023-06-13T22:16:35.604272Z"
    }
   },
   "outputs": [],
   "source": [
    "import pandas as pd\n",
    "import requests\n",
    "import time\n",
    "from datetime import date,datetime\n",
    "\n",
    "pd.set_option('display.max_columns', None)\n",
    "import os\n",
    "\n",
    "from utils import *\n"
   ]
  },
  {
   "cell_type": "code",
   "execution_count": null,
   "metadata": {
    "execution": {
     "iopub.execute_input": "2023-06-13T22:16:35.607979Z",
     "iopub.status.busy": "2023-06-13T22:16:35.607709Z",
     "iopub.status.idle": "2023-06-13T22:16:35.618044Z",
     "shell.execute_reply": "2023-06-13T22:16:35.617368Z"
    }
   },
   "outputs": [],
   "source": [
    "from dotenv import load_dotenv\n",
    "load_dotenv()\n"
   ]
  },
  {
   "cell_type": "code",
   "execution_count": null,
   "metadata": {
    "execution": {
     "iopub.execute_input": "2023-06-13T22:16:35.643239Z",
     "iopub.status.busy": "2023-06-13T22:16:35.642984Z",
     "iopub.status.idle": "2023-06-13T22:16:35.647708Z",
     "shell.execute_reply": "2023-06-13T22:16:35.646797Z"
    }
   },
   "outputs": [],
   "source": [
    "token = os.getenv('data_access_token')\n",
    "client_id = int(os.getenv('client_id'))\n",
    "business_timezone_offset = int(os.getenv('business_timezone_offset'))\n",
    "\n"
   ]
  },
  {
   "attachments": {},
   "cell_type": "markdown",
   "metadata": {},
   "source": [
    "# Branches"
   ]
  },
  {
   "cell_type": "code",
   "execution_count": null,
   "metadata": {
    "execution": {
     "iopub.execute_input": "2023-06-13T22:16:35.650668Z",
     "iopub.status.busy": "2023-06-13T22:16:35.650451Z",
     "iopub.status.idle": "2023-06-13T22:16:36.760684Z",
     "shell.execute_reply": "2023-06-13T22:16:36.759506Z"
    }
   },
   "outputs": [],
   "source": [
    "last_page = call_foodics('branches', 1, client_id, token, return_last_page=True)\n",
    "\n",
    "list_responses = call_foodics('branches', last_page, client_id, token)"
   ]
  },
  {
   "cell_type": "code",
   "execution_count": null,
   "metadata": {},
   "outputs": [],
   "source": []
  },
  {
   "cell_type": "code",
   "execution_count": null,
   "metadata": {
    "execution": {
     "iopub.execute_input": "2023-06-13T22:16:36.764016Z",
     "iopub.status.busy": "2023-06-13T22:16:36.763822Z",
     "iopub.status.idle": "2023-06-13T22:16:36.788667Z",
     "shell.execute_reply": "2023-06-13T22:16:36.788021Z"
    }
   },
   "outputs": [],
   "source": [
    "df_branches = pd.DataFrame([item for sublist in list_responses for item in sublist])\n",
    "df_branches['client_id'] = client_id\n",
    "df_branches['slug'] = df_branches.name.apply(lambda x: generate_slug(x))\n",
    "df_branches"
   ]
  },
  {
   "cell_type": "code",
   "execution_count": null,
   "metadata": {
    "execution": {
     "iopub.execute_input": "2023-06-13T22:16:36.791050Z",
     "iopub.status.busy": "2023-06-13T22:16:36.790871Z",
     "iopub.status.idle": "2023-06-13T22:16:36.798954Z",
     "shell.execute_reply": "2023-06-13T22:16:36.798313Z"
    }
   },
   "outputs": [],
   "source": [
    "df_branches = df_branches[['id', 'client_id', 'name', 'slug', 'opening_from', 'opening_to', 'created_at', 'updated_at', 'deleted_at']]"
   ]
  },
  {
   "cell_type": "code",
   "execution_count": null,
   "metadata": {
    "execution": {
     "iopub.execute_input": "2023-06-13T22:16:36.801459Z",
     "iopub.status.busy": "2023-06-13T22:16:36.801249Z",
     "iopub.status.idle": "2023-06-13T22:16:36.808152Z",
     "shell.execute_reply": "2023-06-13T22:16:36.807602Z"
    }
   },
   "outputs": [],
   "source": [
    "df_branches"
   ]
  },
  {
   "attachments": {},
   "cell_type": "markdown",
   "metadata": {},
   "source": [
    "# Products"
   ]
  },
  {
   "cell_type": "code",
   "execution_count": null,
   "metadata": {
    "execution": {
     "iopub.execute_input": "2023-06-13T22:16:36.810113Z",
     "iopub.status.busy": "2023-06-13T22:16:36.809936Z",
     "iopub.status.idle": "2023-06-13T22:16:39.301182Z",
     "shell.execute_reply": "2023-06-13T22:16:39.300491Z"
    }
   },
   "outputs": [],
   "source": [
    "last_page = call_foodics('products', 1, client_id,token, return_last_page=True)\n",
    "\n",
    "list_responses = call_foodics('products', last_page, client_id,token, includables='category')"
   ]
  },
  {
   "cell_type": "code",
   "execution_count": null,
   "metadata": {
    "execution": {
     "iopub.execute_input": "2023-06-13T22:16:39.304401Z",
     "iopub.status.busy": "2023-06-13T22:16:39.304162Z",
     "iopub.status.idle": "2023-06-13T22:16:39.312814Z",
     "shell.execute_reply": "2023-06-13T22:16:39.311100Z"
    }
   },
   "outputs": [],
   "source": [
    "df_products = pd.DataFrame([item for sublist in list_responses for item in sublist])\n",
    "df_products['client_id'] = client_id\n",
    "df_products['slug'] = df_products.name.apply(lambda x: generate_slug(x))"
   ]
  },
  {
   "cell_type": "code",
   "execution_count": null,
   "metadata": {
    "execution": {
     "iopub.execute_input": "2023-06-13T22:16:39.316059Z",
     "iopub.status.busy": "2023-06-13T22:16:39.315859Z",
     "iopub.status.idle": "2023-06-13T22:16:39.330380Z",
     "shell.execute_reply": "2023-06-13T22:16:39.329706Z"
    }
   },
   "outputs": [],
   "source": [
    "df_products.head()"
   ]
  },
  {
   "cell_type": "code",
   "execution_count": null,
   "metadata": {
    "execution": {
     "iopub.execute_input": "2023-06-13T22:16:39.332728Z",
     "iopub.status.busy": "2023-06-13T22:16:39.332515Z",
     "iopub.status.idle": "2023-06-13T22:16:39.349917Z",
     "shell.execute_reply": "2023-06-13T22:16:39.349262Z"
    }
   },
   "outputs": [],
   "source": [
    "category_name_col = os.getenv('category_name_col')\n",
    "print(category_name_col)\n",
    "\n",
    "df_products['category_name'] = df_products['category'].apply(lambda x: x[category_name_col])\n",
    "df_products = df_products[~df_products.category_name.isna()]\n",
    "df_products['category_name'] = df_products['category_name'].apply(lambda x: x.capitalize())\n",
    "\n",
    "df_products['category_id'] = df_products['category'].apply(lambda x: x['id'])\n",
    "df_products.rename(columns={'sku':\"sku\"}, inplace=True)\n",
    "df_products.drop('category', axis=1, inplace=True)\n",
    "# df_products = df_products[df_products.deleted_at.isna()]\n",
    "df_products.head()"
   ]
  },
  {
   "cell_type": "code",
   "execution_count": null,
   "metadata": {
    "execution": {
     "iopub.execute_input": "2023-06-13T22:16:39.352420Z",
     "iopub.status.busy": "2023-06-13T22:16:39.352194Z",
     "iopub.status.idle": "2023-06-13T22:16:39.357302Z",
     "shell.execute_reply": "2023-06-13T22:16:39.356681Z"
    }
   },
   "outputs": [],
   "source": [
    "df_products = df_products[['id', 'client_id', 'sku', 'slug', 'name', 'category_id', 'is_active', 'is_stock_product', 'price', 'created_at', 'updated_at', 'deleted_at']]"
   ]
  },
  {
   "cell_type": "code",
   "execution_count": null,
   "metadata": {
    "execution": {
     "iopub.execute_input": "2023-06-13T22:16:39.359463Z",
     "iopub.status.busy": "2023-06-13T22:16:39.359296Z",
     "iopub.status.idle": "2023-06-13T22:16:39.363057Z",
     "shell.execute_reply": "2023-06-13T22:16:39.362280Z"
    }
   },
   "outputs": [],
   "source": [
    "\n",
    "df_products = df_products.rename(columns={'is_stock_product':\"is_stock\"})"
   ]
  },
  {
   "cell_type": "code",
   "execution_count": null,
   "metadata": {
    "execution": {
     "iopub.execute_input": "2023-06-13T22:16:39.365349Z",
     "iopub.status.busy": "2023-06-13T22:16:39.365148Z",
     "iopub.status.idle": "2023-06-13T22:16:39.373968Z",
     "shell.execute_reply": "2023-06-13T22:16:39.373411Z"
    }
   },
   "outputs": [],
   "source": [
    "df_products.head()"
   ]
  },
  {
   "attachments": {},
   "cell_type": "markdown",
   "metadata": {},
   "source": [
    "# Categories"
   ]
  },
  {
   "cell_type": "code",
   "execution_count": null,
   "metadata": {
    "execution": {
     "iopub.execute_input": "2023-06-13T22:16:39.376455Z",
     "iopub.status.busy": "2023-06-13T22:16:39.376240Z",
     "iopub.status.idle": "2023-06-13T22:16:40.590382Z",
     "shell.execute_reply": "2023-06-13T22:16:40.589565Z"
    }
   },
   "outputs": [],
   "source": [
    "last_page = call_foodics('categories', 1, client_id,token, return_last_page=True)\n",
    "\n",
    "\n",
    "list_responses = call_foodics('categories', last_page, client_id, token,) "
   ]
  },
  {
   "cell_type": "code",
   "execution_count": null,
   "metadata": {
    "execution": {
     "iopub.execute_input": "2023-06-13T22:16:40.593659Z",
     "iopub.status.busy": "2023-06-13T22:16:40.593427Z",
     "iopub.status.idle": "2023-06-13T22:16:40.603864Z",
     "shell.execute_reply": "2023-06-13T22:16:40.603227Z"
    }
   },
   "outputs": [],
   "source": [
    "df_categories = pd.DataFrame([item for sublist in list_responses for item in sublist])\n",
    "df_categories['client_id'] = client_id\n",
    "df_categories['slug'] = df_categories.name.apply(lambda x: generate_slug(x))\n",
    "df_categories.head()"
   ]
  },
  {
   "cell_type": "code",
   "execution_count": null,
   "metadata": {
    "execution": {
     "iopub.execute_input": "2023-06-13T22:16:40.606190Z",
     "iopub.status.busy": "2023-06-13T22:16:40.606017Z",
     "iopub.status.idle": "2023-06-13T22:16:40.614504Z",
     "shell.execute_reply": "2023-06-13T22:16:40.613829Z"
    }
   },
   "outputs": [],
   "source": [
    "cats_to_be_deleted = df_categories[~df_categories.deleted_at.isna()]\n",
    "cats_to_be_deleted.head()"
   ]
  },
  {
   "cell_type": "code",
   "execution_count": null,
   "metadata": {
    "execution": {
     "iopub.execute_input": "2023-06-13T22:16:40.616568Z",
     "iopub.status.busy": "2023-06-13T22:16:40.616369Z",
     "iopub.status.idle": "2023-06-13T22:16:40.619752Z",
     "shell.execute_reply": "2023-06-13T22:16:40.619201Z"
    }
   },
   "outputs": [],
   "source": [
    "df_categories = df_categories[df_categories.deleted_at.isna()]"
   ]
  },
  {
   "cell_type": "code",
   "execution_count": null,
   "metadata": {
    "execution": {
     "iopub.execute_input": "2023-06-13T22:16:40.621873Z",
     "iopub.status.busy": "2023-06-13T22:16:40.621714Z",
     "iopub.status.idle": "2023-06-13T22:16:40.625700Z",
     "shell.execute_reply": "2023-06-13T22:16:40.625093Z"
    }
   },
   "outputs": [],
   "source": [
    "df_categories = df_categories[['id', 'client_id', category_name_col, 'slug', 'created_at', 'updated_at', 'deleted_at']].rename(columns={category_name_col:\"name\"})\n"
   ]
  },
  {
   "cell_type": "code",
   "execution_count": null,
   "metadata": {
    "execution": {
     "iopub.execute_input": "2023-06-13T22:16:40.627853Z",
     "iopub.status.busy": "2023-06-13T22:16:40.627711Z",
     "iopub.status.idle": "2023-06-13T22:16:40.634175Z",
     "shell.execute_reply": "2023-06-13T22:16:40.633569Z"
    }
   },
   "outputs": [],
   "source": [
    "df_categories"
   ]
  },
  {
   "cell_type": "code",
   "execution_count": null,
   "metadata": {
    "execution": {
     "iopub.execute_input": "2023-06-13T22:16:40.636219Z",
     "iopub.status.busy": "2023-06-13T22:16:40.636073Z",
     "iopub.status.idle": "2023-06-13T22:16:40.639718Z",
     "shell.execute_reply": "2023-06-13T22:16:40.639139Z"
    }
   },
   "outputs": [],
   "source": [
    "df_categories.name = df_categories.name.apply(lambda x: x.capitalize())"
   ]
  },
  {
   "cell_type": "code",
   "execution_count": null,
   "metadata": {
    "execution": {
     "iopub.execute_input": "2023-06-13T22:16:40.641771Z",
     "iopub.status.busy": "2023-06-13T22:16:40.641621Z",
     "iopub.status.idle": "2023-06-13T22:16:40.644831Z",
     "shell.execute_reply": "2023-06-13T22:16:40.644141Z"
    }
   },
   "outputs": [],
   "source": [
    "print(df_categories['name'].tolist())"
   ]
  },
  {
   "attachments": {},
   "cell_type": "markdown",
   "metadata": {},
   "source": [
    "# Orders"
   ]
  },
  {
   "cell_type": "code",
   "execution_count": null,
   "metadata": {},
   "outputs": [],
   "source": []
  },
  {
   "cell_type": "code",
   "execution_count": null,
   "metadata": {
    "execution": {
     "iopub.execute_input": "2023-06-13T22:16:40.646980Z",
     "iopub.status.busy": "2023-06-13T22:16:40.646811Z",
     "iopub.status.idle": "2023-06-13T22:16:48.391238Z",
     "shell.execute_reply": "2023-06-13T22:16:48.390364Z"
    }
   },
   "outputs": [],
   "source": [
    "filter = {}\n",
    "path = f'../../data/{client_id}/raw/orders_final_include.csv'\n",
    "\n",
    "\n",
    "if os.path.exists(path):\n",
    "    print('orders_final_include.csv already exists')\n",
    "    df_orders = pd.read_csv(path)\n",
    "    df_orders.reset_index(drop=True, inplace=True)  \n",
    "else:\n",
    "    print('orders_final_include.csv does not exist')\n",
    "    includables = 'products,branch,products.product,tags,products.promotion'\n",
    "    # call the foodics api to get the orders\n",
    "    last_page = call_foodics('orders', last_page, client_id, token, includables=includables, filter=filter, return_last_page=True)\n",
    "    print('last_page: ', last_page)\n",
    "    \n",
    "    list_responses = call_foodics('orders', last_page, client_id, token, includables=includables, filter=filter)\n",
    "    df_orders = pd.DataFrame([item for sublist in list_responses for item in sublist])\n",
    "    df_orders.to_csv(path, index=False)\n",
    "\n",
    "# TODO: remove this line after testing\n",
    "df_orders = pd.read_csv(path)\n",
    "df_orders.reset_index(drop=True, inplace=True)\n",
    "    "
   ]
  },
  {
   "cell_type": "code",
   "execution_count": null,
   "metadata": {
    "execution": {
     "iopub.execute_input": "2023-06-13T22:16:48.395153Z",
     "iopub.status.busy": "2023-06-13T22:16:48.394987Z",
     "iopub.status.idle": "2023-06-13T22:16:48.439066Z",
     "shell.execute_reply": "2023-06-13T22:16:48.438288Z"
    }
   },
   "outputs": [],
   "source": [
    "df_orders.created_at = pd.to_datetime(df_orders.created_at)\n",
    "max_date = df_orders.created_at.max().date().strftime('%Y-%m-%d')\n",
    "max_date"
   ]
  },
  {
   "cell_type": "code",
   "execution_count": null,
   "metadata": {
    "execution": {
     "iopub.execute_input": "2023-06-13T22:16:48.441194Z",
     "iopub.status.busy": "2023-06-13T22:16:48.441011Z",
     "iopub.status.idle": "2023-06-13T22:16:48.445219Z",
     "shell.execute_reply": "2023-06-13T22:16:48.444656Z"
    }
   },
   "outputs": [],
   "source": [
    "today = date.today().strftime('%Y-%m-%d')\n",
    "today"
   ]
  },
  {
   "cell_type": "code",
   "execution_count": null,
   "metadata": {
    "execution": {
     "iopub.execute_input": "2023-06-13T22:16:48.447132Z",
     "iopub.status.busy": "2023-06-13T22:16:48.446969Z",
     "iopub.status.idle": "2023-06-13T22:16:48.476255Z",
     "shell.execute_reply": "2023-06-13T22:16:48.475529Z"
    }
   },
   "outputs": [],
   "source": [
    "df_orders=df_orders.reset_index(drop=True)"
   ]
  },
  {
   "cell_type": "code",
   "execution_count": null,
   "metadata": {
    "execution": {
     "iopub.execute_input": "2023-06-13T22:16:48.478761Z",
     "iopub.status.busy": "2023-06-13T22:16:48.478607Z",
     "iopub.status.idle": "2023-06-13T22:16:48.494739Z",
     "shell.execute_reply": "2023-06-13T22:16:48.494063Z"
    }
   },
   "outputs": [],
   "source": [
    "df_orders.head()"
   ]
  },
  {
   "cell_type": "code",
   "execution_count": null,
   "metadata": {
    "execution": {
     "iopub.execute_input": "2023-06-13T22:16:48.496836Z",
     "iopub.status.busy": "2023-06-13T22:16:48.496682Z",
     "iopub.status.idle": "2023-06-13T22:16:48.594325Z",
     "shell.execute_reply": "2023-06-13T22:16:48.593569Z"
    }
   },
   "outputs": [],
   "source": [
    "df_orders['branch'] = df_orders['branch'].astype(str)\n",
    "df_orders['tags'] = df_orders['tags'].astype(str)\n",
    "df_orders['payments'] = df_orders['payments'].astype(str)\n",
    "df_orders['products'] = df_orders['products'].astype(str)\n"
   ]
  },
  {
   "cell_type": "code",
   "execution_count": null,
   "metadata": {
    "execution": {
     "iopub.execute_input": "2023-06-13T22:16:48.597042Z",
     "iopub.status.busy": "2023-06-13T22:16:48.596871Z",
     "iopub.status.idle": "2023-06-13T22:16:52.384380Z",
     "shell.execute_reply": "2023-06-13T22:16:52.383339Z"
    }
   },
   "outputs": [],
   "source": [
    "df_orders['branch_id'] = df_orders['branch'].apply(lambda x: eval(x)['id'])\n",
    "df_orders['client_id'] = client_id"
   ]
  },
  {
   "cell_type": "code",
   "execution_count": null,
   "metadata": {
    "execution": {
     "iopub.execute_input": "2023-06-13T22:16:52.387111Z",
     "iopub.status.busy": "2023-06-13T22:16:52.386926Z",
     "iopub.status.idle": "2023-06-13T22:16:52.457594Z",
     "shell.execute_reply": "2023-06-13T22:16:52.456887Z"
    }
   },
   "outputs": [],
   "source": [
    "orders_header = df_orders[['id', 'client_id', 'branch_id',  'source', 'type', 'status', 'total_price', 'created_at', 'updated_at']]\n",
    "orders_header.isnull().sum()"
   ]
  },
  {
   "cell_type": "code",
   "execution_count": null,
   "metadata": {
    "execution": {
     "iopub.execute_input": "2023-06-13T22:16:52.459681Z",
     "iopub.status.busy": "2023-06-13T22:16:52.459508Z",
     "iopub.status.idle": "2023-06-13T22:16:52.466560Z",
     "shell.execute_reply": "2023-06-13T22:16:52.465996Z"
    }
   },
   "outputs": [],
   "source": [
    "orders_header.head()"
   ]
  },
  {
   "cell_type": "code",
   "execution_count": null,
   "metadata": {
    "execution": {
     "iopub.execute_input": "2023-06-13T22:16:52.468543Z",
     "iopub.status.busy": "2023-06-13T22:16:52.468368Z",
     "iopub.status.idle": "2023-06-13T22:16:52.472197Z",
     "shell.execute_reply": "2023-06-13T22:16:52.471538Z"
    }
   },
   "outputs": [],
   "source": [
    "orders_header['ordered_at'] = orders_header['created_at']"
   ]
  },
  {
   "attachments": {},
   "cell_type": "markdown",
   "metadata": {},
   "source": [
    "# Order Details"
   ]
  },
  {
   "cell_type": "code",
   "execution_count": null,
   "metadata": {
    "execution": {
     "iopub.execute_input": "2023-06-13T22:16:52.474310Z",
     "iopub.status.busy": "2023-06-13T22:16:52.474138Z",
     "iopub.status.idle": "2023-06-13T22:16:52.481757Z",
     "shell.execute_reply": "2023-06-13T22:16:52.481185Z"
    }
   },
   "outputs": [],
   "source": [
    "orders_header.head()"
   ]
  },
  {
   "cell_type": "code",
   "execution_count": null,
   "metadata": {
    "execution": {
     "iopub.execute_input": "2023-06-13T22:16:52.483781Z",
     "iopub.status.busy": "2023-06-13T22:16:52.483612Z",
     "iopub.status.idle": "2023-06-13T22:16:52.500109Z",
     "shell.execute_reply": "2023-06-13T22:16:52.499472Z"
    }
   },
   "outputs": [],
   "source": [
    "df_orders.head()"
   ]
  },
  {
   "cell_type": "code",
   "execution_count": null,
   "metadata": {
    "execution": {
     "iopub.execute_input": "2023-06-13T22:16:52.502067Z",
     "iopub.status.busy": "2023-06-13T22:16:52.501900Z",
     "iopub.status.idle": "2023-06-13T22:18:00.530292Z",
     "shell.execute_reply": "2023-06-13T22:18:00.529675Z"
    }
   },
   "outputs": [],
   "source": [
    "# I want to create a dataframe with the following columns:\n",
    "# order_id, product_id, category_id, quantity, price\n",
    "\n",
    "# I will create a list of dictionaries, where each dictionary is a row in the dataframe\n",
    "# I will then convert the list of dictionaries to a dataframe\n",
    "import uuid\n",
    "\n",
    "need_unavailable_category = False\n",
    "\n",
    "list_order_details = []\n",
    "length_orders = len(df_orders)\n",
    "for index, row in df_orders.iterrows():\n",
    "\n",
    "    order_header_id = row['id']\n",
    "    branch_id = eval(row['branch'])['id']\n",
    "    created_at = row['created_at']\n",
    "    updated_at = row['updated_at']\n",
    "    total_price = row['total_price']\n",
    "\n",
    "\n",
    "    for order_product in eval(row['products']):\n",
    "        order_details_id = str(uuid.uuid4())\n",
    "\n",
    "\n",
    "        product_id = order_product['product']['id']\n",
    "        try:\n",
    "            category_id = df_products[df_products['id'] == product_id]['category_id'].values[0]\n",
    "        except:\n",
    "            need_unavailable_category = True\n",
    "            category_id = '00000000-0000-0000-0000-000000000000'\n",
    "        \n",
    "        quantity = order_product['quantity']\n",
    "        price = order_product['product']['price']\n",
    "\n",
    "        list_order_details.append({\n",
    "                                   'id':order_details_id,\n",
    "                                   'header_id':order_header_id,\n",
    "                                   'product_id':product_id,\n",
    "                                   'category_id':category_id,\n",
    "                                   'client_id':client_id, \n",
    "                                   'quantity':quantity,\n",
    "                                   'price':price,\n",
    "                                   'created_at':created_at,\n",
    "                                   'updated_at':updated_at})\n"
   ]
  },
  {
   "cell_type": "code",
   "execution_count": null,
   "metadata": {
    "execution": {
     "iopub.execute_input": "2023-06-13T22:18:00.533321Z",
     "iopub.status.busy": "2023-06-13T22:18:00.532950Z",
     "iopub.status.idle": "2023-06-13T22:18:00.540392Z",
     "shell.execute_reply": "2023-06-13T22:18:00.539871Z"
    }
   },
   "outputs": [],
   "source": [
    "if need_unavailable_category:\n",
    "    print(\"Yes, we need to add the unavailable category, make sure to add it in the .env\")\n",
    "    new_row = pd.DataFrame({'id': '00000000-0000-0000-0000-000000000000', 'name': 'Not Available', 'slug':\"not-available\", 'client_id':client_id}, index=[df_categories.index.max()+1])\n",
    "    today = date.today().strftime('%Y-%m-%d')\n",
    "    df_categories = pd.concat([df_categories, new_row], ignore_index=True)\n",
    "    df_categories.created_at = df_categories.created_at.fillna(datetime.now().strftime('%Y-%m-%d %H:%M:%S'))\n",
    "    df_categories.updated_at = df_categories.updated_at.fillna(datetime.now().strftime('%Y-%m-%d %H:%M:%S'))\n",
    "    df_categories.deleted_at = df_categories.deleted_at.fillna(method='ffill')\n",
    "\n",
    "\n",
    "\n",
    "df_categories"
   ]
  },
  {
   "cell_type": "code",
   "execution_count": null,
   "metadata": {
    "execution": {
     "iopub.execute_input": "2023-06-13T22:18:00.542349Z",
     "iopub.status.busy": "2023-06-13T22:18:00.542096Z",
     "iopub.status.idle": "2023-06-13T22:18:00.805066Z",
     "shell.execute_reply": "2023-06-13T22:18:00.804474Z"
    }
   },
   "outputs": [],
   "source": [
    "orders_details = pd.DataFrame(list_order_details)"
   ]
  },
  {
   "cell_type": "code",
   "execution_count": null,
   "metadata": {
    "execution": {
     "iopub.execute_input": "2023-06-13T22:18:00.808029Z",
     "iopub.status.busy": "2023-06-13T22:18:00.807434Z",
     "iopub.status.idle": "2023-06-13T22:18:00.814766Z",
     "shell.execute_reply": "2023-06-13T22:18:00.814221Z"
    }
   },
   "outputs": [],
   "source": [
    "orders_details.head()"
   ]
  },
  {
   "cell_type": "code",
   "execution_count": null,
   "metadata": {
    "execution": {
     "iopub.execute_input": "2023-06-13T22:18:00.816531Z",
     "iopub.status.busy": "2023-06-13T22:18:00.816281Z",
     "iopub.status.idle": "2023-06-13T22:18:00.826967Z",
     "shell.execute_reply": "2023-06-13T22:18:00.826463Z"
    }
   },
   "outputs": [],
   "source": [
    "orders_details[orders_details.category_id.isna()].sort_values('created_at')"
   ]
  },
  {
   "cell_type": "code",
   "execution_count": null,
   "metadata": {
    "execution": {
     "iopub.execute_input": "2023-06-13T22:18:00.828867Z",
     "iopub.status.busy": "2023-06-13T22:18:00.828616Z",
     "iopub.status.idle": "2023-06-13T22:18:00.832231Z",
     "shell.execute_reply": "2023-06-13T22:18:00.831719Z"
    }
   },
   "outputs": [],
   "source": [
    "cats_to_be_deleted.id.values.tolist()"
   ]
  },
  {
   "cell_type": "code",
   "execution_count": null,
   "metadata": {
    "execution": {
     "iopub.execute_input": "2023-06-13T22:18:00.833935Z",
     "iopub.status.busy": "2023-06-13T22:18:00.833686Z",
     "iopub.status.idle": "2023-06-13T22:18:00.841734Z",
     "shell.execute_reply": "2023-06-13T22:18:00.841219Z"
    }
   },
   "outputs": [],
   "source": [
    "order_header_id_to_be_deleted = orders_details[orders_details.category_id.isin(cats_to_be_deleted.id.values.tolist())].header_id.unique()"
   ]
  },
  {
   "cell_type": "code",
   "execution_count": null,
   "metadata": {
    "execution": {
     "iopub.execute_input": "2023-06-13T22:18:00.843391Z",
     "iopub.status.busy": "2023-06-13T22:18:00.843206Z",
     "iopub.status.idle": "2023-06-13T22:18:00.867300Z",
     "shell.execute_reply": "2023-06-13T22:18:00.866673Z"
    }
   },
   "outputs": [],
   "source": [
    "orders_details = orders_details[~orders_details.category_id.isin(cats_to_be_deleted.id.values.tolist())]"
   ]
  },
  {
   "cell_type": "code",
   "execution_count": null,
   "metadata": {
    "execution": {
     "iopub.execute_input": "2023-06-13T22:18:00.869712Z",
     "iopub.status.busy": "2023-06-13T22:18:00.869383Z",
     "iopub.status.idle": "2023-06-13T22:18:00.881926Z",
     "shell.execute_reply": "2023-06-13T22:18:00.881295Z"
    }
   },
   "outputs": [],
   "source": [
    "orders_header = orders_header[~orders_header.id.isin(order_header_id_to_be_deleted)]"
   ]
  },
  {
   "cell_type": "code",
   "execution_count": null,
   "metadata": {
    "execution": {
     "iopub.execute_input": "2023-06-13T22:18:00.884568Z",
     "iopub.status.busy": "2023-06-13T22:18:00.884105Z",
     "iopub.status.idle": "2023-06-13T22:18:00.887706Z",
     "shell.execute_reply": "2023-06-13T22:18:00.887153Z"
    }
   },
   "outputs": [],
   "source": [
    "df_products = df_products[~df_products.category_id.isin(cats_to_be_deleted.id.values.tolist())]"
   ]
  },
  {
   "attachments": {},
   "cell_type": "markdown",
   "metadata": {},
   "source": [
    "# UTC TO AMMAN"
   ]
  },
  {
   "cell_type": "code",
   "execution_count": null,
   "metadata": {
    "execution": {
     "iopub.execute_input": "2023-06-13T22:18:00.889502Z",
     "iopub.status.busy": "2023-06-13T22:18:00.889256Z",
     "iopub.status.idle": "2023-06-13T22:18:00.896371Z",
     "shell.execute_reply": "2023-06-13T22:18:00.895865Z"
    }
   },
   "outputs": [],
   "source": [
    "orders_header.head()"
   ]
  },
  {
   "cell_type": "code",
   "execution_count": null,
   "metadata": {
    "execution": {
     "iopub.execute_input": "2023-06-13T22:18:00.898211Z",
     "iopub.status.busy": "2023-06-13T22:18:00.897949Z",
     "iopub.status.idle": "2023-06-13T22:18:00.904830Z",
     "shell.execute_reply": "2023-06-13T22:18:00.904329Z"
    }
   },
   "outputs": [],
   "source": [
    "orders_details.head()"
   ]
  },
  {
   "cell_type": "code",
   "execution_count": null,
   "metadata": {
    "execution": {
     "iopub.execute_input": "2023-06-13T22:18:00.906772Z",
     "iopub.status.busy": "2023-06-13T22:18:00.906357Z",
     "iopub.status.idle": "2023-06-13T22:18:01.029234Z",
     "shell.execute_reply": "2023-06-13T22:18:01.028668Z"
    }
   },
   "outputs": [],
   "source": [
    "# import pytz\n",
    "from datetime import timedelta\n",
    "\n",
    "# orders_details['ordered_at'] = pd.to_datetime(orders_details['order_date'])\n",
    "# # orders_details['order_date'] = orders_details['order_date'].dt.tz_localize('UTC')\n",
    "# # orders_details['order_date'] = orders_details['order_date'].dt.tz_convert(pytz.timezone('Asia/Amman'))\n",
    "\n",
    "orders_header['ordered_at'] = pd.to_datetime(orders_header['ordered_at'])\n",
    "# orders_header['order_date'] = orders_header['order_date'].dt.tz_localize('UTC')\n",
    "# orders_header['order_date'] = orders_header['order_date'].dt.tz_convert(pytz.timezone('Asia/Amman'))\n",
    "\n",
    "time_difference = timedelta(hours=business_timezone_offset)\n",
    "\n",
    "orders_header['ordered_at'] += time_difference\n",
    "# orders_details['order_date'] += time_difference"
   ]
  },
  {
   "cell_type": "code",
   "execution_count": null,
   "metadata": {
    "execution": {
     "iopub.execute_input": "2023-06-13T22:18:01.031331Z",
     "iopub.status.busy": "2023-06-13T22:18:01.031119Z",
     "iopub.status.idle": "2023-06-13T22:18:01.038416Z",
     "shell.execute_reply": "2023-06-13T22:18:01.037896Z"
    }
   },
   "outputs": [],
   "source": [
    "orders_header.head()"
   ]
  },
  {
   "attachments": {},
   "cell_type": "markdown",
   "metadata": {},
   "source": [
    "# Write to CSV"
   ]
  },
  {
   "cell_type": "code",
   "execution_count": null,
   "metadata": {
    "execution": {
     "iopub.execute_input": "2023-06-13T22:18:01.040402Z",
     "iopub.status.busy": "2023-06-13T22:18:01.040149Z",
     "iopub.status.idle": "2023-06-13T22:18:01.044332Z",
     "shell.execute_reply": "2023-06-13T22:18:01.043888Z"
    }
   },
   "outputs": [],
   "source": [
    "df_products.to_csv(f'../../data/{client_id}/raw/products.csv', index=False)"
   ]
  },
  {
   "cell_type": "code",
   "execution_count": null,
   "metadata": {
    "execution": {
     "iopub.execute_input": "2023-06-13T22:18:01.046047Z",
     "iopub.status.busy": "2023-06-13T22:18:01.045835Z",
     "iopub.status.idle": "2023-06-13T22:18:01.760790Z",
     "shell.execute_reply": "2023-06-13T22:18:01.760126Z"
    }
   },
   "outputs": [],
   "source": [
    "orders_details.to_csv(f'../../data/{client_id}/raw/order_details.csv', index=False)"
   ]
  },
  {
   "cell_type": "code",
   "execution_count": null,
   "metadata": {
    "execution": {
     "iopub.execute_input": "2023-06-13T22:18:01.763335Z",
     "iopub.status.busy": "2023-06-13T22:18:01.763034Z",
     "iopub.status.idle": "2023-06-13T22:18:02.136526Z",
     "shell.execute_reply": "2023-06-13T22:18:02.135922Z"
    }
   },
   "outputs": [],
   "source": [
    "orders_header.to_csv(f'../../data/{client_id}/raw/order_header.csv', index=False)"
   ]
  },
  {
   "cell_type": "code",
   "execution_count": null,
   "metadata": {
    "execution": {
     "iopub.execute_input": "2023-06-13T22:18:02.138879Z",
     "iopub.status.busy": "2023-06-13T22:18:02.138668Z",
     "iopub.status.idle": "2023-06-13T22:18:02.142316Z",
     "shell.execute_reply": "2023-06-13T22:18:02.141820Z"
    }
   },
   "outputs": [],
   "source": [
    "df_categories.to_csv(f'../../data/{client_id}/raw/categories.csv', index=False)"
   ]
  },
  {
   "cell_type": "code",
   "execution_count": null,
   "metadata": {
    "execution": {
     "iopub.execute_input": "2023-06-13T22:18:02.144352Z",
     "iopub.status.busy": "2023-06-13T22:18:02.143991Z",
     "iopub.status.idle": "2023-06-13T22:18:02.147223Z",
     "shell.execute_reply": "2023-06-13T22:18:02.146719Z"
    }
   },
   "outputs": [],
   "source": [
    "df_branches.to_csv(f'../../data/{client_id}/raw/branches.csv', index=False)"
   ]
  },
  {
   "attachments": {},
   "cell_type": "markdown",
   "metadata": {},
   "source": [
    "# Display all"
   ]
  },
  {
   "cell_type": "code",
   "execution_count": null,
   "metadata": {
    "execution": {
     "iopub.execute_input": "2023-06-13T22:18:02.149355Z",
     "iopub.status.busy": "2023-06-13T22:18:02.148889Z",
     "iopub.status.idle": "2023-06-13T22:18:02.156692Z",
     "shell.execute_reply": "2023-06-13T22:18:02.156183Z"
    }
   },
   "outputs": [],
   "source": [
    "df_products.head()"
   ]
  },
  {
   "cell_type": "code",
   "execution_count": null,
   "metadata": {
    "execution": {
     "iopub.execute_input": "2023-06-13T22:18:02.158453Z",
     "iopub.status.busy": "2023-06-13T22:18:02.158159Z",
     "iopub.status.idle": "2023-06-13T22:18:02.164767Z",
     "shell.execute_reply": "2023-06-13T22:18:02.164266Z"
    }
   },
   "outputs": [],
   "source": [
    "orders_details.head()"
   ]
  },
  {
   "cell_type": "code",
   "execution_count": null,
   "metadata": {
    "execution": {
     "iopub.execute_input": "2023-06-13T22:18:02.166439Z",
     "iopub.status.busy": "2023-06-13T22:18:02.166192Z",
     "iopub.status.idle": "2023-06-13T22:18:02.173030Z",
     "shell.execute_reply": "2023-06-13T22:18:02.172516Z"
    }
   },
   "outputs": [],
   "source": [
    "orders_header.head()"
   ]
  },
  {
   "cell_type": "code",
   "execution_count": null,
   "metadata": {
    "execution": {
     "iopub.execute_input": "2023-06-13T22:18:02.174815Z",
     "iopub.status.busy": "2023-06-13T22:18:02.174567Z",
     "iopub.status.idle": "2023-06-13T22:18:02.180470Z",
     "shell.execute_reply": "2023-06-13T22:18:02.179963Z"
    }
   },
   "outputs": [],
   "source": [
    "df_branches.head()"
   ]
  },
  {
   "cell_type": "code",
   "execution_count": null,
   "metadata": {
    "execution": {
     "iopub.execute_input": "2023-06-13T22:18:02.182416Z",
     "iopub.status.busy": "2023-06-13T22:18:02.182080Z",
     "iopub.status.idle": "2023-06-13T22:18:02.187994Z",
     "shell.execute_reply": "2023-06-13T22:18:02.187480Z"
    }
   },
   "outputs": [],
   "source": [
    "df_categories"
   ]
  }
 ],
 "metadata": {
  "kernelspec": {
   "display_name": ".venv",
   "language": "python",
   "name": "python3"
  },
  "language_info": {
   "codemirror_mode": {
    "name": "ipython",
    "version": 3
   },
   "file_extension": ".py",
   "mimetype": "text/x-python",
   "name": "python",
   "nbconvert_exporter": "python",
   "pygments_lexer": "ipython3",
   "version": "3.10.11"
  }
 },
 "nbformat": 4,
 "nbformat_minor": 2
}
