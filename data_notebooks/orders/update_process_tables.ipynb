{
 "cells": [
  {
   "cell_type": "code",
   "execution_count": 58,
   "metadata": {
    "execution": {
     "iopub.execute_input": "2023-06-01T13:30:49.864389Z",
     "iopub.status.busy": "2023-06-01T13:30:49.863799Z",
     "iopub.status.idle": "2023-06-01T13:30:50.198261Z",
     "shell.execute_reply": "2023-06-01T13:30:50.196884Z"
    }
   },
   "outputs": [],
   "source": [
    "import pandas as pd\n"
   ]
  },
  {
   "cell_type": "code",
   "execution_count": 59,
   "metadata": {
    "execution": {
     "iopub.execute_input": "2023-06-01T13:30:50.203021Z",
     "iopub.status.busy": "2023-06-01T13:30:50.202432Z",
     "iopub.status.idle": "2023-06-01T13:30:50.226655Z",
     "shell.execute_reply": "2023-06-01T13:30:50.225767Z"
    }
   },
   "outputs": [],
   "source": [
    "#read all data\n",
    "orders_header = pd.read_csv('../../data/updates/order_header.csv')\n",
    "orders_details = pd.read_csv('../../data/updates/order_details.csv')\n",
    "products = pd.read_csv('../../data/updates/products.csv')\n",
    "\n",
    "payment_methods = pd.read_csv('../../data/updates/payment_methods.csv')\n",
    "branches = pd.read_csv('../../data/updates/branches.csv')\n",
    "categories = pd.read_csv('../../data/updates/categories.csv')\n",
    "\n",
    "\n",
    "\n",
    "\n"
   ]
  },
  {
   "attachments": {},
   "cell_type": "markdown",
   "metadata": {},
   "source": [
    "# Orders Headers"
   ]
  },
  {
   "cell_type": "code",
   "execution_count": 60,
   "metadata": {
    "execution": {
     "iopub.execute_input": "2023-06-01T13:30:50.230634Z",
     "iopub.status.busy": "2023-06-01T13:30:50.230127Z",
     "iopub.status.idle": "2023-06-01T13:30:50.246539Z",
     "shell.execute_reply": "2023-06-01T13:30:50.245535Z"
    }
   },
   "outputs": [
    {
     "data": {
      "text/html": [
       "<div>\n",
       "<style scoped>\n",
       "    .dataframe tbody tr th:only-of-type {\n",
       "        vertical-align: middle;\n",
       "    }\n",
       "\n",
       "    .dataframe tbody tr th {\n",
       "        vertical-align: top;\n",
       "    }\n",
       "\n",
       "    .dataframe thead th {\n",
       "        text-align: right;\n",
       "    }\n",
       "</style>\n",
       "<table border=\"1\" class=\"dataframe\">\n",
       "  <thead>\n",
       "    <tr style=\"text-align: right;\">\n",
       "      <th></th>\n",
       "      <th>order_id</th>\n",
       "      <th>branch_id</th>\n",
       "      <th>order_date</th>\n",
       "      <th>order_total_price</th>\n",
       "      <th>order_source</th>\n",
       "      <th>order_type</th>\n",
       "      <th>order_status</th>\n",
       "    </tr>\n",
       "  </thead>\n",
       "  <tbody>\n",
       "    <tr>\n",
       "      <th>0</th>\n",
       "      <td>002a98cc-a2d9-4984-a77c-3db0731046ee</td>\n",
       "      <td>975b3d24-cb71-4df8-930e-054bcd67f90c</td>\n",
       "      <td>2023-05-31 17:43:54+03:00</td>\n",
       "      <td>5.25</td>\n",
       "      <td>1</td>\n",
       "      <td>2</td>\n",
       "      <td>4</td>\n",
       "    </tr>\n",
       "    <tr>\n",
       "      <th>1</th>\n",
       "      <td>00469526-f206-4d25-96b0-dd1e7243254f</td>\n",
       "      <td>975b3d24-cb71-4df8-930e-054bcd67f90c</td>\n",
       "      <td>2023-05-31 14:49:19+03:00</td>\n",
       "      <td>5.50</td>\n",
       "      <td>1</td>\n",
       "      <td>2</td>\n",
       "      <td>4</td>\n",
       "    </tr>\n",
       "    <tr>\n",
       "      <th>2</th>\n",
       "      <td>00eca381-39b9-4fef-bd3e-954f4dd0ec80</td>\n",
       "      <td>976744f0-20ac-4dd5-a06a-6a1ee9ffa7b5</td>\n",
       "      <td>2023-05-31 14:53:13+03:00</td>\n",
       "      <td>5.50</td>\n",
       "      <td>1</td>\n",
       "      <td>2</td>\n",
       "      <td>4</td>\n",
       "    </tr>\n",
       "    <tr>\n",
       "      <th>3</th>\n",
       "      <td>00eec08d-de2b-4e75-b6d1-d4a0f25bebcf</td>\n",
       "      <td>975b3d24-cb71-4df8-930e-054bcd67f90c</td>\n",
       "      <td>2023-05-31 22:37:29+03:00</td>\n",
       "      <td>5.25</td>\n",
       "      <td>1</td>\n",
       "      <td>2</td>\n",
       "      <td>4</td>\n",
       "    </tr>\n",
       "    <tr>\n",
       "      <th>4</th>\n",
       "      <td>01170f23-f882-4c7b-bd18-081ae9531340</td>\n",
       "      <td>976744f0-20ac-4dd5-a06a-6a1ee9ffa7b5</td>\n",
       "      <td>2023-05-31 20:49:37+03:00</td>\n",
       "      <td>12.00</td>\n",
       "      <td>1</td>\n",
       "      <td>2</td>\n",
       "      <td>4</td>\n",
       "    </tr>\n",
       "  </tbody>\n",
       "</table>\n",
       "</div>"
      ],
      "text/plain": [
       "                               order_id                             branch_id  \\\n",
       "0  002a98cc-a2d9-4984-a77c-3db0731046ee  975b3d24-cb71-4df8-930e-054bcd67f90c   \n",
       "1  00469526-f206-4d25-96b0-dd1e7243254f  975b3d24-cb71-4df8-930e-054bcd67f90c   \n",
       "2  00eca381-39b9-4fef-bd3e-954f4dd0ec80  976744f0-20ac-4dd5-a06a-6a1ee9ffa7b5   \n",
       "3  00eec08d-de2b-4e75-b6d1-d4a0f25bebcf  975b3d24-cb71-4df8-930e-054bcd67f90c   \n",
       "4  01170f23-f882-4c7b-bd18-081ae9531340  976744f0-20ac-4dd5-a06a-6a1ee9ffa7b5   \n",
       "\n",
       "                  order_date  order_total_price  order_source  order_type  \\\n",
       "0  2023-05-31 17:43:54+03:00               5.25             1           2   \n",
       "1  2023-05-31 14:49:19+03:00               5.50             1           2   \n",
       "2  2023-05-31 14:53:13+03:00               5.50             1           2   \n",
       "3  2023-05-31 22:37:29+03:00               5.25             1           2   \n",
       "4  2023-05-31 20:49:37+03:00              12.00             1           2   \n",
       "\n",
       "   order_status  \n",
       "0             4  \n",
       "1             4  \n",
       "2             4  \n",
       "3             4  \n",
       "4             4  "
      ]
     },
     "execution_count": 60,
     "metadata": {},
     "output_type": "execute_result"
    }
   ],
   "source": [
    "orders_header.head()"
   ]
  },
  {
   "cell_type": "code",
   "execution_count": 61,
   "metadata": {
    "execution": {
     "iopub.execute_input": "2023-06-01T13:30:50.296147Z",
     "iopub.status.busy": "2023-06-01T13:30:50.295393Z",
     "iopub.status.idle": "2023-06-01T13:30:50.305218Z",
     "shell.execute_reply": "2023-06-01T13:30:50.304451Z"
    }
   },
   "outputs": [],
   "source": [
    "orders_types = {1:'Dine In', 2:'Pick Up', 3:'Delivery', '4':'Drive Thru'}\n",
    "orders_sources = {1:'Cashier', 2:'API', 3:'Call Center'}\n",
    "orders_statuses = {1:'Pending', 2:'Active', 3:'Declined', 4:'Closed', 5:'Returned', 6:'Joined', 7:'Void'}\n",
    "# orders_delivery_statuses = {1:'sent to kitchen', 2:'ready', 3:'assigned', 4:'en route', 5:'delivered', 6:'closed'}\n",
    "# products_statuses = {1:'Pending', 2:'Active', 3:'Closed', 4:'Moved', 5:'Void', 6:'Returned', 7:'Declined'}\n",
    "# discounts_types = {1:'Open', 2:'Predefined', 3:'Coupon', 4:'Loyalty', 5:'Promotion'}\n",
    "\n",
    "#---------------\n",
    "\n",
    "orders_header['order_type'] = orders_header['order_type'].map(orders_types)\n",
    "orders_header['order_source'] = orders_header['order_source'].map(orders_sources)\n",
    "orders_header['order_status'] = orders_header['order_status'].map(orders_statuses)\n"
   ]
  },
  {
   "cell_type": "code",
   "execution_count": 62,
   "metadata": {
    "execution": {
     "iopub.execute_input": "2023-06-01T13:30:50.308757Z",
     "iopub.status.busy": "2023-06-01T13:30:50.308105Z",
     "iopub.status.idle": "2023-06-01T13:30:50.324189Z",
     "shell.execute_reply": "2023-06-01T13:30:50.323431Z"
    }
   },
   "outputs": [],
   "source": [
    "orders_header['order_datetime'] = pd.to_datetime(orders_header['order_date'])\n",
    "\n",
    "# orders_header['order_time'] = orders_header['order_datetime'].dt.time\n",
    "# orders_header['order_date'] = orders_header['order_datetime'].dt.date\n",
    "\n",
    "# orders_header['hour'] = orders_header['order_datetime'].dt.hour\n",
    "# orders_header['day_name'] = orders_header['order_datetime'].dt.day_name()\n",
    "# orders_header['is_weekend'] = orders_header['order_datetime'].dt.dayofweek.isin([4, 5])\n",
    "# orders_header['is_weekend'].replace({True:'Yes', False:'No'}, inplace=True)\n",
    "# orders_header['month'] = orders_header['order_datetime'].dt.month\n",
    "# orders_header['year'] = orders_header['order_datetime'].dt.year\n",
    "\n",
    "\n"
   ]
  },
  {
   "cell_type": "code",
   "execution_count": 63,
   "metadata": {
    "execution": {
     "iopub.execute_input": "2023-06-01T13:30:50.327398Z",
     "iopub.status.busy": "2023-06-01T13:30:50.327146Z",
     "iopub.status.idle": "2023-06-01T13:30:50.335152Z",
     "shell.execute_reply": "2023-06-01T13:30:50.334328Z"
    }
   },
   "outputs": [],
   "source": [
    "orders_header.drop_duplicates(inplace=True)"
   ]
  },
  {
   "cell_type": "code",
   "execution_count": 64,
   "metadata": {
    "execution": {
     "iopub.execute_input": "2023-06-01T13:30:50.339040Z",
     "iopub.status.busy": "2023-06-01T13:30:50.338294Z",
     "iopub.status.idle": "2023-06-01T13:30:50.347454Z",
     "shell.execute_reply": "2023-06-01T13:30:50.346632Z"
    }
   },
   "outputs": [
    {
     "data": {
      "text/plain": [
       "order_id             0\n",
       "branch_id            0\n",
       "order_date           0\n",
       "order_total_price    0\n",
       "order_source         0\n",
       "order_type           0\n",
       "order_status         0\n",
       "order_datetime       0\n",
       "dtype: int64"
      ]
     },
     "execution_count": 64,
     "metadata": {},
     "output_type": "execute_result"
    }
   ],
   "source": [
    "orders_header.isnull().sum()"
   ]
  },
  {
   "cell_type": "code",
   "execution_count": 65,
   "metadata": {
    "execution": {
     "iopub.execute_input": "2023-06-01T13:30:50.350506Z",
     "iopub.status.busy": "2023-06-01T13:30:50.350260Z",
     "iopub.status.idle": "2023-06-01T13:30:50.364623Z",
     "shell.execute_reply": "2023-06-01T13:30:50.363682Z"
    }
   },
   "outputs": [
    {
     "data": {
      "text/html": [
       "<div>\n",
       "<style scoped>\n",
       "    .dataframe tbody tr th:only-of-type {\n",
       "        vertical-align: middle;\n",
       "    }\n",
       "\n",
       "    .dataframe tbody tr th {\n",
       "        vertical-align: top;\n",
       "    }\n",
       "\n",
       "    .dataframe thead th {\n",
       "        text-align: right;\n",
       "    }\n",
       "</style>\n",
       "<table border=\"1\" class=\"dataframe\">\n",
       "  <thead>\n",
       "    <tr style=\"text-align: right;\">\n",
       "      <th></th>\n",
       "      <th>order_id</th>\n",
       "      <th>branch_id</th>\n",
       "      <th>order_date</th>\n",
       "      <th>order_total_price</th>\n",
       "      <th>order_source</th>\n",
       "      <th>order_type</th>\n",
       "      <th>order_status</th>\n",
       "      <th>order_datetime</th>\n",
       "    </tr>\n",
       "  </thead>\n",
       "  <tbody>\n",
       "    <tr>\n",
       "      <th>0</th>\n",
       "      <td>002a98cc-a2d9-4984-a77c-3db0731046ee</td>\n",
       "      <td>975b3d24-cb71-4df8-930e-054bcd67f90c</td>\n",
       "      <td>2023-05-31 17:43:54+03:00</td>\n",
       "      <td>5.25</td>\n",
       "      <td>Cashier</td>\n",
       "      <td>Pick Up</td>\n",
       "      <td>Closed</td>\n",
       "      <td>2023-05-31 17:43:54+03:00</td>\n",
       "    </tr>\n",
       "    <tr>\n",
       "      <th>1</th>\n",
       "      <td>00469526-f206-4d25-96b0-dd1e7243254f</td>\n",
       "      <td>975b3d24-cb71-4df8-930e-054bcd67f90c</td>\n",
       "      <td>2023-05-31 14:49:19+03:00</td>\n",
       "      <td>5.50</td>\n",
       "      <td>Cashier</td>\n",
       "      <td>Pick Up</td>\n",
       "      <td>Closed</td>\n",
       "      <td>2023-05-31 14:49:19+03:00</td>\n",
       "    </tr>\n",
       "    <tr>\n",
       "      <th>2</th>\n",
       "      <td>00eca381-39b9-4fef-bd3e-954f4dd0ec80</td>\n",
       "      <td>976744f0-20ac-4dd5-a06a-6a1ee9ffa7b5</td>\n",
       "      <td>2023-05-31 14:53:13+03:00</td>\n",
       "      <td>5.50</td>\n",
       "      <td>Cashier</td>\n",
       "      <td>Pick Up</td>\n",
       "      <td>Closed</td>\n",
       "      <td>2023-05-31 14:53:13+03:00</td>\n",
       "    </tr>\n",
       "    <tr>\n",
       "      <th>3</th>\n",
       "      <td>00eec08d-de2b-4e75-b6d1-d4a0f25bebcf</td>\n",
       "      <td>975b3d24-cb71-4df8-930e-054bcd67f90c</td>\n",
       "      <td>2023-05-31 22:37:29+03:00</td>\n",
       "      <td>5.25</td>\n",
       "      <td>Cashier</td>\n",
       "      <td>Pick Up</td>\n",
       "      <td>Closed</td>\n",
       "      <td>2023-05-31 22:37:29+03:00</td>\n",
       "    </tr>\n",
       "    <tr>\n",
       "      <th>4</th>\n",
       "      <td>01170f23-f882-4c7b-bd18-081ae9531340</td>\n",
       "      <td>976744f0-20ac-4dd5-a06a-6a1ee9ffa7b5</td>\n",
       "      <td>2023-05-31 20:49:37+03:00</td>\n",
       "      <td>12.00</td>\n",
       "      <td>Cashier</td>\n",
       "      <td>Pick Up</td>\n",
       "      <td>Closed</td>\n",
       "      <td>2023-05-31 20:49:37+03:00</td>\n",
       "    </tr>\n",
       "  </tbody>\n",
       "</table>\n",
       "</div>"
      ],
      "text/plain": [
       "                               order_id                             branch_id  \\\n",
       "0  002a98cc-a2d9-4984-a77c-3db0731046ee  975b3d24-cb71-4df8-930e-054bcd67f90c   \n",
       "1  00469526-f206-4d25-96b0-dd1e7243254f  975b3d24-cb71-4df8-930e-054bcd67f90c   \n",
       "2  00eca381-39b9-4fef-bd3e-954f4dd0ec80  976744f0-20ac-4dd5-a06a-6a1ee9ffa7b5   \n",
       "3  00eec08d-de2b-4e75-b6d1-d4a0f25bebcf  975b3d24-cb71-4df8-930e-054bcd67f90c   \n",
       "4  01170f23-f882-4c7b-bd18-081ae9531340  976744f0-20ac-4dd5-a06a-6a1ee9ffa7b5   \n",
       "\n",
       "                  order_date  order_total_price order_source order_type  \\\n",
       "0  2023-05-31 17:43:54+03:00               5.25      Cashier    Pick Up   \n",
       "1  2023-05-31 14:49:19+03:00               5.50      Cashier    Pick Up   \n",
       "2  2023-05-31 14:53:13+03:00               5.50      Cashier    Pick Up   \n",
       "3  2023-05-31 22:37:29+03:00               5.25      Cashier    Pick Up   \n",
       "4  2023-05-31 20:49:37+03:00              12.00      Cashier    Pick Up   \n",
       "\n",
       "  order_status            order_datetime  \n",
       "0       Closed 2023-05-31 17:43:54+03:00  \n",
       "1       Closed 2023-05-31 14:49:19+03:00  \n",
       "2       Closed 2023-05-31 14:53:13+03:00  \n",
       "3       Closed 2023-05-31 22:37:29+03:00  \n",
       "4       Closed 2023-05-31 20:49:37+03:00  "
      ]
     },
     "execution_count": 65,
     "metadata": {},
     "output_type": "execute_result"
    }
   ],
   "source": [
    "orders_header.head()"
   ]
  },
  {
   "cell_type": "code",
   "execution_count": 66,
   "metadata": {
    "execution": {
     "iopub.execute_input": "2023-06-01T13:30:50.368477Z",
     "iopub.status.busy": "2023-06-01T13:30:50.367731Z",
     "iopub.status.idle": "2023-06-01T13:30:50.372877Z",
     "shell.execute_reply": "2023-06-01T13:30:50.372025Z"
    }
   },
   "outputs": [],
   "source": [
    "orders_header.rename(columns={'order_id':'order_header_id'}, inplace=True)"
   ]
  },
  {
   "cell_type": "code",
   "execution_count": 67,
   "metadata": {
    "execution": {
     "iopub.execute_input": "2023-06-01T13:30:50.376266Z",
     "iopub.status.busy": "2023-06-01T13:30:50.376005Z",
     "iopub.status.idle": "2023-06-01T13:30:50.380682Z",
     "shell.execute_reply": "2023-06-01T13:30:50.379729Z"
    }
   },
   "outputs": [],
   "source": [
    "orders_header['order_status'].fillna('Void', inplace=True)"
   ]
  },
  {
   "cell_type": "code",
   "execution_count": 68,
   "metadata": {
    "execution": {
     "iopub.execute_input": "2023-06-01T13:30:50.384282Z",
     "iopub.status.busy": "2023-06-01T13:30:50.383778Z",
     "iopub.status.idle": "2023-06-01T13:30:50.388501Z",
     "shell.execute_reply": "2023-06-01T13:30:50.387569Z"
    }
   },
   "outputs": [],
   "source": [
    "orders_header.rename(columns={'order_id':'order_header_id'}, inplace=True)"
   ]
  },
  {
   "cell_type": "code",
   "execution_count": 69,
   "metadata": {
    "execution": {
     "iopub.execute_input": "2023-06-01T13:30:50.392362Z",
     "iopub.status.busy": "2023-06-01T13:30:50.391614Z",
     "iopub.status.idle": "2023-06-01T13:30:50.420232Z",
     "shell.execute_reply": "2023-06-01T13:30:50.419384Z"
    }
   },
   "outputs": [],
   "source": [
    "orders_header.to_csv('../../data/processed/updates/order_header.csv', index=False)"
   ]
  },
  {
   "attachments": {},
   "cell_type": "markdown",
   "metadata": {},
   "source": [
    "# Order Details"
   ]
  },
  {
   "cell_type": "code",
   "execution_count": 70,
   "metadata": {
    "execution": {
     "iopub.execute_input": "2023-06-01T13:30:50.424175Z",
     "iopub.status.busy": "2023-06-01T13:30:50.423708Z",
     "iopub.status.idle": "2023-06-01T13:30:50.437757Z",
     "shell.execute_reply": "2023-06-01T13:30:50.436832Z"
    }
   },
   "outputs": [
    {
     "data": {
      "text/html": [
       "<div>\n",
       "<style scoped>\n",
       "    .dataframe tbody tr th:only-of-type {\n",
       "        vertical-align: middle;\n",
       "    }\n",
       "\n",
       "    .dataframe tbody tr th {\n",
       "        vertical-align: top;\n",
       "    }\n",
       "\n",
       "    .dataframe thead th {\n",
       "        text-align: right;\n",
       "    }\n",
       "</style>\n",
       "<table border=\"1\" class=\"dataframe\">\n",
       "  <thead>\n",
       "    <tr style=\"text-align: right;\">\n",
       "      <th></th>\n",
       "      <th>order_id</th>\n",
       "      <th>branch_id</th>\n",
       "      <th>order_date</th>\n",
       "      <th>order_total_price</th>\n",
       "      <th>order_source</th>\n",
       "      <th>order_type</th>\n",
       "      <th>order_status</th>\n",
       "      <th>product_id</th>\n",
       "      <th>category_id</th>\n",
       "      <th>quantity</th>\n",
       "      <th>price</th>\n",
       "    </tr>\n",
       "  </thead>\n",
       "  <tbody>\n",
       "    <tr>\n",
       "      <th>0</th>\n",
       "      <td>002a98cc-a2d9-4984-a77c-3db0731046ee</td>\n",
       "      <td>975b3d24-cb71-4df8-930e-054bcd67f90c</td>\n",
       "      <td>2023-05-31 17:43:54+03:00</td>\n",
       "      <td>5.25</td>\n",
       "      <td>1</td>\n",
       "      <td>2</td>\n",
       "      <td>4</td>\n",
       "      <td>975b583e-ac20-4ed6-8ce9-4f23269e2edb</td>\n",
       "      <td>975b5737-c8e7-4ca6-a4b8-2c1546d5b8a1</td>\n",
       "      <td>1</td>\n",
       "      <td>5.25</td>\n",
       "    </tr>\n",
       "    <tr>\n",
       "      <th>1</th>\n",
       "      <td>00469526-f206-4d25-96b0-dd1e7243254f</td>\n",
       "      <td>975b3d24-cb71-4df8-930e-054bcd67f90c</td>\n",
       "      <td>2023-05-31 14:49:19+03:00</td>\n",
       "      <td>5.50</td>\n",
       "      <td>1</td>\n",
       "      <td>2</td>\n",
       "      <td>4</td>\n",
       "      <td>975b583e-8e4e-4500-b416-e77dd352726a</td>\n",
       "      <td>975b5737-c982-4e3f-9faf-083ca9dc56ac</td>\n",
       "      <td>1</td>\n",
       "      <td>5.00</td>\n",
       "    </tr>\n",
       "    <tr>\n",
       "      <th>2</th>\n",
       "      <td>00469526-f206-4d25-96b0-dd1e7243254f</td>\n",
       "      <td>975b3d24-cb71-4df8-930e-054bcd67f90c</td>\n",
       "      <td>2023-05-31 14:49:19+03:00</td>\n",
       "      <td>5.50</td>\n",
       "      <td>1</td>\n",
       "      <td>2</td>\n",
       "      <td>4</td>\n",
       "      <td>975b583f-2dbf-4ba8-9562-8d5ac7138dd1</td>\n",
       "      <td>975b5737-cf8c-4ef3-a445-7c4a71f349c5</td>\n",
       "      <td>1</td>\n",
       "      <td>0.50</td>\n",
       "    </tr>\n",
       "    <tr>\n",
       "      <th>3</th>\n",
       "      <td>00eca381-39b9-4fef-bd3e-954f4dd0ec80</td>\n",
       "      <td>976744f0-20ac-4dd5-a06a-6a1ee9ffa7b5</td>\n",
       "      <td>2023-05-31 14:53:13+03:00</td>\n",
       "      <td>5.50</td>\n",
       "      <td>1</td>\n",
       "      <td>2</td>\n",
       "      <td>4</td>\n",
       "      <td>975b583e-8e4e-4500-b416-e77dd352726a</td>\n",
       "      <td>975b5737-c982-4e3f-9faf-083ca9dc56ac</td>\n",
       "      <td>1</td>\n",
       "      <td>5.00</td>\n",
       "    </tr>\n",
       "    <tr>\n",
       "      <th>4</th>\n",
       "      <td>00eca381-39b9-4fef-bd3e-954f4dd0ec80</td>\n",
       "      <td>976744f0-20ac-4dd5-a06a-6a1ee9ffa7b5</td>\n",
       "      <td>2023-05-31 14:53:13+03:00</td>\n",
       "      <td>5.50</td>\n",
       "      <td>1</td>\n",
       "      <td>2</td>\n",
       "      <td>4</td>\n",
       "      <td>975b583e-9f6f-4821-96ab-13e3fc617059</td>\n",
       "      <td>975b5737-cad1-4031-9319-5e3a7addba42</td>\n",
       "      <td>1</td>\n",
       "      <td>0.50</td>\n",
       "    </tr>\n",
       "  </tbody>\n",
       "</table>\n",
       "</div>"
      ],
      "text/plain": [
       "                               order_id                             branch_id  \\\n",
       "0  002a98cc-a2d9-4984-a77c-3db0731046ee  975b3d24-cb71-4df8-930e-054bcd67f90c   \n",
       "1  00469526-f206-4d25-96b0-dd1e7243254f  975b3d24-cb71-4df8-930e-054bcd67f90c   \n",
       "2  00469526-f206-4d25-96b0-dd1e7243254f  975b3d24-cb71-4df8-930e-054bcd67f90c   \n",
       "3  00eca381-39b9-4fef-bd3e-954f4dd0ec80  976744f0-20ac-4dd5-a06a-6a1ee9ffa7b5   \n",
       "4  00eca381-39b9-4fef-bd3e-954f4dd0ec80  976744f0-20ac-4dd5-a06a-6a1ee9ffa7b5   \n",
       "\n",
       "                  order_date  order_total_price  order_source  order_type  \\\n",
       "0  2023-05-31 17:43:54+03:00               5.25             1           2   \n",
       "1  2023-05-31 14:49:19+03:00               5.50             1           2   \n",
       "2  2023-05-31 14:49:19+03:00               5.50             1           2   \n",
       "3  2023-05-31 14:53:13+03:00               5.50             1           2   \n",
       "4  2023-05-31 14:53:13+03:00               5.50             1           2   \n",
       "\n",
       "   order_status                            product_id  \\\n",
       "0             4  975b583e-ac20-4ed6-8ce9-4f23269e2edb   \n",
       "1             4  975b583e-8e4e-4500-b416-e77dd352726a   \n",
       "2             4  975b583f-2dbf-4ba8-9562-8d5ac7138dd1   \n",
       "3             4  975b583e-8e4e-4500-b416-e77dd352726a   \n",
       "4             4  975b583e-9f6f-4821-96ab-13e3fc617059   \n",
       "\n",
       "                            category_id  quantity  price  \n",
       "0  975b5737-c8e7-4ca6-a4b8-2c1546d5b8a1         1   5.25  \n",
       "1  975b5737-c982-4e3f-9faf-083ca9dc56ac         1   5.00  \n",
       "2  975b5737-cf8c-4ef3-a445-7c4a71f349c5         1   0.50  \n",
       "3  975b5737-c982-4e3f-9faf-083ca9dc56ac         1   5.00  \n",
       "4  975b5737-cad1-4031-9319-5e3a7addba42         1   0.50  "
      ]
     },
     "execution_count": 70,
     "metadata": {},
     "output_type": "execute_result"
    }
   ],
   "source": [
    "orders_details.head()"
   ]
  },
  {
   "cell_type": "code",
   "execution_count": 71,
   "metadata": {
    "execution": {
     "iopub.execute_input": "2023-06-01T13:30:50.441626Z",
     "iopub.status.busy": "2023-06-01T13:30:50.441087Z",
     "iopub.status.idle": "2023-06-01T13:30:50.453910Z",
     "shell.execute_reply": "2023-06-01T13:30:50.452939Z"
    }
   },
   "outputs": [
    {
     "data": {
      "text/html": [
       "<div>\n",
       "<style scoped>\n",
       "    .dataframe tbody tr th:only-of-type {\n",
       "        vertical-align: middle;\n",
       "    }\n",
       "\n",
       "    .dataframe tbody tr th {\n",
       "        vertical-align: top;\n",
       "    }\n",
       "\n",
       "    .dataframe thead th {\n",
       "        text-align: right;\n",
       "    }\n",
       "</style>\n",
       "<table border=\"1\" class=\"dataframe\">\n",
       "  <thead>\n",
       "    <tr style=\"text-align: right;\">\n",
       "      <th></th>\n",
       "      <th>order_id</th>\n",
       "      <th>product_id</th>\n",
       "      <th>category_id</th>\n",
       "      <th>quantity</th>\n",
       "      <th>price</th>\n",
       "    </tr>\n",
       "  </thead>\n",
       "  <tbody>\n",
       "    <tr>\n",
       "      <th>0</th>\n",
       "      <td>002a98cc-a2d9-4984-a77c-3db0731046ee</td>\n",
       "      <td>975b583e-ac20-4ed6-8ce9-4f23269e2edb</td>\n",
       "      <td>975b5737-c8e7-4ca6-a4b8-2c1546d5b8a1</td>\n",
       "      <td>1</td>\n",
       "      <td>5.25</td>\n",
       "    </tr>\n",
       "    <tr>\n",
       "      <th>1</th>\n",
       "      <td>00469526-f206-4d25-96b0-dd1e7243254f</td>\n",
       "      <td>975b583e-8e4e-4500-b416-e77dd352726a</td>\n",
       "      <td>975b5737-c982-4e3f-9faf-083ca9dc56ac</td>\n",
       "      <td>1</td>\n",
       "      <td>5.00</td>\n",
       "    </tr>\n",
       "    <tr>\n",
       "      <th>2</th>\n",
       "      <td>00469526-f206-4d25-96b0-dd1e7243254f</td>\n",
       "      <td>975b583f-2dbf-4ba8-9562-8d5ac7138dd1</td>\n",
       "      <td>975b5737-cf8c-4ef3-a445-7c4a71f349c5</td>\n",
       "      <td>1</td>\n",
       "      <td>0.50</td>\n",
       "    </tr>\n",
       "    <tr>\n",
       "      <th>3</th>\n",
       "      <td>00eca381-39b9-4fef-bd3e-954f4dd0ec80</td>\n",
       "      <td>975b583e-8e4e-4500-b416-e77dd352726a</td>\n",
       "      <td>975b5737-c982-4e3f-9faf-083ca9dc56ac</td>\n",
       "      <td>1</td>\n",
       "      <td>5.00</td>\n",
       "    </tr>\n",
       "    <tr>\n",
       "      <th>4</th>\n",
       "      <td>00eca381-39b9-4fef-bd3e-954f4dd0ec80</td>\n",
       "      <td>975b583e-9f6f-4821-96ab-13e3fc617059</td>\n",
       "      <td>975b5737-cad1-4031-9319-5e3a7addba42</td>\n",
       "      <td>1</td>\n",
       "      <td>0.50</td>\n",
       "    </tr>\n",
       "  </tbody>\n",
       "</table>\n",
       "</div>"
      ],
      "text/plain": [
       "                               order_id                            product_id  \\\n",
       "0  002a98cc-a2d9-4984-a77c-3db0731046ee  975b583e-ac20-4ed6-8ce9-4f23269e2edb   \n",
       "1  00469526-f206-4d25-96b0-dd1e7243254f  975b583e-8e4e-4500-b416-e77dd352726a   \n",
       "2  00469526-f206-4d25-96b0-dd1e7243254f  975b583f-2dbf-4ba8-9562-8d5ac7138dd1   \n",
       "3  00eca381-39b9-4fef-bd3e-954f4dd0ec80  975b583e-8e4e-4500-b416-e77dd352726a   \n",
       "4  00eca381-39b9-4fef-bd3e-954f4dd0ec80  975b583e-9f6f-4821-96ab-13e3fc617059   \n",
       "\n",
       "                            category_id  quantity  price  \n",
       "0  975b5737-c8e7-4ca6-a4b8-2c1546d5b8a1         1   5.25  \n",
       "1  975b5737-c982-4e3f-9faf-083ca9dc56ac         1   5.00  \n",
       "2  975b5737-cf8c-4ef3-a445-7c4a71f349c5         1   0.50  \n",
       "3  975b5737-c982-4e3f-9faf-083ca9dc56ac         1   5.00  \n",
       "4  975b5737-cad1-4031-9319-5e3a7addba42         1   0.50  "
      ]
     },
     "execution_count": 71,
     "metadata": {},
     "output_type": "execute_result"
    }
   ],
   "source": [
    "filtered_orders_details = orders_details.drop(columns=['order_date', 'order_total_price','order_source', 'order_type', 'order_status', 'branch_id'])\n",
    "filtered_orders_details.head()\n"
   ]
  },
  {
   "cell_type": "code",
   "execution_count": 72,
   "metadata": {
    "execution": {
     "iopub.execute_input": "2023-06-01T13:30:50.457754Z",
     "iopub.status.busy": "2023-06-01T13:30:50.457221Z",
     "iopub.status.idle": "2023-06-01T13:30:50.483078Z",
     "shell.execute_reply": "2023-06-01T13:30:50.482383Z"
    }
   },
   "outputs": [],
   "source": [
    "#filtered_orders_details['order_line_id'] = filtered_orders_details['order_id'] + '-' + filtered_orders_details['product_id'].apply(lambda x: x.split('-')[1]) + \n",
    "import uuid\n",
    "filtered_orders_details['order_details_id'] = [str(uuid.uuid4()) for _ in range(len(filtered_orders_details))]\n",
    "filtered_orders_details.rename(columns={'order_id':'order_header_id'}, inplace=True)"
   ]
  },
  {
   "cell_type": "code",
   "execution_count": 73,
   "metadata": {
    "execution": {
     "iopub.execute_input": "2023-06-01T13:30:50.486582Z",
     "iopub.status.busy": "2023-06-01T13:30:50.486300Z",
     "iopub.status.idle": "2023-06-01T13:30:50.498496Z",
     "shell.execute_reply": "2023-06-01T13:30:50.497528Z"
    }
   },
   "outputs": [
    {
     "data": {
      "text/html": [
       "<div>\n",
       "<style scoped>\n",
       "    .dataframe tbody tr th:only-of-type {\n",
       "        vertical-align: middle;\n",
       "    }\n",
       "\n",
       "    .dataframe tbody tr th {\n",
       "        vertical-align: top;\n",
       "    }\n",
       "\n",
       "    .dataframe thead th {\n",
       "        text-align: right;\n",
       "    }\n",
       "</style>\n",
       "<table border=\"1\" class=\"dataframe\">\n",
       "  <thead>\n",
       "    <tr style=\"text-align: right;\">\n",
       "      <th></th>\n",
       "      <th>order_header_id</th>\n",
       "      <th>product_id</th>\n",
       "      <th>category_id</th>\n",
       "      <th>quantity</th>\n",
       "      <th>price</th>\n",
       "      <th>order_details_id</th>\n",
       "    </tr>\n",
       "  </thead>\n",
       "  <tbody>\n",
       "    <tr>\n",
       "      <th>0</th>\n",
       "      <td>002a98cc-a2d9-4984-a77c-3db0731046ee</td>\n",
       "      <td>975b583e-ac20-4ed6-8ce9-4f23269e2edb</td>\n",
       "      <td>975b5737-c8e7-4ca6-a4b8-2c1546d5b8a1</td>\n",
       "      <td>1</td>\n",
       "      <td>5.25</td>\n",
       "      <td>07351fed-a2ad-4683-b565-2356c030baab</td>\n",
       "    </tr>\n",
       "    <tr>\n",
       "      <th>1</th>\n",
       "      <td>00469526-f206-4d25-96b0-dd1e7243254f</td>\n",
       "      <td>975b583e-8e4e-4500-b416-e77dd352726a</td>\n",
       "      <td>975b5737-c982-4e3f-9faf-083ca9dc56ac</td>\n",
       "      <td>1</td>\n",
       "      <td>5.00</td>\n",
       "      <td>f243e540-46d7-4f87-bfd1-2cca9491c105</td>\n",
       "    </tr>\n",
       "    <tr>\n",
       "      <th>2</th>\n",
       "      <td>00469526-f206-4d25-96b0-dd1e7243254f</td>\n",
       "      <td>975b583f-2dbf-4ba8-9562-8d5ac7138dd1</td>\n",
       "      <td>975b5737-cf8c-4ef3-a445-7c4a71f349c5</td>\n",
       "      <td>1</td>\n",
       "      <td>0.50</td>\n",
       "      <td>71d8a1e5-8ef0-47b2-86ba-621d395e7d7b</td>\n",
       "    </tr>\n",
       "    <tr>\n",
       "      <th>3</th>\n",
       "      <td>00eca381-39b9-4fef-bd3e-954f4dd0ec80</td>\n",
       "      <td>975b583e-8e4e-4500-b416-e77dd352726a</td>\n",
       "      <td>975b5737-c982-4e3f-9faf-083ca9dc56ac</td>\n",
       "      <td>1</td>\n",
       "      <td>5.00</td>\n",
       "      <td>67222697-ee49-461e-b70d-16a56180e175</td>\n",
       "    </tr>\n",
       "    <tr>\n",
       "      <th>4</th>\n",
       "      <td>00eca381-39b9-4fef-bd3e-954f4dd0ec80</td>\n",
       "      <td>975b583e-9f6f-4821-96ab-13e3fc617059</td>\n",
       "      <td>975b5737-cad1-4031-9319-5e3a7addba42</td>\n",
       "      <td>1</td>\n",
       "      <td>0.50</td>\n",
       "      <td>76b654c0-2908-424f-8315-ed2cdb8d4842</td>\n",
       "    </tr>\n",
       "  </tbody>\n",
       "</table>\n",
       "</div>"
      ],
      "text/plain": [
       "                        order_header_id                            product_id  \\\n",
       "0  002a98cc-a2d9-4984-a77c-3db0731046ee  975b583e-ac20-4ed6-8ce9-4f23269e2edb   \n",
       "1  00469526-f206-4d25-96b0-dd1e7243254f  975b583e-8e4e-4500-b416-e77dd352726a   \n",
       "2  00469526-f206-4d25-96b0-dd1e7243254f  975b583f-2dbf-4ba8-9562-8d5ac7138dd1   \n",
       "3  00eca381-39b9-4fef-bd3e-954f4dd0ec80  975b583e-8e4e-4500-b416-e77dd352726a   \n",
       "4  00eca381-39b9-4fef-bd3e-954f4dd0ec80  975b583e-9f6f-4821-96ab-13e3fc617059   \n",
       "\n",
       "                            category_id  quantity  price  \\\n",
       "0  975b5737-c8e7-4ca6-a4b8-2c1546d5b8a1         1   5.25   \n",
       "1  975b5737-c982-4e3f-9faf-083ca9dc56ac         1   5.00   \n",
       "2  975b5737-cf8c-4ef3-a445-7c4a71f349c5         1   0.50   \n",
       "3  975b5737-c982-4e3f-9faf-083ca9dc56ac         1   5.00   \n",
       "4  975b5737-cad1-4031-9319-5e3a7addba42         1   0.50   \n",
       "\n",
       "                       order_details_id  \n",
       "0  07351fed-a2ad-4683-b565-2356c030baab  \n",
       "1  f243e540-46d7-4f87-bfd1-2cca9491c105  \n",
       "2  71d8a1e5-8ef0-47b2-86ba-621d395e7d7b  \n",
       "3  67222697-ee49-461e-b70d-16a56180e175  \n",
       "4  76b654c0-2908-424f-8315-ed2cdb8d4842  "
      ]
     },
     "execution_count": 73,
     "metadata": {},
     "output_type": "execute_result"
    }
   ],
   "source": [
    "filtered_orders_details.head()"
   ]
  },
  {
   "cell_type": "code",
   "execution_count": 74,
   "metadata": {
    "execution": {
     "iopub.execute_input": "2023-06-01T13:30:50.502379Z",
     "iopub.status.busy": "2023-06-01T13:30:50.501580Z",
     "iopub.status.idle": "2023-06-01T13:30:50.509666Z",
     "shell.execute_reply": "2023-06-01T13:30:50.508810Z"
    }
   },
   "outputs": [],
   "source": [
    "filtered_orders_details.drop_duplicates(inplace=True)"
   ]
  },
  {
   "cell_type": "code",
   "execution_count": 75,
   "metadata": {
    "execution": {
     "iopub.execute_input": "2023-06-01T13:30:50.513337Z",
     "iopub.status.busy": "2023-06-01T13:30:50.513041Z",
     "iopub.status.idle": "2023-06-01T13:30:50.526985Z",
     "shell.execute_reply": "2023-06-01T13:30:50.526189Z"
    }
   },
   "outputs": [],
   "source": [
    "filtered_orders_details.to_csv('../../data/processed/updates/order_details.csv', index=False)"
   ]
  },
  {
   "attachments": {},
   "cell_type": "markdown",
   "metadata": {},
   "source": [
    "# Products"
   ]
  },
  {
   "cell_type": "code",
   "execution_count": 76,
   "metadata": {
    "execution": {
     "iopub.execute_input": "2023-06-01T13:30:50.530357Z",
     "iopub.status.busy": "2023-06-01T13:30:50.529963Z",
     "iopub.status.idle": "2023-06-01T13:30:50.542510Z",
     "shell.execute_reply": "2023-06-01T13:30:50.541524Z"
    }
   },
   "outputs": [
    {
     "data": {
      "text/html": [
       "<div>\n",
       "<style scoped>\n",
       "    .dataframe tbody tr th:only-of-type {\n",
       "        vertical-align: middle;\n",
       "    }\n",
       "\n",
       "    .dataframe tbody tr th {\n",
       "        vertical-align: top;\n",
       "    }\n",
       "\n",
       "    .dataframe thead th {\n",
       "        text-align: right;\n",
       "    }\n",
       "</style>\n",
       "<table border=\"1\" class=\"dataframe\">\n",
       "  <thead>\n",
       "    <tr style=\"text-align: right;\">\n",
       "      <th></th>\n",
       "      <th>product_id</th>\n",
       "      <th>product_sku</th>\n",
       "      <th>product_name</th>\n",
       "      <th>category_name</th>\n",
       "      <th>category_id</th>\n",
       "      <th>is_active</th>\n",
       "      <th>is_stock_product</th>\n",
       "      <th>price</th>\n",
       "    </tr>\n",
       "  </thead>\n",
       "  <tbody>\n",
       "    <tr>\n",
       "      <th>0</th>\n",
       "      <td>975b583e-8e4e-4500-b416-e77dd352726a</td>\n",
       "      <td>psk-14</td>\n",
       "      <td>تشكس فرايز زنجر</td>\n",
       "      <td>Fries</td>\n",
       "      <td>975b5737-c982-4e3f-9faf-083ca9dc56ac</td>\n",
       "      <td>True</td>\n",
       "      <td>False</td>\n",
       "      <td>5.00</td>\n",
       "    </tr>\n",
       "    <tr>\n",
       "      <th>1</th>\n",
       "      <td>975b583e-90a9-420a-804e-b41dddbe0971</td>\n",
       "      <td>psk-5</td>\n",
       "      <td>كلاسيك</td>\n",
       "      <td>Shawarma</td>\n",
       "      <td>975b5737-c8e7-4ca6-a4b8-2c1546d5b8a1</td>\n",
       "      <td>True</td>\n",
       "      <td>False</td>\n",
       "      <td>1.50</td>\n",
       "    </tr>\n",
       "    <tr>\n",
       "      <th>2</th>\n",
       "      <td>975b583e-90af-4319-87d3-022d8f1936d4</td>\n",
       "      <td>psk-13</td>\n",
       "      <td>تشكس ستريبس</td>\n",
       "      <td>Chicken burger</td>\n",
       "      <td>975b5737-ccc4-4c1f-8599-5e246eee4a3b</td>\n",
       "      <td>True</td>\n",
       "      <td>False</td>\n",
       "      <td>4.50</td>\n",
       "    </tr>\n",
       "    <tr>\n",
       "      <th>3</th>\n",
       "      <td>975b583e-9145-4e05-90e7-9fa596c38888</td>\n",
       "      <td>psk-16</td>\n",
       "      <td>فرايز باجبنة</td>\n",
       "      <td>Fries</td>\n",
       "      <td>975b5737-c982-4e3f-9faf-083ca9dc56ac</td>\n",
       "      <td>True</td>\n",
       "      <td>False</td>\n",
       "      <td>2.50</td>\n",
       "    </tr>\n",
       "    <tr>\n",
       "      <th>4</th>\n",
       "      <td>975b583e-91e6-424e-851d-4de6a37813f5</td>\n",
       "      <td>psk-9</td>\n",
       "      <td>اربيان دجاج l</td>\n",
       "      <td>Shawarma</td>\n",
       "      <td>975b5737-c8e7-4ca6-a4b8-2c1546d5b8a1</td>\n",
       "      <td>True</td>\n",
       "      <td>False</td>\n",
       "      <td>3.75</td>\n",
       "    </tr>\n",
       "  </tbody>\n",
       "</table>\n",
       "</div>"
      ],
      "text/plain": [
       "                             product_id product_sku     product_name  \\\n",
       "0  975b583e-8e4e-4500-b416-e77dd352726a      psk-14  تشكس فرايز زنجر   \n",
       "1  975b583e-90a9-420a-804e-b41dddbe0971       psk-5           كلاسيك   \n",
       "2  975b583e-90af-4319-87d3-022d8f1936d4      psk-13      تشكس ستريبس   \n",
       "3  975b583e-9145-4e05-90e7-9fa596c38888      psk-16     فرايز باجبنة   \n",
       "4  975b583e-91e6-424e-851d-4de6a37813f5       psk-9    اربيان دجاج l   \n",
       "\n",
       "    category_name                           category_id  is_active  \\\n",
       "0           Fries  975b5737-c982-4e3f-9faf-083ca9dc56ac       True   \n",
       "1        Shawarma  975b5737-c8e7-4ca6-a4b8-2c1546d5b8a1       True   \n",
       "2  Chicken burger  975b5737-ccc4-4c1f-8599-5e246eee4a3b       True   \n",
       "3           Fries  975b5737-c982-4e3f-9faf-083ca9dc56ac       True   \n",
       "4        Shawarma  975b5737-c8e7-4ca6-a4b8-2c1546d5b8a1       True   \n",
       "\n",
       "   is_stock_product  price  \n",
       "0             False   5.00  \n",
       "1             False   1.50  \n",
       "2             False   4.50  \n",
       "3             False   2.50  \n",
       "4             False   3.75  "
      ]
     },
     "execution_count": 76,
     "metadata": {},
     "output_type": "execute_result"
    }
   ],
   "source": [
    "products.head()"
   ]
  },
  {
   "cell_type": "code",
   "execution_count": 77,
   "metadata": {
    "execution": {
     "iopub.execute_input": "2023-06-01T13:30:50.546228Z",
     "iopub.status.busy": "2023-06-01T13:30:50.545706Z",
     "iopub.status.idle": "2023-06-01T13:30:50.557676Z",
     "shell.execute_reply": "2023-06-01T13:30:50.556818Z"
    }
   },
   "outputs": [
    {
     "data": {
      "text/html": [
       "<div>\n",
       "<style scoped>\n",
       "    .dataframe tbody tr th:only-of-type {\n",
       "        vertical-align: middle;\n",
       "    }\n",
       "\n",
       "    .dataframe tbody tr th {\n",
       "        vertical-align: top;\n",
       "    }\n",
       "\n",
       "    .dataframe thead th {\n",
       "        text-align: right;\n",
       "    }\n",
       "</style>\n",
       "<table border=\"1\" class=\"dataframe\">\n",
       "  <thead>\n",
       "    <tr style=\"text-align: right;\">\n",
       "      <th></th>\n",
       "      <th>product_id</th>\n",
       "      <th>product_sku</th>\n",
       "      <th>product_name</th>\n",
       "      <th>category_name</th>\n",
       "      <th>category_id</th>\n",
       "      <th>is_active</th>\n",
       "      <th>is_stock_product</th>\n",
       "      <th>price</th>\n",
       "    </tr>\n",
       "  </thead>\n",
       "  <tbody>\n",
       "    <tr>\n",
       "      <th>0</th>\n",
       "      <td>975b583e-8e4e-4500-b416-e77dd352726a</td>\n",
       "      <td>psk-14</td>\n",
       "      <td>تشكس فرايز زنجر</td>\n",
       "      <td>Fries</td>\n",
       "      <td>975b5737-c982-4e3f-9faf-083ca9dc56ac</td>\n",
       "      <td>True</td>\n",
       "      <td>False</td>\n",
       "      <td>5.00</td>\n",
       "    </tr>\n",
       "    <tr>\n",
       "      <th>1</th>\n",
       "      <td>975b583e-90a9-420a-804e-b41dddbe0971</td>\n",
       "      <td>psk-5</td>\n",
       "      <td>كلاسيك</td>\n",
       "      <td>Shawarma</td>\n",
       "      <td>975b5737-c8e7-4ca6-a4b8-2c1546d5b8a1</td>\n",
       "      <td>True</td>\n",
       "      <td>False</td>\n",
       "      <td>1.50</td>\n",
       "    </tr>\n",
       "    <tr>\n",
       "      <th>2</th>\n",
       "      <td>975b583e-90af-4319-87d3-022d8f1936d4</td>\n",
       "      <td>psk-13</td>\n",
       "      <td>تشكس ستريبس</td>\n",
       "      <td>Chicken burger</td>\n",
       "      <td>975b5737-ccc4-4c1f-8599-5e246eee4a3b</td>\n",
       "      <td>True</td>\n",
       "      <td>False</td>\n",
       "      <td>4.50</td>\n",
       "    </tr>\n",
       "    <tr>\n",
       "      <th>3</th>\n",
       "      <td>975b583e-9145-4e05-90e7-9fa596c38888</td>\n",
       "      <td>psk-16</td>\n",
       "      <td>فرايز باجبنة</td>\n",
       "      <td>Fries</td>\n",
       "      <td>975b5737-c982-4e3f-9faf-083ca9dc56ac</td>\n",
       "      <td>True</td>\n",
       "      <td>False</td>\n",
       "      <td>2.50</td>\n",
       "    </tr>\n",
       "    <tr>\n",
       "      <th>4</th>\n",
       "      <td>975b583e-91e6-424e-851d-4de6a37813f5</td>\n",
       "      <td>psk-9</td>\n",
       "      <td>اربيان دجاج l</td>\n",
       "      <td>Shawarma</td>\n",
       "      <td>975b5737-c8e7-4ca6-a4b8-2c1546d5b8a1</td>\n",
       "      <td>True</td>\n",
       "      <td>False</td>\n",
       "      <td>3.75</td>\n",
       "    </tr>\n",
       "  </tbody>\n",
       "</table>\n",
       "</div>"
      ],
      "text/plain": [
       "                             product_id product_sku     product_name  \\\n",
       "0  975b583e-8e4e-4500-b416-e77dd352726a      psk-14  تشكس فرايز زنجر   \n",
       "1  975b583e-90a9-420a-804e-b41dddbe0971       psk-5           كلاسيك   \n",
       "2  975b583e-90af-4319-87d3-022d8f1936d4      psk-13      تشكس ستريبس   \n",
       "3  975b583e-9145-4e05-90e7-9fa596c38888      psk-16     فرايز باجبنة   \n",
       "4  975b583e-91e6-424e-851d-4de6a37813f5       psk-9    اربيان دجاج l   \n",
       "\n",
       "    category_name                           category_id  is_active  \\\n",
       "0           Fries  975b5737-c982-4e3f-9faf-083ca9dc56ac       True   \n",
       "1        Shawarma  975b5737-c8e7-4ca6-a4b8-2c1546d5b8a1       True   \n",
       "2  Chicken burger  975b5737-ccc4-4c1f-8599-5e246eee4a3b       True   \n",
       "3           Fries  975b5737-c982-4e3f-9faf-083ca9dc56ac       True   \n",
       "4        Shawarma  975b5737-c8e7-4ca6-a4b8-2c1546d5b8a1       True   \n",
       "\n",
       "   is_stock_product  price  \n",
       "0             False   5.00  \n",
       "1             False   1.50  \n",
       "2             False   4.50  \n",
       "3             False   2.50  \n",
       "4             False   3.75  "
      ]
     },
     "execution_count": 77,
     "metadata": {},
     "output_type": "execute_result"
    }
   ],
   "source": [
    "products.head()"
   ]
  },
  {
   "cell_type": "code",
   "execution_count": 78,
   "metadata": {
    "execution": {
     "iopub.execute_input": "2023-06-01T13:30:50.561339Z",
     "iopub.status.busy": "2023-06-01T13:30:50.560845Z",
     "iopub.status.idle": "2023-06-01T13:30:50.567750Z",
     "shell.execute_reply": "2023-06-01T13:30:50.566825Z"
    }
   },
   "outputs": [
    {
     "data": {
      "text/plain": [
       "array(['تشكس فرايز زنجر', 'كلاسيك', 'تشكس ستريبس', 'فرايز باجبنة',\n",
       "       'اربيان دجاج l', 'تشكس برجر', 'تشيزي', 'اوريجنال', 'بيج ميل',\n",
       "       'فرايز', 'ديبي برجر', 'تشكس فرايز شاورما', 'موهيتو', 'كوكتيل',\n",
       "       'برو', 'هوت دجاج', 'ذا بارتي', 'بيبسي', 'اربيان دجاج xl',\n",
       "       'شيك دجاج', 'مياه', 'سفن', 'هوت صوص', 'مرندا', 'بيبسي دايت', 'ثوم',\n",
       "       'سفن دايت', 'مخلل', 'جبنة', 'تشكس صوص', 'رانش', 'دبس رمان',\n",
       "       'راب شيكس', 'صوص ثوم حار', 'فرشلي', '5 اوريجنال عرض كريم 5JD',\n",
       "       'عرض بيج شيكس / عائلية  / 10JOD', 'عرض 2 وجبة لاج دجاج 5 د',\n",
       "       'وجبة مشاركة شاورما +زنجر + 2 بيبسي // كريم+ طلبات',\n",
       "       'وجبة مشاركة برغر + زنجر + 2 بيبسي // كريم+ طلبات', 'وجبة موظفين',\n",
       "       'عصير موسمي', 'وجبة لارج', 'بيج شيكس عرض فوديز 9 د',\n",
       "       'وجبة مشاركة برجر عرض 10 د', 'عرض وجبة عائلية 10د',\n",
       "       'عرض وجبة الاصدقاء  / مشاركة شاورما 6.500 JOD',\n",
       "       'عرض كريم 2 وجبة لارج 5 د', 'عرض كريم XL اربيان 50%',\n",
       "       'عرض كريم 2 اورجينال+1 بطاط +1 بيبسي',\n",
       "       'شيكس برغر / طلبات /  بيبسي +بطاطا',\n",
       "       'دبي برغر / طلبات /  بيبسي +بطاطا',\n",
       "       'وجبة مشاركة شاورما + 2 بيبسي  // 8JD',\n",
       "       'وجبة مشاركة برغر  + 2 بيبسي  // 10JD',\n",
       "       'شاورما بيج 12 د / عرض كريم'], dtype=object)"
      ]
     },
     "execution_count": 78,
     "metadata": {},
     "output_type": "execute_result"
    }
   ],
   "source": [
    "products.product_name.unique()"
   ]
  },
  {
   "cell_type": "code",
   "execution_count": 79,
   "metadata": {
    "execution": {
     "iopub.execute_input": "2023-06-01T13:30:50.571130Z",
     "iopub.status.busy": "2023-06-01T13:30:50.570862Z",
     "iopub.status.idle": "2023-06-01T13:30:50.577113Z",
     "shell.execute_reply": "2023-06-01T13:30:50.576230Z"
    }
   },
   "outputs": [
    {
     "data": {
      "text/plain": [
       "array(['psk-14', 'psk-5', 'psk-13', 'psk-16', 'psk-9', 'psk-11', 'psk-6',\n",
       "       'psk-4', 'psk-8', 'psk-17', 'psk-12', 'psk-15', 'psk-20', 'psk-18',\n",
       "       'psk-3', 'psk-2', 'psk-19', 'psk-21', 'psk-10', 'psk-7', 'psk-26',\n",
       "       'psk-23', 'psk-30', 'psk-25', 'psk-22', 'psk-29', 'psk-24',\n",
       "       'psk-28', 'psk-32', 'psk-27', 'psk-31', 'psk-33', 'sk-0106',\n",
       "       'sk-0107', 'sk-0108', 'sk-0109', 'sk-0110', 'sk-0111', 'sk-0112',\n",
       "       'sk-0113', 'sk-0114', 'sk-0115', 'sk-0116', 'sk-0117', 'sk-0118',\n",
       "       'sk-0119', 'sk-0120', 'sk-0121', 'sk-0122', 'sk-0123', 'sk-0124',\n",
       "       'sk-0125', 'sk-0126', 'sk-0128', 'sk-0129', 'sk-0130'],\n",
       "      dtype=object)"
      ]
     },
     "execution_count": 79,
     "metadata": {},
     "output_type": "execute_result"
    }
   ],
   "source": [
    "products.product_sku.unique()"
   ]
  },
  {
   "cell_type": "code",
   "execution_count": 80,
   "metadata": {
    "execution": {
     "iopub.execute_input": "2023-06-01T13:30:50.580809Z",
     "iopub.status.busy": "2023-06-01T13:30:50.580296Z",
     "iopub.status.idle": "2023-06-01T13:30:50.586435Z",
     "shell.execute_reply": "2023-06-01T13:30:50.585525Z"
    }
   },
   "outputs": [
    {
     "data": {
      "text/plain": [
       "56"
      ]
     },
     "execution_count": 80,
     "metadata": {},
     "output_type": "execute_result"
    }
   ],
   "source": [
    "products.product_sku.nunique()"
   ]
  },
  {
   "cell_type": "code",
   "execution_count": 81,
   "metadata": {
    "execution": {
     "iopub.execute_input": "2023-06-01T13:30:50.590303Z",
     "iopub.status.busy": "2023-06-01T13:30:50.589544Z",
     "iopub.status.idle": "2023-06-01T13:30:50.595875Z",
     "shell.execute_reply": "2023-06-01T13:30:50.595042Z"
    }
   },
   "outputs": [],
   "source": [
    "products.to_csv('../../data/processed/updates/products.csv', index=False)"
   ]
  },
  {
   "attachments": {},
   "cell_type": "markdown",
   "metadata": {},
   "source": [
    "# Branches"
   ]
  },
  {
   "cell_type": "code",
   "execution_count": 82,
   "metadata": {
    "execution": {
     "iopub.execute_input": "2023-06-01T13:30:50.599501Z",
     "iopub.status.busy": "2023-06-01T13:30:50.599241Z",
     "iopub.status.idle": "2023-06-01T13:30:50.608656Z",
     "shell.execute_reply": "2023-06-01T13:30:50.607812Z"
    }
   },
   "outputs": [
    {
     "data": {
      "text/html": [
       "<div>\n",
       "<style scoped>\n",
       "    .dataframe tbody tr th:only-of-type {\n",
       "        vertical-align: middle;\n",
       "    }\n",
       "\n",
       "    .dataframe tbody tr th {\n",
       "        vertical-align: top;\n",
       "    }\n",
       "\n",
       "    .dataframe thead th {\n",
       "        text-align: right;\n",
       "    }\n",
       "</style>\n",
       "<table border=\"1\" class=\"dataframe\">\n",
       "  <thead>\n",
       "    <tr style=\"text-align: right;\">\n",
       "      <th></th>\n",
       "      <th>branch_id</th>\n",
       "      <th>branch_name</th>\n",
       "      <th>opening_from</th>\n",
       "      <th>opening_to</th>\n",
       "    </tr>\n",
       "  </thead>\n",
       "  <tbody>\n",
       "    <tr>\n",
       "      <th>0</th>\n",
       "      <td>975b3d24-cb71-4df8-930e-054bcd67f90c</td>\n",
       "      <td>4Chicks Abdoun</td>\n",
       "      <td>09:00</td>\n",
       "      <td>03:00</td>\n",
       "    </tr>\n",
       "    <tr>\n",
       "      <th>1</th>\n",
       "      <td>975b3d24-ce3d-4801-9c11-582a817cc591</td>\n",
       "      <td>4Chicks 7th circle</td>\n",
       "      <td>10:00</td>\n",
       "      <td>03:00</td>\n",
       "    </tr>\n",
       "    <tr>\n",
       "      <th>2</th>\n",
       "      <td>976744f0-20ac-4dd5-a06a-6a1ee9ffa7b5</td>\n",
       "      <td>4Chicks Al-Jubeha</td>\n",
       "      <td>10:00</td>\n",
       "      <td>03:00</td>\n",
       "    </tr>\n",
       "  </tbody>\n",
       "</table>\n",
       "</div>"
      ],
      "text/plain": [
       "                              branch_id         branch_name opening_from  \\\n",
       "0  975b3d24-cb71-4df8-930e-054bcd67f90c      4Chicks Abdoun        09:00   \n",
       "1  975b3d24-ce3d-4801-9c11-582a817cc591  4Chicks 7th circle        10:00   \n",
       "2  976744f0-20ac-4dd5-a06a-6a1ee9ffa7b5   4Chicks Al-Jubeha        10:00   \n",
       "\n",
       "  opening_to  \n",
       "0      03:00  \n",
       "1      03:00  \n",
       "2      03:00  "
      ]
     },
     "execution_count": 82,
     "metadata": {},
     "output_type": "execute_result"
    }
   ],
   "source": [
    "branches.head()"
   ]
  },
  {
   "cell_type": "code",
   "execution_count": 83,
   "metadata": {
    "execution": {
     "iopub.execute_input": "2023-06-01T13:30:50.612172Z",
     "iopub.status.busy": "2023-06-01T13:30:50.611889Z",
     "iopub.status.idle": "2023-06-01T13:30:50.620877Z",
     "shell.execute_reply": "2023-06-01T13:30:50.620244Z"
    }
   },
   "outputs": [],
   "source": [
    "branches['opening_from'] = pd.to_datetime(branches['opening_from'])\n",
    "branches['opening_to'] = pd.to_datetime(branches['opening_to'])\n",
    "\n",
    "branches['opening_from'] = branches['opening_from'].dt.hour\n",
    "branches['opening_to'] = branches['opening_to'].dt.hour"
   ]
  },
  {
   "cell_type": "code",
   "execution_count": 84,
   "metadata": {
    "execution": {
     "iopub.execute_input": "2023-06-01T13:30:50.624529Z",
     "iopub.status.busy": "2023-06-01T13:30:50.624060Z",
     "iopub.status.idle": "2023-06-01T13:30:50.628876Z",
     "shell.execute_reply": "2023-06-01T13:30:50.628297Z"
    }
   },
   "outputs": [],
   "source": [
    "branches.to_csv('../../data/processed/updates/branches.csv', index=False)"
   ]
  },
  {
   "attachments": {},
   "cell_type": "markdown",
   "metadata": {},
   "source": [
    "# Categories"
   ]
  },
  {
   "cell_type": "code",
   "execution_count": 85,
   "metadata": {
    "execution": {
     "iopub.execute_input": "2023-06-01T13:30:50.632415Z",
     "iopub.status.busy": "2023-06-01T13:30:50.632153Z",
     "iopub.status.idle": "2023-06-01T13:30:50.640773Z",
     "shell.execute_reply": "2023-06-01T13:30:50.639869Z"
    }
   },
   "outputs": [
    {
     "data": {
      "text/html": [
       "<div>\n",
       "<style scoped>\n",
       "    .dataframe tbody tr th:only-of-type {\n",
       "        vertical-align: middle;\n",
       "    }\n",
       "\n",
       "    .dataframe tbody tr th {\n",
       "        vertical-align: top;\n",
       "    }\n",
       "\n",
       "    .dataframe thead th {\n",
       "        text-align: right;\n",
       "    }\n",
       "</style>\n",
       "<table border=\"1\" class=\"dataframe\">\n",
       "  <thead>\n",
       "    <tr style=\"text-align: right;\">\n",
       "      <th></th>\n",
       "      <th>category_id</th>\n",
       "      <th>category_name</th>\n",
       "    </tr>\n",
       "  </thead>\n",
       "  <tbody>\n",
       "    <tr>\n",
       "      <th>0</th>\n",
       "      <td>975b5737-c8e7-4ca6-a4b8-2c1546d5b8a1</td>\n",
       "      <td>Shawarma</td>\n",
       "    </tr>\n",
       "    <tr>\n",
       "      <th>1</th>\n",
       "      <td>975b5737-c982-4e3f-9faf-083ca9dc56ac</td>\n",
       "      <td>Fries</td>\n",
       "    </tr>\n",
       "    <tr>\n",
       "      <th>2</th>\n",
       "      <td>975b5737-cad1-4031-9319-5e3a7addba42</td>\n",
       "      <td>Drinks</td>\n",
       "    </tr>\n",
       "    <tr>\n",
       "      <th>3</th>\n",
       "      <td>975b5737-ccc4-4c1f-8599-5e246eee4a3b</td>\n",
       "      <td>Chicken burger</td>\n",
       "    </tr>\n",
       "    <tr>\n",
       "      <th>4</th>\n",
       "      <td>975b5737-cf8c-4ef3-a445-7c4a71f349c5</td>\n",
       "      <td>Sauces</td>\n",
       "    </tr>\n",
       "    <tr>\n",
       "      <th>5</th>\n",
       "      <td>975b5737-d227-4b7c-9962-3a7b09103597</td>\n",
       "      <td>Juices</td>\n",
       "    </tr>\n",
       "  </tbody>\n",
       "</table>\n",
       "</div>"
      ],
      "text/plain": [
       "                            category_id   category_name\n",
       "0  975b5737-c8e7-4ca6-a4b8-2c1546d5b8a1        Shawarma\n",
       "1  975b5737-c982-4e3f-9faf-083ca9dc56ac           Fries\n",
       "2  975b5737-cad1-4031-9319-5e3a7addba42          Drinks\n",
       "3  975b5737-ccc4-4c1f-8599-5e246eee4a3b  Chicken burger\n",
       "4  975b5737-cf8c-4ef3-a445-7c4a71f349c5          Sauces\n",
       "5  975b5737-d227-4b7c-9962-3a7b09103597          Juices"
      ]
     },
     "execution_count": 85,
     "metadata": {},
     "output_type": "execute_result"
    }
   ],
   "source": [
    "categories"
   ]
  },
  {
   "cell_type": "code",
   "execution_count": 86,
   "metadata": {
    "execution": {
     "iopub.execute_input": "2023-06-01T13:30:50.644543Z",
     "iopub.status.busy": "2023-06-01T13:30:50.644027Z",
     "iopub.status.idle": "2023-06-01T13:30:50.649240Z",
     "shell.execute_reply": "2023-06-01T13:30:50.648627Z"
    }
   },
   "outputs": [],
   "source": [
    "categories.to_csv('../../data/processed/updates/categories.csv', index=False)"
   ]
  },
  {
   "cell_type": "code",
   "execution_count": 87,
   "metadata": {
    "execution": {
     "iopub.execute_input": "2023-06-01T13:30:50.652622Z",
     "iopub.status.busy": "2023-06-01T13:30:50.652349Z",
     "iopub.status.idle": "2023-06-01T13:30:50.656054Z",
     "shell.execute_reply": "2023-06-01T13:30:50.655109Z"
    }
   },
   "outputs": [],
   "source": [
    "# def check_values_exist(list1, list2):\n",
    "#     return all(value in list2 for value in list1)\n",
    "\n",
    "# check_values_exist(products.category_id.unique(), categories.category_id.unique())"
   ]
  }
 ],
 "metadata": {
  "kernelspec": {
   "display_name": ".venv",
   "language": "python",
   "name": "python3"
  },
  "language_info": {
   "codemirror_mode": {
    "name": "ipython",
    "version": 3
   },
   "file_extension": ".py",
   "mimetype": "text/x-python",
   "name": "python",
   "nbconvert_exporter": "python",
   "pygments_lexer": "ipython3",
   "version": "3.10.11"
  }
 },
 "nbformat": 4,
 "nbformat_minor": 2
}
