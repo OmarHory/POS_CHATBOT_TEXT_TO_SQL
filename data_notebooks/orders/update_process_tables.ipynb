{
 "cells": [
  {
   "cell_type": "code",
   "execution_count": 1,
   "metadata": {
    "execution": {
     "iopub.execute_input": "2023-06-01T11:43:12.463746Z",
     "iopub.status.busy": "2023-06-01T11:43:12.463426Z",
     "iopub.status.idle": "2023-06-01T11:43:12.790127Z",
     "shell.execute_reply": "2023-06-01T11:43:12.789283Z"
    }
   },
   "outputs": [],
   "source": [
    "import pandas as pd\n"
   ]
  },
  {
   "cell_type": "code",
   "execution_count": 2,
   "metadata": {
    "execution": {
     "iopub.execute_input": "2023-06-01T11:43:12.793821Z",
     "iopub.status.busy": "2023-06-01T11:43:12.793472Z",
     "iopub.status.idle": "2023-06-01T11:43:12.814337Z",
     "shell.execute_reply": "2023-06-01T11:43:12.813519Z"
    }
   },
   "outputs": [],
   "source": [
    "#read all data\n",
    "orders_header = pd.read_csv('../../data/updates/order_header.csv')\n",
    "orders_details = pd.read_csv('../../data/updates/order_details.csv')\n",
    "products = pd.read_csv('../../data/updates/products.csv')\n",
    "\n",
    "payment_methods = pd.read_csv('../../data/updates/payment_methods.csv')\n",
    "branches = pd.read_csv('../../data/updates/branches.csv')\n",
    "categories = pd.read_csv('../../data/updates/categories.csv')\n",
    "\n",
    "\n",
    "\n",
    "\n"
   ]
  },
  {
   "attachments": {},
   "cell_type": "markdown",
   "metadata": {},
   "source": [
    "# Orders Headers"
   ]
  },
  {
   "cell_type": "code",
   "execution_count": 3,
   "metadata": {
    "execution": {
     "iopub.execute_input": "2023-06-01T11:43:12.817902Z",
     "iopub.status.busy": "2023-06-01T11:43:12.817439Z",
     "iopub.status.idle": "2023-06-01T11:43:12.832753Z",
     "shell.execute_reply": "2023-06-01T11:43:12.831826Z"
    }
   },
   "outputs": [
    {
     "data": {
      "text/html": [
       "<div>\n",
       "<style scoped>\n",
       "    .dataframe tbody tr th:only-of-type {\n",
       "        vertical-align: middle;\n",
       "    }\n",
       "\n",
       "    .dataframe tbody tr th {\n",
       "        vertical-align: top;\n",
       "    }\n",
       "\n",
       "    .dataframe thead th {\n",
       "        text-align: right;\n",
       "    }\n",
       "</style>\n",
       "<table border=\"1\" class=\"dataframe\">\n",
       "  <thead>\n",
       "    <tr style=\"text-align: right;\">\n",
       "      <th></th>\n",
       "      <th>order_id</th>\n",
       "      <th>branch_id</th>\n",
       "      <th>order_date</th>\n",
       "      <th>order_total_price</th>\n",
       "      <th>order_source</th>\n",
       "      <th>order_type</th>\n",
       "      <th>order_status</th>\n",
       "    </tr>\n",
       "  </thead>\n",
       "  <tbody>\n",
       "    <tr>\n",
       "      <th>0</th>\n",
       "      <td>002a98cc-a2d9-4984-a77c-3db0731046ee</td>\n",
       "      <td>975b3d24-cb71-4df8-930e-054bcd67f90c</td>\n",
       "      <td>2023-05-31 17:43:54+03:00</td>\n",
       "      <td>5.25</td>\n",
       "      <td>1</td>\n",
       "      <td>2</td>\n",
       "      <td>4</td>\n",
       "    </tr>\n",
       "    <tr>\n",
       "      <th>1</th>\n",
       "      <td>00469526-f206-4d25-96b0-dd1e7243254f</td>\n",
       "      <td>975b3d24-cb71-4df8-930e-054bcd67f90c</td>\n",
       "      <td>2023-05-31 14:49:19+03:00</td>\n",
       "      <td>5.50</td>\n",
       "      <td>1</td>\n",
       "      <td>2</td>\n",
       "      <td>4</td>\n",
       "    </tr>\n",
       "    <tr>\n",
       "      <th>2</th>\n",
       "      <td>00eca381-39b9-4fef-bd3e-954f4dd0ec80</td>\n",
       "      <td>976744f0-20ac-4dd5-a06a-6a1ee9ffa7b5</td>\n",
       "      <td>2023-05-31 14:53:13+03:00</td>\n",
       "      <td>5.50</td>\n",
       "      <td>1</td>\n",
       "      <td>2</td>\n",
       "      <td>4</td>\n",
       "    </tr>\n",
       "    <tr>\n",
       "      <th>3</th>\n",
       "      <td>00eec08d-de2b-4e75-b6d1-d4a0f25bebcf</td>\n",
       "      <td>975b3d24-cb71-4df8-930e-054bcd67f90c</td>\n",
       "      <td>2023-05-31 22:37:29+03:00</td>\n",
       "      <td>5.25</td>\n",
       "      <td>1</td>\n",
       "      <td>2</td>\n",
       "      <td>4</td>\n",
       "    </tr>\n",
       "    <tr>\n",
       "      <th>4</th>\n",
       "      <td>01170f23-f882-4c7b-bd18-081ae9531340</td>\n",
       "      <td>976744f0-20ac-4dd5-a06a-6a1ee9ffa7b5</td>\n",
       "      <td>2023-05-31 20:49:37+03:00</td>\n",
       "      <td>12.00</td>\n",
       "      <td>1</td>\n",
       "      <td>2</td>\n",
       "      <td>4</td>\n",
       "    </tr>\n",
       "  </tbody>\n",
       "</table>\n",
       "</div>"
      ],
      "text/plain": [
       "                               order_id                             branch_id  \\\n",
       "0  002a98cc-a2d9-4984-a77c-3db0731046ee  975b3d24-cb71-4df8-930e-054bcd67f90c   \n",
       "1  00469526-f206-4d25-96b0-dd1e7243254f  975b3d24-cb71-4df8-930e-054bcd67f90c   \n",
       "2  00eca381-39b9-4fef-bd3e-954f4dd0ec80  976744f0-20ac-4dd5-a06a-6a1ee9ffa7b5   \n",
       "3  00eec08d-de2b-4e75-b6d1-d4a0f25bebcf  975b3d24-cb71-4df8-930e-054bcd67f90c   \n",
       "4  01170f23-f882-4c7b-bd18-081ae9531340  976744f0-20ac-4dd5-a06a-6a1ee9ffa7b5   \n",
       "\n",
       "                  order_date  order_total_price  order_source  order_type  \\\n",
       "0  2023-05-31 17:43:54+03:00               5.25             1           2   \n",
       "1  2023-05-31 14:49:19+03:00               5.50             1           2   \n",
       "2  2023-05-31 14:53:13+03:00               5.50             1           2   \n",
       "3  2023-05-31 22:37:29+03:00               5.25             1           2   \n",
       "4  2023-05-31 20:49:37+03:00              12.00             1           2   \n",
       "\n",
       "   order_status  \n",
       "0             4  \n",
       "1             4  \n",
       "2             4  \n",
       "3             4  \n",
       "4             4  "
      ]
     },
     "execution_count": 3,
     "metadata": {},
     "output_type": "execute_result"
    }
   ],
   "source": [
    "orders_header.head()"
   ]
  },
  {
   "cell_type": "code",
   "execution_count": 4,
   "metadata": {
    "execution": {
     "iopub.execute_input": "2023-06-01T11:43:12.882865Z",
     "iopub.status.busy": "2023-06-01T11:43:12.882137Z",
     "iopub.status.idle": "2023-06-01T11:43:12.892085Z",
     "shell.execute_reply": "2023-06-01T11:43:12.891265Z"
    }
   },
   "outputs": [],
   "source": [
    "orders_types = {1:'Dine In', 2:'Pick Up', 3:'Delivery', '4':'Drive Thru'}\n",
    "orders_sources = {1:'Cashier', 2:'API', 3:'Call Center'}\n",
    "orders_statuses = {1:'Pending', 2:'Active', 3:'Declined', 4:'Closed', 5:'Returned', 6:'Joined', 7:'Void'}\n",
    "# orders_delivery_statuses = {1:'sent to kitchen', 2:'ready', 3:'assigned', 4:'en route', 5:'delivered', 6:'closed'}\n",
    "# products_statuses = {1:'Pending', 2:'Active', 3:'Closed', 4:'Moved', 5:'Void', 6:'Returned', 7:'Declined'}\n",
    "# discounts_types = {1:'Open', 2:'Predefined', 3:'Coupon', 4:'Loyalty', 5:'Promotion'}\n",
    "\n",
    "#---------------\n",
    "\n",
    "orders_header['order_type'] = orders_header['order_type'].map(orders_types)\n",
    "orders_header['order_source'] = orders_header['order_source'].map(orders_sources)\n",
    "orders_header['order_status'] = orders_header['order_status'].map(orders_statuses)\n"
   ]
  },
  {
   "cell_type": "code",
   "execution_count": 5,
   "metadata": {
    "execution": {
     "iopub.execute_input": "2023-06-01T11:43:12.895769Z",
     "iopub.status.busy": "2023-06-01T11:43:12.895255Z",
     "iopub.status.idle": "2023-06-01T11:43:12.911297Z",
     "shell.execute_reply": "2023-06-01T11:43:12.910496Z"
    }
   },
   "outputs": [],
   "source": [
    "orders_header['order_datetime'] = pd.to_datetime(orders_header['order_date'])\n",
    "\n",
    "orders_header['order_time'] = orders_header['order_datetime'].dt.time\n",
    "orders_header['order_date'] = orders_header['order_datetime'].dt.date\n",
    "\n",
    "# orders_header['hour'] = orders_header['order_datetime'].dt.hour\n",
    "# orders_header['day_name'] = orders_header['order_datetime'].dt.day_name()\n",
    "# orders_header['is_weekend'] = orders_header['order_datetime'].dt.dayofweek.isin([4, 5])\n",
    "# orders_header['is_weekend'].replace({True:'Yes', False:'No'}, inplace=True)\n",
    "# orders_header['month'] = orders_header['order_datetime'].dt.month\n",
    "# orders_header['year'] = orders_header['order_datetime'].dt.year\n",
    "\n",
    "\n"
   ]
  },
  {
   "cell_type": "code",
   "execution_count": 6,
   "metadata": {
    "execution": {
     "iopub.execute_input": "2023-06-01T11:43:12.915255Z",
     "iopub.status.busy": "2023-06-01T11:43:12.914597Z",
     "iopub.status.idle": "2023-06-01T11:43:12.922463Z",
     "shell.execute_reply": "2023-06-01T11:43:12.921657Z"
    }
   },
   "outputs": [],
   "source": [
    "orders_header.drop_duplicates(inplace=True)"
   ]
  },
  {
   "cell_type": "code",
   "execution_count": 7,
   "metadata": {
    "execution": {
     "iopub.execute_input": "2023-06-01T11:43:12.926099Z",
     "iopub.status.busy": "2023-06-01T11:43:12.925498Z",
     "iopub.status.idle": "2023-06-01T11:43:12.933631Z",
     "shell.execute_reply": "2023-06-01T11:43:12.932898Z"
    }
   },
   "outputs": [
    {
     "data": {
      "text/plain": [
       "order_id             0\n",
       "branch_id            0\n",
       "order_date           0\n",
       "order_total_price    0\n",
       "order_source         0\n",
       "order_type           0\n",
       "order_status         0\n",
       "order_datetime       0\n",
       "order_time           0\n",
       "dtype: int64"
      ]
     },
     "execution_count": 7,
     "metadata": {},
     "output_type": "execute_result"
    }
   ],
   "source": [
    "orders_header.isnull().sum()"
   ]
  },
  {
   "cell_type": "code",
   "execution_count": 8,
   "metadata": {
    "execution": {
     "iopub.execute_input": "2023-06-01T11:43:12.936787Z",
     "iopub.status.busy": "2023-06-01T11:43:12.936260Z",
     "iopub.status.idle": "2023-06-01T11:43:12.949285Z",
     "shell.execute_reply": "2023-06-01T11:43:12.948449Z"
    }
   },
   "outputs": [
    {
     "data": {
      "text/html": [
       "<div>\n",
       "<style scoped>\n",
       "    .dataframe tbody tr th:only-of-type {\n",
       "        vertical-align: middle;\n",
       "    }\n",
       "\n",
       "    .dataframe tbody tr th {\n",
       "        vertical-align: top;\n",
       "    }\n",
       "\n",
       "    .dataframe thead th {\n",
       "        text-align: right;\n",
       "    }\n",
       "</style>\n",
       "<table border=\"1\" class=\"dataframe\">\n",
       "  <thead>\n",
       "    <tr style=\"text-align: right;\">\n",
       "      <th></th>\n",
       "      <th>order_id</th>\n",
       "      <th>branch_id</th>\n",
       "      <th>order_date</th>\n",
       "      <th>order_total_price</th>\n",
       "      <th>order_source</th>\n",
       "      <th>order_type</th>\n",
       "      <th>order_status</th>\n",
       "      <th>order_datetime</th>\n",
       "      <th>order_time</th>\n",
       "    </tr>\n",
       "  </thead>\n",
       "  <tbody>\n",
       "    <tr>\n",
       "      <th>0</th>\n",
       "      <td>002a98cc-a2d9-4984-a77c-3db0731046ee</td>\n",
       "      <td>975b3d24-cb71-4df8-930e-054bcd67f90c</td>\n",
       "      <td>2023-05-31</td>\n",
       "      <td>5.25</td>\n",
       "      <td>Cashier</td>\n",
       "      <td>Pick Up</td>\n",
       "      <td>Closed</td>\n",
       "      <td>2023-05-31 17:43:54+03:00</td>\n",
       "      <td>17:43:54</td>\n",
       "    </tr>\n",
       "    <tr>\n",
       "      <th>1</th>\n",
       "      <td>00469526-f206-4d25-96b0-dd1e7243254f</td>\n",
       "      <td>975b3d24-cb71-4df8-930e-054bcd67f90c</td>\n",
       "      <td>2023-05-31</td>\n",
       "      <td>5.50</td>\n",
       "      <td>Cashier</td>\n",
       "      <td>Pick Up</td>\n",
       "      <td>Closed</td>\n",
       "      <td>2023-05-31 14:49:19+03:00</td>\n",
       "      <td>14:49:19</td>\n",
       "    </tr>\n",
       "    <tr>\n",
       "      <th>2</th>\n",
       "      <td>00eca381-39b9-4fef-bd3e-954f4dd0ec80</td>\n",
       "      <td>976744f0-20ac-4dd5-a06a-6a1ee9ffa7b5</td>\n",
       "      <td>2023-05-31</td>\n",
       "      <td>5.50</td>\n",
       "      <td>Cashier</td>\n",
       "      <td>Pick Up</td>\n",
       "      <td>Closed</td>\n",
       "      <td>2023-05-31 14:53:13+03:00</td>\n",
       "      <td>14:53:13</td>\n",
       "    </tr>\n",
       "    <tr>\n",
       "      <th>3</th>\n",
       "      <td>00eec08d-de2b-4e75-b6d1-d4a0f25bebcf</td>\n",
       "      <td>975b3d24-cb71-4df8-930e-054bcd67f90c</td>\n",
       "      <td>2023-05-31</td>\n",
       "      <td>5.25</td>\n",
       "      <td>Cashier</td>\n",
       "      <td>Pick Up</td>\n",
       "      <td>Closed</td>\n",
       "      <td>2023-05-31 22:37:29+03:00</td>\n",
       "      <td>22:37:29</td>\n",
       "    </tr>\n",
       "    <tr>\n",
       "      <th>4</th>\n",
       "      <td>01170f23-f882-4c7b-bd18-081ae9531340</td>\n",
       "      <td>976744f0-20ac-4dd5-a06a-6a1ee9ffa7b5</td>\n",
       "      <td>2023-05-31</td>\n",
       "      <td>12.00</td>\n",
       "      <td>Cashier</td>\n",
       "      <td>Pick Up</td>\n",
       "      <td>Closed</td>\n",
       "      <td>2023-05-31 20:49:37+03:00</td>\n",
       "      <td>20:49:37</td>\n",
       "    </tr>\n",
       "  </tbody>\n",
       "</table>\n",
       "</div>"
      ],
      "text/plain": [
       "                               order_id                             branch_id  \\\n",
       "0  002a98cc-a2d9-4984-a77c-3db0731046ee  975b3d24-cb71-4df8-930e-054bcd67f90c   \n",
       "1  00469526-f206-4d25-96b0-dd1e7243254f  975b3d24-cb71-4df8-930e-054bcd67f90c   \n",
       "2  00eca381-39b9-4fef-bd3e-954f4dd0ec80  976744f0-20ac-4dd5-a06a-6a1ee9ffa7b5   \n",
       "3  00eec08d-de2b-4e75-b6d1-d4a0f25bebcf  975b3d24-cb71-4df8-930e-054bcd67f90c   \n",
       "4  01170f23-f882-4c7b-bd18-081ae9531340  976744f0-20ac-4dd5-a06a-6a1ee9ffa7b5   \n",
       "\n",
       "   order_date  order_total_price order_source order_type order_status  \\\n",
       "0  2023-05-31               5.25      Cashier    Pick Up       Closed   \n",
       "1  2023-05-31               5.50      Cashier    Pick Up       Closed   \n",
       "2  2023-05-31               5.50      Cashier    Pick Up       Closed   \n",
       "3  2023-05-31               5.25      Cashier    Pick Up       Closed   \n",
       "4  2023-05-31              12.00      Cashier    Pick Up       Closed   \n",
       "\n",
       "             order_datetime order_time  \n",
       "0 2023-05-31 17:43:54+03:00   17:43:54  \n",
       "1 2023-05-31 14:49:19+03:00   14:49:19  \n",
       "2 2023-05-31 14:53:13+03:00   14:53:13  \n",
       "3 2023-05-31 22:37:29+03:00   22:37:29  \n",
       "4 2023-05-31 20:49:37+03:00   20:49:37  "
      ]
     },
     "execution_count": 8,
     "metadata": {},
     "output_type": "execute_result"
    }
   ],
   "source": [
    "orders_header.head()"
   ]
  },
  {
   "cell_type": "code",
   "execution_count": 9,
   "metadata": {
    "execution": {
     "iopub.execute_input": "2023-06-01T11:43:12.952818Z",
     "iopub.status.busy": "2023-06-01T11:43:12.952181Z",
     "iopub.status.idle": "2023-06-01T11:43:12.956748Z",
     "shell.execute_reply": "2023-06-01T11:43:12.955871Z"
    }
   },
   "outputs": [],
   "source": [
    "orders_header.rename(columns={'order_id':'order_header_id'}, inplace=True)"
   ]
  },
  {
   "cell_type": "code",
   "execution_count": 10,
   "metadata": {
    "execution": {
     "iopub.execute_input": "2023-06-01T11:43:12.960310Z",
     "iopub.status.busy": "2023-06-01T11:43:12.959838Z",
     "iopub.status.idle": "2023-06-01T11:43:12.964217Z",
     "shell.execute_reply": "2023-06-01T11:43:12.963378Z"
    }
   },
   "outputs": [],
   "source": [
    "orders_header['order_status'].fillna('Void', inplace=True)"
   ]
  },
  {
   "cell_type": "code",
   "execution_count": 11,
   "metadata": {
    "execution": {
     "iopub.execute_input": "2023-06-01T11:43:12.967874Z",
     "iopub.status.busy": "2023-06-01T11:43:12.967205Z",
     "iopub.status.idle": "2023-06-01T11:43:12.971773Z",
     "shell.execute_reply": "2023-06-01T11:43:12.970926Z"
    }
   },
   "outputs": [],
   "source": [
    "orders_header.rename(columns={'order_id':'order_header_id'}, inplace=True)"
   ]
  },
  {
   "cell_type": "code",
   "execution_count": 12,
   "metadata": {
    "execution": {
     "iopub.execute_input": "2023-06-01T11:43:12.975096Z",
     "iopub.status.busy": "2023-06-01T11:43:12.974839Z",
     "iopub.status.idle": "2023-06-01T11:43:12.998708Z",
     "shell.execute_reply": "2023-06-01T11:43:12.997973Z"
    }
   },
   "outputs": [],
   "source": [
    "orders_header.to_csv('../../data/processed/updates/order_header.csv', index=False)"
   ]
  },
  {
   "attachments": {},
   "cell_type": "markdown",
   "metadata": {},
   "source": [
    "# Order Details"
   ]
  },
  {
   "cell_type": "code",
   "execution_count": 13,
   "metadata": {
    "execution": {
     "iopub.execute_input": "2023-06-01T11:43:13.002090Z",
     "iopub.status.busy": "2023-06-01T11:43:13.001627Z",
     "iopub.status.idle": "2023-06-01T11:43:13.015218Z",
     "shell.execute_reply": "2023-06-01T11:43:13.014339Z"
    }
   },
   "outputs": [
    {
     "data": {
      "text/html": [
       "<div>\n",
       "<style scoped>\n",
       "    .dataframe tbody tr th:only-of-type {\n",
       "        vertical-align: middle;\n",
       "    }\n",
       "\n",
       "    .dataframe tbody tr th {\n",
       "        vertical-align: top;\n",
       "    }\n",
       "\n",
       "    .dataframe thead th {\n",
       "        text-align: right;\n",
       "    }\n",
       "</style>\n",
       "<table border=\"1\" class=\"dataframe\">\n",
       "  <thead>\n",
       "    <tr style=\"text-align: right;\">\n",
       "      <th></th>\n",
       "      <th>order_id</th>\n",
       "      <th>branch_id</th>\n",
       "      <th>order_date</th>\n",
       "      <th>order_total_price</th>\n",
       "      <th>order_source</th>\n",
       "      <th>order_type</th>\n",
       "      <th>order_status</th>\n",
       "      <th>product_id</th>\n",
       "      <th>category_id</th>\n",
       "      <th>quantity</th>\n",
       "      <th>price</th>\n",
       "    </tr>\n",
       "  </thead>\n",
       "  <tbody>\n",
       "    <tr>\n",
       "      <th>0</th>\n",
       "      <td>002a98cc-a2d9-4984-a77c-3db0731046ee</td>\n",
       "      <td>975b3d24-cb71-4df8-930e-054bcd67f90c</td>\n",
       "      <td>2023-05-31 17:43:54+03:00</td>\n",
       "      <td>5.25</td>\n",
       "      <td>1</td>\n",
       "      <td>2</td>\n",
       "      <td>4</td>\n",
       "      <td>975b583e-ac20-4ed6-8ce9-4f23269e2edb</td>\n",
       "      <td>975b5737-c8e7-4ca6-a4b8-2c1546d5b8a1</td>\n",
       "      <td>1</td>\n",
       "      <td>5.25</td>\n",
       "    </tr>\n",
       "    <tr>\n",
       "      <th>1</th>\n",
       "      <td>00469526-f206-4d25-96b0-dd1e7243254f</td>\n",
       "      <td>975b3d24-cb71-4df8-930e-054bcd67f90c</td>\n",
       "      <td>2023-05-31 14:49:19+03:00</td>\n",
       "      <td>5.50</td>\n",
       "      <td>1</td>\n",
       "      <td>2</td>\n",
       "      <td>4</td>\n",
       "      <td>975b583e-8e4e-4500-b416-e77dd352726a</td>\n",
       "      <td>975b5737-c982-4e3f-9faf-083ca9dc56ac</td>\n",
       "      <td>1</td>\n",
       "      <td>5.00</td>\n",
       "    </tr>\n",
       "    <tr>\n",
       "      <th>2</th>\n",
       "      <td>00469526-f206-4d25-96b0-dd1e7243254f</td>\n",
       "      <td>975b3d24-cb71-4df8-930e-054bcd67f90c</td>\n",
       "      <td>2023-05-31 14:49:19+03:00</td>\n",
       "      <td>5.50</td>\n",
       "      <td>1</td>\n",
       "      <td>2</td>\n",
       "      <td>4</td>\n",
       "      <td>975b583f-2dbf-4ba8-9562-8d5ac7138dd1</td>\n",
       "      <td>975b5737-cf8c-4ef3-a445-7c4a71f349c5</td>\n",
       "      <td>1</td>\n",
       "      <td>0.50</td>\n",
       "    </tr>\n",
       "    <tr>\n",
       "      <th>3</th>\n",
       "      <td>00eca381-39b9-4fef-bd3e-954f4dd0ec80</td>\n",
       "      <td>976744f0-20ac-4dd5-a06a-6a1ee9ffa7b5</td>\n",
       "      <td>2023-05-31 14:53:13+03:00</td>\n",
       "      <td>5.50</td>\n",
       "      <td>1</td>\n",
       "      <td>2</td>\n",
       "      <td>4</td>\n",
       "      <td>975b583e-8e4e-4500-b416-e77dd352726a</td>\n",
       "      <td>975b5737-c982-4e3f-9faf-083ca9dc56ac</td>\n",
       "      <td>1</td>\n",
       "      <td>5.00</td>\n",
       "    </tr>\n",
       "    <tr>\n",
       "      <th>4</th>\n",
       "      <td>00eca381-39b9-4fef-bd3e-954f4dd0ec80</td>\n",
       "      <td>976744f0-20ac-4dd5-a06a-6a1ee9ffa7b5</td>\n",
       "      <td>2023-05-31 14:53:13+03:00</td>\n",
       "      <td>5.50</td>\n",
       "      <td>1</td>\n",
       "      <td>2</td>\n",
       "      <td>4</td>\n",
       "      <td>975b583e-9f6f-4821-96ab-13e3fc617059</td>\n",
       "      <td>975b5737-cad1-4031-9319-5e3a7addba42</td>\n",
       "      <td>1</td>\n",
       "      <td>0.50</td>\n",
       "    </tr>\n",
       "  </tbody>\n",
       "</table>\n",
       "</div>"
      ],
      "text/plain": [
       "                               order_id                             branch_id  \\\n",
       "0  002a98cc-a2d9-4984-a77c-3db0731046ee  975b3d24-cb71-4df8-930e-054bcd67f90c   \n",
       "1  00469526-f206-4d25-96b0-dd1e7243254f  975b3d24-cb71-4df8-930e-054bcd67f90c   \n",
       "2  00469526-f206-4d25-96b0-dd1e7243254f  975b3d24-cb71-4df8-930e-054bcd67f90c   \n",
       "3  00eca381-39b9-4fef-bd3e-954f4dd0ec80  976744f0-20ac-4dd5-a06a-6a1ee9ffa7b5   \n",
       "4  00eca381-39b9-4fef-bd3e-954f4dd0ec80  976744f0-20ac-4dd5-a06a-6a1ee9ffa7b5   \n",
       "\n",
       "                  order_date  order_total_price  order_source  order_type  \\\n",
       "0  2023-05-31 17:43:54+03:00               5.25             1           2   \n",
       "1  2023-05-31 14:49:19+03:00               5.50             1           2   \n",
       "2  2023-05-31 14:49:19+03:00               5.50             1           2   \n",
       "3  2023-05-31 14:53:13+03:00               5.50             1           2   \n",
       "4  2023-05-31 14:53:13+03:00               5.50             1           2   \n",
       "\n",
       "   order_status                            product_id  \\\n",
       "0             4  975b583e-ac20-4ed6-8ce9-4f23269e2edb   \n",
       "1             4  975b583e-8e4e-4500-b416-e77dd352726a   \n",
       "2             4  975b583f-2dbf-4ba8-9562-8d5ac7138dd1   \n",
       "3             4  975b583e-8e4e-4500-b416-e77dd352726a   \n",
       "4             4  975b583e-9f6f-4821-96ab-13e3fc617059   \n",
       "\n",
       "                            category_id  quantity  price  \n",
       "0  975b5737-c8e7-4ca6-a4b8-2c1546d5b8a1         1   5.25  \n",
       "1  975b5737-c982-4e3f-9faf-083ca9dc56ac         1   5.00  \n",
       "2  975b5737-cf8c-4ef3-a445-7c4a71f349c5         1   0.50  \n",
       "3  975b5737-c982-4e3f-9faf-083ca9dc56ac         1   5.00  \n",
       "4  975b5737-cad1-4031-9319-5e3a7addba42         1   0.50  "
      ]
     },
     "execution_count": 13,
     "metadata": {},
     "output_type": "execute_result"
    }
   ],
   "source": [
    "orders_details.head()"
   ]
  },
  {
   "cell_type": "code",
   "execution_count": 14,
   "metadata": {
    "execution": {
     "iopub.execute_input": "2023-06-01T11:43:13.018877Z",
     "iopub.status.busy": "2023-06-01T11:43:13.018616Z",
     "iopub.status.idle": "2023-06-01T11:43:13.029690Z",
     "shell.execute_reply": "2023-06-01T11:43:13.028890Z"
    }
   },
   "outputs": [
    {
     "data": {
      "text/html": [
       "<div>\n",
       "<style scoped>\n",
       "    .dataframe tbody tr th:only-of-type {\n",
       "        vertical-align: middle;\n",
       "    }\n",
       "\n",
       "    .dataframe tbody tr th {\n",
       "        vertical-align: top;\n",
       "    }\n",
       "\n",
       "    .dataframe thead th {\n",
       "        text-align: right;\n",
       "    }\n",
       "</style>\n",
       "<table border=\"1\" class=\"dataframe\">\n",
       "  <thead>\n",
       "    <tr style=\"text-align: right;\">\n",
       "      <th></th>\n",
       "      <th>order_id</th>\n",
       "      <th>product_id</th>\n",
       "      <th>category_id</th>\n",
       "      <th>quantity</th>\n",
       "      <th>price</th>\n",
       "    </tr>\n",
       "  </thead>\n",
       "  <tbody>\n",
       "    <tr>\n",
       "      <th>0</th>\n",
       "      <td>002a98cc-a2d9-4984-a77c-3db0731046ee</td>\n",
       "      <td>975b583e-ac20-4ed6-8ce9-4f23269e2edb</td>\n",
       "      <td>975b5737-c8e7-4ca6-a4b8-2c1546d5b8a1</td>\n",
       "      <td>1</td>\n",
       "      <td>5.25</td>\n",
       "    </tr>\n",
       "    <tr>\n",
       "      <th>1</th>\n",
       "      <td>00469526-f206-4d25-96b0-dd1e7243254f</td>\n",
       "      <td>975b583e-8e4e-4500-b416-e77dd352726a</td>\n",
       "      <td>975b5737-c982-4e3f-9faf-083ca9dc56ac</td>\n",
       "      <td>1</td>\n",
       "      <td>5.00</td>\n",
       "    </tr>\n",
       "    <tr>\n",
       "      <th>2</th>\n",
       "      <td>00469526-f206-4d25-96b0-dd1e7243254f</td>\n",
       "      <td>975b583f-2dbf-4ba8-9562-8d5ac7138dd1</td>\n",
       "      <td>975b5737-cf8c-4ef3-a445-7c4a71f349c5</td>\n",
       "      <td>1</td>\n",
       "      <td>0.50</td>\n",
       "    </tr>\n",
       "    <tr>\n",
       "      <th>3</th>\n",
       "      <td>00eca381-39b9-4fef-bd3e-954f4dd0ec80</td>\n",
       "      <td>975b583e-8e4e-4500-b416-e77dd352726a</td>\n",
       "      <td>975b5737-c982-4e3f-9faf-083ca9dc56ac</td>\n",
       "      <td>1</td>\n",
       "      <td>5.00</td>\n",
       "    </tr>\n",
       "    <tr>\n",
       "      <th>4</th>\n",
       "      <td>00eca381-39b9-4fef-bd3e-954f4dd0ec80</td>\n",
       "      <td>975b583e-9f6f-4821-96ab-13e3fc617059</td>\n",
       "      <td>975b5737-cad1-4031-9319-5e3a7addba42</td>\n",
       "      <td>1</td>\n",
       "      <td>0.50</td>\n",
       "    </tr>\n",
       "  </tbody>\n",
       "</table>\n",
       "</div>"
      ],
      "text/plain": [
       "                               order_id                            product_id  \\\n",
       "0  002a98cc-a2d9-4984-a77c-3db0731046ee  975b583e-ac20-4ed6-8ce9-4f23269e2edb   \n",
       "1  00469526-f206-4d25-96b0-dd1e7243254f  975b583e-8e4e-4500-b416-e77dd352726a   \n",
       "2  00469526-f206-4d25-96b0-dd1e7243254f  975b583f-2dbf-4ba8-9562-8d5ac7138dd1   \n",
       "3  00eca381-39b9-4fef-bd3e-954f4dd0ec80  975b583e-8e4e-4500-b416-e77dd352726a   \n",
       "4  00eca381-39b9-4fef-bd3e-954f4dd0ec80  975b583e-9f6f-4821-96ab-13e3fc617059   \n",
       "\n",
       "                            category_id  quantity  price  \n",
       "0  975b5737-c8e7-4ca6-a4b8-2c1546d5b8a1         1   5.25  \n",
       "1  975b5737-c982-4e3f-9faf-083ca9dc56ac         1   5.00  \n",
       "2  975b5737-cf8c-4ef3-a445-7c4a71f349c5         1   0.50  \n",
       "3  975b5737-c982-4e3f-9faf-083ca9dc56ac         1   5.00  \n",
       "4  975b5737-cad1-4031-9319-5e3a7addba42         1   0.50  "
      ]
     },
     "execution_count": 14,
     "metadata": {},
     "output_type": "execute_result"
    }
   ],
   "source": [
    "filtered_orders_details = orders_details.drop(columns=['order_date', 'order_total_price','order_source', 'order_type', 'order_status', 'branch_id'])\n",
    "filtered_orders_details.head()\n"
   ]
  },
  {
   "cell_type": "code",
   "execution_count": 15,
   "metadata": {
    "execution": {
     "iopub.execute_input": "2023-06-01T11:43:13.032869Z",
     "iopub.status.busy": "2023-06-01T11:43:13.032618Z",
     "iopub.status.idle": "2023-06-01T11:43:13.049017Z",
     "shell.execute_reply": "2023-06-01T11:43:13.048252Z"
    }
   },
   "outputs": [],
   "source": [
    "#filtered_orders_details['order_line_id'] = filtered_orders_details['order_id'] + '-' + filtered_orders_details['product_id'].apply(lambda x: x.split('-')[1]) + \n",
    "import uuid\n",
    "filtered_orders_details['order_details_id'] = [str(uuid.uuid4()) for _ in range(len(filtered_orders_details))]\n",
    "filtered_orders_details.rename(columns={'order_id':'order_header_id'}, inplace=True)"
   ]
  },
  {
   "cell_type": "code",
   "execution_count": 16,
   "metadata": {
    "execution": {
     "iopub.execute_input": "2023-06-01T11:43:13.052736Z",
     "iopub.status.busy": "2023-06-01T11:43:13.052071Z",
     "iopub.status.idle": "2023-06-01T11:43:13.063124Z",
     "shell.execute_reply": "2023-06-01T11:43:13.062223Z"
    }
   },
   "outputs": [
    {
     "data": {
      "text/html": [
       "<div>\n",
       "<style scoped>\n",
       "    .dataframe tbody tr th:only-of-type {\n",
       "        vertical-align: middle;\n",
       "    }\n",
       "\n",
       "    .dataframe tbody tr th {\n",
       "        vertical-align: top;\n",
       "    }\n",
       "\n",
       "    .dataframe thead th {\n",
       "        text-align: right;\n",
       "    }\n",
       "</style>\n",
       "<table border=\"1\" class=\"dataframe\">\n",
       "  <thead>\n",
       "    <tr style=\"text-align: right;\">\n",
       "      <th></th>\n",
       "      <th>order_header_id</th>\n",
       "      <th>product_id</th>\n",
       "      <th>category_id</th>\n",
       "      <th>quantity</th>\n",
       "      <th>price</th>\n",
       "      <th>order_details_id</th>\n",
       "    </tr>\n",
       "  </thead>\n",
       "  <tbody>\n",
       "    <tr>\n",
       "      <th>0</th>\n",
       "      <td>002a98cc-a2d9-4984-a77c-3db0731046ee</td>\n",
       "      <td>975b583e-ac20-4ed6-8ce9-4f23269e2edb</td>\n",
       "      <td>975b5737-c8e7-4ca6-a4b8-2c1546d5b8a1</td>\n",
       "      <td>1</td>\n",
       "      <td>5.25</td>\n",
       "      <td>3d098940-afdb-4022-8e51-41fe1327fa3a</td>\n",
       "    </tr>\n",
       "    <tr>\n",
       "      <th>1</th>\n",
       "      <td>00469526-f206-4d25-96b0-dd1e7243254f</td>\n",
       "      <td>975b583e-8e4e-4500-b416-e77dd352726a</td>\n",
       "      <td>975b5737-c982-4e3f-9faf-083ca9dc56ac</td>\n",
       "      <td>1</td>\n",
       "      <td>5.00</td>\n",
       "      <td>2dc2cb28-ec9b-42f0-bede-efbe82bc1b50</td>\n",
       "    </tr>\n",
       "    <tr>\n",
       "      <th>2</th>\n",
       "      <td>00469526-f206-4d25-96b0-dd1e7243254f</td>\n",
       "      <td>975b583f-2dbf-4ba8-9562-8d5ac7138dd1</td>\n",
       "      <td>975b5737-cf8c-4ef3-a445-7c4a71f349c5</td>\n",
       "      <td>1</td>\n",
       "      <td>0.50</td>\n",
       "      <td>af8d9a65-062d-44c7-a1b8-16e3d5e66d62</td>\n",
       "    </tr>\n",
       "    <tr>\n",
       "      <th>3</th>\n",
       "      <td>00eca381-39b9-4fef-bd3e-954f4dd0ec80</td>\n",
       "      <td>975b583e-8e4e-4500-b416-e77dd352726a</td>\n",
       "      <td>975b5737-c982-4e3f-9faf-083ca9dc56ac</td>\n",
       "      <td>1</td>\n",
       "      <td>5.00</td>\n",
       "      <td>651f6be8-d7f1-45a1-bfed-8cf6e898bea4</td>\n",
       "    </tr>\n",
       "    <tr>\n",
       "      <th>4</th>\n",
       "      <td>00eca381-39b9-4fef-bd3e-954f4dd0ec80</td>\n",
       "      <td>975b583e-9f6f-4821-96ab-13e3fc617059</td>\n",
       "      <td>975b5737-cad1-4031-9319-5e3a7addba42</td>\n",
       "      <td>1</td>\n",
       "      <td>0.50</td>\n",
       "      <td>ec355d4a-c0e9-4554-b845-49dc0bc0fe81</td>\n",
       "    </tr>\n",
       "  </tbody>\n",
       "</table>\n",
       "</div>"
      ],
      "text/plain": [
       "                        order_header_id                            product_id  \\\n",
       "0  002a98cc-a2d9-4984-a77c-3db0731046ee  975b583e-ac20-4ed6-8ce9-4f23269e2edb   \n",
       "1  00469526-f206-4d25-96b0-dd1e7243254f  975b583e-8e4e-4500-b416-e77dd352726a   \n",
       "2  00469526-f206-4d25-96b0-dd1e7243254f  975b583f-2dbf-4ba8-9562-8d5ac7138dd1   \n",
       "3  00eca381-39b9-4fef-bd3e-954f4dd0ec80  975b583e-8e4e-4500-b416-e77dd352726a   \n",
       "4  00eca381-39b9-4fef-bd3e-954f4dd0ec80  975b583e-9f6f-4821-96ab-13e3fc617059   \n",
       "\n",
       "                            category_id  quantity  price  \\\n",
       "0  975b5737-c8e7-4ca6-a4b8-2c1546d5b8a1         1   5.25   \n",
       "1  975b5737-c982-4e3f-9faf-083ca9dc56ac         1   5.00   \n",
       "2  975b5737-cf8c-4ef3-a445-7c4a71f349c5         1   0.50   \n",
       "3  975b5737-c982-4e3f-9faf-083ca9dc56ac         1   5.00   \n",
       "4  975b5737-cad1-4031-9319-5e3a7addba42         1   0.50   \n",
       "\n",
       "                       order_details_id  \n",
       "0  3d098940-afdb-4022-8e51-41fe1327fa3a  \n",
       "1  2dc2cb28-ec9b-42f0-bede-efbe82bc1b50  \n",
       "2  af8d9a65-062d-44c7-a1b8-16e3d5e66d62  \n",
       "3  651f6be8-d7f1-45a1-bfed-8cf6e898bea4  \n",
       "4  ec355d4a-c0e9-4554-b845-49dc0bc0fe81  "
      ]
     },
     "execution_count": 16,
     "metadata": {},
     "output_type": "execute_result"
    }
   ],
   "source": [
    "filtered_orders_details.head()"
   ]
  },
  {
   "cell_type": "code",
   "execution_count": 17,
   "metadata": {
    "execution": {
     "iopub.execute_input": "2023-06-01T11:43:13.067472Z",
     "iopub.status.busy": "2023-06-01T11:43:13.066845Z",
     "iopub.status.idle": "2023-06-01T11:43:13.073962Z",
     "shell.execute_reply": "2023-06-01T11:43:13.073182Z"
    }
   },
   "outputs": [],
   "source": [
    "filtered_orders_details.drop_duplicates(inplace=True)"
   ]
  },
  {
   "cell_type": "code",
   "execution_count": 18,
   "metadata": {
    "execution": {
     "iopub.execute_input": "2023-06-01T11:43:13.077134Z",
     "iopub.status.busy": "2023-06-01T11:43:13.076891Z",
     "iopub.status.idle": "2023-06-01T11:43:13.089298Z",
     "shell.execute_reply": "2023-06-01T11:43:13.088648Z"
    }
   },
   "outputs": [],
   "source": [
    "filtered_orders_details.to_csv('../../data/processed/updates/order_details.csv', index=False)"
   ]
  },
  {
   "attachments": {},
   "cell_type": "markdown",
   "metadata": {},
   "source": [
    "# Products"
   ]
  },
  {
   "cell_type": "code",
   "execution_count": 19,
   "metadata": {
    "execution": {
     "iopub.execute_input": "2023-06-01T11:43:13.092507Z",
     "iopub.status.busy": "2023-06-01T11:43:13.091957Z",
     "iopub.status.idle": "2023-06-01T11:43:13.103850Z",
     "shell.execute_reply": "2023-06-01T11:43:13.102983Z"
    }
   },
   "outputs": [
    {
     "data": {
      "text/html": [
       "<div>\n",
       "<style scoped>\n",
       "    .dataframe tbody tr th:only-of-type {\n",
       "        vertical-align: middle;\n",
       "    }\n",
       "\n",
       "    .dataframe tbody tr th {\n",
       "        vertical-align: top;\n",
       "    }\n",
       "\n",
       "    .dataframe thead th {\n",
       "        text-align: right;\n",
       "    }\n",
       "</style>\n",
       "<table border=\"1\" class=\"dataframe\">\n",
       "  <thead>\n",
       "    <tr style=\"text-align: right;\">\n",
       "      <th></th>\n",
       "      <th>product_id</th>\n",
       "      <th>product_sku</th>\n",
       "      <th>product_name</th>\n",
       "      <th>category_name</th>\n",
       "      <th>category_id</th>\n",
       "      <th>is_active</th>\n",
       "      <th>is_stock_product</th>\n",
       "      <th>price</th>\n",
       "    </tr>\n",
       "  </thead>\n",
       "  <tbody>\n",
       "    <tr>\n",
       "      <th>0</th>\n",
       "      <td>975b583e-8e4e-4500-b416-e77dd352726a</td>\n",
       "      <td>psk-14</td>\n",
       "      <td>تشكس فرايز زنجر</td>\n",
       "      <td>Fries</td>\n",
       "      <td>975b5737-c982-4e3f-9faf-083ca9dc56ac</td>\n",
       "      <td>True</td>\n",
       "      <td>False</td>\n",
       "      <td>5.00</td>\n",
       "    </tr>\n",
       "    <tr>\n",
       "      <th>1</th>\n",
       "      <td>975b583e-90a9-420a-804e-b41dddbe0971</td>\n",
       "      <td>psk-5</td>\n",
       "      <td>كلاسيك</td>\n",
       "      <td>Shawarma</td>\n",
       "      <td>975b5737-c8e7-4ca6-a4b8-2c1546d5b8a1</td>\n",
       "      <td>True</td>\n",
       "      <td>False</td>\n",
       "      <td>1.50</td>\n",
       "    </tr>\n",
       "    <tr>\n",
       "      <th>2</th>\n",
       "      <td>975b583e-90af-4319-87d3-022d8f1936d4</td>\n",
       "      <td>psk-13</td>\n",
       "      <td>تشكس ستريبس</td>\n",
       "      <td>Chicken burger</td>\n",
       "      <td>975b5737-ccc4-4c1f-8599-5e246eee4a3b</td>\n",
       "      <td>True</td>\n",
       "      <td>False</td>\n",
       "      <td>4.50</td>\n",
       "    </tr>\n",
       "    <tr>\n",
       "      <th>3</th>\n",
       "      <td>975b583e-9145-4e05-90e7-9fa596c38888</td>\n",
       "      <td>psk-16</td>\n",
       "      <td>فرايز باجبنة</td>\n",
       "      <td>Fries</td>\n",
       "      <td>975b5737-c982-4e3f-9faf-083ca9dc56ac</td>\n",
       "      <td>True</td>\n",
       "      <td>False</td>\n",
       "      <td>2.50</td>\n",
       "    </tr>\n",
       "    <tr>\n",
       "      <th>4</th>\n",
       "      <td>975b583e-91e6-424e-851d-4de6a37813f5</td>\n",
       "      <td>psk-9</td>\n",
       "      <td>اربيان دجاج l</td>\n",
       "      <td>Shawarma</td>\n",
       "      <td>975b5737-c8e7-4ca6-a4b8-2c1546d5b8a1</td>\n",
       "      <td>True</td>\n",
       "      <td>False</td>\n",
       "      <td>3.75</td>\n",
       "    </tr>\n",
       "  </tbody>\n",
       "</table>\n",
       "</div>"
      ],
      "text/plain": [
       "                             product_id product_sku     product_name  \\\n",
       "0  975b583e-8e4e-4500-b416-e77dd352726a      psk-14  تشكس فرايز زنجر   \n",
       "1  975b583e-90a9-420a-804e-b41dddbe0971       psk-5           كلاسيك   \n",
       "2  975b583e-90af-4319-87d3-022d8f1936d4      psk-13      تشكس ستريبس   \n",
       "3  975b583e-9145-4e05-90e7-9fa596c38888      psk-16     فرايز باجبنة   \n",
       "4  975b583e-91e6-424e-851d-4de6a37813f5       psk-9    اربيان دجاج l   \n",
       "\n",
       "    category_name                           category_id  is_active  \\\n",
       "0           Fries  975b5737-c982-4e3f-9faf-083ca9dc56ac       True   \n",
       "1        Shawarma  975b5737-c8e7-4ca6-a4b8-2c1546d5b8a1       True   \n",
       "2  Chicken burger  975b5737-ccc4-4c1f-8599-5e246eee4a3b       True   \n",
       "3           Fries  975b5737-c982-4e3f-9faf-083ca9dc56ac       True   \n",
       "4        Shawarma  975b5737-c8e7-4ca6-a4b8-2c1546d5b8a1       True   \n",
       "\n",
       "   is_stock_product  price  \n",
       "0             False   5.00  \n",
       "1             False   1.50  \n",
       "2             False   4.50  \n",
       "3             False   2.50  \n",
       "4             False   3.75  "
      ]
     },
     "execution_count": 19,
     "metadata": {},
     "output_type": "execute_result"
    }
   ],
   "source": [
    "products.head()"
   ]
  },
  {
   "cell_type": "code",
   "execution_count": 20,
   "metadata": {
    "execution": {
     "iopub.execute_input": "2023-06-01T11:43:13.107186Z",
     "iopub.status.busy": "2023-06-01T11:43:13.106709Z",
     "iopub.status.idle": "2023-06-01T11:43:13.118462Z",
     "shell.execute_reply": "2023-06-01T11:43:13.117598Z"
    }
   },
   "outputs": [
    {
     "data": {
      "text/html": [
       "<div>\n",
       "<style scoped>\n",
       "    .dataframe tbody tr th:only-of-type {\n",
       "        vertical-align: middle;\n",
       "    }\n",
       "\n",
       "    .dataframe tbody tr th {\n",
       "        vertical-align: top;\n",
       "    }\n",
       "\n",
       "    .dataframe thead th {\n",
       "        text-align: right;\n",
       "    }\n",
       "</style>\n",
       "<table border=\"1\" class=\"dataframe\">\n",
       "  <thead>\n",
       "    <tr style=\"text-align: right;\">\n",
       "      <th></th>\n",
       "      <th>product_id</th>\n",
       "      <th>product_sku</th>\n",
       "      <th>product_name</th>\n",
       "      <th>category_name</th>\n",
       "      <th>category_id</th>\n",
       "      <th>is_active</th>\n",
       "      <th>is_stock_product</th>\n",
       "      <th>price</th>\n",
       "    </tr>\n",
       "  </thead>\n",
       "  <tbody>\n",
       "    <tr>\n",
       "      <th>0</th>\n",
       "      <td>975b583e-8e4e-4500-b416-e77dd352726a</td>\n",
       "      <td>psk-14</td>\n",
       "      <td>تشكس فرايز زنجر</td>\n",
       "      <td>Fries</td>\n",
       "      <td>975b5737-c982-4e3f-9faf-083ca9dc56ac</td>\n",
       "      <td>True</td>\n",
       "      <td>False</td>\n",
       "      <td>5.00</td>\n",
       "    </tr>\n",
       "    <tr>\n",
       "      <th>1</th>\n",
       "      <td>975b583e-90a9-420a-804e-b41dddbe0971</td>\n",
       "      <td>psk-5</td>\n",
       "      <td>كلاسيك</td>\n",
       "      <td>Shawarma</td>\n",
       "      <td>975b5737-c8e7-4ca6-a4b8-2c1546d5b8a1</td>\n",
       "      <td>True</td>\n",
       "      <td>False</td>\n",
       "      <td>1.50</td>\n",
       "    </tr>\n",
       "    <tr>\n",
       "      <th>2</th>\n",
       "      <td>975b583e-90af-4319-87d3-022d8f1936d4</td>\n",
       "      <td>psk-13</td>\n",
       "      <td>تشكس ستريبس</td>\n",
       "      <td>Chicken burger</td>\n",
       "      <td>975b5737-ccc4-4c1f-8599-5e246eee4a3b</td>\n",
       "      <td>True</td>\n",
       "      <td>False</td>\n",
       "      <td>4.50</td>\n",
       "    </tr>\n",
       "    <tr>\n",
       "      <th>3</th>\n",
       "      <td>975b583e-9145-4e05-90e7-9fa596c38888</td>\n",
       "      <td>psk-16</td>\n",
       "      <td>فرايز باجبنة</td>\n",
       "      <td>Fries</td>\n",
       "      <td>975b5737-c982-4e3f-9faf-083ca9dc56ac</td>\n",
       "      <td>True</td>\n",
       "      <td>False</td>\n",
       "      <td>2.50</td>\n",
       "    </tr>\n",
       "    <tr>\n",
       "      <th>4</th>\n",
       "      <td>975b583e-91e6-424e-851d-4de6a37813f5</td>\n",
       "      <td>psk-9</td>\n",
       "      <td>اربيان دجاج l</td>\n",
       "      <td>Shawarma</td>\n",
       "      <td>975b5737-c8e7-4ca6-a4b8-2c1546d5b8a1</td>\n",
       "      <td>True</td>\n",
       "      <td>False</td>\n",
       "      <td>3.75</td>\n",
       "    </tr>\n",
       "  </tbody>\n",
       "</table>\n",
       "</div>"
      ],
      "text/plain": [
       "                             product_id product_sku     product_name  \\\n",
       "0  975b583e-8e4e-4500-b416-e77dd352726a      psk-14  تشكس فرايز زنجر   \n",
       "1  975b583e-90a9-420a-804e-b41dddbe0971       psk-5           كلاسيك   \n",
       "2  975b583e-90af-4319-87d3-022d8f1936d4      psk-13      تشكس ستريبس   \n",
       "3  975b583e-9145-4e05-90e7-9fa596c38888      psk-16     فرايز باجبنة   \n",
       "4  975b583e-91e6-424e-851d-4de6a37813f5       psk-9    اربيان دجاج l   \n",
       "\n",
       "    category_name                           category_id  is_active  \\\n",
       "0           Fries  975b5737-c982-4e3f-9faf-083ca9dc56ac       True   \n",
       "1        Shawarma  975b5737-c8e7-4ca6-a4b8-2c1546d5b8a1       True   \n",
       "2  Chicken burger  975b5737-ccc4-4c1f-8599-5e246eee4a3b       True   \n",
       "3           Fries  975b5737-c982-4e3f-9faf-083ca9dc56ac       True   \n",
       "4        Shawarma  975b5737-c8e7-4ca6-a4b8-2c1546d5b8a1       True   \n",
       "\n",
       "   is_stock_product  price  \n",
       "0             False   5.00  \n",
       "1             False   1.50  \n",
       "2             False   4.50  \n",
       "3             False   2.50  \n",
       "4             False   3.75  "
      ]
     },
     "execution_count": 20,
     "metadata": {},
     "output_type": "execute_result"
    }
   ],
   "source": [
    "products.head()"
   ]
  },
  {
   "cell_type": "code",
   "execution_count": 21,
   "metadata": {
    "execution": {
     "iopub.execute_input": "2023-06-01T11:43:13.121655Z",
     "iopub.status.busy": "2023-06-01T11:43:13.121385Z",
     "iopub.status.idle": "2023-06-01T11:43:13.127257Z",
     "shell.execute_reply": "2023-06-01T11:43:13.126424Z"
    }
   },
   "outputs": [
    {
     "data": {
      "text/plain": [
       "array(['تشكس فرايز زنجر', 'كلاسيك', 'تشكس ستريبس', 'فرايز باجبنة',\n",
       "       'اربيان دجاج l', 'تشكس برجر', 'تشيزي', 'اوريجنال', 'بيج ميل',\n",
       "       'فرايز', 'ديبي برجر', 'تشكس فرايز شاورما', 'موهيتو', 'كوكتيل',\n",
       "       'برو', 'هوت دجاج', 'ذا بارتي', 'بيبسي', 'اربيان دجاج xl',\n",
       "       'شيك دجاج', 'مياه', 'سفن', 'هوت صوص', 'مرندا', 'بيبسي دايت', 'ثوم',\n",
       "       'سفن دايت', 'مخلل', 'جبنة', 'تشكس صوص', 'رانش', 'دبس رمان',\n",
       "       'راب شيكس', 'صوص ثوم حار', 'فرشلي', '5 اوريجنال عرض كريم 5JD',\n",
       "       'عرض بيج شيكس / عائلية  / 10JOD', 'عرض 2 وجبة لاج دجاج 5 د',\n",
       "       'وجبة مشاركة شاورما +زنجر + 2 بيبسي // كريم+ طلبات',\n",
       "       'وجبة مشاركة برغر + زنجر + 2 بيبسي // كريم+ طلبات', 'وجبة موظفين',\n",
       "       'عصير موسمي', 'وجبة لارج', 'بيج شيكس عرض فوديز 9 د',\n",
       "       'وجبة مشاركة برجر عرض 10 د', 'عرض وجبة عائلية 10د',\n",
       "       'عرض وجبة الاصدقاء  / مشاركة شاورما 6.500 JOD',\n",
       "       'عرض كريم 2 وجبة لارج 5 د', 'عرض كريم XL اربيان 50%',\n",
       "       'عرض كريم 2 اورجينال+1 بطاط +1 بيبسي',\n",
       "       'شيكس برغر / طلبات /  بيبسي +بطاطا',\n",
       "       'دبي برغر / طلبات /  بيبسي +بطاطا',\n",
       "       'وجبة مشاركة شاورما + 2 بيبسي  // 8JD',\n",
       "       'وجبة مشاركة برغر  + 2 بيبسي  // 10JD',\n",
       "       'شاورما بيج 12 د / عرض كريم'], dtype=object)"
      ]
     },
     "execution_count": 21,
     "metadata": {},
     "output_type": "execute_result"
    }
   ],
   "source": [
    "products.product_name.unique()"
   ]
  },
  {
   "cell_type": "code",
   "execution_count": 22,
   "metadata": {
    "execution": {
     "iopub.execute_input": "2023-06-01T11:43:13.130576Z",
     "iopub.status.busy": "2023-06-01T11:43:13.130080Z",
     "iopub.status.idle": "2023-06-01T11:43:13.135883Z",
     "shell.execute_reply": "2023-06-01T11:43:13.134992Z"
    }
   },
   "outputs": [
    {
     "data": {
      "text/plain": [
       "array(['psk-14', 'psk-5', 'psk-13', 'psk-16', 'psk-9', 'psk-11', 'psk-6',\n",
       "       'psk-4', 'psk-8', 'psk-17', 'psk-12', 'psk-15', 'psk-20', 'psk-18',\n",
       "       'psk-3', 'psk-2', 'psk-19', 'psk-21', 'psk-10', 'psk-7', 'psk-26',\n",
       "       'psk-23', 'psk-30', 'psk-25', 'psk-22', 'psk-29', 'psk-24',\n",
       "       'psk-28', 'psk-32', 'psk-27', 'psk-31', 'psk-33', 'sk-0106',\n",
       "       'sk-0107', 'sk-0108', 'sk-0109', 'sk-0110', 'sk-0111', 'sk-0112',\n",
       "       'sk-0113', 'sk-0114', 'sk-0115', 'sk-0116', 'sk-0117', 'sk-0118',\n",
       "       'sk-0119', 'sk-0120', 'sk-0121', 'sk-0122', 'sk-0123', 'sk-0124',\n",
       "       'sk-0125', 'sk-0126', 'sk-0128', 'sk-0129', 'sk-0130'],\n",
       "      dtype=object)"
      ]
     },
     "execution_count": 22,
     "metadata": {},
     "output_type": "execute_result"
    }
   ],
   "source": [
    "products.product_sku.unique()"
   ]
  },
  {
   "cell_type": "code",
   "execution_count": 23,
   "metadata": {
    "execution": {
     "iopub.execute_input": "2023-06-01T11:43:13.139669Z",
     "iopub.status.busy": "2023-06-01T11:43:13.139418Z",
     "iopub.status.idle": "2023-06-01T11:43:13.144758Z",
     "shell.execute_reply": "2023-06-01T11:43:13.143900Z"
    }
   },
   "outputs": [
    {
     "data": {
      "text/plain": [
       "56"
      ]
     },
     "execution_count": 23,
     "metadata": {},
     "output_type": "execute_result"
    }
   ],
   "source": [
    "products.product_sku.nunique()"
   ]
  },
  {
   "cell_type": "code",
   "execution_count": 24,
   "metadata": {
    "execution": {
     "iopub.execute_input": "2023-06-01T11:43:13.148589Z",
     "iopub.status.busy": "2023-06-01T11:43:13.147854Z",
     "iopub.status.idle": "2023-06-01T11:43:13.153584Z",
     "shell.execute_reply": "2023-06-01T11:43:13.152854Z"
    }
   },
   "outputs": [],
   "source": [
    "products.to_csv('../../data/processed/updates/products.csv', index=False)"
   ]
  },
  {
   "attachments": {},
   "cell_type": "markdown",
   "metadata": {},
   "source": [
    "# Branches"
   ]
  },
  {
   "cell_type": "code",
   "execution_count": 25,
   "metadata": {
    "execution": {
     "iopub.execute_input": "2023-06-01T11:43:13.157025Z",
     "iopub.status.busy": "2023-06-01T11:43:13.156779Z",
     "iopub.status.idle": "2023-06-01T11:43:13.164864Z",
     "shell.execute_reply": "2023-06-01T11:43:13.164069Z"
    }
   },
   "outputs": [
    {
     "data": {
      "text/html": [
       "<div>\n",
       "<style scoped>\n",
       "    .dataframe tbody tr th:only-of-type {\n",
       "        vertical-align: middle;\n",
       "    }\n",
       "\n",
       "    .dataframe tbody tr th {\n",
       "        vertical-align: top;\n",
       "    }\n",
       "\n",
       "    .dataframe thead th {\n",
       "        text-align: right;\n",
       "    }\n",
       "</style>\n",
       "<table border=\"1\" class=\"dataframe\">\n",
       "  <thead>\n",
       "    <tr style=\"text-align: right;\">\n",
       "      <th></th>\n",
       "      <th>branch_id</th>\n",
       "      <th>branch_name</th>\n",
       "      <th>opening_from</th>\n",
       "      <th>opening_to</th>\n",
       "    </tr>\n",
       "  </thead>\n",
       "  <tbody>\n",
       "    <tr>\n",
       "      <th>0</th>\n",
       "      <td>975b3d24-cb71-4df8-930e-054bcd67f90c</td>\n",
       "      <td>4Chicks Abdoun</td>\n",
       "      <td>09:00</td>\n",
       "      <td>03:00</td>\n",
       "    </tr>\n",
       "    <tr>\n",
       "      <th>1</th>\n",
       "      <td>975b3d24-ce3d-4801-9c11-582a817cc591</td>\n",
       "      <td>4Chicks 7th circle</td>\n",
       "      <td>10:00</td>\n",
       "      <td>03:00</td>\n",
       "    </tr>\n",
       "    <tr>\n",
       "      <th>2</th>\n",
       "      <td>976744f0-20ac-4dd5-a06a-6a1ee9ffa7b5</td>\n",
       "      <td>4Chicks Al-Jubeha</td>\n",
       "      <td>10:00</td>\n",
       "      <td>03:00</td>\n",
       "    </tr>\n",
       "  </tbody>\n",
       "</table>\n",
       "</div>"
      ],
      "text/plain": [
       "                              branch_id         branch_name opening_from  \\\n",
       "0  975b3d24-cb71-4df8-930e-054bcd67f90c      4Chicks Abdoun        09:00   \n",
       "1  975b3d24-ce3d-4801-9c11-582a817cc591  4Chicks 7th circle        10:00   \n",
       "2  976744f0-20ac-4dd5-a06a-6a1ee9ffa7b5   4Chicks Al-Jubeha        10:00   \n",
       "\n",
       "  opening_to  \n",
       "0      03:00  \n",
       "1      03:00  \n",
       "2      03:00  "
      ]
     },
     "execution_count": 25,
     "metadata": {},
     "output_type": "execute_result"
    }
   ],
   "source": [
    "branches.head()"
   ]
  },
  {
   "cell_type": "code",
   "execution_count": 26,
   "metadata": {
    "execution": {
     "iopub.execute_input": "2023-06-01T11:43:13.168348Z",
     "iopub.status.busy": "2023-06-01T11:43:13.167881Z",
     "iopub.status.idle": "2023-06-01T11:43:13.175699Z",
     "shell.execute_reply": "2023-06-01T11:43:13.174933Z"
    }
   },
   "outputs": [],
   "source": [
    "branches['opening_from'] = pd.to_datetime(branches['opening_from'])\n",
    "branches['opening_to'] = pd.to_datetime(branches['opening_to'])\n",
    "\n",
    "branches['opening_from'] = branches['opening_from'].dt.hour\n",
    "branches['opening_to'] = branches['opening_to'].dt.hour"
   ]
  },
  {
   "cell_type": "code",
   "execution_count": 27,
   "metadata": {
    "execution": {
     "iopub.execute_input": "2023-06-01T11:43:13.179212Z",
     "iopub.status.busy": "2023-06-01T11:43:13.178617Z",
     "iopub.status.idle": "2023-06-01T11:43:13.183315Z",
     "shell.execute_reply": "2023-06-01T11:43:13.182725Z"
    }
   },
   "outputs": [],
   "source": [
    "branches.to_csv('../../data/processed/updates/branches.csv', index=False)"
   ]
  },
  {
   "attachments": {},
   "cell_type": "markdown",
   "metadata": {},
   "source": [
    "# Categories"
   ]
  },
  {
   "cell_type": "code",
   "execution_count": 28,
   "metadata": {
    "execution": {
     "iopub.execute_input": "2023-06-01T11:43:13.186912Z",
     "iopub.status.busy": "2023-06-01T11:43:13.186211Z",
     "iopub.status.idle": "2023-06-01T11:43:13.194239Z",
     "shell.execute_reply": "2023-06-01T11:43:13.193458Z"
    }
   },
   "outputs": [
    {
     "data": {
      "text/html": [
       "<div>\n",
       "<style scoped>\n",
       "    .dataframe tbody tr th:only-of-type {\n",
       "        vertical-align: middle;\n",
       "    }\n",
       "\n",
       "    .dataframe tbody tr th {\n",
       "        vertical-align: top;\n",
       "    }\n",
       "\n",
       "    .dataframe thead th {\n",
       "        text-align: right;\n",
       "    }\n",
       "</style>\n",
       "<table border=\"1\" class=\"dataframe\">\n",
       "  <thead>\n",
       "    <tr style=\"text-align: right;\">\n",
       "      <th></th>\n",
       "      <th>category_id</th>\n",
       "      <th>category_name</th>\n",
       "    </tr>\n",
       "  </thead>\n",
       "  <tbody>\n",
       "    <tr>\n",
       "      <th>0</th>\n",
       "      <td>975b5737-c8e7-4ca6-a4b8-2c1546d5b8a1</td>\n",
       "      <td>Shawarma</td>\n",
       "    </tr>\n",
       "    <tr>\n",
       "      <th>1</th>\n",
       "      <td>975b5737-c982-4e3f-9faf-083ca9dc56ac</td>\n",
       "      <td>Fries</td>\n",
       "    </tr>\n",
       "    <tr>\n",
       "      <th>2</th>\n",
       "      <td>975b5737-cad1-4031-9319-5e3a7addba42</td>\n",
       "      <td>Drinks</td>\n",
       "    </tr>\n",
       "    <tr>\n",
       "      <th>3</th>\n",
       "      <td>975b5737-ccc4-4c1f-8599-5e246eee4a3b</td>\n",
       "      <td>Chicken burger</td>\n",
       "    </tr>\n",
       "    <tr>\n",
       "      <th>4</th>\n",
       "      <td>975b5737-cf8c-4ef3-a445-7c4a71f349c5</td>\n",
       "      <td>Sauces</td>\n",
       "    </tr>\n",
       "    <tr>\n",
       "      <th>5</th>\n",
       "      <td>975b5737-d227-4b7c-9962-3a7b09103597</td>\n",
       "      <td>Juices</td>\n",
       "    </tr>\n",
       "  </tbody>\n",
       "</table>\n",
       "</div>"
      ],
      "text/plain": [
       "                            category_id   category_name\n",
       "0  975b5737-c8e7-4ca6-a4b8-2c1546d5b8a1        Shawarma\n",
       "1  975b5737-c982-4e3f-9faf-083ca9dc56ac           Fries\n",
       "2  975b5737-cad1-4031-9319-5e3a7addba42          Drinks\n",
       "3  975b5737-ccc4-4c1f-8599-5e246eee4a3b  Chicken burger\n",
       "4  975b5737-cf8c-4ef3-a445-7c4a71f349c5          Sauces\n",
       "5  975b5737-d227-4b7c-9962-3a7b09103597          Juices"
      ]
     },
     "execution_count": 28,
     "metadata": {},
     "output_type": "execute_result"
    }
   ],
   "source": [
    "categories"
   ]
  },
  {
   "cell_type": "code",
   "execution_count": 29,
   "metadata": {
    "execution": {
     "iopub.execute_input": "2023-06-01T11:43:13.197973Z",
     "iopub.status.busy": "2023-06-01T11:43:13.197317Z",
     "iopub.status.idle": "2023-06-01T11:43:13.201912Z",
     "shell.execute_reply": "2023-06-01T11:43:13.201371Z"
    }
   },
   "outputs": [],
   "source": [
    "categories.to_csv('../../data/processed/updates/categories.csv', index=False)"
   ]
  },
  {
   "cell_type": "code",
   "execution_count": 30,
   "metadata": {
    "execution": {
     "iopub.execute_input": "2023-06-01T11:43:13.205242Z",
     "iopub.status.busy": "2023-06-01T11:43:13.204843Z",
     "iopub.status.idle": "2023-06-01T11:43:13.208485Z",
     "shell.execute_reply": "2023-06-01T11:43:13.207631Z"
    }
   },
   "outputs": [],
   "source": [
    "# def check_values_exist(list1, list2):\n",
    "#     return all(value in list2 for value in list1)\n",
    "\n",
    "# check_values_exist(products.category_id.unique(), categories.category_id.unique())"
   ]
  }
 ],
 "metadata": {
  "kernelspec": {
   "display_name": ".venv",
   "language": "python",
   "name": "python3"
  },
  "language_info": {
   "codemirror_mode": {
    "name": "ipython",
    "version": 3
   },
   "file_extension": ".py",
   "mimetype": "text/x-python",
   "name": "python",
   "nbconvert_exporter": "python",
   "pygments_lexer": "ipython3",
   "version": "3.10.6"
  }
 },
 "nbformat": 4,
 "nbformat_minor": 2
}
