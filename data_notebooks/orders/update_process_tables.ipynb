{
 "cells": [
  {
   "cell_type": "code",
   "execution_count": 1,
   "metadata": {
    "execution": {
     "iopub.execute_input": "2023-06-09T10:05:23.035306Z",
     "iopub.status.busy": "2023-06-09T10:05:23.034749Z",
     "iopub.status.idle": "2023-06-09T10:05:23.410661Z",
     "shell.execute_reply": "2023-06-09T10:05:23.409803Z"
    }
   },
   "outputs": [],
   "source": [
    "import pandas as pd\n"
   ]
  },
  {
   "cell_type": "code",
   "execution_count": 2,
   "metadata": {
    "execution": {
     "iopub.execute_input": "2023-06-09T10:05:23.414857Z",
     "iopub.status.busy": "2023-06-09T10:05:23.414354Z",
     "iopub.status.idle": "2023-06-09T10:05:23.468291Z",
     "shell.execute_reply": "2023-06-09T10:05:23.467331Z"
    }
   },
   "outputs": [],
   "source": [
    "#read all data\n",
    "orders_header = pd.read_csv('../../data/updates/order_header.csv')\n",
    "orders_details = pd.read_csv('../../data/updates/order_details.csv')\n",
    "products = pd.read_csv('../../data/updates/products.csv')\n",
    "\n",
    "payment_methods = pd.read_csv('../../data/updates/payment_methods.csv')\n",
    "branches = pd.read_csv('../../data/updates/branches.csv')\n",
    "categories = pd.read_csv('../../data/updates/categories.csv')\n",
    "\n",
    "\n",
    "\n",
    "\n"
   ]
  },
  {
   "attachments": {},
   "cell_type": "markdown",
   "metadata": {},
   "source": [
    "# Orders Headers"
   ]
  },
  {
   "cell_type": "code",
   "execution_count": 3,
   "metadata": {
    "execution": {
     "iopub.execute_input": "2023-06-09T10:05:23.472225Z",
     "iopub.status.busy": "2023-06-09T10:05:23.471875Z",
     "iopub.status.idle": "2023-06-09T10:05:23.491957Z",
     "shell.execute_reply": "2023-06-09T10:05:23.491053Z"
    }
   },
   "outputs": [
    {
     "data": {
      "text/html": [
       "<div>\n",
       "<style scoped>\n",
       "    .dataframe tbody tr th:only-of-type {\n",
       "        vertical-align: middle;\n",
       "    }\n",
       "\n",
       "    .dataframe tbody tr th {\n",
       "        vertical-align: top;\n",
       "    }\n",
       "\n",
       "    .dataframe thead th {\n",
       "        text-align: right;\n",
       "    }\n",
       "</style>\n",
       "<table border=\"1\" class=\"dataframe\">\n",
       "  <thead>\n",
       "    <tr style=\"text-align: right;\">\n",
       "      <th></th>\n",
       "      <th>order_id</th>\n",
       "      <th>branch_id</th>\n",
       "      <th>order_date</th>\n",
       "      <th>order_total_price</th>\n",
       "      <th>order_source</th>\n",
       "      <th>order_type</th>\n",
       "      <th>order_status</th>\n",
       "    </tr>\n",
       "  </thead>\n",
       "  <tbody>\n",
       "    <tr>\n",
       "      <th>0</th>\n",
       "      <td>01566587-53fb-44a7-9592-23b8533291ac</td>\n",
       "      <td>975b3d24-ce3d-4801-9c11-582a817cc591</td>\n",
       "      <td>2023-06-02 23:25:21</td>\n",
       "      <td>2.00</td>\n",
       "      <td>1</td>\n",
       "      <td>2</td>\n",
       "      <td>4</td>\n",
       "    </tr>\n",
       "    <tr>\n",
       "      <th>1</th>\n",
       "      <td>03a1cf3f-a117-40fd-bc58-35a85a96e635</td>\n",
       "      <td>976744f0-20ac-4dd5-a06a-6a1ee9ffa7b5</td>\n",
       "      <td>2023-06-02 17:39:01</td>\n",
       "      <td>4.25</td>\n",
       "      <td>1</td>\n",
       "      <td>2</td>\n",
       "      <td>4</td>\n",
       "    </tr>\n",
       "    <tr>\n",
       "      <th>2</th>\n",
       "      <td>04a12374-51bf-484a-8e34-e7731d674d97</td>\n",
       "      <td>975b3d24-cb71-4df8-930e-054bcd67f90c</td>\n",
       "      <td>2023-06-03 01:16:41</td>\n",
       "      <td>0.00</td>\n",
       "      <td>1</td>\n",
       "      <td>1</td>\n",
       "      <td>4</td>\n",
       "    </tr>\n",
       "    <tr>\n",
       "      <th>3</th>\n",
       "      <td>04ef9502-3ba4-40e0-8166-e922cd08dade</td>\n",
       "      <td>976744f0-20ac-4dd5-a06a-6a1ee9ffa7b5</td>\n",
       "      <td>2023-06-02 17:20:45</td>\n",
       "      <td>7.50</td>\n",
       "      <td>1</td>\n",
       "      <td>2</td>\n",
       "      <td>4</td>\n",
       "    </tr>\n",
       "    <tr>\n",
       "      <th>4</th>\n",
       "      <td>050552f1-3d57-4b1d-ab20-8ceec49a3ca0</td>\n",
       "      <td>975b3d24-ce3d-4801-9c11-582a817cc591</td>\n",
       "      <td>2023-06-02 14:46:55</td>\n",
       "      <td>10.80</td>\n",
       "      <td>1</td>\n",
       "      <td>1</td>\n",
       "      <td>4</td>\n",
       "    </tr>\n",
       "  </tbody>\n",
       "</table>\n",
       "</div>"
      ],
      "text/plain": [
       "                               order_id                             branch_id  \\\n",
       "0  01566587-53fb-44a7-9592-23b8533291ac  975b3d24-ce3d-4801-9c11-582a817cc591   \n",
       "1  03a1cf3f-a117-40fd-bc58-35a85a96e635  976744f0-20ac-4dd5-a06a-6a1ee9ffa7b5   \n",
       "2  04a12374-51bf-484a-8e34-e7731d674d97  975b3d24-cb71-4df8-930e-054bcd67f90c   \n",
       "3  04ef9502-3ba4-40e0-8166-e922cd08dade  976744f0-20ac-4dd5-a06a-6a1ee9ffa7b5   \n",
       "4  050552f1-3d57-4b1d-ab20-8ceec49a3ca0  975b3d24-ce3d-4801-9c11-582a817cc591   \n",
       "\n",
       "            order_date  order_total_price  order_source  order_type  \\\n",
       "0  2023-06-02 23:25:21               2.00             1           2   \n",
       "1  2023-06-02 17:39:01               4.25             1           2   \n",
       "2  2023-06-03 01:16:41               0.00             1           1   \n",
       "3  2023-06-02 17:20:45               7.50             1           2   \n",
       "4  2023-06-02 14:46:55              10.80             1           1   \n",
       "\n",
       "   order_status  \n",
       "0             4  \n",
       "1             4  \n",
       "2             4  \n",
       "3             4  \n",
       "4             4  "
      ]
     },
     "execution_count": 3,
     "metadata": {},
     "output_type": "execute_result"
    }
   ],
   "source": [
    "orders_header.head()"
   ]
  },
  {
   "cell_type": "code",
   "execution_count": 4,
   "metadata": {
    "execution": {
     "iopub.execute_input": "2023-06-09T10:05:23.555369Z",
     "iopub.status.busy": "2023-06-09T10:05:23.554777Z",
     "iopub.status.idle": "2023-06-09T10:05:23.564494Z",
     "shell.execute_reply": "2023-06-09T10:05:23.563649Z"
    }
   },
   "outputs": [],
   "source": [
    "orders_types = {1:'Dine In', 2:'Pick Up', 3:'Delivery', '4':'Drive Thru'}\n",
    "orders_sources = {1:'Cashier', 2:'API', 3:'Call Center'}\n",
    "orders_statuses = {1:'Pending', 2:'Active', 3:'Declined', 4:'Closed', 5:'Returned', 6:'Joined', 7:'Void'}\n",
    "# orders_delivery_statuses = {1:'sent to kitchen', 2:'ready', 3:'assigned', 4:'en route', 5:'delivered', 6:'closed'}\n",
    "# products_statuses = {1:'Pending', 2:'Active', 3:'Closed', 4:'Moved', 5:'Void', 6:'Returned', 7:'Declined'}\n",
    "# discounts_types = {1:'Open', 2:'Predefined', 3:'Coupon', 4:'Loyalty', 5:'Promotion'}\n",
    "\n",
    "#---------------\n",
    "\n",
    "orders_header['order_type'] = orders_header['order_type'].map(orders_types)\n",
    "orders_header['order_source'] = orders_header['order_source'].map(orders_sources)\n",
    "orders_header['order_status'] = orders_header['order_status'].map(orders_statuses)\n"
   ]
  },
  {
   "cell_type": "code",
   "execution_count": 5,
   "metadata": {
    "execution": {
     "iopub.execute_input": "2023-06-09T10:05:23.568125Z",
     "iopub.status.busy": "2023-06-09T10:05:23.567596Z",
     "iopub.status.idle": "2023-06-09T10:05:23.574707Z",
     "shell.execute_reply": "2023-06-09T10:05:23.573907Z"
    }
   },
   "outputs": [],
   "source": [
    "orders_header['order_datetime'] = pd.to_datetime(orders_header['order_date'])\n",
    "\n",
    "# orders_header['order_time'] = orders_header['order_datetime'].dt.time\n",
    "# orders_header['order_date'] = orders_header['order_datetime'].dt.date\n",
    "\n",
    "# orders_header['hour'] = orders_header['order_datetime'].dt.hour\n",
    "# orders_header['day_name'] = orders_header['order_datetime'].dt.day_name()\n",
    "# orders_header['is_weekend'] = orders_header['order_datetime'].dt.dayofweek.isin([4, 5])\n",
    "# orders_header['is_weekend'].replace({True:'Yes', False:'No'}, inplace=True)\n",
    "# orders_header['month'] = orders_header['order_datetime'].dt.month\n",
    "# orders_header['year'] = orders_header['order_datetime'].dt.year\n",
    "\n",
    "\n"
   ]
  },
  {
   "cell_type": "code",
   "execution_count": 6,
   "metadata": {
    "execution": {
     "iopub.execute_input": "2023-06-09T10:05:23.578540Z",
     "iopub.status.busy": "2023-06-09T10:05:23.577963Z",
     "iopub.status.idle": "2023-06-09T10:05:23.587211Z",
     "shell.execute_reply": "2023-06-09T10:05:23.586033Z"
    }
   },
   "outputs": [],
   "source": [
    "orders_header.drop_duplicates(inplace=True)"
   ]
  },
  {
   "cell_type": "code",
   "execution_count": 7,
   "metadata": {
    "execution": {
     "iopub.execute_input": "2023-06-09T10:05:23.590913Z",
     "iopub.status.busy": "2023-06-09T10:05:23.590486Z",
     "iopub.status.idle": "2023-06-09T10:05:23.608391Z",
     "shell.execute_reply": "2023-06-09T10:05:23.607615Z"
    }
   },
   "outputs": [
    {
     "data": {
      "text/plain": [
       "order_id             0\n",
       "branch_id            0\n",
       "order_date           0\n",
       "order_total_price    0\n",
       "order_source         0\n",
       "order_type           0\n",
       "order_status         0\n",
       "order_datetime       0\n",
       "dtype: int64"
      ]
     },
     "execution_count": 7,
     "metadata": {},
     "output_type": "execute_result"
    }
   ],
   "source": [
    "orders_header.isnull().sum()"
   ]
  },
  {
   "cell_type": "code",
   "execution_count": 8,
   "metadata": {
    "execution": {
     "iopub.execute_input": "2023-06-09T10:05:23.612167Z",
     "iopub.status.busy": "2023-06-09T10:05:23.611908Z",
     "iopub.status.idle": "2023-06-09T10:05:23.629513Z",
     "shell.execute_reply": "2023-06-09T10:05:23.628730Z"
    }
   },
   "outputs": [
    {
     "data": {
      "text/html": [
       "<div>\n",
       "<style scoped>\n",
       "    .dataframe tbody tr th:only-of-type {\n",
       "        vertical-align: middle;\n",
       "    }\n",
       "\n",
       "    .dataframe tbody tr th {\n",
       "        vertical-align: top;\n",
       "    }\n",
       "\n",
       "    .dataframe thead th {\n",
       "        text-align: right;\n",
       "    }\n",
       "</style>\n",
       "<table border=\"1\" class=\"dataframe\">\n",
       "  <thead>\n",
       "    <tr style=\"text-align: right;\">\n",
       "      <th></th>\n",
       "      <th>order_id</th>\n",
       "      <th>branch_id</th>\n",
       "      <th>order_date</th>\n",
       "      <th>order_total_price</th>\n",
       "      <th>order_source</th>\n",
       "      <th>order_type</th>\n",
       "      <th>order_status</th>\n",
       "      <th>order_datetime</th>\n",
       "    </tr>\n",
       "  </thead>\n",
       "  <tbody>\n",
       "    <tr>\n",
       "      <th>0</th>\n",
       "      <td>01566587-53fb-44a7-9592-23b8533291ac</td>\n",
       "      <td>975b3d24-ce3d-4801-9c11-582a817cc591</td>\n",
       "      <td>2023-06-02 23:25:21</td>\n",
       "      <td>2.00</td>\n",
       "      <td>Cashier</td>\n",
       "      <td>Pick Up</td>\n",
       "      <td>Closed</td>\n",
       "      <td>2023-06-02 23:25:21</td>\n",
       "    </tr>\n",
       "    <tr>\n",
       "      <th>1</th>\n",
       "      <td>03a1cf3f-a117-40fd-bc58-35a85a96e635</td>\n",
       "      <td>976744f0-20ac-4dd5-a06a-6a1ee9ffa7b5</td>\n",
       "      <td>2023-06-02 17:39:01</td>\n",
       "      <td>4.25</td>\n",
       "      <td>Cashier</td>\n",
       "      <td>Pick Up</td>\n",
       "      <td>Closed</td>\n",
       "      <td>2023-06-02 17:39:01</td>\n",
       "    </tr>\n",
       "    <tr>\n",
       "      <th>2</th>\n",
       "      <td>04a12374-51bf-484a-8e34-e7731d674d97</td>\n",
       "      <td>975b3d24-cb71-4df8-930e-054bcd67f90c</td>\n",
       "      <td>2023-06-03 01:16:41</td>\n",
       "      <td>0.00</td>\n",
       "      <td>Cashier</td>\n",
       "      <td>Dine In</td>\n",
       "      <td>Closed</td>\n",
       "      <td>2023-06-03 01:16:41</td>\n",
       "    </tr>\n",
       "    <tr>\n",
       "      <th>3</th>\n",
       "      <td>04ef9502-3ba4-40e0-8166-e922cd08dade</td>\n",
       "      <td>976744f0-20ac-4dd5-a06a-6a1ee9ffa7b5</td>\n",
       "      <td>2023-06-02 17:20:45</td>\n",
       "      <td>7.50</td>\n",
       "      <td>Cashier</td>\n",
       "      <td>Pick Up</td>\n",
       "      <td>Closed</td>\n",
       "      <td>2023-06-02 17:20:45</td>\n",
       "    </tr>\n",
       "    <tr>\n",
       "      <th>4</th>\n",
       "      <td>050552f1-3d57-4b1d-ab20-8ceec49a3ca0</td>\n",
       "      <td>975b3d24-ce3d-4801-9c11-582a817cc591</td>\n",
       "      <td>2023-06-02 14:46:55</td>\n",
       "      <td>10.80</td>\n",
       "      <td>Cashier</td>\n",
       "      <td>Dine In</td>\n",
       "      <td>Closed</td>\n",
       "      <td>2023-06-02 14:46:55</td>\n",
       "    </tr>\n",
       "  </tbody>\n",
       "</table>\n",
       "</div>"
      ],
      "text/plain": [
       "                               order_id                             branch_id  \\\n",
       "0  01566587-53fb-44a7-9592-23b8533291ac  975b3d24-ce3d-4801-9c11-582a817cc591   \n",
       "1  03a1cf3f-a117-40fd-bc58-35a85a96e635  976744f0-20ac-4dd5-a06a-6a1ee9ffa7b5   \n",
       "2  04a12374-51bf-484a-8e34-e7731d674d97  975b3d24-cb71-4df8-930e-054bcd67f90c   \n",
       "3  04ef9502-3ba4-40e0-8166-e922cd08dade  976744f0-20ac-4dd5-a06a-6a1ee9ffa7b5   \n",
       "4  050552f1-3d57-4b1d-ab20-8ceec49a3ca0  975b3d24-ce3d-4801-9c11-582a817cc591   \n",
       "\n",
       "            order_date  order_total_price order_source order_type  \\\n",
       "0  2023-06-02 23:25:21               2.00      Cashier    Pick Up   \n",
       "1  2023-06-02 17:39:01               4.25      Cashier    Pick Up   \n",
       "2  2023-06-03 01:16:41               0.00      Cashier    Dine In   \n",
       "3  2023-06-02 17:20:45               7.50      Cashier    Pick Up   \n",
       "4  2023-06-02 14:46:55              10.80      Cashier    Dine In   \n",
       "\n",
       "  order_status      order_datetime  \n",
       "0       Closed 2023-06-02 23:25:21  \n",
       "1       Closed 2023-06-02 17:39:01  \n",
       "2       Closed 2023-06-03 01:16:41  \n",
       "3       Closed 2023-06-02 17:20:45  \n",
       "4       Closed 2023-06-02 14:46:55  "
      ]
     },
     "execution_count": 8,
     "metadata": {},
     "output_type": "execute_result"
    }
   ],
   "source": [
    "orders_header.head()"
   ]
  },
  {
   "cell_type": "code",
   "execution_count": 9,
   "metadata": {
    "execution": {
     "iopub.execute_input": "2023-06-09T10:05:23.634843Z",
     "iopub.status.busy": "2023-06-09T10:05:23.634444Z",
     "iopub.status.idle": "2023-06-09T10:05:23.639309Z",
     "shell.execute_reply": "2023-06-09T10:05:23.638409Z"
    }
   },
   "outputs": [],
   "source": [
    "orders_header.rename(columns={'order_id':'order_header_id'}, inplace=True)"
   ]
  },
  {
   "cell_type": "code",
   "execution_count": 10,
   "metadata": {
    "execution": {
     "iopub.execute_input": "2023-06-09T10:05:23.643058Z",
     "iopub.status.busy": "2023-06-09T10:05:23.642752Z",
     "iopub.status.idle": "2023-06-09T10:05:23.647606Z",
     "shell.execute_reply": "2023-06-09T10:05:23.646835Z"
    }
   },
   "outputs": [],
   "source": [
    "orders_header['order_status'].fillna('Void', inplace=True)"
   ]
  },
  {
   "cell_type": "code",
   "execution_count": 11,
   "metadata": {
    "execution": {
     "iopub.execute_input": "2023-06-09T10:05:23.651827Z",
     "iopub.status.busy": "2023-06-09T10:05:23.651250Z",
     "iopub.status.idle": "2023-06-09T10:05:23.655890Z",
     "shell.execute_reply": "2023-06-09T10:05:23.655149Z"
    }
   },
   "outputs": [],
   "source": [
    "orders_header.rename(columns={'order_id':'order_header_id'}, inplace=True)"
   ]
  },
  {
   "cell_type": "code",
   "execution_count": 12,
   "metadata": {
    "execution": {
     "iopub.execute_input": "2023-06-09T10:05:23.659615Z",
     "iopub.status.busy": "2023-06-09T10:05:23.659338Z",
     "iopub.status.idle": "2023-06-09T10:05:23.696441Z",
     "shell.execute_reply": "2023-06-09T10:05:23.695612Z"
    }
   },
   "outputs": [],
   "source": [
    "orders_header.to_csv('../../data/processed/updates/order_header.csv', index=False)"
   ]
  },
  {
   "attachments": {},
   "cell_type": "markdown",
   "metadata": {},
   "source": [
    "# Order Details"
   ]
  },
  {
   "cell_type": "code",
   "execution_count": 13,
   "metadata": {
    "execution": {
     "iopub.execute_input": "2023-06-09T10:05:23.701067Z",
     "iopub.status.busy": "2023-06-09T10:05:23.700600Z",
     "iopub.status.idle": "2023-06-09T10:05:23.718500Z",
     "shell.execute_reply": "2023-06-09T10:05:23.717505Z"
    }
   },
   "outputs": [
    {
     "data": {
      "text/html": [
       "<div>\n",
       "<style scoped>\n",
       "    .dataframe tbody tr th:only-of-type {\n",
       "        vertical-align: middle;\n",
       "    }\n",
       "\n",
       "    .dataframe tbody tr th {\n",
       "        vertical-align: top;\n",
       "    }\n",
       "\n",
       "    .dataframe thead th {\n",
       "        text-align: right;\n",
       "    }\n",
       "</style>\n",
       "<table border=\"1\" class=\"dataframe\">\n",
       "  <thead>\n",
       "    <tr style=\"text-align: right;\">\n",
       "      <th></th>\n",
       "      <th>order_id</th>\n",
       "      <th>branch_id</th>\n",
       "      <th>order_date</th>\n",
       "      <th>order_total_price</th>\n",
       "      <th>order_source</th>\n",
       "      <th>order_type</th>\n",
       "      <th>order_status</th>\n",
       "      <th>product_id</th>\n",
       "      <th>category_id</th>\n",
       "      <th>quantity</th>\n",
       "      <th>price</th>\n",
       "    </tr>\n",
       "  </thead>\n",
       "  <tbody>\n",
       "    <tr>\n",
       "      <th>0</th>\n",
       "      <td>01566587-53fb-44a7-9592-23b8533291ac</td>\n",
       "      <td>975b3d24-ce3d-4801-9c11-582a817cc591</td>\n",
       "      <td>2023-06-02 23:25:21</td>\n",
       "      <td>2.00</td>\n",
       "      <td>1</td>\n",
       "      <td>2</td>\n",
       "      <td>4</td>\n",
       "      <td>975b583e-93f8-4082-9f1d-8c82e9dbbb69</td>\n",
       "      <td>975b5737-c8e7-4ca6-a4b8-2c1546d5b8a1</td>\n",
       "      <td>1</td>\n",
       "      <td>2.00</td>\n",
       "    </tr>\n",
       "    <tr>\n",
       "      <th>1</th>\n",
       "      <td>03a1cf3f-a117-40fd-bc58-35a85a96e635</td>\n",
       "      <td>976744f0-20ac-4dd5-a06a-6a1ee9ffa7b5</td>\n",
       "      <td>2023-06-02 17:39:01</td>\n",
       "      <td>4.25</td>\n",
       "      <td>1</td>\n",
       "      <td>2</td>\n",
       "      <td>4</td>\n",
       "      <td>975b583e-91e6-424e-851d-4de6a37813f5</td>\n",
       "      <td>975b5737-c8e7-4ca6-a4b8-2c1546d5b8a1</td>\n",
       "      <td>1</td>\n",
       "      <td>3.75</td>\n",
       "    </tr>\n",
       "    <tr>\n",
       "      <th>2</th>\n",
       "      <td>03a1cf3f-a117-40fd-bc58-35a85a96e635</td>\n",
       "      <td>976744f0-20ac-4dd5-a06a-6a1ee9ffa7b5</td>\n",
       "      <td>2023-06-02 17:39:01</td>\n",
       "      <td>4.25</td>\n",
       "      <td>1</td>\n",
       "      <td>2</td>\n",
       "      <td>4</td>\n",
       "      <td>975b583e-9f6f-4821-96ab-13e3fc617059</td>\n",
       "      <td>975b5737-cad1-4031-9319-5e3a7addba42</td>\n",
       "      <td>1</td>\n",
       "      <td>0.50</td>\n",
       "    </tr>\n",
       "    <tr>\n",
       "      <th>3</th>\n",
       "      <td>04a12374-51bf-484a-8e34-e7731d674d97</td>\n",
       "      <td>975b3d24-cb71-4df8-930e-054bcd67f90c</td>\n",
       "      <td>2023-06-03 01:16:41</td>\n",
       "      <td>0.00</td>\n",
       "      <td>1</td>\n",
       "      <td>1</td>\n",
       "      <td>4</td>\n",
       "      <td>9897386f-7b4f-4b86-9bb2-53d6c8965efc</td>\n",
       "      <td>975b5737-c8e7-4ca6-a4b8-2c1546d5b8a1</td>\n",
       "      <td>1</td>\n",
       "      <td>0.00</td>\n",
       "    </tr>\n",
       "    <tr>\n",
       "      <th>4</th>\n",
       "      <td>04ef9502-3ba4-40e0-8166-e922cd08dade</td>\n",
       "      <td>976744f0-20ac-4dd5-a06a-6a1ee9ffa7b5</td>\n",
       "      <td>2023-06-02 17:20:45</td>\n",
       "      <td>7.50</td>\n",
       "      <td>1</td>\n",
       "      <td>2</td>\n",
       "      <td>4</td>\n",
       "      <td>975b583e-91e6-424e-851d-4de6a37813f5</td>\n",
       "      <td>975b5737-c8e7-4ca6-a4b8-2c1546d5b8a1</td>\n",
       "      <td>2</td>\n",
       "      <td>3.75</td>\n",
       "    </tr>\n",
       "  </tbody>\n",
       "</table>\n",
       "</div>"
      ],
      "text/plain": [
       "                               order_id                             branch_id  \\\n",
       "0  01566587-53fb-44a7-9592-23b8533291ac  975b3d24-ce3d-4801-9c11-582a817cc591   \n",
       "1  03a1cf3f-a117-40fd-bc58-35a85a96e635  976744f0-20ac-4dd5-a06a-6a1ee9ffa7b5   \n",
       "2  03a1cf3f-a117-40fd-bc58-35a85a96e635  976744f0-20ac-4dd5-a06a-6a1ee9ffa7b5   \n",
       "3  04a12374-51bf-484a-8e34-e7731d674d97  975b3d24-cb71-4df8-930e-054bcd67f90c   \n",
       "4  04ef9502-3ba4-40e0-8166-e922cd08dade  976744f0-20ac-4dd5-a06a-6a1ee9ffa7b5   \n",
       "\n",
       "            order_date  order_total_price  order_source  order_type  \\\n",
       "0  2023-06-02 23:25:21               2.00             1           2   \n",
       "1  2023-06-02 17:39:01               4.25             1           2   \n",
       "2  2023-06-02 17:39:01               4.25             1           2   \n",
       "3  2023-06-03 01:16:41               0.00             1           1   \n",
       "4  2023-06-02 17:20:45               7.50             1           2   \n",
       "\n",
       "   order_status                            product_id  \\\n",
       "0             4  975b583e-93f8-4082-9f1d-8c82e9dbbb69   \n",
       "1             4  975b583e-91e6-424e-851d-4de6a37813f5   \n",
       "2             4  975b583e-9f6f-4821-96ab-13e3fc617059   \n",
       "3             4  9897386f-7b4f-4b86-9bb2-53d6c8965efc   \n",
       "4             4  975b583e-91e6-424e-851d-4de6a37813f5   \n",
       "\n",
       "                            category_id  quantity  price  \n",
       "0  975b5737-c8e7-4ca6-a4b8-2c1546d5b8a1         1   2.00  \n",
       "1  975b5737-c8e7-4ca6-a4b8-2c1546d5b8a1         1   3.75  \n",
       "2  975b5737-cad1-4031-9319-5e3a7addba42         1   0.50  \n",
       "3  975b5737-c8e7-4ca6-a4b8-2c1546d5b8a1         1   0.00  \n",
       "4  975b5737-c8e7-4ca6-a4b8-2c1546d5b8a1         2   3.75  "
      ]
     },
     "execution_count": 13,
     "metadata": {},
     "output_type": "execute_result"
    }
   ],
   "source": [
    "orders_details.head()"
   ]
  },
  {
   "cell_type": "code",
   "execution_count": 14,
   "metadata": {
    "execution": {
     "iopub.execute_input": "2023-06-09T10:05:23.722950Z",
     "iopub.status.busy": "2023-06-09T10:05:23.722290Z",
     "iopub.status.idle": "2023-06-09T10:05:23.740235Z",
     "shell.execute_reply": "2023-06-09T10:05:23.739605Z"
    }
   },
   "outputs": [
    {
     "data": {
      "text/html": [
       "<div>\n",
       "<style scoped>\n",
       "    .dataframe tbody tr th:only-of-type {\n",
       "        vertical-align: middle;\n",
       "    }\n",
       "\n",
       "    .dataframe tbody tr th {\n",
       "        vertical-align: top;\n",
       "    }\n",
       "\n",
       "    .dataframe thead th {\n",
       "        text-align: right;\n",
       "    }\n",
       "</style>\n",
       "<table border=\"1\" class=\"dataframe\">\n",
       "  <thead>\n",
       "    <tr style=\"text-align: right;\">\n",
       "      <th></th>\n",
       "      <th>order_id</th>\n",
       "      <th>product_id</th>\n",
       "      <th>category_id</th>\n",
       "      <th>quantity</th>\n",
       "      <th>price</th>\n",
       "    </tr>\n",
       "  </thead>\n",
       "  <tbody>\n",
       "    <tr>\n",
       "      <th>0</th>\n",
       "      <td>01566587-53fb-44a7-9592-23b8533291ac</td>\n",
       "      <td>975b583e-93f8-4082-9f1d-8c82e9dbbb69</td>\n",
       "      <td>975b5737-c8e7-4ca6-a4b8-2c1546d5b8a1</td>\n",
       "      <td>1</td>\n",
       "      <td>2.00</td>\n",
       "    </tr>\n",
       "    <tr>\n",
       "      <th>1</th>\n",
       "      <td>03a1cf3f-a117-40fd-bc58-35a85a96e635</td>\n",
       "      <td>975b583e-91e6-424e-851d-4de6a37813f5</td>\n",
       "      <td>975b5737-c8e7-4ca6-a4b8-2c1546d5b8a1</td>\n",
       "      <td>1</td>\n",
       "      <td>3.75</td>\n",
       "    </tr>\n",
       "    <tr>\n",
       "      <th>2</th>\n",
       "      <td>03a1cf3f-a117-40fd-bc58-35a85a96e635</td>\n",
       "      <td>975b583e-9f6f-4821-96ab-13e3fc617059</td>\n",
       "      <td>975b5737-cad1-4031-9319-5e3a7addba42</td>\n",
       "      <td>1</td>\n",
       "      <td>0.50</td>\n",
       "    </tr>\n",
       "    <tr>\n",
       "      <th>3</th>\n",
       "      <td>04a12374-51bf-484a-8e34-e7731d674d97</td>\n",
       "      <td>9897386f-7b4f-4b86-9bb2-53d6c8965efc</td>\n",
       "      <td>975b5737-c8e7-4ca6-a4b8-2c1546d5b8a1</td>\n",
       "      <td>1</td>\n",
       "      <td>0.00</td>\n",
       "    </tr>\n",
       "    <tr>\n",
       "      <th>4</th>\n",
       "      <td>04ef9502-3ba4-40e0-8166-e922cd08dade</td>\n",
       "      <td>975b583e-91e6-424e-851d-4de6a37813f5</td>\n",
       "      <td>975b5737-c8e7-4ca6-a4b8-2c1546d5b8a1</td>\n",
       "      <td>2</td>\n",
       "      <td>3.75</td>\n",
       "    </tr>\n",
       "  </tbody>\n",
       "</table>\n",
       "</div>"
      ],
      "text/plain": [
       "                               order_id                            product_id  \\\n",
       "0  01566587-53fb-44a7-9592-23b8533291ac  975b583e-93f8-4082-9f1d-8c82e9dbbb69   \n",
       "1  03a1cf3f-a117-40fd-bc58-35a85a96e635  975b583e-91e6-424e-851d-4de6a37813f5   \n",
       "2  03a1cf3f-a117-40fd-bc58-35a85a96e635  975b583e-9f6f-4821-96ab-13e3fc617059   \n",
       "3  04a12374-51bf-484a-8e34-e7731d674d97  9897386f-7b4f-4b86-9bb2-53d6c8965efc   \n",
       "4  04ef9502-3ba4-40e0-8166-e922cd08dade  975b583e-91e6-424e-851d-4de6a37813f5   \n",
       "\n",
       "                            category_id  quantity  price  \n",
       "0  975b5737-c8e7-4ca6-a4b8-2c1546d5b8a1         1   2.00  \n",
       "1  975b5737-c8e7-4ca6-a4b8-2c1546d5b8a1         1   3.75  \n",
       "2  975b5737-cad1-4031-9319-5e3a7addba42         1   0.50  \n",
       "3  975b5737-c8e7-4ca6-a4b8-2c1546d5b8a1         1   0.00  \n",
       "4  975b5737-c8e7-4ca6-a4b8-2c1546d5b8a1         2   3.75  "
      ]
     },
     "execution_count": 14,
     "metadata": {},
     "output_type": "execute_result"
    }
   ],
   "source": [
    "filtered_orders_details = orders_details.drop(columns=['order_date', 'order_total_price','order_source', 'order_type', 'order_status', 'branch_id'])\n",
    "filtered_orders_details.head()\n"
   ]
  },
  {
   "cell_type": "code",
   "execution_count": 15,
   "metadata": {
    "execution": {
     "iopub.execute_input": "2023-06-09T10:05:23.744262Z",
     "iopub.status.busy": "2023-06-09T10:05:23.743981Z",
     "iopub.status.idle": "2023-06-09T10:05:23.787632Z",
     "shell.execute_reply": "2023-06-09T10:05:23.786719Z"
    }
   },
   "outputs": [],
   "source": [
    "#filtered_orders_details['order_line_id'] = filtered_orders_details['order_id'] + '-' + filtered_orders_details['product_id'].apply(lambda x: x.split('-')[1]) + \n",
    "import uuid\n",
    "filtered_orders_details['order_details_id'] = [str(uuid.uuid4()) for _ in range(len(filtered_orders_details))]\n",
    "filtered_orders_details.rename(columns={'order_id':'order_header_id'}, inplace=True)"
   ]
  },
  {
   "cell_type": "code",
   "execution_count": 16,
   "metadata": {
    "execution": {
     "iopub.execute_input": "2023-06-09T10:05:23.792403Z",
     "iopub.status.busy": "2023-06-09T10:05:23.791776Z",
     "iopub.status.idle": "2023-06-09T10:05:23.819333Z",
     "shell.execute_reply": "2023-06-09T10:05:23.818669Z"
    }
   },
   "outputs": [
    {
     "data": {
      "text/html": [
       "<div>\n",
       "<style scoped>\n",
       "    .dataframe tbody tr th:only-of-type {\n",
       "        vertical-align: middle;\n",
       "    }\n",
       "\n",
       "    .dataframe tbody tr th {\n",
       "        vertical-align: top;\n",
       "    }\n",
       "\n",
       "    .dataframe thead th {\n",
       "        text-align: right;\n",
       "    }\n",
       "</style>\n",
       "<table border=\"1\" class=\"dataframe\">\n",
       "  <thead>\n",
       "    <tr style=\"text-align: right;\">\n",
       "      <th></th>\n",
       "      <th>order_header_id</th>\n",
       "      <th>product_id</th>\n",
       "      <th>category_id</th>\n",
       "      <th>quantity</th>\n",
       "      <th>price</th>\n",
       "      <th>order_details_id</th>\n",
       "    </tr>\n",
       "  </thead>\n",
       "  <tbody>\n",
       "    <tr>\n",
       "      <th>0</th>\n",
       "      <td>01566587-53fb-44a7-9592-23b8533291ac</td>\n",
       "      <td>975b583e-93f8-4082-9f1d-8c82e9dbbb69</td>\n",
       "      <td>975b5737-c8e7-4ca6-a4b8-2c1546d5b8a1</td>\n",
       "      <td>1</td>\n",
       "      <td>2.00</td>\n",
       "      <td>9cdcae3e-453b-4dfc-80f4-352977817487</td>\n",
       "    </tr>\n",
       "    <tr>\n",
       "      <th>1</th>\n",
       "      <td>03a1cf3f-a117-40fd-bc58-35a85a96e635</td>\n",
       "      <td>975b583e-91e6-424e-851d-4de6a37813f5</td>\n",
       "      <td>975b5737-c8e7-4ca6-a4b8-2c1546d5b8a1</td>\n",
       "      <td>1</td>\n",
       "      <td>3.75</td>\n",
       "      <td>4d90fc12-4ba4-4e21-84bd-ee3f69b10659</td>\n",
       "    </tr>\n",
       "    <tr>\n",
       "      <th>2</th>\n",
       "      <td>03a1cf3f-a117-40fd-bc58-35a85a96e635</td>\n",
       "      <td>975b583e-9f6f-4821-96ab-13e3fc617059</td>\n",
       "      <td>975b5737-cad1-4031-9319-5e3a7addba42</td>\n",
       "      <td>1</td>\n",
       "      <td>0.50</td>\n",
       "      <td>537dae30-701c-4508-bdb7-0ad9653751fe</td>\n",
       "    </tr>\n",
       "    <tr>\n",
       "      <th>3</th>\n",
       "      <td>04a12374-51bf-484a-8e34-e7731d674d97</td>\n",
       "      <td>9897386f-7b4f-4b86-9bb2-53d6c8965efc</td>\n",
       "      <td>975b5737-c8e7-4ca6-a4b8-2c1546d5b8a1</td>\n",
       "      <td>1</td>\n",
       "      <td>0.00</td>\n",
       "      <td>a4f78a11-0b57-4210-a7bf-25cb6d23953c</td>\n",
       "    </tr>\n",
       "    <tr>\n",
       "      <th>4</th>\n",
       "      <td>04ef9502-3ba4-40e0-8166-e922cd08dade</td>\n",
       "      <td>975b583e-91e6-424e-851d-4de6a37813f5</td>\n",
       "      <td>975b5737-c8e7-4ca6-a4b8-2c1546d5b8a1</td>\n",
       "      <td>2</td>\n",
       "      <td>3.75</td>\n",
       "      <td>92bf8bc6-5ba4-477f-a0ae-b4e616898115</td>\n",
       "    </tr>\n",
       "  </tbody>\n",
       "</table>\n",
       "</div>"
      ],
      "text/plain": [
       "                        order_header_id                            product_id  \\\n",
       "0  01566587-53fb-44a7-9592-23b8533291ac  975b583e-93f8-4082-9f1d-8c82e9dbbb69   \n",
       "1  03a1cf3f-a117-40fd-bc58-35a85a96e635  975b583e-91e6-424e-851d-4de6a37813f5   \n",
       "2  03a1cf3f-a117-40fd-bc58-35a85a96e635  975b583e-9f6f-4821-96ab-13e3fc617059   \n",
       "3  04a12374-51bf-484a-8e34-e7731d674d97  9897386f-7b4f-4b86-9bb2-53d6c8965efc   \n",
       "4  04ef9502-3ba4-40e0-8166-e922cd08dade  975b583e-91e6-424e-851d-4de6a37813f5   \n",
       "\n",
       "                            category_id  quantity  price  \\\n",
       "0  975b5737-c8e7-4ca6-a4b8-2c1546d5b8a1         1   2.00   \n",
       "1  975b5737-c8e7-4ca6-a4b8-2c1546d5b8a1         1   3.75   \n",
       "2  975b5737-cad1-4031-9319-5e3a7addba42         1   0.50   \n",
       "3  975b5737-c8e7-4ca6-a4b8-2c1546d5b8a1         1   0.00   \n",
       "4  975b5737-c8e7-4ca6-a4b8-2c1546d5b8a1         2   3.75   \n",
       "\n",
       "                       order_details_id  \n",
       "0  9cdcae3e-453b-4dfc-80f4-352977817487  \n",
       "1  4d90fc12-4ba4-4e21-84bd-ee3f69b10659  \n",
       "2  537dae30-701c-4508-bdb7-0ad9653751fe  \n",
       "3  a4f78a11-0b57-4210-a7bf-25cb6d23953c  \n",
       "4  92bf8bc6-5ba4-477f-a0ae-b4e616898115  "
      ]
     },
     "execution_count": 16,
     "metadata": {},
     "output_type": "execute_result"
    }
   ],
   "source": [
    "filtered_orders_details.head()"
   ]
  },
  {
   "cell_type": "code",
   "execution_count": 17,
   "metadata": {
    "execution": {
     "iopub.execute_input": "2023-06-09T10:05:23.824074Z",
     "iopub.status.busy": "2023-06-09T10:05:23.823627Z",
     "iopub.status.idle": "2023-06-09T10:05:23.841114Z",
     "shell.execute_reply": "2023-06-09T10:05:23.839946Z"
    }
   },
   "outputs": [],
   "source": [
    "filtered_orders_details.drop_duplicates(inplace=True)"
   ]
  },
  {
   "cell_type": "code",
   "execution_count": 18,
   "metadata": {
    "execution": {
     "iopub.execute_input": "2023-06-09T10:05:23.847528Z",
     "iopub.status.busy": "2023-06-09T10:05:23.846712Z",
     "iopub.status.idle": "2023-06-09T10:05:23.896874Z",
     "shell.execute_reply": "2023-06-09T10:05:23.895601Z"
    }
   },
   "outputs": [],
   "source": [
    "filtered_orders_details.to_csv('../../data/processed/updates/order_details.csv', index=False)"
   ]
  },
  {
   "attachments": {},
   "cell_type": "markdown",
   "metadata": {},
   "source": [
    "# Products"
   ]
  },
  {
   "cell_type": "code",
   "execution_count": 19,
   "metadata": {
    "execution": {
     "iopub.execute_input": "2023-06-09T10:05:23.900875Z",
     "iopub.status.busy": "2023-06-09T10:05:23.900274Z",
     "iopub.status.idle": "2023-06-09T10:05:23.915056Z",
     "shell.execute_reply": "2023-06-09T10:05:23.913495Z"
    }
   },
   "outputs": [
    {
     "data": {
      "text/html": [
       "<div>\n",
       "<style scoped>\n",
       "    .dataframe tbody tr th:only-of-type {\n",
       "        vertical-align: middle;\n",
       "    }\n",
       "\n",
       "    .dataframe tbody tr th {\n",
       "        vertical-align: top;\n",
       "    }\n",
       "\n",
       "    .dataframe thead th {\n",
       "        text-align: right;\n",
       "    }\n",
       "</style>\n",
       "<table border=\"1\" class=\"dataframe\">\n",
       "  <thead>\n",
       "    <tr style=\"text-align: right;\">\n",
       "      <th></th>\n",
       "      <th>product_id</th>\n",
       "      <th>product_sku</th>\n",
       "      <th>product_name</th>\n",
       "      <th>category_name</th>\n",
       "      <th>category_id</th>\n",
       "      <th>is_active</th>\n",
       "      <th>is_stock_product</th>\n",
       "      <th>price</th>\n",
       "    </tr>\n",
       "  </thead>\n",
       "  <tbody>\n",
       "    <tr>\n",
       "      <th>0</th>\n",
       "      <td>975b583e-8e4e-4500-b416-e77dd352726a</td>\n",
       "      <td>psk-14</td>\n",
       "      <td>تشكس فرايز زنجر</td>\n",
       "      <td>Fries</td>\n",
       "      <td>975b5737-c982-4e3f-9faf-083ca9dc56ac</td>\n",
       "      <td>True</td>\n",
       "      <td>False</td>\n",
       "      <td>5.00</td>\n",
       "    </tr>\n",
       "    <tr>\n",
       "      <th>1</th>\n",
       "      <td>975b583e-90a9-420a-804e-b41dddbe0971</td>\n",
       "      <td>psk-5</td>\n",
       "      <td>كلاسيك</td>\n",
       "      <td>Shawarma</td>\n",
       "      <td>975b5737-c8e7-4ca6-a4b8-2c1546d5b8a1</td>\n",
       "      <td>True</td>\n",
       "      <td>False</td>\n",
       "      <td>1.50</td>\n",
       "    </tr>\n",
       "    <tr>\n",
       "      <th>2</th>\n",
       "      <td>975b583e-90af-4319-87d3-022d8f1936d4</td>\n",
       "      <td>psk-13</td>\n",
       "      <td>تشكس ستريبس</td>\n",
       "      <td>Chicken burger</td>\n",
       "      <td>975b5737-ccc4-4c1f-8599-5e246eee4a3b</td>\n",
       "      <td>True</td>\n",
       "      <td>False</td>\n",
       "      <td>4.50</td>\n",
       "    </tr>\n",
       "    <tr>\n",
       "      <th>3</th>\n",
       "      <td>975b583e-9145-4e05-90e7-9fa596c38888</td>\n",
       "      <td>psk-16</td>\n",
       "      <td>فرايز باجبنة</td>\n",
       "      <td>Fries</td>\n",
       "      <td>975b5737-c982-4e3f-9faf-083ca9dc56ac</td>\n",
       "      <td>True</td>\n",
       "      <td>False</td>\n",
       "      <td>2.50</td>\n",
       "    </tr>\n",
       "    <tr>\n",
       "      <th>4</th>\n",
       "      <td>975b583e-91e6-424e-851d-4de6a37813f5</td>\n",
       "      <td>psk-9</td>\n",
       "      <td>اربيان دجاج l</td>\n",
       "      <td>Shawarma</td>\n",
       "      <td>975b5737-c8e7-4ca6-a4b8-2c1546d5b8a1</td>\n",
       "      <td>True</td>\n",
       "      <td>False</td>\n",
       "      <td>3.75</td>\n",
       "    </tr>\n",
       "  </tbody>\n",
       "</table>\n",
       "</div>"
      ],
      "text/plain": [
       "                             product_id product_sku     product_name  \\\n",
       "0  975b583e-8e4e-4500-b416-e77dd352726a      psk-14  تشكس فرايز زنجر   \n",
       "1  975b583e-90a9-420a-804e-b41dddbe0971       psk-5           كلاسيك   \n",
       "2  975b583e-90af-4319-87d3-022d8f1936d4      psk-13      تشكس ستريبس   \n",
       "3  975b583e-9145-4e05-90e7-9fa596c38888      psk-16     فرايز باجبنة   \n",
       "4  975b583e-91e6-424e-851d-4de6a37813f5       psk-9    اربيان دجاج l   \n",
       "\n",
       "    category_name                           category_id  is_active  \\\n",
       "0           Fries  975b5737-c982-4e3f-9faf-083ca9dc56ac       True   \n",
       "1        Shawarma  975b5737-c8e7-4ca6-a4b8-2c1546d5b8a1       True   \n",
       "2  Chicken burger  975b5737-ccc4-4c1f-8599-5e246eee4a3b       True   \n",
       "3           Fries  975b5737-c982-4e3f-9faf-083ca9dc56ac       True   \n",
       "4        Shawarma  975b5737-c8e7-4ca6-a4b8-2c1546d5b8a1       True   \n",
       "\n",
       "   is_stock_product  price  \n",
       "0             False   5.00  \n",
       "1             False   1.50  \n",
       "2             False   4.50  \n",
       "3             False   2.50  \n",
       "4             False   3.75  "
      ]
     },
     "execution_count": 19,
     "metadata": {},
     "output_type": "execute_result"
    }
   ],
   "source": [
    "products.head()"
   ]
  },
  {
   "cell_type": "code",
   "execution_count": 20,
   "metadata": {
    "execution": {
     "iopub.execute_input": "2023-06-09T10:05:23.920213Z",
     "iopub.status.busy": "2023-06-09T10:05:23.919394Z",
     "iopub.status.idle": "2023-06-09T10:05:23.935578Z",
     "shell.execute_reply": "2023-06-09T10:05:23.934387Z"
    }
   },
   "outputs": [
    {
     "data": {
      "text/html": [
       "<div>\n",
       "<style scoped>\n",
       "    .dataframe tbody tr th:only-of-type {\n",
       "        vertical-align: middle;\n",
       "    }\n",
       "\n",
       "    .dataframe tbody tr th {\n",
       "        vertical-align: top;\n",
       "    }\n",
       "\n",
       "    .dataframe thead th {\n",
       "        text-align: right;\n",
       "    }\n",
       "</style>\n",
       "<table border=\"1\" class=\"dataframe\">\n",
       "  <thead>\n",
       "    <tr style=\"text-align: right;\">\n",
       "      <th></th>\n",
       "      <th>product_id</th>\n",
       "      <th>product_sku</th>\n",
       "      <th>product_name</th>\n",
       "      <th>category_name</th>\n",
       "      <th>category_id</th>\n",
       "      <th>is_active</th>\n",
       "      <th>is_stock_product</th>\n",
       "      <th>price</th>\n",
       "    </tr>\n",
       "  </thead>\n",
       "  <tbody>\n",
       "    <tr>\n",
       "      <th>0</th>\n",
       "      <td>975b583e-8e4e-4500-b416-e77dd352726a</td>\n",
       "      <td>psk-14</td>\n",
       "      <td>تشكس فرايز زنجر</td>\n",
       "      <td>Fries</td>\n",
       "      <td>975b5737-c982-4e3f-9faf-083ca9dc56ac</td>\n",
       "      <td>True</td>\n",
       "      <td>False</td>\n",
       "      <td>5.00</td>\n",
       "    </tr>\n",
       "    <tr>\n",
       "      <th>1</th>\n",
       "      <td>975b583e-90a9-420a-804e-b41dddbe0971</td>\n",
       "      <td>psk-5</td>\n",
       "      <td>كلاسيك</td>\n",
       "      <td>Shawarma</td>\n",
       "      <td>975b5737-c8e7-4ca6-a4b8-2c1546d5b8a1</td>\n",
       "      <td>True</td>\n",
       "      <td>False</td>\n",
       "      <td>1.50</td>\n",
       "    </tr>\n",
       "    <tr>\n",
       "      <th>2</th>\n",
       "      <td>975b583e-90af-4319-87d3-022d8f1936d4</td>\n",
       "      <td>psk-13</td>\n",
       "      <td>تشكس ستريبس</td>\n",
       "      <td>Chicken burger</td>\n",
       "      <td>975b5737-ccc4-4c1f-8599-5e246eee4a3b</td>\n",
       "      <td>True</td>\n",
       "      <td>False</td>\n",
       "      <td>4.50</td>\n",
       "    </tr>\n",
       "    <tr>\n",
       "      <th>3</th>\n",
       "      <td>975b583e-9145-4e05-90e7-9fa596c38888</td>\n",
       "      <td>psk-16</td>\n",
       "      <td>فرايز باجبنة</td>\n",
       "      <td>Fries</td>\n",
       "      <td>975b5737-c982-4e3f-9faf-083ca9dc56ac</td>\n",
       "      <td>True</td>\n",
       "      <td>False</td>\n",
       "      <td>2.50</td>\n",
       "    </tr>\n",
       "    <tr>\n",
       "      <th>4</th>\n",
       "      <td>975b583e-91e6-424e-851d-4de6a37813f5</td>\n",
       "      <td>psk-9</td>\n",
       "      <td>اربيان دجاج l</td>\n",
       "      <td>Shawarma</td>\n",
       "      <td>975b5737-c8e7-4ca6-a4b8-2c1546d5b8a1</td>\n",
       "      <td>True</td>\n",
       "      <td>False</td>\n",
       "      <td>3.75</td>\n",
       "    </tr>\n",
       "  </tbody>\n",
       "</table>\n",
       "</div>"
      ],
      "text/plain": [
       "                             product_id product_sku     product_name  \\\n",
       "0  975b583e-8e4e-4500-b416-e77dd352726a      psk-14  تشكس فرايز زنجر   \n",
       "1  975b583e-90a9-420a-804e-b41dddbe0971       psk-5           كلاسيك   \n",
       "2  975b583e-90af-4319-87d3-022d8f1936d4      psk-13      تشكس ستريبس   \n",
       "3  975b583e-9145-4e05-90e7-9fa596c38888      psk-16     فرايز باجبنة   \n",
       "4  975b583e-91e6-424e-851d-4de6a37813f5       psk-9    اربيان دجاج l   \n",
       "\n",
       "    category_name                           category_id  is_active  \\\n",
       "0           Fries  975b5737-c982-4e3f-9faf-083ca9dc56ac       True   \n",
       "1        Shawarma  975b5737-c8e7-4ca6-a4b8-2c1546d5b8a1       True   \n",
       "2  Chicken burger  975b5737-ccc4-4c1f-8599-5e246eee4a3b       True   \n",
       "3           Fries  975b5737-c982-4e3f-9faf-083ca9dc56ac       True   \n",
       "4        Shawarma  975b5737-c8e7-4ca6-a4b8-2c1546d5b8a1       True   \n",
       "\n",
       "   is_stock_product  price  \n",
       "0             False   5.00  \n",
       "1             False   1.50  \n",
       "2             False   4.50  \n",
       "3             False   2.50  \n",
       "4             False   3.75  "
      ]
     },
     "execution_count": 20,
     "metadata": {},
     "output_type": "execute_result"
    }
   ],
   "source": [
    "products.head()"
   ]
  },
  {
   "cell_type": "code",
   "execution_count": 21,
   "metadata": {
    "execution": {
     "iopub.execute_input": "2023-06-09T10:05:23.940931Z",
     "iopub.status.busy": "2023-06-09T10:05:23.940333Z",
     "iopub.status.idle": "2023-06-09T10:05:23.964295Z",
     "shell.execute_reply": "2023-06-09T10:05:23.962730Z"
    }
   },
   "outputs": [],
   "source": [
    "\n",
    "from dotenv import load_dotenv\n",
    "import os\n",
    "\n",
    "load_dotenv()\n",
    "business_name = os.getenv(\"business_name\")\n",
    "\n",
    "if business_name == 'Shawarma 4 Chicks':\n",
    "\n",
    "    map_product_translation = {\n",
    "        'تشكس فرايز زنجر': 'Chicks Fries Zinger',\n",
    "        'كلاسيك': 'Classic',\n",
    "        'تشكس ستريبس': 'Chicks Strips',\n",
    "        'فرايز باجبنة': 'Fries with Cheese',\n",
    "        'اربيان دجاج l': 'Arabian Chicken L',\n",
    "        'تشكس برجر': 'Chicks Burger',\n",
    "        'تشيزي': 'Cheesy',\n",
    "        'اوريجنال': 'Original',\n",
    "        'بيج ميل': 'Big Meal',\n",
    "        'فرايز': 'Fries',\n",
    "        'ديبي برجر': 'Debbie Burger',\n",
    "        'تشكس فرايز شاورما': 'Chicks Fries Shawarma',\n",
    "        'موهيتو': 'Mojito',\n",
    "        'كوكتيل': 'Cocktail',\n",
    "        'برو': 'Brew',\n",
    "        'هوت دجاج': 'Hot Chicken',\n",
    "        'ذا بارتي': 'The Party',\n",
    "        'بيبسي': 'Pepsi',\n",
    "        'اربيان دجاج xl': 'Arabian Chicken XL',\n",
    "        'شيك دجاج': 'Chicken Shake',\n",
    "        'مياه': 'Water',\n",
    "        'سفن': '7UP',\n",
    "        'هوت صوص': 'Hot Sauce',\n",
    "        'مرندا': 'Mirinda',\n",
    "        'بيبسي دايت': 'Diet Pepsi',\n",
    "        'ثوم': 'Garlic',\n",
    "        'سفن دايت': 'Diet 7UP',\n",
    "        'مخلل': 'Pickles',\n",
    "        'جبنة': 'Cheese',\n",
    "        'تشكس صوص': 'Chicks Sauce',\n",
    "        'رانش': 'Ranch',\n",
    "        'دبس رمان': 'Pomegranate Molasses',\n",
    "        'راب شيكس': 'Wrap Chicks',\n",
    "        'صوص ثوم حار': 'Spicy Garlic Sauce',\n",
    "        'فرشلي': 'Freshly',\n",
    "        '5 اوريجنال عرض كريم 5JD': '5 Original Careem Offer 5JD',\n",
    "        'عرض بيج شيكس / عائلية  / 10JOD': 'Big Chicks Offer / Family / 10JOD',\n",
    "        'عرض 2 وجبة لاج دجاج 5 د': '2 Large Chicken Meal Offer 5 JD',\n",
    "        'وجبة مشاركة شاورما +زنجر + 2 بيبسي // كريم+ طلبات': 'Sharing Meal Shawarma + Zinger + 2 Pepsi // Careem + Orders',\n",
    "        'وجبة مشاركة برغر + زنجر + 2 بيبسي // كريم+ طلبات': 'Sharing Meal Burger + Zinger + 2 Pepsi // Careem + Orders',\n",
    "        'وجبة موظفين': 'Staff Meal',\n",
    "        'عصير موسمي': 'Seasonal Juice',\n",
    "        'وجبة لارج': 'Large Meal',\n",
    "        'بيج شيكس عرض فوديز 9 د': 'Big Chicks Fries Offer 9 JD',\n",
    "        'وجبة مشاركة برجر عرض 10 د': 'Sharing Meal Burger Offer 10 JD',\n",
    "        'عرض وجبة عائلية 10د': 'Family Meal Offer 10 JD',\n",
    "        'عرض وجبة الاصدقاء  / مشاركة شاورما 6.500 JOD': 'Friends Meal Offer / Sharing Shawarma 6.500 JOD',\n",
    "        'عرض كريم 2 وجبة لارج 5 د': 'Careem Offer 2 Large Meals 5 JD',\n",
    "        'عرض كريم XL اربيان 50%': 'Careem Offer XL Arabian 50%',\n",
    "        'عرض كريم 2 اورجينال+1 بطاط +1 بيبسي': 'Careem Offer 2 Original + 1 Fries + 1 Pepsi',\n",
    "        'شيكس برغر / طلبات /  بيبسي +بطاطا': 'Chicks Burger / Orders / Pepsi + Fries',\n",
    "        'دبي برغر / طلبات /  بيبسي +بطاطا': 'Debbie Burger / Orders / Pepsi + Fries',\n",
    "        'وجبة مشاركة شاورما + 2 بيبسي  // 8JD': 'Sharing Meal Shawarma + 2 Pepsi // 8JD',\n",
    "        'وجبة مشاركة برغر  + 2 بيبسي  // 10JD': 'Sharing Meal Burger + 2 Pepsi // 10JD',\n",
    "        'شاورما بيج 12 د / عرض كريم': 'Shawarma Big 12 JD / Careem Offer'\n",
    "    }\n",
    "    products.product_name = products.product_name.map(map_product_translation)  "
   ]
  },
  {
   "cell_type": "code",
   "execution_count": 22,
   "metadata": {
    "execution": {
     "iopub.execute_input": "2023-06-09T10:05:23.969782Z",
     "iopub.status.busy": "2023-06-09T10:05:23.969422Z",
     "iopub.status.idle": "2023-06-09T10:05:23.975828Z",
     "shell.execute_reply": "2023-06-09T10:05:23.974894Z"
    }
   },
   "outputs": [
    {
     "data": {
      "text/plain": [
       "array(['Chicks Fries Zinger', 'Classic', 'Chicks Strips',\n",
       "       'Fries with Cheese', 'Arabian Chicken L', 'Chicks Burger',\n",
       "       'Cheesy', 'Original', 'Big Meal', 'Fries', 'Debbie Burger',\n",
       "       'Chicks Fries Shawarma', 'Mojito', 'Cocktail', 'Brew',\n",
       "       'Hot Chicken', 'The Party', 'Pepsi', 'Arabian Chicken XL',\n",
       "       'Chicken Shake', 'Water', '7UP', 'Hot Sauce', 'Mirinda',\n",
       "       'Diet Pepsi', 'Garlic', 'Diet 7UP', 'Pickles', 'Cheese',\n",
       "       'Chicks Sauce', 'Ranch', 'Pomegranate Molasses', 'Wrap Chicks',\n",
       "       'Spicy Garlic Sauce', 'Freshly', '5 Original Careem Offer 5JD',\n",
       "       'Big Chicks Offer / Family / 10JOD',\n",
       "       '2 Large Chicken Meal Offer 5 JD',\n",
       "       'Sharing Meal Shawarma + Zinger + 2 Pepsi // Careem + Orders',\n",
       "       'Sharing Meal Burger + Zinger + 2 Pepsi // Careem + Orders',\n",
       "       'Staff Meal', 'Seasonal Juice', 'Large Meal',\n",
       "       'Big Chicks Fries Offer 9 JD', 'Sharing Meal Burger Offer 10 JD',\n",
       "       'Family Meal Offer 10 JD',\n",
       "       'Friends Meal Offer / Sharing Shawarma 6.500 JOD',\n",
       "       'Careem Offer 2 Large Meals 5 JD', 'Careem Offer XL Arabian 50%',\n",
       "       'Careem Offer 2 Original + 1 Fries + 1 Pepsi',\n",
       "       'Chicks Burger / Orders / Pepsi + Fries',\n",
       "       'Debbie Burger / Orders / Pepsi + Fries',\n",
       "       'Sharing Meal Shawarma + 2 Pepsi // 8JD',\n",
       "       'Sharing Meal Burger + 2 Pepsi // 10JD',\n",
       "       'Shawarma Big 12 JD / Careem Offer'], dtype=object)"
      ]
     },
     "execution_count": 22,
     "metadata": {},
     "output_type": "execute_result"
    }
   ],
   "source": [
    "products.product_name.unique()"
   ]
  },
  {
   "cell_type": "code",
   "execution_count": 23,
   "metadata": {
    "execution": {
     "iopub.execute_input": "2023-06-09T10:05:23.979854Z",
     "iopub.status.busy": "2023-06-09T10:05:23.979275Z",
     "iopub.status.idle": "2023-06-09T10:05:23.986767Z",
     "shell.execute_reply": "2023-06-09T10:05:23.985448Z"
    }
   },
   "outputs": [
    {
     "data": {
      "text/plain": [
       "array(['psk-14', 'psk-5', 'psk-13', 'psk-16', 'psk-9', 'psk-11', 'psk-6',\n",
       "       'psk-4', 'psk-8', 'psk-17', 'psk-12', 'psk-15', 'psk-20', 'psk-18',\n",
       "       'psk-3', 'psk-2', 'psk-19', 'psk-21', 'psk-10', 'psk-7', 'psk-26',\n",
       "       'psk-23', 'psk-30', 'psk-25', 'psk-22', 'psk-29', 'psk-24',\n",
       "       'psk-28', 'psk-32', 'psk-27', 'psk-31', 'psk-33', 'sk-0106',\n",
       "       'sk-0107', 'sk-0108', 'sk-0109', 'sk-0110', 'sk-0111', 'sk-0112',\n",
       "       'sk-0113', 'sk-0114', 'sk-0115', 'sk-0116', 'sk-0117', 'sk-0118',\n",
       "       'sk-0119', 'sk-0120', 'sk-0121', 'sk-0122', 'sk-0123', 'sk-0124',\n",
       "       'sk-0125', 'sk-0126', 'sk-0128', 'sk-0129', 'sk-0130'],\n",
       "      dtype=object)"
      ]
     },
     "execution_count": 23,
     "metadata": {},
     "output_type": "execute_result"
    }
   ],
   "source": [
    "products.product_sku.unique()"
   ]
  },
  {
   "cell_type": "code",
   "execution_count": 24,
   "metadata": {
    "execution": {
     "iopub.execute_input": "2023-06-09T10:05:23.991359Z",
     "iopub.status.busy": "2023-06-09T10:05:23.991043Z",
     "iopub.status.idle": "2023-06-09T10:05:24.001090Z",
     "shell.execute_reply": "2023-06-09T10:05:23.999785Z"
    }
   },
   "outputs": [
    {
     "data": {
      "text/plain": [
       "56"
      ]
     },
     "execution_count": 24,
     "metadata": {},
     "output_type": "execute_result"
    }
   ],
   "source": [
    "products.product_sku.nunique()"
   ]
  },
  {
   "cell_type": "code",
   "execution_count": 25,
   "metadata": {
    "execution": {
     "iopub.execute_input": "2023-06-09T10:05:24.005930Z",
     "iopub.status.busy": "2023-06-09T10:05:24.005514Z",
     "iopub.status.idle": "2023-06-09T10:05:24.014191Z",
     "shell.execute_reply": "2023-06-09T10:05:24.012694Z"
    }
   },
   "outputs": [],
   "source": [
    "products.to_csv('../../data/processed/updates/products.csv', index=False)"
   ]
  },
  {
   "attachments": {},
   "cell_type": "markdown",
   "metadata": {},
   "source": [
    "# Branches"
   ]
  },
  {
   "cell_type": "code",
   "execution_count": 26,
   "metadata": {
    "execution": {
     "iopub.execute_input": "2023-06-09T10:05:24.018842Z",
     "iopub.status.busy": "2023-06-09T10:05:24.018530Z",
     "iopub.status.idle": "2023-06-09T10:05:24.030894Z",
     "shell.execute_reply": "2023-06-09T10:05:24.029329Z"
    }
   },
   "outputs": [
    {
     "data": {
      "text/html": [
       "<div>\n",
       "<style scoped>\n",
       "    .dataframe tbody tr th:only-of-type {\n",
       "        vertical-align: middle;\n",
       "    }\n",
       "\n",
       "    .dataframe tbody tr th {\n",
       "        vertical-align: top;\n",
       "    }\n",
       "\n",
       "    .dataframe thead th {\n",
       "        text-align: right;\n",
       "    }\n",
       "</style>\n",
       "<table border=\"1\" class=\"dataframe\">\n",
       "  <thead>\n",
       "    <tr style=\"text-align: right;\">\n",
       "      <th></th>\n",
       "      <th>branch_id</th>\n",
       "      <th>branch_name</th>\n",
       "      <th>opening_from</th>\n",
       "      <th>opening_to</th>\n",
       "    </tr>\n",
       "  </thead>\n",
       "  <tbody>\n",
       "    <tr>\n",
       "      <th>0</th>\n",
       "      <td>975b3d24-cb71-4df8-930e-054bcd67f90c</td>\n",
       "      <td>4Chicks Abdoun</td>\n",
       "      <td>09:00</td>\n",
       "      <td>03:00</td>\n",
       "    </tr>\n",
       "    <tr>\n",
       "      <th>1</th>\n",
       "      <td>975b3d24-ce3d-4801-9c11-582a817cc591</td>\n",
       "      <td>4Chicks 7th circle</td>\n",
       "      <td>10:00</td>\n",
       "      <td>03:00</td>\n",
       "    </tr>\n",
       "    <tr>\n",
       "      <th>2</th>\n",
       "      <td>976744f0-20ac-4dd5-a06a-6a1ee9ffa7b5</td>\n",
       "      <td>4Chicks Al-Jubeha</td>\n",
       "      <td>10:00</td>\n",
       "      <td>03:00</td>\n",
       "    </tr>\n",
       "  </tbody>\n",
       "</table>\n",
       "</div>"
      ],
      "text/plain": [
       "                              branch_id         branch_name opening_from  \\\n",
       "0  975b3d24-cb71-4df8-930e-054bcd67f90c      4Chicks Abdoun        09:00   \n",
       "1  975b3d24-ce3d-4801-9c11-582a817cc591  4Chicks 7th circle        10:00   \n",
       "2  976744f0-20ac-4dd5-a06a-6a1ee9ffa7b5   4Chicks Al-Jubeha        10:00   \n",
       "\n",
       "  opening_to  \n",
       "0      03:00  \n",
       "1      03:00  \n",
       "2      03:00  "
      ]
     },
     "execution_count": 26,
     "metadata": {},
     "output_type": "execute_result"
    }
   ],
   "source": [
    "branches.head()"
   ]
  },
  {
   "cell_type": "code",
   "execution_count": 27,
   "metadata": {
    "execution": {
     "iopub.execute_input": "2023-06-09T10:05:24.035470Z",
     "iopub.status.busy": "2023-06-09T10:05:24.035105Z",
     "iopub.status.idle": "2023-06-09T10:05:24.047597Z",
     "shell.execute_reply": "2023-06-09T10:05:24.045892Z"
    }
   },
   "outputs": [],
   "source": [
    "branches['opening_from'] = pd.to_datetime(branches['opening_from'])\n",
    "branches['opening_to'] = pd.to_datetime(branches['opening_to'])\n",
    "\n",
    "branches['opening_from'] = branches['opening_from'].dt.hour\n",
    "branches['opening_to'] = branches['opening_to'].dt.hour"
   ]
  },
  {
   "cell_type": "code",
   "execution_count": 28,
   "metadata": {
    "execution": {
     "iopub.execute_input": "2023-06-09T10:05:24.056382Z",
     "iopub.status.busy": "2023-06-09T10:05:24.054783Z",
     "iopub.status.idle": "2023-06-09T10:05:24.066052Z",
     "shell.execute_reply": "2023-06-09T10:05:24.064067Z"
    }
   },
   "outputs": [],
   "source": [
    "branches.to_csv('../../data/processed/updates/branches.csv', index=False)"
   ]
  },
  {
   "attachments": {},
   "cell_type": "markdown",
   "metadata": {},
   "source": [
    "# Categories"
   ]
  },
  {
   "cell_type": "code",
   "execution_count": 29,
   "metadata": {
    "execution": {
     "iopub.execute_input": "2023-06-09T10:05:24.071011Z",
     "iopub.status.busy": "2023-06-09T10:05:24.070513Z",
     "iopub.status.idle": "2023-06-09T10:05:24.089849Z",
     "shell.execute_reply": "2023-06-09T10:05:24.088813Z"
    }
   },
   "outputs": [
    {
     "data": {
      "text/html": [
       "<div>\n",
       "<style scoped>\n",
       "    .dataframe tbody tr th:only-of-type {\n",
       "        vertical-align: middle;\n",
       "    }\n",
       "\n",
       "    .dataframe tbody tr th {\n",
       "        vertical-align: top;\n",
       "    }\n",
       "\n",
       "    .dataframe thead th {\n",
       "        text-align: right;\n",
       "    }\n",
       "</style>\n",
       "<table border=\"1\" class=\"dataframe\">\n",
       "  <thead>\n",
       "    <tr style=\"text-align: right;\">\n",
       "      <th></th>\n",
       "      <th>category_id</th>\n",
       "      <th>category_name</th>\n",
       "    </tr>\n",
       "  </thead>\n",
       "  <tbody>\n",
       "    <tr>\n",
       "      <th>0</th>\n",
       "      <td>975b5737-c8e7-4ca6-a4b8-2c1546d5b8a1</td>\n",
       "      <td>Shawarma</td>\n",
       "    </tr>\n",
       "    <tr>\n",
       "      <th>1</th>\n",
       "      <td>975b5737-c982-4e3f-9faf-083ca9dc56ac</td>\n",
       "      <td>Fries</td>\n",
       "    </tr>\n",
       "    <tr>\n",
       "      <th>2</th>\n",
       "      <td>975b5737-cad1-4031-9319-5e3a7addba42</td>\n",
       "      <td>Drinks</td>\n",
       "    </tr>\n",
       "    <tr>\n",
       "      <th>3</th>\n",
       "      <td>975b5737-ccc4-4c1f-8599-5e246eee4a3b</td>\n",
       "      <td>Chicken burger</td>\n",
       "    </tr>\n",
       "    <tr>\n",
       "      <th>4</th>\n",
       "      <td>975b5737-cf8c-4ef3-a445-7c4a71f349c5</td>\n",
       "      <td>Sauces</td>\n",
       "    </tr>\n",
       "    <tr>\n",
       "      <th>5</th>\n",
       "      <td>975b5737-d227-4b7c-9962-3a7b09103597</td>\n",
       "      <td>Juices</td>\n",
       "    </tr>\n",
       "    <tr>\n",
       "      <th>6</th>\n",
       "      <td>00000000-0000-0000-0000-000000000000</td>\n",
       "      <td>Not Available</td>\n",
       "    </tr>\n",
       "  </tbody>\n",
       "</table>\n",
       "</div>"
      ],
      "text/plain": [
       "                            category_id   category_name\n",
       "0  975b5737-c8e7-4ca6-a4b8-2c1546d5b8a1        Shawarma\n",
       "1  975b5737-c982-4e3f-9faf-083ca9dc56ac           Fries\n",
       "2  975b5737-cad1-4031-9319-5e3a7addba42          Drinks\n",
       "3  975b5737-ccc4-4c1f-8599-5e246eee4a3b  Chicken burger\n",
       "4  975b5737-cf8c-4ef3-a445-7c4a71f349c5          Sauces\n",
       "5  975b5737-d227-4b7c-9962-3a7b09103597          Juices\n",
       "6  00000000-0000-0000-0000-000000000000   Not Available"
      ]
     },
     "execution_count": 29,
     "metadata": {},
     "output_type": "execute_result"
    }
   ],
   "source": [
    "categories"
   ]
  },
  {
   "cell_type": "code",
   "execution_count": 30,
   "metadata": {
    "execution": {
     "iopub.execute_input": "2023-06-09T10:05:24.098359Z",
     "iopub.status.busy": "2023-06-09T10:05:24.098044Z",
     "iopub.status.idle": "2023-06-09T10:05:24.108577Z",
     "shell.execute_reply": "2023-06-09T10:05:24.107657Z"
    }
   },
   "outputs": [],
   "source": [
    "categories.to_csv('../../data/processed/updates/categories.csv', index=False)"
   ]
  },
  {
   "cell_type": "code",
   "execution_count": 31,
   "metadata": {
    "execution": {
     "iopub.execute_input": "2023-06-09T10:05:24.112756Z",
     "iopub.status.busy": "2023-06-09T10:05:24.112482Z",
     "iopub.status.idle": "2023-06-09T10:05:24.115766Z",
     "shell.execute_reply": "2023-06-09T10:05:24.115013Z"
    }
   },
   "outputs": [],
   "source": [
    "# def check_values_exist(list1, list2):\n",
    "#     return all(value in list2 for value in list1)\n",
    "\n",
    "# check_values_exist(products.category_id.unique(), categories.category_id.unique())"
   ]
  }
 ],
 "metadata": {
  "kernelspec": {
   "display_name": ".venv",
   "language": "python",
   "name": "python3"
  },
  "language_info": {
   "codemirror_mode": {
    "name": "ipython",
    "version": 3
   },
   "file_extension": ".py",
   "mimetype": "text/x-python",
   "name": "python",
   "nbconvert_exporter": "python",
   "pygments_lexer": "ipython3",
   "version": "3.10.6"
  }
 },
 "nbformat": 4,
 "nbformat_minor": 2
}
