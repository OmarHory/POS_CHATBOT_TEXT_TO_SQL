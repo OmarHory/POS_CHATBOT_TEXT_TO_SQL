{
 "cells": [
  {
   "cell_type": "code",
   "execution_count": 10,
   "metadata": {
    "execution": {
     "iopub.execute_input": "2023-06-01T11:38:28.333428Z",
     "iopub.status.busy": "2023-06-01T11:38:28.332888Z",
     "iopub.status.idle": "2023-06-01T11:38:28.662746Z",
     "shell.execute_reply": "2023-06-01T11:38:28.661896Z"
    }
   },
   "outputs": [],
   "source": [
    "import pandas as pd\n"
   ]
  },
  {
   "cell_type": "code",
   "execution_count": 11,
   "metadata": {
    "execution": {
     "iopub.execute_input": "2023-06-01T11:38:28.666644Z",
     "iopub.status.busy": "2023-06-01T11:38:28.666045Z",
     "iopub.status.idle": "2023-06-01T11:38:29.386677Z",
     "shell.execute_reply": "2023-06-01T11:38:29.385797Z"
    }
   },
   "outputs": [],
   "source": [
    "#read all data\n",
    "orders_header = pd.read_csv('../../data/order_header.csv')\n",
    "orders_details = pd.read_csv('../../data/order_details.csv')\n",
    "products = pd.read_csv('../../data/products.csv')\n",
    "\n",
    "payment_methods = pd.read_csv('../../data/payment_methods.csv')\n",
    "branches = pd.read_csv('../../data/branches.csv')\n",
    "categories = pd.read_csv('../../data/categories.csv')\n",
    "\n",
    "\n",
    "\n",
    "\n"
   ]
  },
  {
   "attachments": {},
   "cell_type": "markdown",
   "metadata": {},
   "source": [
    "# Orders Headers"
   ]
  },
  {
   "cell_type": "code",
   "execution_count": 12,
   "metadata": {
    "execution": {
     "iopub.execute_input": "2023-06-01T11:38:29.390424Z",
     "iopub.status.busy": "2023-06-01T11:38:29.389907Z",
     "iopub.status.idle": "2023-06-01T11:38:29.404914Z",
     "shell.execute_reply": "2023-06-01T11:38:29.404044Z"
    }
   },
   "outputs": [
    {
     "data": {
      "text/html": [
       "<div>\n",
       "<style scoped>\n",
       "    .dataframe tbody tr th:only-of-type {\n",
       "        vertical-align: middle;\n",
       "    }\n",
       "\n",
       "    .dataframe tbody tr th {\n",
       "        vertical-align: top;\n",
       "    }\n",
       "\n",
       "    .dataframe thead th {\n",
       "        text-align: right;\n",
       "    }\n",
       "</style>\n",
       "<table border=\"1\" class=\"dataframe\">\n",
       "  <thead>\n",
       "    <tr style=\"text-align: right;\">\n",
       "      <th></th>\n",
       "      <th>order_id</th>\n",
       "      <th>branch_id</th>\n",
       "      <th>order_date</th>\n",
       "      <th>order_total_price</th>\n",
       "      <th>order_source</th>\n",
       "      <th>order_type</th>\n",
       "      <th>order_status</th>\n",
       "    </tr>\n",
       "  </thead>\n",
       "  <tbody>\n",
       "    <tr>\n",
       "      <th>0</th>\n",
       "      <td>4fc10c2a-55a9-45d0-ad37-9e3a48d190f8</td>\n",
       "      <td>975b3d24-ce3d-4801-9c11-582a817cc591</td>\n",
       "      <td>2022-10-02 14:03:36+03:00</td>\n",
       "      <td>15.00</td>\n",
       "      <td>1</td>\n",
       "      <td>1</td>\n",
       "      <td>4</td>\n",
       "    </tr>\n",
       "    <tr>\n",
       "      <th>1</th>\n",
       "      <td>5babceee-5385-4fa5-b25f-4f1638a70696</td>\n",
       "      <td>975b3d24-ce3d-4801-9c11-582a817cc591</td>\n",
       "      <td>2022-10-02 13:41:05+03:00</td>\n",
       "      <td>6.80</td>\n",
       "      <td>1</td>\n",
       "      <td>1</td>\n",
       "      <td>4</td>\n",
       "    </tr>\n",
       "    <tr>\n",
       "      <th>2</th>\n",
       "      <td>3c811baa-93bc-4200-9204-fdee8932f020</td>\n",
       "      <td>975b3d24-ce3d-4801-9c11-582a817cc591</td>\n",
       "      <td>2022-10-02 13:39:04+03:00</td>\n",
       "      <td>5.00</td>\n",
       "      <td>1</td>\n",
       "      <td>1</td>\n",
       "      <td>4</td>\n",
       "    </tr>\n",
       "    <tr>\n",
       "      <th>3</th>\n",
       "      <td>7e7a67f8-849d-42da-9cac-e29d3144e9ec</td>\n",
       "      <td>975b3d24-cb71-4df8-930e-054bcd67f90c</td>\n",
       "      <td>2022-10-02 16:36:54+03:00</td>\n",
       "      <td>20.75</td>\n",
       "      <td>1</td>\n",
       "      <td>2</td>\n",
       "      <td>4</td>\n",
       "    </tr>\n",
       "    <tr>\n",
       "      <th>4</th>\n",
       "      <td>e02a78da-8a3e-4dad-8a27-ecc739f8d8a4</td>\n",
       "      <td>975b3d24-cb71-4df8-930e-054bcd67f90c</td>\n",
       "      <td>2022-10-02 16:15:22+03:00</td>\n",
       "      <td>30.00</td>\n",
       "      <td>1</td>\n",
       "      <td>1</td>\n",
       "      <td>4</td>\n",
       "    </tr>\n",
       "  </tbody>\n",
       "</table>\n",
       "</div>"
      ],
      "text/plain": [
       "                               order_id                             branch_id  \\\n",
       "0  4fc10c2a-55a9-45d0-ad37-9e3a48d190f8  975b3d24-ce3d-4801-9c11-582a817cc591   \n",
       "1  5babceee-5385-4fa5-b25f-4f1638a70696  975b3d24-ce3d-4801-9c11-582a817cc591   \n",
       "2  3c811baa-93bc-4200-9204-fdee8932f020  975b3d24-ce3d-4801-9c11-582a817cc591   \n",
       "3  7e7a67f8-849d-42da-9cac-e29d3144e9ec  975b3d24-cb71-4df8-930e-054bcd67f90c   \n",
       "4  e02a78da-8a3e-4dad-8a27-ecc739f8d8a4  975b3d24-cb71-4df8-930e-054bcd67f90c   \n",
       "\n",
       "                  order_date  order_total_price  order_source  order_type  \\\n",
       "0  2022-10-02 14:03:36+03:00              15.00             1           1   \n",
       "1  2022-10-02 13:41:05+03:00               6.80             1           1   \n",
       "2  2022-10-02 13:39:04+03:00               5.00             1           1   \n",
       "3  2022-10-02 16:36:54+03:00              20.75             1           2   \n",
       "4  2022-10-02 16:15:22+03:00              30.00             1           1   \n",
       "\n",
       "   order_status  \n",
       "0             4  \n",
       "1             4  \n",
       "2             4  \n",
       "3             4  \n",
       "4             4  "
      ]
     },
     "execution_count": 12,
     "metadata": {},
     "output_type": "execute_result"
    }
   ],
   "source": [
    "orders_header.head()"
   ]
  },
  {
   "cell_type": "code",
   "execution_count": 13,
   "metadata": {
    "execution": {
     "iopub.execute_input": "2023-06-01T11:38:29.453311Z",
     "iopub.status.busy": "2023-06-01T11:38:29.452628Z",
     "iopub.status.idle": "2023-06-01T11:38:29.470988Z",
     "shell.execute_reply": "2023-06-01T11:38:29.470092Z"
    }
   },
   "outputs": [],
   "source": [
    "orders_types = {1:'Dine In', 2:'Pick Up', 3:'Delivery', '4':'Drive Thru'}\n",
    "orders_sources = {1:'Cashier', 2:'API', 3:'Call Center'}\n",
    "orders_statuses = {1:'Pending', 2:'Active', 3:'Declined', 4:'Closed', 5:'Returned', 6:'Joined', 7:'Void'}\n",
    "# orders_delivery_statuses = {1:'sent to kitchen', 2:'ready', 3:'assigned', 4:'en route', 5:'delivered', 6:'closed'}\n",
    "# products_statuses = {1:'Pending', 2:'Active', 3:'Closed', 4:'Moved', 5:'Void', 6:'Returned', 7:'Declined'}\n",
    "# discounts_types = {1:'Open', 2:'Predefined', 3:'Coupon', 4:'Loyalty', 5:'Promotion'}\n",
    "\n",
    "#---------------\n",
    "\n",
    "orders_header['order_type'] = orders_header['order_type'].map(orders_types)\n",
    "orders_header['order_source'] = orders_header['order_source'].map(orders_sources)\n",
    "orders_header['order_status'] = orders_header['order_status'].map(orders_statuses)\n"
   ]
  },
  {
   "cell_type": "code",
   "execution_count": 14,
   "metadata": {
    "execution": {
     "iopub.execute_input": "2023-06-01T11:38:29.475022Z",
     "iopub.status.busy": "2023-06-01T11:38:29.474281Z",
     "iopub.status.idle": "2023-06-01T11:38:30.408474Z",
     "shell.execute_reply": "2023-06-01T11:38:30.407658Z"
    }
   },
   "outputs": [],
   "source": [
    "orders_header['order_datetime'] = pd.to_datetime(orders_header['order_date'])\n",
    "\n",
    "# orders_header['order_time'] = orders_header['order_datetime'].dt.time\n",
    "# orders_header['order_date'] = orders_header['order_datetime'].dt.date\n",
    "\n",
    "# orders_header['hour'] = orders_header['order_datetime'].dt.hour\n",
    "# orders_header['day_name'] = orders_header['order_datetime'].dt.day_name()\n",
    "# orders_header['is_weekend'] = orders_header['order_datetime'].dt.dayofweek.isin([4, 5])\n",
    "# orders_header['is_weekend'].replace({True:'Yes', False:'No'}, inplace=True)\n",
    "# orders_header['month'] = orders_header['order_datetime'].dt.month\n",
    "# orders_header['year'] = orders_header['order_datetime'].dt.year\n",
    "\n",
    "\n"
   ]
  },
  {
   "cell_type": "code",
   "execution_count": 15,
   "metadata": {
    "execution": {
     "iopub.execute_input": "2023-06-01T11:38:30.412202Z",
     "iopub.status.busy": "2023-06-01T11:38:30.411809Z",
     "iopub.status.idle": "2023-06-01T11:38:30.545807Z",
     "shell.execute_reply": "2023-06-01T11:38:30.544957Z"
    }
   },
   "outputs": [],
   "source": [
    "orders_header.drop_duplicates(inplace=True)"
   ]
  },
  {
   "cell_type": "code",
   "execution_count": 16,
   "metadata": {
    "execution": {
     "iopub.execute_input": "2023-06-01T11:38:30.549736Z",
     "iopub.status.busy": "2023-06-01T11:38:30.549083Z",
     "iopub.status.idle": "2023-06-01T11:38:30.724114Z",
     "shell.execute_reply": "2023-06-01T11:38:30.723201Z"
    }
   },
   "outputs": [
    {
     "data": {
      "text/plain": [
       "order_id             0\n",
       "branch_id            0\n",
       "order_date           0\n",
       "order_total_price    0\n",
       "order_source         0\n",
       "order_type           0\n",
       "order_status         4\n",
       "order_datetime       0\n",
       "dtype: int64"
      ]
     },
     "execution_count": 16,
     "metadata": {},
     "output_type": "execute_result"
    }
   ],
   "source": [
    "orders_header.isnull().sum()"
   ]
  },
  {
   "cell_type": "code",
   "execution_count": 17,
   "metadata": {
    "execution": {
     "iopub.execute_input": "2023-06-01T11:38:30.727710Z",
     "iopub.status.busy": "2023-06-01T11:38:30.727297Z",
     "iopub.status.idle": "2023-06-01T11:38:30.741310Z",
     "shell.execute_reply": "2023-06-01T11:38:30.740421Z"
    }
   },
   "outputs": [
    {
     "data": {
      "text/html": [
       "<div>\n",
       "<style scoped>\n",
       "    .dataframe tbody tr th:only-of-type {\n",
       "        vertical-align: middle;\n",
       "    }\n",
       "\n",
       "    .dataframe tbody tr th {\n",
       "        vertical-align: top;\n",
       "    }\n",
       "\n",
       "    .dataframe thead th {\n",
       "        text-align: right;\n",
       "    }\n",
       "</style>\n",
       "<table border=\"1\" class=\"dataframe\">\n",
       "  <thead>\n",
       "    <tr style=\"text-align: right;\">\n",
       "      <th></th>\n",
       "      <th>order_id</th>\n",
       "      <th>branch_id</th>\n",
       "      <th>order_date</th>\n",
       "      <th>order_total_price</th>\n",
       "      <th>order_source</th>\n",
       "      <th>order_type</th>\n",
       "      <th>order_status</th>\n",
       "      <th>order_datetime</th>\n",
       "    </tr>\n",
       "  </thead>\n",
       "  <tbody>\n",
       "    <tr>\n",
       "      <th>0</th>\n",
       "      <td>4fc10c2a-55a9-45d0-ad37-9e3a48d190f8</td>\n",
       "      <td>975b3d24-ce3d-4801-9c11-582a817cc591</td>\n",
       "      <td>2022-10-02 14:03:36+03:00</td>\n",
       "      <td>15.00</td>\n",
       "      <td>Cashier</td>\n",
       "      <td>Dine In</td>\n",
       "      <td>Closed</td>\n",
       "      <td>2022-10-02 14:03:36+03:00</td>\n",
       "    </tr>\n",
       "    <tr>\n",
       "      <th>1</th>\n",
       "      <td>5babceee-5385-4fa5-b25f-4f1638a70696</td>\n",
       "      <td>975b3d24-ce3d-4801-9c11-582a817cc591</td>\n",
       "      <td>2022-10-02 13:41:05+03:00</td>\n",
       "      <td>6.80</td>\n",
       "      <td>Cashier</td>\n",
       "      <td>Dine In</td>\n",
       "      <td>Closed</td>\n",
       "      <td>2022-10-02 13:41:05+03:00</td>\n",
       "    </tr>\n",
       "    <tr>\n",
       "      <th>2</th>\n",
       "      <td>3c811baa-93bc-4200-9204-fdee8932f020</td>\n",
       "      <td>975b3d24-ce3d-4801-9c11-582a817cc591</td>\n",
       "      <td>2022-10-02 13:39:04+03:00</td>\n",
       "      <td>5.00</td>\n",
       "      <td>Cashier</td>\n",
       "      <td>Dine In</td>\n",
       "      <td>Closed</td>\n",
       "      <td>2022-10-02 13:39:04+03:00</td>\n",
       "    </tr>\n",
       "    <tr>\n",
       "      <th>3</th>\n",
       "      <td>7e7a67f8-849d-42da-9cac-e29d3144e9ec</td>\n",
       "      <td>975b3d24-cb71-4df8-930e-054bcd67f90c</td>\n",
       "      <td>2022-10-02 16:36:54+03:00</td>\n",
       "      <td>20.75</td>\n",
       "      <td>Cashier</td>\n",
       "      <td>Pick Up</td>\n",
       "      <td>Closed</td>\n",
       "      <td>2022-10-02 16:36:54+03:00</td>\n",
       "    </tr>\n",
       "    <tr>\n",
       "      <th>4</th>\n",
       "      <td>e02a78da-8a3e-4dad-8a27-ecc739f8d8a4</td>\n",
       "      <td>975b3d24-cb71-4df8-930e-054bcd67f90c</td>\n",
       "      <td>2022-10-02 16:15:22+03:00</td>\n",
       "      <td>30.00</td>\n",
       "      <td>Cashier</td>\n",
       "      <td>Dine In</td>\n",
       "      <td>Closed</td>\n",
       "      <td>2022-10-02 16:15:22+03:00</td>\n",
       "    </tr>\n",
       "  </tbody>\n",
       "</table>\n",
       "</div>"
      ],
      "text/plain": [
       "                               order_id                             branch_id  \\\n",
       "0  4fc10c2a-55a9-45d0-ad37-9e3a48d190f8  975b3d24-ce3d-4801-9c11-582a817cc591   \n",
       "1  5babceee-5385-4fa5-b25f-4f1638a70696  975b3d24-ce3d-4801-9c11-582a817cc591   \n",
       "2  3c811baa-93bc-4200-9204-fdee8932f020  975b3d24-ce3d-4801-9c11-582a817cc591   \n",
       "3  7e7a67f8-849d-42da-9cac-e29d3144e9ec  975b3d24-cb71-4df8-930e-054bcd67f90c   \n",
       "4  e02a78da-8a3e-4dad-8a27-ecc739f8d8a4  975b3d24-cb71-4df8-930e-054bcd67f90c   \n",
       "\n",
       "                  order_date  order_total_price order_source order_type  \\\n",
       "0  2022-10-02 14:03:36+03:00              15.00      Cashier    Dine In   \n",
       "1  2022-10-02 13:41:05+03:00               6.80      Cashier    Dine In   \n",
       "2  2022-10-02 13:39:04+03:00               5.00      Cashier    Dine In   \n",
       "3  2022-10-02 16:36:54+03:00              20.75      Cashier    Pick Up   \n",
       "4  2022-10-02 16:15:22+03:00              30.00      Cashier    Dine In   \n",
       "\n",
       "  order_status            order_datetime  \n",
       "0       Closed 2022-10-02 14:03:36+03:00  \n",
       "1       Closed 2022-10-02 13:41:05+03:00  \n",
       "2       Closed 2022-10-02 13:39:04+03:00  \n",
       "3       Closed 2022-10-02 16:36:54+03:00  \n",
       "4       Closed 2022-10-02 16:15:22+03:00  "
      ]
     },
     "execution_count": 17,
     "metadata": {},
     "output_type": "execute_result"
    }
   ],
   "source": [
    "orders_header.head()"
   ]
  },
  {
   "cell_type": "code",
   "execution_count": 18,
   "metadata": {
    "execution": {
     "iopub.execute_input": "2023-06-01T11:38:30.745177Z",
     "iopub.status.busy": "2023-06-01T11:38:30.744438Z",
     "iopub.status.idle": "2023-06-01T11:38:30.749420Z",
     "shell.execute_reply": "2023-06-01T11:38:30.748625Z"
    }
   },
   "outputs": [],
   "source": [
    "orders_header.rename(columns={'order_id':'order_header_id'}, inplace=True)"
   ]
  },
  {
   "cell_type": "code",
   "execution_count": 19,
   "metadata": {
    "execution": {
     "iopub.execute_input": "2023-06-01T11:38:30.752906Z",
     "iopub.status.busy": "2023-06-01T11:38:30.752373Z",
     "iopub.status.idle": "2023-06-01T11:38:30.766762Z",
     "shell.execute_reply": "2023-06-01T11:38:30.766016Z"
    }
   },
   "outputs": [],
   "source": [
    "orders_header['order_status'].fillna('Void', inplace=True)"
   ]
  },
  {
   "cell_type": "code",
   "execution_count": 20,
   "metadata": {
    "execution": {
     "iopub.execute_input": "2023-06-01T11:38:30.769951Z",
     "iopub.status.busy": "2023-06-01T11:38:30.769486Z",
     "iopub.status.idle": "2023-06-01T11:38:30.773740Z",
     "shell.execute_reply": "2023-06-01T11:38:30.772965Z"
    }
   },
   "outputs": [],
   "source": [
    "orders_header.rename(columns={'order_id':'order_header_id'}, inplace=True)"
   ]
  },
  {
   "cell_type": "code",
   "execution_count": 21,
   "metadata": {
    "execution": {
     "iopub.execute_input": "2023-06-01T11:38:30.776822Z",
     "iopub.status.busy": "2023-06-01T11:38:30.776502Z",
     "iopub.status.idle": "2023-06-01T11:38:32.965190Z",
     "shell.execute_reply": "2023-06-01T11:38:32.964340Z"
    }
   },
   "outputs": [],
   "source": [
    "orders_header.to_csv('../../data/processed/order_header.csv', index=False)"
   ]
  },
  {
   "attachments": {},
   "cell_type": "markdown",
   "metadata": {},
   "source": [
    "# Order Details"
   ]
  },
  {
   "cell_type": "code",
   "execution_count": 22,
   "metadata": {
    "execution": {
     "iopub.execute_input": "2023-06-01T11:38:32.969450Z",
     "iopub.status.busy": "2023-06-01T11:38:32.968677Z",
     "iopub.status.idle": "2023-06-01T11:38:32.982977Z",
     "shell.execute_reply": "2023-06-01T11:38:32.982038Z"
    }
   },
   "outputs": [
    {
     "data": {
      "text/html": [
       "<div>\n",
       "<style scoped>\n",
       "    .dataframe tbody tr th:only-of-type {\n",
       "        vertical-align: middle;\n",
       "    }\n",
       "\n",
       "    .dataframe tbody tr th {\n",
       "        vertical-align: top;\n",
       "    }\n",
       "\n",
       "    .dataframe thead th {\n",
       "        text-align: right;\n",
       "    }\n",
       "</style>\n",
       "<table border=\"1\" class=\"dataframe\">\n",
       "  <thead>\n",
       "    <tr style=\"text-align: right;\">\n",
       "      <th></th>\n",
       "      <th>order_id</th>\n",
       "      <th>branch_id</th>\n",
       "      <th>order_date</th>\n",
       "      <th>order_total_price</th>\n",
       "      <th>order_source</th>\n",
       "      <th>order_type</th>\n",
       "      <th>order_status</th>\n",
       "      <th>product_id</th>\n",
       "      <th>category_id</th>\n",
       "      <th>quantity</th>\n",
       "      <th>price</th>\n",
       "    </tr>\n",
       "  </thead>\n",
       "  <tbody>\n",
       "    <tr>\n",
       "      <th>0</th>\n",
       "      <td>4fc10c2a-55a9-45d0-ad37-9e3a48d190f8</td>\n",
       "      <td>975b3d24-ce3d-4801-9c11-582a817cc591</td>\n",
       "      <td>2022-10-02 14:03:36+03:00</td>\n",
       "      <td>15.0</td>\n",
       "      <td>1</td>\n",
       "      <td>1</td>\n",
       "      <td>4</td>\n",
       "      <td>975b583e-90af-4319-87d3-022d8f1936d4</td>\n",
       "      <td>975b5737-ccc4-4c1f-8599-5e246eee4a3b</td>\n",
       "      <td>1</td>\n",
       "      <td>4.5</td>\n",
       "    </tr>\n",
       "    <tr>\n",
       "      <th>1</th>\n",
       "      <td>4fc10c2a-55a9-45d0-ad37-9e3a48d190f8</td>\n",
       "      <td>975b3d24-ce3d-4801-9c11-582a817cc591</td>\n",
       "      <td>2022-10-02 14:03:36+03:00</td>\n",
       "      <td>15.0</td>\n",
       "      <td>1</td>\n",
       "      <td>1</td>\n",
       "      <td>4</td>\n",
       "      <td>975b583e-96ee-41d6-9ed2-c2fb747e3f0a</td>\n",
       "      <td>975b5737-ccc4-4c1f-8599-5e246eee4a3b</td>\n",
       "      <td>1</td>\n",
       "      <td>5.5</td>\n",
       "    </tr>\n",
       "    <tr>\n",
       "      <th>2</th>\n",
       "      <td>4fc10c2a-55a9-45d0-ad37-9e3a48d190f8</td>\n",
       "      <td>975b3d24-ce3d-4801-9c11-582a817cc591</td>\n",
       "      <td>2022-10-02 14:03:36+03:00</td>\n",
       "      <td>15.0</td>\n",
       "      <td>1</td>\n",
       "      <td>1</td>\n",
       "      <td>4</td>\n",
       "      <td>975b583e-92bd-46f1-86c1-183d3a1c3c32</td>\n",
       "      <td>975b5737-ccc4-4c1f-8599-5e246eee4a3b</td>\n",
       "      <td>1</td>\n",
       "      <td>5.0</td>\n",
       "    </tr>\n",
       "    <tr>\n",
       "      <th>3</th>\n",
       "      <td>5babceee-5385-4fa5-b25f-4f1638a70696</td>\n",
       "      <td>975b3d24-ce3d-4801-9c11-582a817cc591</td>\n",
       "      <td>2022-10-02 13:41:05+03:00</td>\n",
       "      <td>6.8</td>\n",
       "      <td>1</td>\n",
       "      <td>1</td>\n",
       "      <td>4</td>\n",
       "      <td>975b583e-90af-4319-87d3-022d8f1936d4</td>\n",
       "      <td>975b5737-ccc4-4c1f-8599-5e246eee4a3b</td>\n",
       "      <td>1</td>\n",
       "      <td>4.5</td>\n",
       "    </tr>\n",
       "    <tr>\n",
       "      <th>4</th>\n",
       "      <td>5babceee-5385-4fa5-b25f-4f1638a70696</td>\n",
       "      <td>975b3d24-ce3d-4801-9c11-582a817cc591</td>\n",
       "      <td>2022-10-02 13:41:05+03:00</td>\n",
       "      <td>6.8</td>\n",
       "      <td>1</td>\n",
       "      <td>1</td>\n",
       "      <td>4</td>\n",
       "      <td>975b583f-2d41-4563-82d1-b09078a2e80a</td>\n",
       "      <td>975b5737-cf8c-4ef3-a445-7c4a71f349c5</td>\n",
       "      <td>1</td>\n",
       "      <td>0.3</td>\n",
       "    </tr>\n",
       "  </tbody>\n",
       "</table>\n",
       "</div>"
      ],
      "text/plain": [
       "                               order_id                             branch_id  \\\n",
       "0  4fc10c2a-55a9-45d0-ad37-9e3a48d190f8  975b3d24-ce3d-4801-9c11-582a817cc591   \n",
       "1  4fc10c2a-55a9-45d0-ad37-9e3a48d190f8  975b3d24-ce3d-4801-9c11-582a817cc591   \n",
       "2  4fc10c2a-55a9-45d0-ad37-9e3a48d190f8  975b3d24-ce3d-4801-9c11-582a817cc591   \n",
       "3  5babceee-5385-4fa5-b25f-4f1638a70696  975b3d24-ce3d-4801-9c11-582a817cc591   \n",
       "4  5babceee-5385-4fa5-b25f-4f1638a70696  975b3d24-ce3d-4801-9c11-582a817cc591   \n",
       "\n",
       "                  order_date  order_total_price  order_source  order_type  \\\n",
       "0  2022-10-02 14:03:36+03:00               15.0             1           1   \n",
       "1  2022-10-02 14:03:36+03:00               15.0             1           1   \n",
       "2  2022-10-02 14:03:36+03:00               15.0             1           1   \n",
       "3  2022-10-02 13:41:05+03:00                6.8             1           1   \n",
       "4  2022-10-02 13:41:05+03:00                6.8             1           1   \n",
       "\n",
       "   order_status                            product_id  \\\n",
       "0             4  975b583e-90af-4319-87d3-022d8f1936d4   \n",
       "1             4  975b583e-96ee-41d6-9ed2-c2fb747e3f0a   \n",
       "2             4  975b583e-92bd-46f1-86c1-183d3a1c3c32   \n",
       "3             4  975b583e-90af-4319-87d3-022d8f1936d4   \n",
       "4             4  975b583f-2d41-4563-82d1-b09078a2e80a   \n",
       "\n",
       "                            category_id  quantity  price  \n",
       "0  975b5737-ccc4-4c1f-8599-5e246eee4a3b         1    4.5  \n",
       "1  975b5737-ccc4-4c1f-8599-5e246eee4a3b         1    5.5  \n",
       "2  975b5737-ccc4-4c1f-8599-5e246eee4a3b         1    5.0  \n",
       "3  975b5737-ccc4-4c1f-8599-5e246eee4a3b         1    4.5  \n",
       "4  975b5737-cf8c-4ef3-a445-7c4a71f349c5         1    0.3  "
      ]
     },
     "execution_count": 22,
     "metadata": {},
     "output_type": "execute_result"
    }
   ],
   "source": [
    "orders_details.head()"
   ]
  },
  {
   "cell_type": "code",
   "execution_count": 23,
   "metadata": {
    "execution": {
     "iopub.execute_input": "2023-06-01T11:38:32.986569Z",
     "iopub.status.busy": "2023-06-01T11:38:32.986056Z",
     "iopub.status.idle": "2023-06-01T11:38:33.001880Z",
     "shell.execute_reply": "2023-06-01T11:38:33.000912Z"
    }
   },
   "outputs": [
    {
     "data": {
      "text/html": [
       "<div>\n",
       "<style scoped>\n",
       "    .dataframe tbody tr th:only-of-type {\n",
       "        vertical-align: middle;\n",
       "    }\n",
       "\n",
       "    .dataframe tbody tr th {\n",
       "        vertical-align: top;\n",
       "    }\n",
       "\n",
       "    .dataframe thead th {\n",
       "        text-align: right;\n",
       "    }\n",
       "</style>\n",
       "<table border=\"1\" class=\"dataframe\">\n",
       "  <thead>\n",
       "    <tr style=\"text-align: right;\">\n",
       "      <th></th>\n",
       "      <th>order_id</th>\n",
       "      <th>product_id</th>\n",
       "      <th>category_id</th>\n",
       "      <th>quantity</th>\n",
       "      <th>price</th>\n",
       "    </tr>\n",
       "  </thead>\n",
       "  <tbody>\n",
       "    <tr>\n",
       "      <th>0</th>\n",
       "      <td>4fc10c2a-55a9-45d0-ad37-9e3a48d190f8</td>\n",
       "      <td>975b583e-90af-4319-87d3-022d8f1936d4</td>\n",
       "      <td>975b5737-ccc4-4c1f-8599-5e246eee4a3b</td>\n",
       "      <td>1</td>\n",
       "      <td>4.5</td>\n",
       "    </tr>\n",
       "    <tr>\n",
       "      <th>1</th>\n",
       "      <td>4fc10c2a-55a9-45d0-ad37-9e3a48d190f8</td>\n",
       "      <td>975b583e-96ee-41d6-9ed2-c2fb747e3f0a</td>\n",
       "      <td>975b5737-ccc4-4c1f-8599-5e246eee4a3b</td>\n",
       "      <td>1</td>\n",
       "      <td>5.5</td>\n",
       "    </tr>\n",
       "    <tr>\n",
       "      <th>2</th>\n",
       "      <td>4fc10c2a-55a9-45d0-ad37-9e3a48d190f8</td>\n",
       "      <td>975b583e-92bd-46f1-86c1-183d3a1c3c32</td>\n",
       "      <td>975b5737-ccc4-4c1f-8599-5e246eee4a3b</td>\n",
       "      <td>1</td>\n",
       "      <td>5.0</td>\n",
       "    </tr>\n",
       "    <tr>\n",
       "      <th>3</th>\n",
       "      <td>5babceee-5385-4fa5-b25f-4f1638a70696</td>\n",
       "      <td>975b583e-90af-4319-87d3-022d8f1936d4</td>\n",
       "      <td>975b5737-ccc4-4c1f-8599-5e246eee4a3b</td>\n",
       "      <td>1</td>\n",
       "      <td>4.5</td>\n",
       "    </tr>\n",
       "    <tr>\n",
       "      <th>4</th>\n",
       "      <td>5babceee-5385-4fa5-b25f-4f1638a70696</td>\n",
       "      <td>975b583f-2d41-4563-82d1-b09078a2e80a</td>\n",
       "      <td>975b5737-cf8c-4ef3-a445-7c4a71f349c5</td>\n",
       "      <td>1</td>\n",
       "      <td>0.3</td>\n",
       "    </tr>\n",
       "  </tbody>\n",
       "</table>\n",
       "</div>"
      ],
      "text/plain": [
       "                               order_id                            product_id  \\\n",
       "0  4fc10c2a-55a9-45d0-ad37-9e3a48d190f8  975b583e-90af-4319-87d3-022d8f1936d4   \n",
       "1  4fc10c2a-55a9-45d0-ad37-9e3a48d190f8  975b583e-96ee-41d6-9ed2-c2fb747e3f0a   \n",
       "2  4fc10c2a-55a9-45d0-ad37-9e3a48d190f8  975b583e-92bd-46f1-86c1-183d3a1c3c32   \n",
       "3  5babceee-5385-4fa5-b25f-4f1638a70696  975b583e-90af-4319-87d3-022d8f1936d4   \n",
       "4  5babceee-5385-4fa5-b25f-4f1638a70696  975b583f-2d41-4563-82d1-b09078a2e80a   \n",
       "\n",
       "                            category_id  quantity  price  \n",
       "0  975b5737-ccc4-4c1f-8599-5e246eee4a3b         1    4.5  \n",
       "1  975b5737-ccc4-4c1f-8599-5e246eee4a3b         1    5.5  \n",
       "2  975b5737-ccc4-4c1f-8599-5e246eee4a3b         1    5.0  \n",
       "3  975b5737-ccc4-4c1f-8599-5e246eee4a3b         1    4.5  \n",
       "4  975b5737-cf8c-4ef3-a445-7c4a71f349c5         1    0.3  "
      ]
     },
     "execution_count": 23,
     "metadata": {},
     "output_type": "execute_result"
    }
   ],
   "source": [
    "filtered_orders_details = orders_details.drop(columns=['order_date', 'order_total_price','order_source', 'order_type', 'order_status', 'branch_id'])\n",
    "filtered_orders_details.head()\n"
   ]
  },
  {
   "cell_type": "code",
   "execution_count": 24,
   "metadata": {
    "execution": {
     "iopub.execute_input": "2023-06-01T11:38:33.005330Z",
     "iopub.status.busy": "2023-06-01T11:38:33.005060Z",
     "iopub.status.idle": "2023-06-01T11:38:34.155871Z",
     "shell.execute_reply": "2023-06-01T11:38:34.155076Z"
    }
   },
   "outputs": [],
   "source": [
    "#filtered_orders_details['order_line_id'] = filtered_orders_details['order_id'] + '-' + filtered_orders_details['product_id'].apply(lambda x: x.split('-')[1]) + \n",
    "import uuid\n",
    "filtered_orders_details['order_details_id'] = [str(uuid.uuid4()) for _ in range(len(filtered_orders_details))]\n",
    "filtered_orders_details.rename(columns={'order_id':'order_header_id'}, inplace=True)"
   ]
  },
  {
   "cell_type": "code",
   "execution_count": 25,
   "metadata": {
    "execution": {
     "iopub.execute_input": "2023-06-01T11:38:34.159906Z",
     "iopub.status.busy": "2023-06-01T11:38:34.159166Z",
     "iopub.status.idle": "2023-06-01T11:38:34.170462Z",
     "shell.execute_reply": "2023-06-01T11:38:34.169515Z"
    }
   },
   "outputs": [
    {
     "data": {
      "text/html": [
       "<div>\n",
       "<style scoped>\n",
       "    .dataframe tbody tr th:only-of-type {\n",
       "        vertical-align: middle;\n",
       "    }\n",
       "\n",
       "    .dataframe tbody tr th {\n",
       "        vertical-align: top;\n",
       "    }\n",
       "\n",
       "    .dataframe thead th {\n",
       "        text-align: right;\n",
       "    }\n",
       "</style>\n",
       "<table border=\"1\" class=\"dataframe\">\n",
       "  <thead>\n",
       "    <tr style=\"text-align: right;\">\n",
       "      <th></th>\n",
       "      <th>order_header_id</th>\n",
       "      <th>product_id</th>\n",
       "      <th>category_id</th>\n",
       "      <th>quantity</th>\n",
       "      <th>price</th>\n",
       "      <th>order_details_id</th>\n",
       "    </tr>\n",
       "  </thead>\n",
       "  <tbody>\n",
       "    <tr>\n",
       "      <th>0</th>\n",
       "      <td>4fc10c2a-55a9-45d0-ad37-9e3a48d190f8</td>\n",
       "      <td>975b583e-90af-4319-87d3-022d8f1936d4</td>\n",
       "      <td>975b5737-ccc4-4c1f-8599-5e246eee4a3b</td>\n",
       "      <td>1</td>\n",
       "      <td>4.5</td>\n",
       "      <td>1f60caa6-c2da-4331-a281-255a07b2bd02</td>\n",
       "    </tr>\n",
       "    <tr>\n",
       "      <th>1</th>\n",
       "      <td>4fc10c2a-55a9-45d0-ad37-9e3a48d190f8</td>\n",
       "      <td>975b583e-96ee-41d6-9ed2-c2fb747e3f0a</td>\n",
       "      <td>975b5737-ccc4-4c1f-8599-5e246eee4a3b</td>\n",
       "      <td>1</td>\n",
       "      <td>5.5</td>\n",
       "      <td>2cfe3107-421c-4527-a193-a9dc668a77f0</td>\n",
       "    </tr>\n",
       "    <tr>\n",
       "      <th>2</th>\n",
       "      <td>4fc10c2a-55a9-45d0-ad37-9e3a48d190f8</td>\n",
       "      <td>975b583e-92bd-46f1-86c1-183d3a1c3c32</td>\n",
       "      <td>975b5737-ccc4-4c1f-8599-5e246eee4a3b</td>\n",
       "      <td>1</td>\n",
       "      <td>5.0</td>\n",
       "      <td>c5084ce0-d3a7-460e-bd5d-4459a838da12</td>\n",
       "    </tr>\n",
       "    <tr>\n",
       "      <th>3</th>\n",
       "      <td>5babceee-5385-4fa5-b25f-4f1638a70696</td>\n",
       "      <td>975b583e-90af-4319-87d3-022d8f1936d4</td>\n",
       "      <td>975b5737-ccc4-4c1f-8599-5e246eee4a3b</td>\n",
       "      <td>1</td>\n",
       "      <td>4.5</td>\n",
       "      <td>ebbad82a-bd75-46f9-9422-f7335d8c4cd4</td>\n",
       "    </tr>\n",
       "    <tr>\n",
       "      <th>4</th>\n",
       "      <td>5babceee-5385-4fa5-b25f-4f1638a70696</td>\n",
       "      <td>975b583f-2d41-4563-82d1-b09078a2e80a</td>\n",
       "      <td>975b5737-cf8c-4ef3-a445-7c4a71f349c5</td>\n",
       "      <td>1</td>\n",
       "      <td>0.3</td>\n",
       "      <td>18700782-a80f-4713-b665-7c3084ad4a31</td>\n",
       "    </tr>\n",
       "  </tbody>\n",
       "</table>\n",
       "</div>"
      ],
      "text/plain": [
       "                        order_header_id                            product_id  \\\n",
       "0  4fc10c2a-55a9-45d0-ad37-9e3a48d190f8  975b583e-90af-4319-87d3-022d8f1936d4   \n",
       "1  4fc10c2a-55a9-45d0-ad37-9e3a48d190f8  975b583e-96ee-41d6-9ed2-c2fb747e3f0a   \n",
       "2  4fc10c2a-55a9-45d0-ad37-9e3a48d190f8  975b583e-92bd-46f1-86c1-183d3a1c3c32   \n",
       "3  5babceee-5385-4fa5-b25f-4f1638a70696  975b583e-90af-4319-87d3-022d8f1936d4   \n",
       "4  5babceee-5385-4fa5-b25f-4f1638a70696  975b583f-2d41-4563-82d1-b09078a2e80a   \n",
       "\n",
       "                            category_id  quantity  price  \\\n",
       "0  975b5737-ccc4-4c1f-8599-5e246eee4a3b         1    4.5   \n",
       "1  975b5737-ccc4-4c1f-8599-5e246eee4a3b         1    5.5   \n",
       "2  975b5737-ccc4-4c1f-8599-5e246eee4a3b         1    5.0   \n",
       "3  975b5737-ccc4-4c1f-8599-5e246eee4a3b         1    4.5   \n",
       "4  975b5737-cf8c-4ef3-a445-7c4a71f349c5         1    0.3   \n",
       "\n",
       "                       order_details_id  \n",
       "0  1f60caa6-c2da-4331-a281-255a07b2bd02  \n",
       "1  2cfe3107-421c-4527-a193-a9dc668a77f0  \n",
       "2  c5084ce0-d3a7-460e-bd5d-4459a838da12  \n",
       "3  ebbad82a-bd75-46f9-9422-f7335d8c4cd4  \n",
       "4  18700782-a80f-4713-b665-7c3084ad4a31  "
      ]
     },
     "execution_count": 25,
     "metadata": {},
     "output_type": "execute_result"
    }
   ],
   "source": [
    "filtered_orders_details.head()"
   ]
  },
  {
   "cell_type": "code",
   "execution_count": 26,
   "metadata": {
    "execution": {
     "iopub.execute_input": "2023-06-01T11:38:34.173948Z",
     "iopub.status.busy": "2023-06-01T11:38:34.173453Z",
     "iopub.status.idle": "2023-06-01T11:38:34.342887Z",
     "shell.execute_reply": "2023-06-01T11:38:34.342040Z"
    }
   },
   "outputs": [],
   "source": [
    "filtered_orders_details.drop_duplicates(inplace=True)"
   ]
  },
  {
   "cell_type": "code",
   "execution_count": 27,
   "metadata": {
    "execution": {
     "iopub.execute_input": "2023-06-01T11:38:34.346933Z",
     "iopub.status.busy": "2023-06-01T11:38:34.346183Z",
     "iopub.status.idle": "2023-06-01T11:38:35.530056Z",
     "shell.execute_reply": "2023-06-01T11:38:35.529168Z"
    }
   },
   "outputs": [],
   "source": [
    "filtered_orders_details.to_csv('../../data/processed/order_details.csv', index=False)"
   ]
  },
  {
   "attachments": {},
   "cell_type": "markdown",
   "metadata": {},
   "source": [
    "# Products"
   ]
  },
  {
   "cell_type": "code",
   "execution_count": 28,
   "metadata": {
    "execution": {
     "iopub.execute_input": "2023-06-01T11:38:35.533718Z",
     "iopub.status.busy": "2023-06-01T11:38:35.533463Z",
     "iopub.status.idle": "2023-06-01T11:38:35.545945Z",
     "shell.execute_reply": "2023-06-01T11:38:35.545032Z"
    }
   },
   "outputs": [
    {
     "data": {
      "text/html": [
       "<div>\n",
       "<style scoped>\n",
       "    .dataframe tbody tr th:only-of-type {\n",
       "        vertical-align: middle;\n",
       "    }\n",
       "\n",
       "    .dataframe tbody tr th {\n",
       "        vertical-align: top;\n",
       "    }\n",
       "\n",
       "    .dataframe thead th {\n",
       "        text-align: right;\n",
       "    }\n",
       "</style>\n",
       "<table border=\"1\" class=\"dataframe\">\n",
       "  <thead>\n",
       "    <tr style=\"text-align: right;\">\n",
       "      <th></th>\n",
       "      <th>product_id</th>\n",
       "      <th>product_sku</th>\n",
       "      <th>product_name</th>\n",
       "      <th>category_name</th>\n",
       "      <th>category_id</th>\n",
       "      <th>is_active</th>\n",
       "      <th>is_stock_product</th>\n",
       "      <th>price</th>\n",
       "    </tr>\n",
       "  </thead>\n",
       "  <tbody>\n",
       "    <tr>\n",
       "      <th>0</th>\n",
       "      <td>975b583e-8e4e-4500-b416-e77dd352726a</td>\n",
       "      <td>psk-14</td>\n",
       "      <td>تشكس فرايز زنجر</td>\n",
       "      <td>Fries</td>\n",
       "      <td>975b5737-c982-4e3f-9faf-083ca9dc56ac</td>\n",
       "      <td>True</td>\n",
       "      <td>False</td>\n",
       "      <td>5.00</td>\n",
       "    </tr>\n",
       "    <tr>\n",
       "      <th>1</th>\n",
       "      <td>975b583e-90a9-420a-804e-b41dddbe0971</td>\n",
       "      <td>psk-5</td>\n",
       "      <td>كلاسيك</td>\n",
       "      <td>Shawarma</td>\n",
       "      <td>975b5737-c8e7-4ca6-a4b8-2c1546d5b8a1</td>\n",
       "      <td>True</td>\n",
       "      <td>False</td>\n",
       "      <td>1.50</td>\n",
       "    </tr>\n",
       "    <tr>\n",
       "      <th>2</th>\n",
       "      <td>975b583e-90af-4319-87d3-022d8f1936d4</td>\n",
       "      <td>psk-13</td>\n",
       "      <td>تشكس ستريبس</td>\n",
       "      <td>Chicken burger</td>\n",
       "      <td>975b5737-ccc4-4c1f-8599-5e246eee4a3b</td>\n",
       "      <td>True</td>\n",
       "      <td>False</td>\n",
       "      <td>4.50</td>\n",
       "    </tr>\n",
       "    <tr>\n",
       "      <th>3</th>\n",
       "      <td>975b583e-9145-4e05-90e7-9fa596c38888</td>\n",
       "      <td>psk-16</td>\n",
       "      <td>فرايز باجبنة</td>\n",
       "      <td>Fries</td>\n",
       "      <td>975b5737-c982-4e3f-9faf-083ca9dc56ac</td>\n",
       "      <td>True</td>\n",
       "      <td>False</td>\n",
       "      <td>2.50</td>\n",
       "    </tr>\n",
       "    <tr>\n",
       "      <th>4</th>\n",
       "      <td>975b583e-91e6-424e-851d-4de6a37813f5</td>\n",
       "      <td>psk-9</td>\n",
       "      <td>اربيان دجاج l</td>\n",
       "      <td>Shawarma</td>\n",
       "      <td>975b5737-c8e7-4ca6-a4b8-2c1546d5b8a1</td>\n",
       "      <td>True</td>\n",
       "      <td>False</td>\n",
       "      <td>3.75</td>\n",
       "    </tr>\n",
       "  </tbody>\n",
       "</table>\n",
       "</div>"
      ],
      "text/plain": [
       "                             product_id product_sku     product_name  \\\n",
       "0  975b583e-8e4e-4500-b416-e77dd352726a      psk-14  تشكس فرايز زنجر   \n",
       "1  975b583e-90a9-420a-804e-b41dddbe0971       psk-5           كلاسيك   \n",
       "2  975b583e-90af-4319-87d3-022d8f1936d4      psk-13      تشكس ستريبس   \n",
       "3  975b583e-9145-4e05-90e7-9fa596c38888      psk-16     فرايز باجبنة   \n",
       "4  975b583e-91e6-424e-851d-4de6a37813f5       psk-9    اربيان دجاج l   \n",
       "\n",
       "    category_name                           category_id  is_active  \\\n",
       "0           Fries  975b5737-c982-4e3f-9faf-083ca9dc56ac       True   \n",
       "1        Shawarma  975b5737-c8e7-4ca6-a4b8-2c1546d5b8a1       True   \n",
       "2  Chicken burger  975b5737-ccc4-4c1f-8599-5e246eee4a3b       True   \n",
       "3           Fries  975b5737-c982-4e3f-9faf-083ca9dc56ac       True   \n",
       "4        Shawarma  975b5737-c8e7-4ca6-a4b8-2c1546d5b8a1       True   \n",
       "\n",
       "   is_stock_product  price  \n",
       "0             False   5.00  \n",
       "1             False   1.50  \n",
       "2             False   4.50  \n",
       "3             False   2.50  \n",
       "4             False   3.75  "
      ]
     },
     "execution_count": 28,
     "metadata": {},
     "output_type": "execute_result"
    }
   ],
   "source": [
    "products.head()"
   ]
  },
  {
   "cell_type": "code",
   "execution_count": 29,
   "metadata": {
    "execution": {
     "iopub.execute_input": "2023-06-01T11:38:35.549569Z",
     "iopub.status.busy": "2023-06-01T11:38:35.549082Z",
     "iopub.status.idle": "2023-06-01T11:38:35.560759Z",
     "shell.execute_reply": "2023-06-01T11:38:35.559863Z"
    }
   },
   "outputs": [
    {
     "data": {
      "text/html": [
       "<div>\n",
       "<style scoped>\n",
       "    .dataframe tbody tr th:only-of-type {\n",
       "        vertical-align: middle;\n",
       "    }\n",
       "\n",
       "    .dataframe tbody tr th {\n",
       "        vertical-align: top;\n",
       "    }\n",
       "\n",
       "    .dataframe thead th {\n",
       "        text-align: right;\n",
       "    }\n",
       "</style>\n",
       "<table border=\"1\" class=\"dataframe\">\n",
       "  <thead>\n",
       "    <tr style=\"text-align: right;\">\n",
       "      <th></th>\n",
       "      <th>product_id</th>\n",
       "      <th>product_sku</th>\n",
       "      <th>product_name</th>\n",
       "      <th>category_name</th>\n",
       "      <th>category_id</th>\n",
       "      <th>is_active</th>\n",
       "      <th>is_stock_product</th>\n",
       "      <th>price</th>\n",
       "    </tr>\n",
       "  </thead>\n",
       "  <tbody>\n",
       "    <tr>\n",
       "      <th>0</th>\n",
       "      <td>975b583e-8e4e-4500-b416-e77dd352726a</td>\n",
       "      <td>psk-14</td>\n",
       "      <td>تشكس فرايز زنجر</td>\n",
       "      <td>Fries</td>\n",
       "      <td>975b5737-c982-4e3f-9faf-083ca9dc56ac</td>\n",
       "      <td>True</td>\n",
       "      <td>False</td>\n",
       "      <td>5.00</td>\n",
       "    </tr>\n",
       "    <tr>\n",
       "      <th>1</th>\n",
       "      <td>975b583e-90a9-420a-804e-b41dddbe0971</td>\n",
       "      <td>psk-5</td>\n",
       "      <td>كلاسيك</td>\n",
       "      <td>Shawarma</td>\n",
       "      <td>975b5737-c8e7-4ca6-a4b8-2c1546d5b8a1</td>\n",
       "      <td>True</td>\n",
       "      <td>False</td>\n",
       "      <td>1.50</td>\n",
       "    </tr>\n",
       "    <tr>\n",
       "      <th>2</th>\n",
       "      <td>975b583e-90af-4319-87d3-022d8f1936d4</td>\n",
       "      <td>psk-13</td>\n",
       "      <td>تشكس ستريبس</td>\n",
       "      <td>Chicken burger</td>\n",
       "      <td>975b5737-ccc4-4c1f-8599-5e246eee4a3b</td>\n",
       "      <td>True</td>\n",
       "      <td>False</td>\n",
       "      <td>4.50</td>\n",
       "    </tr>\n",
       "    <tr>\n",
       "      <th>3</th>\n",
       "      <td>975b583e-9145-4e05-90e7-9fa596c38888</td>\n",
       "      <td>psk-16</td>\n",
       "      <td>فرايز باجبنة</td>\n",
       "      <td>Fries</td>\n",
       "      <td>975b5737-c982-4e3f-9faf-083ca9dc56ac</td>\n",
       "      <td>True</td>\n",
       "      <td>False</td>\n",
       "      <td>2.50</td>\n",
       "    </tr>\n",
       "    <tr>\n",
       "      <th>4</th>\n",
       "      <td>975b583e-91e6-424e-851d-4de6a37813f5</td>\n",
       "      <td>psk-9</td>\n",
       "      <td>اربيان دجاج l</td>\n",
       "      <td>Shawarma</td>\n",
       "      <td>975b5737-c8e7-4ca6-a4b8-2c1546d5b8a1</td>\n",
       "      <td>True</td>\n",
       "      <td>False</td>\n",
       "      <td>3.75</td>\n",
       "    </tr>\n",
       "  </tbody>\n",
       "</table>\n",
       "</div>"
      ],
      "text/plain": [
       "                             product_id product_sku     product_name  \\\n",
       "0  975b583e-8e4e-4500-b416-e77dd352726a      psk-14  تشكس فرايز زنجر   \n",
       "1  975b583e-90a9-420a-804e-b41dddbe0971       psk-5           كلاسيك   \n",
       "2  975b583e-90af-4319-87d3-022d8f1936d4      psk-13      تشكس ستريبس   \n",
       "3  975b583e-9145-4e05-90e7-9fa596c38888      psk-16     فرايز باجبنة   \n",
       "4  975b583e-91e6-424e-851d-4de6a37813f5       psk-9    اربيان دجاج l   \n",
       "\n",
       "    category_name                           category_id  is_active  \\\n",
       "0           Fries  975b5737-c982-4e3f-9faf-083ca9dc56ac       True   \n",
       "1        Shawarma  975b5737-c8e7-4ca6-a4b8-2c1546d5b8a1       True   \n",
       "2  Chicken burger  975b5737-ccc4-4c1f-8599-5e246eee4a3b       True   \n",
       "3           Fries  975b5737-c982-4e3f-9faf-083ca9dc56ac       True   \n",
       "4        Shawarma  975b5737-c8e7-4ca6-a4b8-2c1546d5b8a1       True   \n",
       "\n",
       "   is_stock_product  price  \n",
       "0             False   5.00  \n",
       "1             False   1.50  \n",
       "2             False   4.50  \n",
       "3             False   2.50  \n",
       "4             False   3.75  "
      ]
     },
     "execution_count": 29,
     "metadata": {},
     "output_type": "execute_result"
    }
   ],
   "source": [
    "products.head()"
   ]
  },
  {
   "cell_type": "code",
   "execution_count": 30,
   "metadata": {
    "execution": {
     "iopub.execute_input": "2023-06-01T11:38:35.564410Z",
     "iopub.status.busy": "2023-06-01T11:38:35.563710Z",
     "iopub.status.idle": "2023-06-01T11:38:35.570312Z",
     "shell.execute_reply": "2023-06-01T11:38:35.569418Z"
    }
   },
   "outputs": [
    {
     "data": {
      "text/plain": [
       "array(['تشكس فرايز زنجر', 'كلاسيك', 'تشكس ستريبس', 'فرايز باجبنة',\n",
       "       'اربيان دجاج l', 'تشكس برجر', 'تشيزي', 'اوريجنال', 'بيج ميل',\n",
       "       'فرايز', 'ديبي برجر', 'تشكس فرايز شاورما', 'موهيتو', 'كوكتيل',\n",
       "       'برو', 'هوت دجاج', 'ذا بارتي', 'بيبسي', 'اربيان دجاج xl',\n",
       "       'شيك دجاج', 'مياه', 'سفن', 'هوت صوص', 'مرندا', 'بيبسي دايت', 'ثوم',\n",
       "       'سفن دايت', 'مخلل', 'جبنة', 'تشكس صوص', 'رانش', 'دبس رمان',\n",
       "       'راب شيكس', 'صوص ثوم حار', 'فرشلي', '5 اوريجنال عرض كريم 5JD',\n",
       "       'عرض بيج شيكس / عائلية  / 10JOD', 'عرض 2 وجبة لاج دجاج 5 د',\n",
       "       'وجبة مشاركة شاورما +زنجر + 2 بيبسي // كريم+ طلبات',\n",
       "       'وجبة مشاركة برغر + زنجر + 2 بيبسي // كريم+ طلبات', 'وجبة موظفين',\n",
       "       'عصير موسمي', 'وجبة لارج', 'بيج شيكس عرض فوديز 9 د',\n",
       "       'وجبة مشاركة برجر عرض 10 د', 'عرض وجبة عائلية 10د',\n",
       "       'عرض وجبة الاصدقاء  / مشاركة شاورما 6.500 JOD',\n",
       "       'عرض كريم 2 وجبة لارج 5 د', 'عرض كريم XL اربيان 50%',\n",
       "       'عرض كريم 2 اورجينال+1 بطاط +1 بيبسي',\n",
       "       'شيكس برغر / طلبات /  بيبسي +بطاطا',\n",
       "       'دبي برغر / طلبات /  بيبسي +بطاطا',\n",
       "       'وجبة مشاركة شاورما + 2 بيبسي  // 8JD',\n",
       "       'وجبة مشاركة برغر  + 2 بيبسي  // 10JD',\n",
       "       'شاورما بيج 12 د / عرض كريم'], dtype=object)"
      ]
     },
     "execution_count": 30,
     "metadata": {},
     "output_type": "execute_result"
    }
   ],
   "source": [
    "products.product_name.unique()"
   ]
  },
  {
   "cell_type": "code",
   "execution_count": 31,
   "metadata": {
    "execution": {
     "iopub.execute_input": "2023-06-01T11:38:35.573717Z",
     "iopub.status.busy": "2023-06-01T11:38:35.573223Z",
     "iopub.status.idle": "2023-06-01T11:38:35.579041Z",
     "shell.execute_reply": "2023-06-01T11:38:35.578182Z"
    }
   },
   "outputs": [
    {
     "data": {
      "text/plain": [
       "array(['psk-14', 'psk-5', 'psk-13', 'psk-16', 'psk-9', 'psk-11', 'psk-6',\n",
       "       'psk-4', 'psk-8', 'psk-17', 'psk-12', 'psk-15', 'psk-20', 'psk-18',\n",
       "       'psk-3', 'psk-2', 'psk-19', 'psk-21', 'psk-10', 'psk-7', 'psk-26',\n",
       "       'psk-23', 'psk-30', 'psk-25', 'psk-22', 'psk-29', 'psk-24',\n",
       "       'psk-28', 'psk-32', 'psk-27', 'psk-31', 'psk-33', 'sk-0106',\n",
       "       'sk-0107', 'sk-0108', 'sk-0109', 'sk-0110', 'sk-0111', 'sk-0112',\n",
       "       'sk-0113', 'sk-0114', 'sk-0115', 'sk-0116', 'sk-0117', 'sk-0118',\n",
       "       'sk-0119', 'sk-0120', 'sk-0121', 'sk-0122', 'sk-0123', 'sk-0124',\n",
       "       'sk-0125', 'sk-0126', 'sk-0128', 'sk-0129', 'sk-0130'],\n",
       "      dtype=object)"
      ]
     },
     "execution_count": 31,
     "metadata": {},
     "output_type": "execute_result"
    }
   ],
   "source": [
    "products.product_sku.unique()"
   ]
  },
  {
   "cell_type": "code",
   "execution_count": 32,
   "metadata": {
    "execution": {
     "iopub.execute_input": "2023-06-01T11:38:35.582796Z",
     "iopub.status.busy": "2023-06-01T11:38:35.582112Z",
     "iopub.status.idle": "2023-06-01T11:38:35.588041Z",
     "shell.execute_reply": "2023-06-01T11:38:35.587208Z"
    }
   },
   "outputs": [
    {
     "data": {
      "text/plain": [
       "56"
      ]
     },
     "execution_count": 32,
     "metadata": {},
     "output_type": "execute_result"
    }
   ],
   "source": [
    "products.product_sku.nunique()"
   ]
  },
  {
   "cell_type": "code",
   "execution_count": 33,
   "metadata": {
    "execution": {
     "iopub.execute_input": "2023-06-01T11:38:35.591439Z",
     "iopub.status.busy": "2023-06-01T11:38:35.590953Z",
     "iopub.status.idle": "2023-06-01T11:38:35.596544Z",
     "shell.execute_reply": "2023-06-01T11:38:35.595815Z"
    }
   },
   "outputs": [],
   "source": [
    "products.to_csv('../../data/processed/products.csv', index=False)"
   ]
  },
  {
   "attachments": {},
   "cell_type": "markdown",
   "metadata": {},
   "source": [
    "# Branches"
   ]
  },
  {
   "cell_type": "code",
   "execution_count": 34,
   "metadata": {
    "execution": {
     "iopub.execute_input": "2023-06-01T11:38:35.599771Z",
     "iopub.status.busy": "2023-06-01T11:38:35.599528Z",
     "iopub.status.idle": "2023-06-01T11:38:35.607995Z",
     "shell.execute_reply": "2023-06-01T11:38:35.607179Z"
    }
   },
   "outputs": [
    {
     "data": {
      "text/html": [
       "<div>\n",
       "<style scoped>\n",
       "    .dataframe tbody tr th:only-of-type {\n",
       "        vertical-align: middle;\n",
       "    }\n",
       "\n",
       "    .dataframe tbody tr th {\n",
       "        vertical-align: top;\n",
       "    }\n",
       "\n",
       "    .dataframe thead th {\n",
       "        text-align: right;\n",
       "    }\n",
       "</style>\n",
       "<table border=\"1\" class=\"dataframe\">\n",
       "  <thead>\n",
       "    <tr style=\"text-align: right;\">\n",
       "      <th></th>\n",
       "      <th>branch_id</th>\n",
       "      <th>branch_name</th>\n",
       "      <th>opening_from</th>\n",
       "      <th>opening_to</th>\n",
       "    </tr>\n",
       "  </thead>\n",
       "  <tbody>\n",
       "    <tr>\n",
       "      <th>0</th>\n",
       "      <td>975b3d24-cb71-4df8-930e-054bcd67f90c</td>\n",
       "      <td>4Chicks Abdoun</td>\n",
       "      <td>09:00</td>\n",
       "      <td>03:00</td>\n",
       "    </tr>\n",
       "    <tr>\n",
       "      <th>1</th>\n",
       "      <td>975b3d24-ce3d-4801-9c11-582a817cc591</td>\n",
       "      <td>4Chicks 7th circle</td>\n",
       "      <td>10:00</td>\n",
       "      <td>03:00</td>\n",
       "    </tr>\n",
       "    <tr>\n",
       "      <th>2</th>\n",
       "      <td>976744f0-20ac-4dd5-a06a-6a1ee9ffa7b5</td>\n",
       "      <td>4Chicks Al-Jubeha</td>\n",
       "      <td>10:00</td>\n",
       "      <td>03:00</td>\n",
       "    </tr>\n",
       "  </tbody>\n",
       "</table>\n",
       "</div>"
      ],
      "text/plain": [
       "                              branch_id         branch_name opening_from  \\\n",
       "0  975b3d24-cb71-4df8-930e-054bcd67f90c      4Chicks Abdoun        09:00   \n",
       "1  975b3d24-ce3d-4801-9c11-582a817cc591  4Chicks 7th circle        10:00   \n",
       "2  976744f0-20ac-4dd5-a06a-6a1ee9ffa7b5   4Chicks Al-Jubeha        10:00   \n",
       "\n",
       "  opening_to  \n",
       "0      03:00  \n",
       "1      03:00  \n",
       "2      03:00  "
      ]
     },
     "execution_count": 34,
     "metadata": {},
     "output_type": "execute_result"
    }
   ],
   "source": [
    "branches.head()"
   ]
  },
  {
   "cell_type": "code",
   "execution_count": 35,
   "metadata": {
    "execution": {
     "iopub.execute_input": "2023-06-01T11:38:35.611376Z",
     "iopub.status.busy": "2023-06-01T11:38:35.610888Z",
     "iopub.status.idle": "2023-06-01T11:38:35.618953Z",
     "shell.execute_reply": "2023-06-01T11:38:35.618038Z"
    }
   },
   "outputs": [],
   "source": [
    "branches['opening_from'] = pd.to_datetime(branches['opening_from'])\n",
    "branches['opening_to'] = pd.to_datetime(branches['opening_to'])\n",
    "\n",
    "branches['opening_from'] = branches['opening_from'].dt.hour\n",
    "branches['opening_to'] = branches['opening_to'].dt.hour"
   ]
  },
  {
   "cell_type": "code",
   "execution_count": 36,
   "metadata": {
    "execution": {
     "iopub.execute_input": "2023-06-01T11:38:35.622125Z",
     "iopub.status.busy": "2023-06-01T11:38:35.621854Z",
     "iopub.status.idle": "2023-06-01T11:38:35.626864Z",
     "shell.execute_reply": "2023-06-01T11:38:35.625942Z"
    }
   },
   "outputs": [],
   "source": [
    "branches.to_csv('../../data/processed/branches.csv', index=False)"
   ]
  },
  {
   "attachments": {},
   "cell_type": "markdown",
   "metadata": {},
   "source": [
    "# Categories"
   ]
  },
  {
   "cell_type": "code",
   "execution_count": 37,
   "metadata": {
    "execution": {
     "iopub.execute_input": "2023-06-01T11:38:35.630335Z",
     "iopub.status.busy": "2023-06-01T11:38:35.629817Z",
     "iopub.status.idle": "2023-06-01T11:38:35.637556Z",
     "shell.execute_reply": "2023-06-01T11:38:35.636738Z"
    }
   },
   "outputs": [
    {
     "data": {
      "text/html": [
       "<div>\n",
       "<style scoped>\n",
       "    .dataframe tbody tr th:only-of-type {\n",
       "        vertical-align: middle;\n",
       "    }\n",
       "\n",
       "    .dataframe tbody tr th {\n",
       "        vertical-align: top;\n",
       "    }\n",
       "\n",
       "    .dataframe thead th {\n",
       "        text-align: right;\n",
       "    }\n",
       "</style>\n",
       "<table border=\"1\" class=\"dataframe\">\n",
       "  <thead>\n",
       "    <tr style=\"text-align: right;\">\n",
       "      <th></th>\n",
       "      <th>category_id</th>\n",
       "      <th>category_name</th>\n",
       "    </tr>\n",
       "  </thead>\n",
       "  <tbody>\n",
       "    <tr>\n",
       "      <th>0</th>\n",
       "      <td>975b5737-c8e7-4ca6-a4b8-2c1546d5b8a1</td>\n",
       "      <td>Shawarma</td>\n",
       "    </tr>\n",
       "    <tr>\n",
       "      <th>1</th>\n",
       "      <td>975b5737-c982-4e3f-9faf-083ca9dc56ac</td>\n",
       "      <td>Fries</td>\n",
       "    </tr>\n",
       "    <tr>\n",
       "      <th>2</th>\n",
       "      <td>975b5737-cad1-4031-9319-5e3a7addba42</td>\n",
       "      <td>Drinks</td>\n",
       "    </tr>\n",
       "    <tr>\n",
       "      <th>3</th>\n",
       "      <td>975b5737-ccc4-4c1f-8599-5e246eee4a3b</td>\n",
       "      <td>Chicken burger</td>\n",
       "    </tr>\n",
       "    <tr>\n",
       "      <th>4</th>\n",
       "      <td>975b5737-cf8c-4ef3-a445-7c4a71f349c5</td>\n",
       "      <td>Sauces</td>\n",
       "    </tr>\n",
       "    <tr>\n",
       "      <th>5</th>\n",
       "      <td>975b5737-d227-4b7c-9962-3a7b09103597</td>\n",
       "      <td>Juices</td>\n",
       "    </tr>\n",
       "  </tbody>\n",
       "</table>\n",
       "</div>"
      ],
      "text/plain": [
       "                            category_id   category_name\n",
       "0  975b5737-c8e7-4ca6-a4b8-2c1546d5b8a1        Shawarma\n",
       "1  975b5737-c982-4e3f-9faf-083ca9dc56ac           Fries\n",
       "2  975b5737-cad1-4031-9319-5e3a7addba42          Drinks\n",
       "3  975b5737-ccc4-4c1f-8599-5e246eee4a3b  Chicken burger\n",
       "4  975b5737-cf8c-4ef3-a445-7c4a71f349c5          Sauces\n",
       "5  975b5737-d227-4b7c-9962-3a7b09103597          Juices"
      ]
     },
     "execution_count": 37,
     "metadata": {},
     "output_type": "execute_result"
    }
   ],
   "source": [
    "categories"
   ]
  },
  {
   "cell_type": "code",
   "execution_count": 38,
   "metadata": {
    "execution": {
     "iopub.execute_input": "2023-06-01T11:38:35.640906Z",
     "iopub.status.busy": "2023-06-01T11:38:35.640417Z",
     "iopub.status.idle": "2023-06-01T11:38:35.645262Z",
     "shell.execute_reply": "2023-06-01T11:38:35.644504Z"
    }
   },
   "outputs": [],
   "source": [
    "categories.to_csv('../../data/processed/categories.csv', index=False)"
   ]
  },
  {
   "cell_type": "code",
   "execution_count": 39,
   "metadata": {
    "execution": {
     "iopub.execute_input": "2023-06-01T11:38:35.648865Z",
     "iopub.status.busy": "2023-06-01T11:38:35.648214Z",
     "iopub.status.idle": "2023-06-01T11:38:35.651970Z",
     "shell.execute_reply": "2023-06-01T11:38:35.651198Z"
    }
   },
   "outputs": [],
   "source": [
    "# def check_values_exist(list1, list2):\n",
    "#     return all(value in list2 for value in list1)\n",
    "\n",
    "# check_values_exist(products.category_id.unique(), categories.category_id.unique())"
   ]
  }
 ],
 "metadata": {
  "kernelspec": {
   "display_name": ".venv",
   "language": "python",
   "name": "python3"
  },
  "language_info": {
   "codemirror_mode": {
    "name": "ipython",
    "version": 3
   },
   "file_extension": ".py",
   "mimetype": "text/x-python",
   "name": "python",
   "nbconvert_exporter": "python",
   "pygments_lexer": "ipython3",
   "version": "3.10.11"
  }
 },
 "nbformat": 4,
 "nbformat_minor": 2
}
