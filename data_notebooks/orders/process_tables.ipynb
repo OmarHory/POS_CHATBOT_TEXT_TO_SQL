{
 "cells": [
  {
   "cell_type": "code",
   "execution_count": 1,
   "metadata": {
    "execution": {
     "iopub.execute_input": "2023-05-31T16:27:55.618474Z",
     "iopub.status.busy": "2023-05-31T16:27:55.617901Z",
     "iopub.status.idle": "2023-05-31T16:27:55.941502Z",
     "shell.execute_reply": "2023-05-31T16:27:55.940702Z"
    }
   },
   "outputs": [],
   "source": [
    "import pandas as pd\n"
   ]
  },
  {
   "cell_type": "code",
   "execution_count": 2,
   "metadata": {
    "execution": {
     "iopub.execute_input": "2023-05-31T16:27:55.945414Z",
     "iopub.status.busy": "2023-05-31T16:27:55.944795Z",
     "iopub.status.idle": "2023-05-31T16:27:56.656496Z",
     "shell.execute_reply": "2023-05-31T16:27:56.655592Z"
    }
   },
   "outputs": [],
   "source": [
    "#read all data\n",
    "orders_header = pd.read_csv('../../data/order_header.csv')\n",
    "orders_details = pd.read_csv('../../data/order_details.csv')\n",
    "products = pd.read_csv('../../data/products.csv')\n",
    "\n",
    "payment_methods = pd.read_csv('../../data/payment_methods.csv')\n",
    "branches = pd.read_csv('../../data/branches.csv')\n",
    "categories = pd.read_csv('../../data/categories.csv')\n",
    "\n",
    "\n",
    "\n",
    "\n"
   ]
  },
  {
   "attachments": {},
   "cell_type": "markdown",
   "metadata": {},
   "source": [
    "# Orders Headers"
   ]
  },
  {
   "cell_type": "code",
   "execution_count": 3,
   "metadata": {
    "execution": {
     "iopub.execute_input": "2023-05-31T16:27:56.660590Z",
     "iopub.status.busy": "2023-05-31T16:27:56.660100Z",
     "iopub.status.idle": "2023-05-31T16:27:56.676037Z",
     "shell.execute_reply": "2023-05-31T16:27:56.675196Z"
    }
   },
   "outputs": [
    {
     "data": {
      "text/html": [
       "<div>\n",
       "<style scoped>\n",
       "    .dataframe tbody tr th:only-of-type {\n",
       "        vertical-align: middle;\n",
       "    }\n",
       "\n",
       "    .dataframe tbody tr th {\n",
       "        vertical-align: top;\n",
       "    }\n",
       "\n",
       "    .dataframe thead th {\n",
       "        text-align: right;\n",
       "    }\n",
       "</style>\n",
       "<table border=\"1\" class=\"dataframe\">\n",
       "  <thead>\n",
       "    <tr style=\"text-align: right;\">\n",
       "      <th></th>\n",
       "      <th>order_id</th>\n",
       "      <th>branch_id</th>\n",
       "      <th>order_date</th>\n",
       "      <th>order_total_price</th>\n",
       "      <th>order_source</th>\n",
       "      <th>order_type</th>\n",
       "      <th>order_status</th>\n",
       "    </tr>\n",
       "  </thead>\n",
       "  <tbody>\n",
       "    <tr>\n",
       "      <th>0</th>\n",
       "      <td>4fc10c2a-55a9-45d0-ad37-9e3a48d190f8</td>\n",
       "      <td>975b3d24-ce3d-4801-9c11-582a817cc591</td>\n",
       "      <td>2022-10-02 11:03:36</td>\n",
       "      <td>15.00</td>\n",
       "      <td>1</td>\n",
       "      <td>1</td>\n",
       "      <td>4</td>\n",
       "    </tr>\n",
       "    <tr>\n",
       "      <th>1</th>\n",
       "      <td>5babceee-5385-4fa5-b25f-4f1638a70696</td>\n",
       "      <td>975b3d24-ce3d-4801-9c11-582a817cc591</td>\n",
       "      <td>2022-10-02 10:41:05</td>\n",
       "      <td>6.80</td>\n",
       "      <td>1</td>\n",
       "      <td>1</td>\n",
       "      <td>4</td>\n",
       "    </tr>\n",
       "    <tr>\n",
       "      <th>2</th>\n",
       "      <td>3c811baa-93bc-4200-9204-fdee8932f020</td>\n",
       "      <td>975b3d24-ce3d-4801-9c11-582a817cc591</td>\n",
       "      <td>2022-10-02 10:39:04</td>\n",
       "      <td>5.00</td>\n",
       "      <td>1</td>\n",
       "      <td>1</td>\n",
       "      <td>4</td>\n",
       "    </tr>\n",
       "    <tr>\n",
       "      <th>3</th>\n",
       "      <td>7e7a67f8-849d-42da-9cac-e29d3144e9ec</td>\n",
       "      <td>975b3d24-cb71-4df8-930e-054bcd67f90c</td>\n",
       "      <td>2022-10-02 13:36:54</td>\n",
       "      <td>20.75</td>\n",
       "      <td>1</td>\n",
       "      <td>2</td>\n",
       "      <td>4</td>\n",
       "    </tr>\n",
       "    <tr>\n",
       "      <th>4</th>\n",
       "      <td>e02a78da-8a3e-4dad-8a27-ecc739f8d8a4</td>\n",
       "      <td>975b3d24-cb71-4df8-930e-054bcd67f90c</td>\n",
       "      <td>2022-10-02 13:15:22</td>\n",
       "      <td>30.00</td>\n",
       "      <td>1</td>\n",
       "      <td>1</td>\n",
       "      <td>4</td>\n",
       "    </tr>\n",
       "  </tbody>\n",
       "</table>\n",
       "</div>"
      ],
      "text/plain": [
       "                               order_id                             branch_id  \\\n",
       "0  4fc10c2a-55a9-45d0-ad37-9e3a48d190f8  975b3d24-ce3d-4801-9c11-582a817cc591   \n",
       "1  5babceee-5385-4fa5-b25f-4f1638a70696  975b3d24-ce3d-4801-9c11-582a817cc591   \n",
       "2  3c811baa-93bc-4200-9204-fdee8932f020  975b3d24-ce3d-4801-9c11-582a817cc591   \n",
       "3  7e7a67f8-849d-42da-9cac-e29d3144e9ec  975b3d24-cb71-4df8-930e-054bcd67f90c   \n",
       "4  e02a78da-8a3e-4dad-8a27-ecc739f8d8a4  975b3d24-cb71-4df8-930e-054bcd67f90c   \n",
       "\n",
       "            order_date  order_total_price  order_source  order_type  \\\n",
       "0  2022-10-02 11:03:36              15.00             1           1   \n",
       "1  2022-10-02 10:41:05               6.80             1           1   \n",
       "2  2022-10-02 10:39:04               5.00             1           1   \n",
       "3  2022-10-02 13:36:54              20.75             1           2   \n",
       "4  2022-10-02 13:15:22              30.00             1           1   \n",
       "\n",
       "   order_status  \n",
       "0             4  \n",
       "1             4  \n",
       "2             4  \n",
       "3             4  \n",
       "4             4  "
      ]
     },
     "execution_count": 3,
     "metadata": {},
     "output_type": "execute_result"
    }
   ],
   "source": [
    "orders_header.head()"
   ]
  },
  {
   "cell_type": "code",
   "execution_count": 4,
   "metadata": {
    "execution": {
     "iopub.execute_input": "2023-05-31T16:27:56.726187Z",
     "iopub.status.busy": "2023-05-31T16:27:56.725684Z",
     "iopub.status.idle": "2023-05-31T16:27:56.745036Z",
     "shell.execute_reply": "2023-05-31T16:27:56.744184Z"
    }
   },
   "outputs": [],
   "source": [
    "orders_types = {1:'Dine In', 2:'Pick Up', 3:'Delivery', '4':'Drive Thru'}\n",
    "orders_sources = {1:'Cashier', 2:'API', 3:'Call Center'}\n",
    "orders_statuses = {1:'Pending', 2:'Active', 3:'Declined', 4:'Closed', 5:'Returned', 6:'Joined', 7:'Void'}\n",
    "# orders_delivery_statuses = {1:'sent to kitchen', 2:'ready', 3:'assigned', 4:'en route', 5:'delivered', 6:'closed'}\n",
    "# products_statuses = {1:'Pending', 2:'Active', 3:'Closed', 4:'Moved', 5:'Void', 6:'Returned', 7:'Declined'}\n",
    "# discounts_types = {1:'Open', 2:'Predefined', 3:'Coupon', 4:'Loyalty', 5:'Promotion'}\n",
    "\n",
    "#---------------\n",
    "\n",
    "orders_header['order_type'] = orders_header['order_type'].map(orders_types)\n",
    "orders_header['order_source'] = orders_header['order_source'].map(orders_sources)\n",
    "orders_header['order_status'] = orders_header['order_status'].map(orders_statuses)\n"
   ]
  },
  {
   "cell_type": "code",
   "execution_count": 5,
   "metadata": {
    "execution": {
     "iopub.execute_input": "2023-05-31T16:27:56.749407Z",
     "iopub.status.busy": "2023-05-31T16:27:56.748527Z",
     "iopub.status.idle": "2023-05-31T16:27:56.889445Z",
     "shell.execute_reply": "2023-05-31T16:27:56.888609Z"
    }
   },
   "outputs": [],
   "source": [
    "orders_header['order_datetime'] = pd.to_datetime(orders_header['order_date'])\n",
    "\n",
    "orders_header['order_time'] = orders_header['order_datetime'].dt.time\n",
    "orders_header['order_date'] = orders_header['order_datetime'].dt.date\n",
    "\n",
    "# orders_header['hour'] = orders_header['order_datetime'].dt.hour\n",
    "# orders_header['day_name'] = orders_header['order_datetime'].dt.day_name()\n",
    "# orders_header['is_weekend'] = orders_header['order_datetime'].dt.dayofweek.isin([4, 5])\n",
    "# orders_header['is_weekend'].replace({True:'Yes', False:'No'}, inplace=True)\n",
    "# orders_header['month'] = orders_header['order_datetime'].dt.month\n",
    "# orders_header['year'] = orders_header['order_datetime'].dt.year\n",
    "\n",
    "\n"
   ]
  },
  {
   "cell_type": "code",
   "execution_count": 6,
   "metadata": {
    "execution": {
     "iopub.execute_input": "2023-05-31T16:27:56.893342Z",
     "iopub.status.busy": "2023-05-31T16:27:56.892724Z",
     "iopub.status.idle": "2023-05-31T16:27:57.026886Z",
     "shell.execute_reply": "2023-05-31T16:27:57.026033Z"
    }
   },
   "outputs": [],
   "source": [
    "orders_header.drop_duplicates(inplace=True)"
   ]
  },
  {
   "cell_type": "code",
   "execution_count": 7,
   "metadata": {
    "execution": {
     "iopub.execute_input": "2023-05-31T16:27:57.030829Z",
     "iopub.status.busy": "2023-05-31T16:27:57.030183Z",
     "iopub.status.idle": "2023-05-31T16:27:57.206624Z",
     "shell.execute_reply": "2023-05-31T16:27:57.205678Z"
    }
   },
   "outputs": [
    {
     "data": {
      "text/plain": [
       "order_id             0\n",
       "branch_id            0\n",
       "order_date           0\n",
       "order_total_price    0\n",
       "order_source         0\n",
       "order_type           0\n",
       "order_status         4\n",
       "order_datetime       0\n",
       "order_time           0\n",
       "dtype: int64"
      ]
     },
     "execution_count": 7,
     "metadata": {},
     "output_type": "execute_result"
    }
   ],
   "source": [
    "orders_header.isnull().sum()"
   ]
  },
  {
   "cell_type": "code",
   "execution_count": 8,
   "metadata": {
    "execution": {
     "iopub.execute_input": "2023-05-31T16:27:57.210087Z",
     "iopub.status.busy": "2023-05-31T16:27:57.209677Z",
     "iopub.status.idle": "2023-05-31T16:27:57.223190Z",
     "shell.execute_reply": "2023-05-31T16:27:57.222305Z"
    }
   },
   "outputs": [
    {
     "data": {
      "text/html": [
       "<div>\n",
       "<style scoped>\n",
       "    .dataframe tbody tr th:only-of-type {\n",
       "        vertical-align: middle;\n",
       "    }\n",
       "\n",
       "    .dataframe tbody tr th {\n",
       "        vertical-align: top;\n",
       "    }\n",
       "\n",
       "    .dataframe thead th {\n",
       "        text-align: right;\n",
       "    }\n",
       "</style>\n",
       "<table border=\"1\" class=\"dataframe\">\n",
       "  <thead>\n",
       "    <tr style=\"text-align: right;\">\n",
       "      <th></th>\n",
       "      <th>order_id</th>\n",
       "      <th>branch_id</th>\n",
       "      <th>order_date</th>\n",
       "      <th>order_total_price</th>\n",
       "      <th>order_source</th>\n",
       "      <th>order_type</th>\n",
       "      <th>order_status</th>\n",
       "      <th>order_datetime</th>\n",
       "      <th>order_time</th>\n",
       "    </tr>\n",
       "  </thead>\n",
       "  <tbody>\n",
       "    <tr>\n",
       "      <th>0</th>\n",
       "      <td>4fc10c2a-55a9-45d0-ad37-9e3a48d190f8</td>\n",
       "      <td>975b3d24-ce3d-4801-9c11-582a817cc591</td>\n",
       "      <td>2022-10-02</td>\n",
       "      <td>15.00</td>\n",
       "      <td>Cashier</td>\n",
       "      <td>Dine In</td>\n",
       "      <td>Closed</td>\n",
       "      <td>2022-10-02 11:03:36</td>\n",
       "      <td>11:03:36</td>\n",
       "    </tr>\n",
       "    <tr>\n",
       "      <th>1</th>\n",
       "      <td>5babceee-5385-4fa5-b25f-4f1638a70696</td>\n",
       "      <td>975b3d24-ce3d-4801-9c11-582a817cc591</td>\n",
       "      <td>2022-10-02</td>\n",
       "      <td>6.80</td>\n",
       "      <td>Cashier</td>\n",
       "      <td>Dine In</td>\n",
       "      <td>Closed</td>\n",
       "      <td>2022-10-02 10:41:05</td>\n",
       "      <td>10:41:05</td>\n",
       "    </tr>\n",
       "    <tr>\n",
       "      <th>2</th>\n",
       "      <td>3c811baa-93bc-4200-9204-fdee8932f020</td>\n",
       "      <td>975b3d24-ce3d-4801-9c11-582a817cc591</td>\n",
       "      <td>2022-10-02</td>\n",
       "      <td>5.00</td>\n",
       "      <td>Cashier</td>\n",
       "      <td>Dine In</td>\n",
       "      <td>Closed</td>\n",
       "      <td>2022-10-02 10:39:04</td>\n",
       "      <td>10:39:04</td>\n",
       "    </tr>\n",
       "    <tr>\n",
       "      <th>3</th>\n",
       "      <td>7e7a67f8-849d-42da-9cac-e29d3144e9ec</td>\n",
       "      <td>975b3d24-cb71-4df8-930e-054bcd67f90c</td>\n",
       "      <td>2022-10-02</td>\n",
       "      <td>20.75</td>\n",
       "      <td>Cashier</td>\n",
       "      <td>Pick Up</td>\n",
       "      <td>Closed</td>\n",
       "      <td>2022-10-02 13:36:54</td>\n",
       "      <td>13:36:54</td>\n",
       "    </tr>\n",
       "    <tr>\n",
       "      <th>4</th>\n",
       "      <td>e02a78da-8a3e-4dad-8a27-ecc739f8d8a4</td>\n",
       "      <td>975b3d24-cb71-4df8-930e-054bcd67f90c</td>\n",
       "      <td>2022-10-02</td>\n",
       "      <td>30.00</td>\n",
       "      <td>Cashier</td>\n",
       "      <td>Dine In</td>\n",
       "      <td>Closed</td>\n",
       "      <td>2022-10-02 13:15:22</td>\n",
       "      <td>13:15:22</td>\n",
       "    </tr>\n",
       "  </tbody>\n",
       "</table>\n",
       "</div>"
      ],
      "text/plain": [
       "                               order_id                             branch_id  \\\n",
       "0  4fc10c2a-55a9-45d0-ad37-9e3a48d190f8  975b3d24-ce3d-4801-9c11-582a817cc591   \n",
       "1  5babceee-5385-4fa5-b25f-4f1638a70696  975b3d24-ce3d-4801-9c11-582a817cc591   \n",
       "2  3c811baa-93bc-4200-9204-fdee8932f020  975b3d24-ce3d-4801-9c11-582a817cc591   \n",
       "3  7e7a67f8-849d-42da-9cac-e29d3144e9ec  975b3d24-cb71-4df8-930e-054bcd67f90c   \n",
       "4  e02a78da-8a3e-4dad-8a27-ecc739f8d8a4  975b3d24-cb71-4df8-930e-054bcd67f90c   \n",
       "\n",
       "   order_date  order_total_price order_source order_type order_status  \\\n",
       "0  2022-10-02              15.00      Cashier    Dine In       Closed   \n",
       "1  2022-10-02               6.80      Cashier    Dine In       Closed   \n",
       "2  2022-10-02               5.00      Cashier    Dine In       Closed   \n",
       "3  2022-10-02              20.75      Cashier    Pick Up       Closed   \n",
       "4  2022-10-02              30.00      Cashier    Dine In       Closed   \n",
       "\n",
       "       order_datetime order_time  \n",
       "0 2022-10-02 11:03:36   11:03:36  \n",
       "1 2022-10-02 10:41:05   10:41:05  \n",
       "2 2022-10-02 10:39:04   10:39:04  \n",
       "3 2022-10-02 13:36:54   13:36:54  \n",
       "4 2022-10-02 13:15:22   13:15:22  "
      ]
     },
     "execution_count": 8,
     "metadata": {},
     "output_type": "execute_result"
    }
   ],
   "source": [
    "orders_header.head()"
   ]
  },
  {
   "cell_type": "code",
   "execution_count": 9,
   "metadata": {
    "execution": {
     "iopub.execute_input": "2023-05-31T16:27:57.226724Z",
     "iopub.status.busy": "2023-05-31T16:27:57.226448Z",
     "iopub.status.idle": "2023-05-31T16:27:57.231147Z",
     "shell.execute_reply": "2023-05-31T16:27:57.230247Z"
    }
   },
   "outputs": [],
   "source": [
    "orders_header.rename(columns={'order_id':'order_header_id'}, inplace=True)"
   ]
  },
  {
   "cell_type": "code",
   "execution_count": 10,
   "metadata": {
    "execution": {
     "iopub.execute_input": "2023-05-31T16:27:57.234542Z",
     "iopub.status.busy": "2023-05-31T16:27:57.234039Z",
     "iopub.status.idle": "2023-05-31T16:27:57.248183Z",
     "shell.execute_reply": "2023-05-31T16:27:57.247489Z"
    }
   },
   "outputs": [],
   "source": [
    "orders_header['order_status'].fillna('Void', inplace=True)"
   ]
  },
  {
   "cell_type": "code",
   "execution_count": 11,
   "metadata": {
    "execution": {
     "iopub.execute_input": "2023-05-31T16:27:57.251456Z",
     "iopub.status.busy": "2023-05-31T16:27:57.250884Z",
     "iopub.status.idle": "2023-05-31T16:27:57.255041Z",
     "shell.execute_reply": "2023-05-31T16:27:57.254234Z"
    }
   },
   "outputs": [],
   "source": [
    "orders_header.rename(columns={'order_id':'order_header_id'}, inplace=True)"
   ]
  },
  {
   "cell_type": "code",
   "execution_count": 12,
   "metadata": {
    "execution": {
     "iopub.execute_input": "2023-05-31T16:27:57.258119Z",
     "iopub.status.busy": "2023-05-31T16:27:57.257677Z",
     "iopub.status.idle": "2023-05-31T16:27:58.241255Z",
     "shell.execute_reply": "2023-05-31T16:27:58.240385Z"
    }
   },
   "outputs": [],
   "source": [
    "orders_header.to_csv('../../data/processed/order_header.csv', index=False)"
   ]
  },
  {
   "attachments": {},
   "cell_type": "markdown",
   "metadata": {},
   "source": [
    "# Order Details"
   ]
  },
  {
   "cell_type": "code",
   "execution_count": 13,
   "metadata": {
    "execution": {
     "iopub.execute_input": "2023-05-31T16:27:58.245278Z",
     "iopub.status.busy": "2023-05-31T16:27:58.244720Z",
     "iopub.status.idle": "2023-05-31T16:27:58.258611Z",
     "shell.execute_reply": "2023-05-31T16:27:58.257658Z"
    }
   },
   "outputs": [
    {
     "data": {
      "text/html": [
       "<div>\n",
       "<style scoped>\n",
       "    .dataframe tbody tr th:only-of-type {\n",
       "        vertical-align: middle;\n",
       "    }\n",
       "\n",
       "    .dataframe tbody tr th {\n",
       "        vertical-align: top;\n",
       "    }\n",
       "\n",
       "    .dataframe thead th {\n",
       "        text-align: right;\n",
       "    }\n",
       "</style>\n",
       "<table border=\"1\" class=\"dataframe\">\n",
       "  <thead>\n",
       "    <tr style=\"text-align: right;\">\n",
       "      <th></th>\n",
       "      <th>order_id</th>\n",
       "      <th>branch_id</th>\n",
       "      <th>order_date</th>\n",
       "      <th>order_total_price</th>\n",
       "      <th>order_source</th>\n",
       "      <th>order_type</th>\n",
       "      <th>order_status</th>\n",
       "      <th>product_id</th>\n",
       "      <th>category_id</th>\n",
       "      <th>quantity</th>\n",
       "      <th>product_price</th>\n",
       "    </tr>\n",
       "  </thead>\n",
       "  <tbody>\n",
       "    <tr>\n",
       "      <th>0</th>\n",
       "      <td>4fc10c2a-55a9-45d0-ad37-9e3a48d190f8</td>\n",
       "      <td>975b3d24-ce3d-4801-9c11-582a817cc591</td>\n",
       "      <td>2022-10-02 11:03:36</td>\n",
       "      <td>15.0</td>\n",
       "      <td>1</td>\n",
       "      <td>1</td>\n",
       "      <td>4</td>\n",
       "      <td>975b583e-90af-4319-87d3-022d8f1936d4</td>\n",
       "      <td>975b5737-ccc4-4c1f-8599-5e246eee4a3b</td>\n",
       "      <td>1</td>\n",
       "      <td>4.5</td>\n",
       "    </tr>\n",
       "    <tr>\n",
       "      <th>1</th>\n",
       "      <td>4fc10c2a-55a9-45d0-ad37-9e3a48d190f8</td>\n",
       "      <td>975b3d24-ce3d-4801-9c11-582a817cc591</td>\n",
       "      <td>2022-10-02 11:03:36</td>\n",
       "      <td>15.0</td>\n",
       "      <td>1</td>\n",
       "      <td>1</td>\n",
       "      <td>4</td>\n",
       "      <td>975b583e-96ee-41d6-9ed2-c2fb747e3f0a</td>\n",
       "      <td>975b5737-ccc4-4c1f-8599-5e246eee4a3b</td>\n",
       "      <td>1</td>\n",
       "      <td>5.5</td>\n",
       "    </tr>\n",
       "    <tr>\n",
       "      <th>2</th>\n",
       "      <td>4fc10c2a-55a9-45d0-ad37-9e3a48d190f8</td>\n",
       "      <td>975b3d24-ce3d-4801-9c11-582a817cc591</td>\n",
       "      <td>2022-10-02 11:03:36</td>\n",
       "      <td>15.0</td>\n",
       "      <td>1</td>\n",
       "      <td>1</td>\n",
       "      <td>4</td>\n",
       "      <td>975b583e-92bd-46f1-86c1-183d3a1c3c32</td>\n",
       "      <td>975b5737-ccc4-4c1f-8599-5e246eee4a3b</td>\n",
       "      <td>1</td>\n",
       "      <td>5.0</td>\n",
       "    </tr>\n",
       "    <tr>\n",
       "      <th>3</th>\n",
       "      <td>5babceee-5385-4fa5-b25f-4f1638a70696</td>\n",
       "      <td>975b3d24-ce3d-4801-9c11-582a817cc591</td>\n",
       "      <td>2022-10-02 10:41:05</td>\n",
       "      <td>6.8</td>\n",
       "      <td>1</td>\n",
       "      <td>1</td>\n",
       "      <td>4</td>\n",
       "      <td>975b583e-90af-4319-87d3-022d8f1936d4</td>\n",
       "      <td>975b5737-ccc4-4c1f-8599-5e246eee4a3b</td>\n",
       "      <td>1</td>\n",
       "      <td>4.5</td>\n",
       "    </tr>\n",
       "    <tr>\n",
       "      <th>4</th>\n",
       "      <td>5babceee-5385-4fa5-b25f-4f1638a70696</td>\n",
       "      <td>975b3d24-ce3d-4801-9c11-582a817cc591</td>\n",
       "      <td>2022-10-02 10:41:05</td>\n",
       "      <td>6.8</td>\n",
       "      <td>1</td>\n",
       "      <td>1</td>\n",
       "      <td>4</td>\n",
       "      <td>975b583f-2d41-4563-82d1-b09078a2e80a</td>\n",
       "      <td>975b5737-cf8c-4ef3-a445-7c4a71f349c5</td>\n",
       "      <td>1</td>\n",
       "      <td>0.3</td>\n",
       "    </tr>\n",
       "  </tbody>\n",
       "</table>\n",
       "</div>"
      ],
      "text/plain": [
       "                               order_id                             branch_id  \\\n",
       "0  4fc10c2a-55a9-45d0-ad37-9e3a48d190f8  975b3d24-ce3d-4801-9c11-582a817cc591   \n",
       "1  4fc10c2a-55a9-45d0-ad37-9e3a48d190f8  975b3d24-ce3d-4801-9c11-582a817cc591   \n",
       "2  4fc10c2a-55a9-45d0-ad37-9e3a48d190f8  975b3d24-ce3d-4801-9c11-582a817cc591   \n",
       "3  5babceee-5385-4fa5-b25f-4f1638a70696  975b3d24-ce3d-4801-9c11-582a817cc591   \n",
       "4  5babceee-5385-4fa5-b25f-4f1638a70696  975b3d24-ce3d-4801-9c11-582a817cc591   \n",
       "\n",
       "            order_date  order_total_price  order_source  order_type  \\\n",
       "0  2022-10-02 11:03:36               15.0             1           1   \n",
       "1  2022-10-02 11:03:36               15.0             1           1   \n",
       "2  2022-10-02 11:03:36               15.0             1           1   \n",
       "3  2022-10-02 10:41:05                6.8             1           1   \n",
       "4  2022-10-02 10:41:05                6.8             1           1   \n",
       "\n",
       "   order_status                            product_id  \\\n",
       "0             4  975b583e-90af-4319-87d3-022d8f1936d4   \n",
       "1             4  975b583e-96ee-41d6-9ed2-c2fb747e3f0a   \n",
       "2             4  975b583e-92bd-46f1-86c1-183d3a1c3c32   \n",
       "3             4  975b583e-90af-4319-87d3-022d8f1936d4   \n",
       "4             4  975b583f-2d41-4563-82d1-b09078a2e80a   \n",
       "\n",
       "                            category_id  quantity  product_price  \n",
       "0  975b5737-ccc4-4c1f-8599-5e246eee4a3b         1            4.5  \n",
       "1  975b5737-ccc4-4c1f-8599-5e246eee4a3b         1            5.5  \n",
       "2  975b5737-ccc4-4c1f-8599-5e246eee4a3b         1            5.0  \n",
       "3  975b5737-ccc4-4c1f-8599-5e246eee4a3b         1            4.5  \n",
       "4  975b5737-cf8c-4ef3-a445-7c4a71f349c5         1            0.3  "
      ]
     },
     "execution_count": 13,
     "metadata": {},
     "output_type": "execute_result"
    }
   ],
   "source": [
    "orders_details.head()"
   ]
  },
  {
   "cell_type": "code",
   "execution_count": 14,
   "metadata": {
    "execution": {
     "iopub.execute_input": "2023-05-31T16:27:58.262408Z",
     "iopub.status.busy": "2023-05-31T16:27:58.261655Z",
     "iopub.status.idle": "2023-05-31T16:27:58.277712Z",
     "shell.execute_reply": "2023-05-31T16:27:58.276792Z"
    }
   },
   "outputs": [
    {
     "data": {
      "text/html": [
       "<div>\n",
       "<style scoped>\n",
       "    .dataframe tbody tr th:only-of-type {\n",
       "        vertical-align: middle;\n",
       "    }\n",
       "\n",
       "    .dataframe tbody tr th {\n",
       "        vertical-align: top;\n",
       "    }\n",
       "\n",
       "    .dataframe thead th {\n",
       "        text-align: right;\n",
       "    }\n",
       "</style>\n",
       "<table border=\"1\" class=\"dataframe\">\n",
       "  <thead>\n",
       "    <tr style=\"text-align: right;\">\n",
       "      <th></th>\n",
       "      <th>order_id</th>\n",
       "      <th>product_id</th>\n",
       "      <th>category_id</th>\n",
       "      <th>quantity</th>\n",
       "      <th>product_price</th>\n",
       "    </tr>\n",
       "  </thead>\n",
       "  <tbody>\n",
       "    <tr>\n",
       "      <th>0</th>\n",
       "      <td>4fc10c2a-55a9-45d0-ad37-9e3a48d190f8</td>\n",
       "      <td>975b583e-90af-4319-87d3-022d8f1936d4</td>\n",
       "      <td>975b5737-ccc4-4c1f-8599-5e246eee4a3b</td>\n",
       "      <td>1</td>\n",
       "      <td>4.5</td>\n",
       "    </tr>\n",
       "    <tr>\n",
       "      <th>1</th>\n",
       "      <td>4fc10c2a-55a9-45d0-ad37-9e3a48d190f8</td>\n",
       "      <td>975b583e-96ee-41d6-9ed2-c2fb747e3f0a</td>\n",
       "      <td>975b5737-ccc4-4c1f-8599-5e246eee4a3b</td>\n",
       "      <td>1</td>\n",
       "      <td>5.5</td>\n",
       "    </tr>\n",
       "    <tr>\n",
       "      <th>2</th>\n",
       "      <td>4fc10c2a-55a9-45d0-ad37-9e3a48d190f8</td>\n",
       "      <td>975b583e-92bd-46f1-86c1-183d3a1c3c32</td>\n",
       "      <td>975b5737-ccc4-4c1f-8599-5e246eee4a3b</td>\n",
       "      <td>1</td>\n",
       "      <td>5.0</td>\n",
       "    </tr>\n",
       "    <tr>\n",
       "      <th>3</th>\n",
       "      <td>5babceee-5385-4fa5-b25f-4f1638a70696</td>\n",
       "      <td>975b583e-90af-4319-87d3-022d8f1936d4</td>\n",
       "      <td>975b5737-ccc4-4c1f-8599-5e246eee4a3b</td>\n",
       "      <td>1</td>\n",
       "      <td>4.5</td>\n",
       "    </tr>\n",
       "    <tr>\n",
       "      <th>4</th>\n",
       "      <td>5babceee-5385-4fa5-b25f-4f1638a70696</td>\n",
       "      <td>975b583f-2d41-4563-82d1-b09078a2e80a</td>\n",
       "      <td>975b5737-cf8c-4ef3-a445-7c4a71f349c5</td>\n",
       "      <td>1</td>\n",
       "      <td>0.3</td>\n",
       "    </tr>\n",
       "  </tbody>\n",
       "</table>\n",
       "</div>"
      ],
      "text/plain": [
       "                               order_id                            product_id  \\\n",
       "0  4fc10c2a-55a9-45d0-ad37-9e3a48d190f8  975b583e-90af-4319-87d3-022d8f1936d4   \n",
       "1  4fc10c2a-55a9-45d0-ad37-9e3a48d190f8  975b583e-96ee-41d6-9ed2-c2fb747e3f0a   \n",
       "2  4fc10c2a-55a9-45d0-ad37-9e3a48d190f8  975b583e-92bd-46f1-86c1-183d3a1c3c32   \n",
       "3  5babceee-5385-4fa5-b25f-4f1638a70696  975b583e-90af-4319-87d3-022d8f1936d4   \n",
       "4  5babceee-5385-4fa5-b25f-4f1638a70696  975b583f-2d41-4563-82d1-b09078a2e80a   \n",
       "\n",
       "                            category_id  quantity  product_price  \n",
       "0  975b5737-ccc4-4c1f-8599-5e246eee4a3b         1            4.5  \n",
       "1  975b5737-ccc4-4c1f-8599-5e246eee4a3b         1            5.5  \n",
       "2  975b5737-ccc4-4c1f-8599-5e246eee4a3b         1            5.0  \n",
       "3  975b5737-ccc4-4c1f-8599-5e246eee4a3b         1            4.5  \n",
       "4  975b5737-cf8c-4ef3-a445-7c4a71f349c5         1            0.3  "
      ]
     },
     "execution_count": 14,
     "metadata": {},
     "output_type": "execute_result"
    }
   ],
   "source": [
    "filtered_orders_details = orders_details.drop(columns=['order_date', 'order_total_price','order_source', 'order_type', 'order_status', 'branch_id'])\n",
    "filtered_orders_details.head()\n"
   ]
  },
  {
   "cell_type": "code",
   "execution_count": 15,
   "metadata": {
    "execution": {
     "iopub.execute_input": "2023-05-31T16:27:58.281287Z",
     "iopub.status.busy": "2023-05-31T16:27:58.280825Z",
     "iopub.status.idle": "2023-05-31T16:27:59.464899Z",
     "shell.execute_reply": "2023-05-31T16:27:59.464014Z"
    }
   },
   "outputs": [],
   "source": [
    "#filtered_orders_details['order_line_id'] = filtered_orders_details['order_id'] + '-' + filtered_orders_details['product_id'].apply(lambda x: x.split('-')[1]) + \n",
    "import uuid\n",
    "filtered_orders_details['order_details_id'] = [str(uuid.uuid4()) for _ in range(len(filtered_orders_details))]\n",
    "filtered_orders_details.rename(columns={'order_id':'order_header_id'}, inplace=True)"
   ]
  },
  {
   "cell_type": "code",
   "execution_count": 16,
   "metadata": {
    "execution": {
     "iopub.execute_input": "2023-05-31T16:27:59.468418Z",
     "iopub.status.busy": "2023-05-31T16:27:59.468158Z",
     "iopub.status.idle": "2023-05-31T16:27:59.479318Z",
     "shell.execute_reply": "2023-05-31T16:27:59.478405Z"
    }
   },
   "outputs": [
    {
     "data": {
      "text/html": [
       "<div>\n",
       "<style scoped>\n",
       "    .dataframe tbody tr th:only-of-type {\n",
       "        vertical-align: middle;\n",
       "    }\n",
       "\n",
       "    .dataframe tbody tr th {\n",
       "        vertical-align: top;\n",
       "    }\n",
       "\n",
       "    .dataframe thead th {\n",
       "        text-align: right;\n",
       "    }\n",
       "</style>\n",
       "<table border=\"1\" class=\"dataframe\">\n",
       "  <thead>\n",
       "    <tr style=\"text-align: right;\">\n",
       "      <th></th>\n",
       "      <th>order_header_id</th>\n",
       "      <th>product_id</th>\n",
       "      <th>category_id</th>\n",
       "      <th>quantity</th>\n",
       "      <th>product_price</th>\n",
       "      <th>order_details_id</th>\n",
       "    </tr>\n",
       "  </thead>\n",
       "  <tbody>\n",
       "    <tr>\n",
       "      <th>0</th>\n",
       "      <td>4fc10c2a-55a9-45d0-ad37-9e3a48d190f8</td>\n",
       "      <td>975b583e-90af-4319-87d3-022d8f1936d4</td>\n",
       "      <td>975b5737-ccc4-4c1f-8599-5e246eee4a3b</td>\n",
       "      <td>1</td>\n",
       "      <td>4.5</td>\n",
       "      <td>db104ddb-2315-4614-8c58-c693b3c925a5</td>\n",
       "    </tr>\n",
       "    <tr>\n",
       "      <th>1</th>\n",
       "      <td>4fc10c2a-55a9-45d0-ad37-9e3a48d190f8</td>\n",
       "      <td>975b583e-96ee-41d6-9ed2-c2fb747e3f0a</td>\n",
       "      <td>975b5737-ccc4-4c1f-8599-5e246eee4a3b</td>\n",
       "      <td>1</td>\n",
       "      <td>5.5</td>\n",
       "      <td>7ca9536a-1c07-4e5d-be0a-d897e6b70a6d</td>\n",
       "    </tr>\n",
       "    <tr>\n",
       "      <th>2</th>\n",
       "      <td>4fc10c2a-55a9-45d0-ad37-9e3a48d190f8</td>\n",
       "      <td>975b583e-92bd-46f1-86c1-183d3a1c3c32</td>\n",
       "      <td>975b5737-ccc4-4c1f-8599-5e246eee4a3b</td>\n",
       "      <td>1</td>\n",
       "      <td>5.0</td>\n",
       "      <td>c6610b9a-cd42-436e-97a7-98fa3ae8b3b8</td>\n",
       "    </tr>\n",
       "    <tr>\n",
       "      <th>3</th>\n",
       "      <td>5babceee-5385-4fa5-b25f-4f1638a70696</td>\n",
       "      <td>975b583e-90af-4319-87d3-022d8f1936d4</td>\n",
       "      <td>975b5737-ccc4-4c1f-8599-5e246eee4a3b</td>\n",
       "      <td>1</td>\n",
       "      <td>4.5</td>\n",
       "      <td>153d22b8-60b5-488a-95af-e2fd01f436fb</td>\n",
       "    </tr>\n",
       "    <tr>\n",
       "      <th>4</th>\n",
       "      <td>5babceee-5385-4fa5-b25f-4f1638a70696</td>\n",
       "      <td>975b583f-2d41-4563-82d1-b09078a2e80a</td>\n",
       "      <td>975b5737-cf8c-4ef3-a445-7c4a71f349c5</td>\n",
       "      <td>1</td>\n",
       "      <td>0.3</td>\n",
       "      <td>8e07965b-a9ec-45f7-bffb-a2f4ce903d50</td>\n",
       "    </tr>\n",
       "  </tbody>\n",
       "</table>\n",
       "</div>"
      ],
      "text/plain": [
       "                        order_header_id                            product_id  \\\n",
       "0  4fc10c2a-55a9-45d0-ad37-9e3a48d190f8  975b583e-90af-4319-87d3-022d8f1936d4   \n",
       "1  4fc10c2a-55a9-45d0-ad37-9e3a48d190f8  975b583e-96ee-41d6-9ed2-c2fb747e3f0a   \n",
       "2  4fc10c2a-55a9-45d0-ad37-9e3a48d190f8  975b583e-92bd-46f1-86c1-183d3a1c3c32   \n",
       "3  5babceee-5385-4fa5-b25f-4f1638a70696  975b583e-90af-4319-87d3-022d8f1936d4   \n",
       "4  5babceee-5385-4fa5-b25f-4f1638a70696  975b583f-2d41-4563-82d1-b09078a2e80a   \n",
       "\n",
       "                            category_id  quantity  product_price  \\\n",
       "0  975b5737-ccc4-4c1f-8599-5e246eee4a3b         1            4.5   \n",
       "1  975b5737-ccc4-4c1f-8599-5e246eee4a3b         1            5.5   \n",
       "2  975b5737-ccc4-4c1f-8599-5e246eee4a3b         1            5.0   \n",
       "3  975b5737-ccc4-4c1f-8599-5e246eee4a3b         1            4.5   \n",
       "4  975b5737-cf8c-4ef3-a445-7c4a71f349c5         1            0.3   \n",
       "\n",
       "                       order_details_id  \n",
       "0  db104ddb-2315-4614-8c58-c693b3c925a5  \n",
       "1  7ca9536a-1c07-4e5d-be0a-d897e6b70a6d  \n",
       "2  c6610b9a-cd42-436e-97a7-98fa3ae8b3b8  \n",
       "3  153d22b8-60b5-488a-95af-e2fd01f436fb  \n",
       "4  8e07965b-a9ec-45f7-bffb-a2f4ce903d50  "
      ]
     },
     "execution_count": 16,
     "metadata": {},
     "output_type": "execute_result"
    }
   ],
   "source": [
    "filtered_orders_details.head()"
   ]
  },
  {
   "cell_type": "code",
   "execution_count": 17,
   "metadata": {
    "execution": {
     "iopub.execute_input": "2023-05-31T16:27:59.482764Z",
     "iopub.status.busy": "2023-05-31T16:27:59.482269Z",
     "iopub.status.idle": "2023-05-31T16:27:59.648249Z",
     "shell.execute_reply": "2023-05-31T16:27:59.647456Z"
    }
   },
   "outputs": [],
   "source": [
    "filtered_orders_details.drop_duplicates(inplace=True)"
   ]
  },
  {
   "cell_type": "code",
   "execution_count": 18,
   "metadata": {
    "execution": {
     "iopub.execute_input": "2023-05-31T16:27:59.652156Z",
     "iopub.status.busy": "2023-05-31T16:27:59.651694Z",
     "iopub.status.idle": "2023-05-31T16:28:00.824178Z",
     "shell.execute_reply": "2023-05-31T16:28:00.823353Z"
    }
   },
   "outputs": [],
   "source": [
    "filtered_orders_details.to_csv('../../data/processed/order_details.csv', index=False)"
   ]
  },
  {
   "attachments": {},
   "cell_type": "markdown",
   "metadata": {},
   "source": [
    "# Products"
   ]
  },
  {
   "cell_type": "code",
   "execution_count": 19,
   "metadata": {
    "execution": {
     "iopub.execute_input": "2023-05-31T16:28:00.828139Z",
     "iopub.status.busy": "2023-05-31T16:28:00.827696Z",
     "iopub.status.idle": "2023-05-31T16:28:00.840509Z",
     "shell.execute_reply": "2023-05-31T16:28:00.839661Z"
    }
   },
   "outputs": [
    {
     "data": {
      "text/html": [
       "<div>\n",
       "<style scoped>\n",
       "    .dataframe tbody tr th:only-of-type {\n",
       "        vertical-align: middle;\n",
       "    }\n",
       "\n",
       "    .dataframe tbody tr th {\n",
       "        vertical-align: top;\n",
       "    }\n",
       "\n",
       "    .dataframe thead th {\n",
       "        text-align: right;\n",
       "    }\n",
       "</style>\n",
       "<table border=\"1\" class=\"dataframe\">\n",
       "  <thead>\n",
       "    <tr style=\"text-align: right;\">\n",
       "      <th></th>\n",
       "      <th>product_id</th>\n",
       "      <th>product_sku</th>\n",
       "      <th>product_name</th>\n",
       "      <th>category_name</th>\n",
       "      <th>category_id</th>\n",
       "      <th>is_active</th>\n",
       "      <th>is_stock_product</th>\n",
       "      <th>price</th>\n",
       "    </tr>\n",
       "  </thead>\n",
       "  <tbody>\n",
       "    <tr>\n",
       "      <th>0</th>\n",
       "      <td>975b583e-8e4e-4500-b416-e77dd352726a</td>\n",
       "      <td>psk-14</td>\n",
       "      <td>NaN</td>\n",
       "      <td>Fries</td>\n",
       "      <td>975b5737-c982-4e3f-9faf-083ca9dc56ac</td>\n",
       "      <td>True</td>\n",
       "      <td>False</td>\n",
       "      <td>5.00</td>\n",
       "    </tr>\n",
       "    <tr>\n",
       "      <th>1</th>\n",
       "      <td>975b583e-90a9-420a-804e-b41dddbe0971</td>\n",
       "      <td>psk-5</td>\n",
       "      <td>NaN</td>\n",
       "      <td>Shawarma</td>\n",
       "      <td>975b5737-c8e7-4ca6-a4b8-2c1546d5b8a1</td>\n",
       "      <td>True</td>\n",
       "      <td>False</td>\n",
       "      <td>1.50</td>\n",
       "    </tr>\n",
       "    <tr>\n",
       "      <th>2</th>\n",
       "      <td>975b583e-90af-4319-87d3-022d8f1936d4</td>\n",
       "      <td>psk-13</td>\n",
       "      <td>NaN</td>\n",
       "      <td>Chicken burger</td>\n",
       "      <td>975b5737-ccc4-4c1f-8599-5e246eee4a3b</td>\n",
       "      <td>True</td>\n",
       "      <td>False</td>\n",
       "      <td>4.50</td>\n",
       "    </tr>\n",
       "    <tr>\n",
       "      <th>3</th>\n",
       "      <td>975b583e-9145-4e05-90e7-9fa596c38888</td>\n",
       "      <td>psk-16</td>\n",
       "      <td>NaN</td>\n",
       "      <td>Fries</td>\n",
       "      <td>975b5737-c982-4e3f-9faf-083ca9dc56ac</td>\n",
       "      <td>True</td>\n",
       "      <td>False</td>\n",
       "      <td>2.50</td>\n",
       "    </tr>\n",
       "    <tr>\n",
       "      <th>4</th>\n",
       "      <td>975b583e-91e6-424e-851d-4de6a37813f5</td>\n",
       "      <td>psk-9</td>\n",
       "      <td>NaN</td>\n",
       "      <td>Shawarma</td>\n",
       "      <td>975b5737-c8e7-4ca6-a4b8-2c1546d5b8a1</td>\n",
       "      <td>True</td>\n",
       "      <td>False</td>\n",
       "      <td>3.75</td>\n",
       "    </tr>\n",
       "  </tbody>\n",
       "</table>\n",
       "</div>"
      ],
      "text/plain": [
       "                             product_id product_sku  product_name  \\\n",
       "0  975b583e-8e4e-4500-b416-e77dd352726a      psk-14           NaN   \n",
       "1  975b583e-90a9-420a-804e-b41dddbe0971       psk-5           NaN   \n",
       "2  975b583e-90af-4319-87d3-022d8f1936d4      psk-13           NaN   \n",
       "3  975b583e-9145-4e05-90e7-9fa596c38888      psk-16           NaN   \n",
       "4  975b583e-91e6-424e-851d-4de6a37813f5       psk-9           NaN   \n",
       "\n",
       "    category_name                           category_id  is_active  \\\n",
       "0           Fries  975b5737-c982-4e3f-9faf-083ca9dc56ac       True   \n",
       "1        Shawarma  975b5737-c8e7-4ca6-a4b8-2c1546d5b8a1       True   \n",
       "2  Chicken burger  975b5737-ccc4-4c1f-8599-5e246eee4a3b       True   \n",
       "3           Fries  975b5737-c982-4e3f-9faf-083ca9dc56ac       True   \n",
       "4        Shawarma  975b5737-c8e7-4ca6-a4b8-2c1546d5b8a1       True   \n",
       "\n",
       "   is_stock_product  price  \n",
       "0             False   5.00  \n",
       "1             False   1.50  \n",
       "2             False   4.50  \n",
       "3             False   2.50  \n",
       "4             False   3.75  "
      ]
     },
     "execution_count": 19,
     "metadata": {},
     "output_type": "execute_result"
    }
   ],
   "source": [
    "products.head()"
   ]
  },
  {
   "cell_type": "code",
   "execution_count": 20,
   "metadata": {
    "execution": {
     "iopub.execute_input": "2023-05-31T16:28:00.844146Z",
     "iopub.status.busy": "2023-05-31T16:28:00.843659Z",
     "iopub.status.idle": "2023-05-31T16:28:00.848641Z",
     "shell.execute_reply": "2023-05-31T16:28:00.847733Z"
    }
   },
   "outputs": [],
   "source": [
    "products.product_name.fillna(products.category_name, inplace=True)"
   ]
  },
  {
   "cell_type": "code",
   "execution_count": 21,
   "metadata": {
    "execution": {
     "iopub.execute_input": "2023-05-31T16:28:00.852081Z",
     "iopub.status.busy": "2023-05-31T16:28:00.851587Z",
     "iopub.status.idle": "2023-05-31T16:28:00.863262Z",
     "shell.execute_reply": "2023-05-31T16:28:00.862444Z"
    }
   },
   "outputs": [
    {
     "data": {
      "text/html": [
       "<div>\n",
       "<style scoped>\n",
       "    .dataframe tbody tr th:only-of-type {\n",
       "        vertical-align: middle;\n",
       "    }\n",
       "\n",
       "    .dataframe tbody tr th {\n",
       "        vertical-align: top;\n",
       "    }\n",
       "\n",
       "    .dataframe thead th {\n",
       "        text-align: right;\n",
       "    }\n",
       "</style>\n",
       "<table border=\"1\" class=\"dataframe\">\n",
       "  <thead>\n",
       "    <tr style=\"text-align: right;\">\n",
       "      <th></th>\n",
       "      <th>product_id</th>\n",
       "      <th>product_sku</th>\n",
       "      <th>product_name</th>\n",
       "      <th>category_name</th>\n",
       "      <th>category_id</th>\n",
       "      <th>is_active</th>\n",
       "      <th>is_stock_product</th>\n",
       "      <th>price</th>\n",
       "    </tr>\n",
       "  </thead>\n",
       "  <tbody>\n",
       "    <tr>\n",
       "      <th>0</th>\n",
       "      <td>975b583e-8e4e-4500-b416-e77dd352726a</td>\n",
       "      <td>psk-14</td>\n",
       "      <td>Fries</td>\n",
       "      <td>Fries</td>\n",
       "      <td>975b5737-c982-4e3f-9faf-083ca9dc56ac</td>\n",
       "      <td>True</td>\n",
       "      <td>False</td>\n",
       "      <td>5.00</td>\n",
       "    </tr>\n",
       "    <tr>\n",
       "      <th>1</th>\n",
       "      <td>975b583e-90a9-420a-804e-b41dddbe0971</td>\n",
       "      <td>psk-5</td>\n",
       "      <td>Shawarma</td>\n",
       "      <td>Shawarma</td>\n",
       "      <td>975b5737-c8e7-4ca6-a4b8-2c1546d5b8a1</td>\n",
       "      <td>True</td>\n",
       "      <td>False</td>\n",
       "      <td>1.50</td>\n",
       "    </tr>\n",
       "    <tr>\n",
       "      <th>2</th>\n",
       "      <td>975b583e-90af-4319-87d3-022d8f1936d4</td>\n",
       "      <td>psk-13</td>\n",
       "      <td>Chicken burger</td>\n",
       "      <td>Chicken burger</td>\n",
       "      <td>975b5737-ccc4-4c1f-8599-5e246eee4a3b</td>\n",
       "      <td>True</td>\n",
       "      <td>False</td>\n",
       "      <td>4.50</td>\n",
       "    </tr>\n",
       "    <tr>\n",
       "      <th>3</th>\n",
       "      <td>975b583e-9145-4e05-90e7-9fa596c38888</td>\n",
       "      <td>psk-16</td>\n",
       "      <td>Fries</td>\n",
       "      <td>Fries</td>\n",
       "      <td>975b5737-c982-4e3f-9faf-083ca9dc56ac</td>\n",
       "      <td>True</td>\n",
       "      <td>False</td>\n",
       "      <td>2.50</td>\n",
       "    </tr>\n",
       "    <tr>\n",
       "      <th>4</th>\n",
       "      <td>975b583e-91e6-424e-851d-4de6a37813f5</td>\n",
       "      <td>psk-9</td>\n",
       "      <td>Shawarma</td>\n",
       "      <td>Shawarma</td>\n",
       "      <td>975b5737-c8e7-4ca6-a4b8-2c1546d5b8a1</td>\n",
       "      <td>True</td>\n",
       "      <td>False</td>\n",
       "      <td>3.75</td>\n",
       "    </tr>\n",
       "  </tbody>\n",
       "</table>\n",
       "</div>"
      ],
      "text/plain": [
       "                             product_id product_sku    product_name  \\\n",
       "0  975b583e-8e4e-4500-b416-e77dd352726a      psk-14           Fries   \n",
       "1  975b583e-90a9-420a-804e-b41dddbe0971       psk-5        Shawarma   \n",
       "2  975b583e-90af-4319-87d3-022d8f1936d4      psk-13  Chicken burger   \n",
       "3  975b583e-9145-4e05-90e7-9fa596c38888      psk-16           Fries   \n",
       "4  975b583e-91e6-424e-851d-4de6a37813f5       psk-9        Shawarma   \n",
       "\n",
       "    category_name                           category_id  is_active  \\\n",
       "0           Fries  975b5737-c982-4e3f-9faf-083ca9dc56ac       True   \n",
       "1        Shawarma  975b5737-c8e7-4ca6-a4b8-2c1546d5b8a1       True   \n",
       "2  Chicken burger  975b5737-ccc4-4c1f-8599-5e246eee4a3b       True   \n",
       "3           Fries  975b5737-c982-4e3f-9faf-083ca9dc56ac       True   \n",
       "4        Shawarma  975b5737-c8e7-4ca6-a4b8-2c1546d5b8a1       True   \n",
       "\n",
       "   is_stock_product  price  \n",
       "0             False   5.00  \n",
       "1             False   1.50  \n",
       "2             False   4.50  \n",
       "3             False   2.50  \n",
       "4             False   3.75  "
      ]
     },
     "execution_count": 21,
     "metadata": {},
     "output_type": "execute_result"
    }
   ],
   "source": [
    "products.head()"
   ]
  },
  {
   "cell_type": "code",
   "execution_count": 22,
   "metadata": {
    "execution": {
     "iopub.execute_input": "2023-05-31T16:28:00.866647Z",
     "iopub.status.busy": "2023-05-31T16:28:00.866390Z",
     "iopub.status.idle": "2023-05-31T16:28:00.872131Z",
     "shell.execute_reply": "2023-05-31T16:28:00.871256Z"
    }
   },
   "outputs": [
    {
     "data": {
      "text/plain": [
       "array(['Fries', 'Shawarma', 'Chicken burger', 'Juices', 'Drinks',\n",
       "       'Sauces'], dtype=object)"
      ]
     },
     "execution_count": 22,
     "metadata": {},
     "output_type": "execute_result"
    }
   ],
   "source": [
    "products.category_name.unique()"
   ]
  },
  {
   "cell_type": "code",
   "execution_count": 23,
   "metadata": {
    "execution": {
     "iopub.execute_input": "2023-05-31T16:28:00.875243Z",
     "iopub.status.busy": "2023-05-31T16:28:00.874991Z",
     "iopub.status.idle": "2023-05-31T16:28:00.880423Z",
     "shell.execute_reply": "2023-05-31T16:28:00.879703Z"
    }
   },
   "outputs": [],
   "source": [
    "products.to_csv('../../data/processed/products.csv', index=False)"
   ]
  },
  {
   "attachments": {},
   "cell_type": "markdown",
   "metadata": {},
   "source": [
    "# Branches"
   ]
  },
  {
   "cell_type": "code",
   "execution_count": 24,
   "metadata": {
    "execution": {
     "iopub.execute_input": "2023-05-31T16:28:00.883894Z",
     "iopub.status.busy": "2023-05-31T16:28:00.883440Z",
     "iopub.status.idle": "2023-05-31T16:28:00.892207Z",
     "shell.execute_reply": "2023-05-31T16:28:00.891385Z"
    }
   },
   "outputs": [
    {
     "data": {
      "text/html": [
       "<div>\n",
       "<style scoped>\n",
       "    .dataframe tbody tr th:only-of-type {\n",
       "        vertical-align: middle;\n",
       "    }\n",
       "\n",
       "    .dataframe tbody tr th {\n",
       "        vertical-align: top;\n",
       "    }\n",
       "\n",
       "    .dataframe thead th {\n",
       "        text-align: right;\n",
       "    }\n",
       "</style>\n",
       "<table border=\"1\" class=\"dataframe\">\n",
       "  <thead>\n",
       "    <tr style=\"text-align: right;\">\n",
       "      <th></th>\n",
       "      <th>branch_id</th>\n",
       "      <th>branch_name</th>\n",
       "      <th>opening_from</th>\n",
       "      <th>opening_to</th>\n",
       "    </tr>\n",
       "  </thead>\n",
       "  <tbody>\n",
       "    <tr>\n",
       "      <th>0</th>\n",
       "      <td>975b3d24-cb71-4df8-930e-054bcd67f90c</td>\n",
       "      <td>4Chicks Abdoun</td>\n",
       "      <td>09:00</td>\n",
       "      <td>03:00</td>\n",
       "    </tr>\n",
       "    <tr>\n",
       "      <th>1</th>\n",
       "      <td>975b3d24-ce3d-4801-9c11-582a817cc591</td>\n",
       "      <td>4Chicks 7th circle</td>\n",
       "      <td>10:00</td>\n",
       "      <td>03:00</td>\n",
       "    </tr>\n",
       "    <tr>\n",
       "      <th>2</th>\n",
       "      <td>976744f0-20ac-4dd5-a06a-6a1ee9ffa7b5</td>\n",
       "      <td>4Chicks Al-Jubeha</td>\n",
       "      <td>10:00</td>\n",
       "      <td>03:00</td>\n",
       "    </tr>\n",
       "  </tbody>\n",
       "</table>\n",
       "</div>"
      ],
      "text/plain": [
       "                              branch_id         branch_name opening_from  \\\n",
       "0  975b3d24-cb71-4df8-930e-054bcd67f90c      4Chicks Abdoun        09:00   \n",
       "1  975b3d24-ce3d-4801-9c11-582a817cc591  4Chicks 7th circle        10:00   \n",
       "2  976744f0-20ac-4dd5-a06a-6a1ee9ffa7b5   4Chicks Al-Jubeha        10:00   \n",
       "\n",
       "  opening_to  \n",
       "0      03:00  \n",
       "1      03:00  \n",
       "2      03:00  "
      ]
     },
     "execution_count": 24,
     "metadata": {},
     "output_type": "execute_result"
    }
   ],
   "source": [
    "branches.head()"
   ]
  },
  {
   "cell_type": "code",
   "execution_count": 25,
   "metadata": {
    "execution": {
     "iopub.execute_input": "2023-05-31T16:28:00.895659Z",
     "iopub.status.busy": "2023-05-31T16:28:00.895172Z",
     "iopub.status.idle": "2023-05-31T16:28:00.903160Z",
     "shell.execute_reply": "2023-05-31T16:28:00.902297Z"
    }
   },
   "outputs": [],
   "source": [
    "branches['opening_from'] = pd.to_datetime(branches['opening_from'])\n",
    "branches['opening_to'] = pd.to_datetime(branches['opening_to'])\n",
    "\n",
    "branches['opening_from'] = branches['opening_from'].dt.hour\n",
    "branches['opening_to'] = branches['opening_to'].dt.hour"
   ]
  },
  {
   "cell_type": "code",
   "execution_count": 26,
   "metadata": {
    "execution": {
     "iopub.execute_input": "2023-05-31T16:28:00.906551Z",
     "iopub.status.busy": "2023-05-31T16:28:00.905824Z",
     "iopub.status.idle": "2023-05-31T16:28:00.911213Z",
     "shell.execute_reply": "2023-05-31T16:28:00.910456Z"
    }
   },
   "outputs": [],
   "source": [
    "branches.to_csv('../../data/processed/branches.csv', index=False)"
   ]
  },
  {
   "attachments": {},
   "cell_type": "markdown",
   "metadata": {},
   "source": [
    "# Categories"
   ]
  },
  {
   "cell_type": "code",
   "execution_count": 27,
   "metadata": {
    "execution": {
     "iopub.execute_input": "2023-05-31T16:28:00.914629Z",
     "iopub.status.busy": "2023-05-31T16:28:00.914184Z",
     "iopub.status.idle": "2023-05-31T16:28:00.922214Z",
     "shell.execute_reply": "2023-05-31T16:28:00.921350Z"
    }
   },
   "outputs": [
    {
     "data": {
      "text/html": [
       "<div>\n",
       "<style scoped>\n",
       "    .dataframe tbody tr th:only-of-type {\n",
       "        vertical-align: middle;\n",
       "    }\n",
       "\n",
       "    .dataframe tbody tr th {\n",
       "        vertical-align: top;\n",
       "    }\n",
       "\n",
       "    .dataframe thead th {\n",
       "        text-align: right;\n",
       "    }\n",
       "</style>\n",
       "<table border=\"1\" class=\"dataframe\">\n",
       "  <thead>\n",
       "    <tr style=\"text-align: right;\">\n",
       "      <th></th>\n",
       "      <th>category_id</th>\n",
       "      <th>category_name</th>\n",
       "    </tr>\n",
       "  </thead>\n",
       "  <tbody>\n",
       "    <tr>\n",
       "      <th>0</th>\n",
       "      <td>975b5737-c8e7-4ca6-a4b8-2c1546d5b8a1</td>\n",
       "      <td>Shawarma</td>\n",
       "    </tr>\n",
       "    <tr>\n",
       "      <th>1</th>\n",
       "      <td>975b5737-c982-4e3f-9faf-083ca9dc56ac</td>\n",
       "      <td>Fries</td>\n",
       "    </tr>\n",
       "    <tr>\n",
       "      <th>2</th>\n",
       "      <td>975b5737-cad1-4031-9319-5e3a7addba42</td>\n",
       "      <td>Drinks</td>\n",
       "    </tr>\n",
       "    <tr>\n",
       "      <th>3</th>\n",
       "      <td>975b5737-ccc4-4c1f-8599-5e246eee4a3b</td>\n",
       "      <td>Chicken burger</td>\n",
       "    </tr>\n",
       "    <tr>\n",
       "      <th>4</th>\n",
       "      <td>975b5737-cf8c-4ef3-a445-7c4a71f349c5</td>\n",
       "      <td>Sauces</td>\n",
       "    </tr>\n",
       "    <tr>\n",
       "      <th>5</th>\n",
       "      <td>975b5737-d227-4b7c-9962-3a7b09103597</td>\n",
       "      <td>Juices</td>\n",
       "    </tr>\n",
       "  </tbody>\n",
       "</table>\n",
       "</div>"
      ],
      "text/plain": [
       "                            category_id   category_name\n",
       "0  975b5737-c8e7-4ca6-a4b8-2c1546d5b8a1        Shawarma\n",
       "1  975b5737-c982-4e3f-9faf-083ca9dc56ac           Fries\n",
       "2  975b5737-cad1-4031-9319-5e3a7addba42          Drinks\n",
       "3  975b5737-ccc4-4c1f-8599-5e246eee4a3b  Chicken burger\n",
       "4  975b5737-cf8c-4ef3-a445-7c4a71f349c5          Sauces\n",
       "5  975b5737-d227-4b7c-9962-3a7b09103597          Juices"
      ]
     },
     "execution_count": 27,
     "metadata": {},
     "output_type": "execute_result"
    }
   ],
   "source": [
    "categories"
   ]
  },
  {
   "cell_type": "code",
   "execution_count": 28,
   "metadata": {
    "execution": {
     "iopub.execute_input": "2023-05-31T16:28:00.925934Z",
     "iopub.status.busy": "2023-05-31T16:28:00.925288Z",
     "iopub.status.idle": "2023-05-31T16:28:00.930585Z",
     "shell.execute_reply": "2023-05-31T16:28:00.929779Z"
    }
   },
   "outputs": [],
   "source": [
    "categories.to_csv('../../data/processed/categories.csv', index=False)"
   ]
  },
  {
   "cell_type": "code",
   "execution_count": 29,
   "metadata": {
    "execution": {
     "iopub.execute_input": "2023-05-31T16:28:00.933791Z",
     "iopub.status.busy": "2023-05-31T16:28:00.933539Z",
     "iopub.status.idle": "2023-05-31T16:28:00.937092Z",
     "shell.execute_reply": "2023-05-31T16:28:00.936228Z"
    }
   },
   "outputs": [],
   "source": [
    "# def check_values_exist(list1, list2):\n",
    "#     return all(value in list2 for value in list1)\n",
    "\n",
    "# check_values_exist(products.category_id.unique(), categories.category_id.unique())"
   ]
  }
 ],
 "metadata": {
  "kernelspec": {
   "display_name": ".venv",
   "language": "python",
   "name": "python3"
  },
  "language_info": {
   "codemirror_mode": {
    "name": "ipython",
    "version": 3
   },
   "file_extension": ".py",
   "mimetype": "text/x-python",
   "name": "python",
   "nbconvert_exporter": "python",
   "pygments_lexer": "ipython3",
   "version": "3.10.6"
  }
 },
 "nbformat": 4,
 "nbformat_minor": 2
}
