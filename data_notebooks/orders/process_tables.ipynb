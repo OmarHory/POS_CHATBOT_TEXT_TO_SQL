{
 "cells": [
  {
   "cell_type": "code",
   "execution_count": 1,
   "metadata": {
    "execution": {
     "iopub.execute_input": "2023-06-13T22:19:20.806511Z",
     "iopub.status.busy": "2023-06-13T22:19:20.806332Z",
     "iopub.status.idle": "2023-06-13T22:19:20.996414Z",
     "shell.execute_reply": "2023-06-13T22:19:20.995780Z"
    }
   },
   "outputs": [],
   "source": [
    "import pandas as pd\n",
    "import os\n",
    "from utils import *"
   ]
  },
  {
   "cell_type": "code",
   "execution_count": 2,
   "metadata": {
    "execution": {
     "iopub.execute_input": "2023-06-13T22:19:20.998950Z",
     "iopub.status.busy": "2023-06-13T22:19:20.998612Z",
     "iopub.status.idle": "2023-06-13T22:19:21.008098Z",
     "shell.execute_reply": "2023-06-13T22:19:21.007563Z"
    }
   },
   "outputs": [
    {
     "data": {
      "text/plain": [
       "True"
      ]
     },
     "execution_count": 2,
     "metadata": {},
     "output_type": "execute_result"
    }
   ],
   "source": [
    "from dotenv import load_dotenv\n",
    "load_dotenv()\n"
   ]
  },
  {
   "cell_type": "code",
   "execution_count": 3,
   "metadata": {
    "execution": {
     "iopub.execute_input": "2023-06-13T22:19:21.029637Z",
     "iopub.status.busy": "2023-06-13T22:19:21.029327Z",
     "iopub.status.idle": "2023-06-13T22:19:21.032390Z",
     "shell.execute_reply": "2023-06-13T22:19:21.031885Z"
    }
   },
   "outputs": [],
   "source": [
    "token = os.getenv('data_access_token')\n",
    "client_id = int(os.getenv('client_id'))\n",
    "business_timezone_offset = int(os.getenv('business_timezone_offset'))\n",
    "business_name = os.getenv(\"business_name\")\n",
    "\n"
   ]
  },
  {
   "cell_type": "code",
   "execution_count": 4,
   "metadata": {
    "execution": {
     "iopub.execute_input": "2023-06-13T22:19:21.034185Z",
     "iopub.status.busy": "2023-06-13T22:19:21.033936Z",
     "iopub.status.idle": "2023-06-13T22:19:21.527028Z",
     "shell.execute_reply": "2023-06-13T22:19:21.526442Z"
    }
   },
   "outputs": [],
   "source": [
    "#read all data\n",
    "orders_header = pd.read_csv(f'../../data/{client_id}/raw/order_header.csv')\n",
    "orders_details = pd.read_csv(f'../../data/{client_id}/raw/order_details.csv')\n",
    "products = pd.read_csv(f'../../data/{client_id}/raw/products.csv')\n",
    "branches = pd.read_csv(f'../../data/{client_id}/raw/branches.csv')\n",
    "categories = pd.read_csv(f'../../data/{client_id}/raw/categories.csv')\n",
    "\n",
    "\n",
    "\n",
    "\n"
   ]
  },
  {
   "attachments": {},
   "cell_type": "markdown",
   "metadata": {},
   "source": [
    "# Orders Headers"
   ]
  },
  {
   "cell_type": "code",
   "execution_count": 5,
   "metadata": {
    "execution": {
     "iopub.execute_input": "2023-06-13T22:19:21.529854Z",
     "iopub.status.busy": "2023-06-13T22:19:21.529516Z",
     "iopub.status.idle": "2023-06-13T22:19:21.537783Z",
     "shell.execute_reply": "2023-06-13T22:19:21.537203Z"
    }
   },
   "outputs": [
    {
     "data": {
      "text/html": [
       "<div>\n",
       "<style scoped>\n",
       "    .dataframe tbody tr th:only-of-type {\n",
       "        vertical-align: middle;\n",
       "    }\n",
       "\n",
       "    .dataframe tbody tr th {\n",
       "        vertical-align: top;\n",
       "    }\n",
       "\n",
       "    .dataframe thead th {\n",
       "        text-align: right;\n",
       "    }\n",
       "</style>\n",
       "<table border=\"1\" class=\"dataframe\">\n",
       "  <thead>\n",
       "    <tr style=\"text-align: right;\">\n",
       "      <th></th>\n",
       "      <th>id</th>\n",
       "      <th>client_id</th>\n",
       "      <th>branch_id</th>\n",
       "      <th>source</th>\n",
       "      <th>type</th>\n",
       "      <th>status</th>\n",
       "      <th>total_price</th>\n",
       "      <th>created_at</th>\n",
       "      <th>updated_at</th>\n",
       "      <th>ordered_at</th>\n",
       "    </tr>\n",
       "  </thead>\n",
       "  <tbody>\n",
       "    <tr>\n",
       "      <th>0</th>\n",
       "      <td>4fc10c2a-55a9-45d0-ad37-9e3a48d190f8</td>\n",
       "      <td>1</td>\n",
       "      <td>975b3d24-ce3d-4801-9c11-582a817cc591</td>\n",
       "      <td>1</td>\n",
       "      <td>1</td>\n",
       "      <td>4</td>\n",
       "      <td>15.00</td>\n",
       "      <td>2022-10-02 11:03:36</td>\n",
       "      <td>2022-11-28 09:26:24</td>\n",
       "      <td>2022-10-02 14:03:36</td>\n",
       "    </tr>\n",
       "    <tr>\n",
       "      <th>1</th>\n",
       "      <td>5babceee-5385-4fa5-b25f-4f1638a70696</td>\n",
       "      <td>1</td>\n",
       "      <td>975b3d24-ce3d-4801-9c11-582a817cc591</td>\n",
       "      <td>1</td>\n",
       "      <td>1</td>\n",
       "      <td>4</td>\n",
       "      <td>6.80</td>\n",
       "      <td>2022-10-02 10:41:05</td>\n",
       "      <td>2022-11-21 07:53:39</td>\n",
       "      <td>2022-10-02 13:41:05</td>\n",
       "    </tr>\n",
       "    <tr>\n",
       "      <th>2</th>\n",
       "      <td>3c811baa-93bc-4200-9204-fdee8932f020</td>\n",
       "      <td>1</td>\n",
       "      <td>975b3d24-ce3d-4801-9c11-582a817cc591</td>\n",
       "      <td>1</td>\n",
       "      <td>1</td>\n",
       "      <td>4</td>\n",
       "      <td>5.00</td>\n",
       "      <td>2022-10-02 10:39:04</td>\n",
       "      <td>2022-10-02 10:47:48</td>\n",
       "      <td>2022-10-02 13:39:04</td>\n",
       "    </tr>\n",
       "    <tr>\n",
       "      <th>3</th>\n",
       "      <td>7e7a67f8-849d-42da-9cac-e29d3144e9ec</td>\n",
       "      <td>1</td>\n",
       "      <td>975b3d24-cb71-4df8-930e-054bcd67f90c</td>\n",
       "      <td>1</td>\n",
       "      <td>2</td>\n",
       "      <td>4</td>\n",
       "      <td>20.75</td>\n",
       "      <td>2022-10-02 13:36:54</td>\n",
       "      <td>2022-11-28 11:43:54</td>\n",
       "      <td>2022-10-02 16:36:54</td>\n",
       "    </tr>\n",
       "    <tr>\n",
       "      <th>4</th>\n",
       "      <td>e02a78da-8a3e-4dad-8a27-ecc739f8d8a4</td>\n",
       "      <td>1</td>\n",
       "      <td>975b3d24-cb71-4df8-930e-054bcd67f90c</td>\n",
       "      <td>1</td>\n",
       "      <td>1</td>\n",
       "      <td>4</td>\n",
       "      <td>30.00</td>\n",
       "      <td>2022-10-02 13:15:22</td>\n",
       "      <td>2022-11-28 11:44:07</td>\n",
       "      <td>2022-10-02 16:15:22</td>\n",
       "    </tr>\n",
       "  </tbody>\n",
       "</table>\n",
       "</div>"
      ],
      "text/plain": [
       "                                     id  client_id  \\\n",
       "0  4fc10c2a-55a9-45d0-ad37-9e3a48d190f8          1   \n",
       "1  5babceee-5385-4fa5-b25f-4f1638a70696          1   \n",
       "2  3c811baa-93bc-4200-9204-fdee8932f020          1   \n",
       "3  7e7a67f8-849d-42da-9cac-e29d3144e9ec          1   \n",
       "4  e02a78da-8a3e-4dad-8a27-ecc739f8d8a4          1   \n",
       "\n",
       "                              branch_id  source  type  status  total_price  \\\n",
       "0  975b3d24-ce3d-4801-9c11-582a817cc591       1     1       4        15.00   \n",
       "1  975b3d24-ce3d-4801-9c11-582a817cc591       1     1       4         6.80   \n",
       "2  975b3d24-ce3d-4801-9c11-582a817cc591       1     1       4         5.00   \n",
       "3  975b3d24-cb71-4df8-930e-054bcd67f90c       1     2       4        20.75   \n",
       "4  975b3d24-cb71-4df8-930e-054bcd67f90c       1     1       4        30.00   \n",
       "\n",
       "            created_at           updated_at           ordered_at  \n",
       "0  2022-10-02 11:03:36  2022-11-28 09:26:24  2022-10-02 14:03:36  \n",
       "1  2022-10-02 10:41:05  2022-11-21 07:53:39  2022-10-02 13:41:05  \n",
       "2  2022-10-02 10:39:04  2022-10-02 10:47:48  2022-10-02 13:39:04  \n",
       "3  2022-10-02 13:36:54  2022-11-28 11:43:54  2022-10-02 16:36:54  \n",
       "4  2022-10-02 13:15:22  2022-11-28 11:44:07  2022-10-02 16:15:22  "
      ]
     },
     "execution_count": 5,
     "metadata": {},
     "output_type": "execute_result"
    }
   ],
   "source": [
    "orders_header.head()"
   ]
  },
  {
   "cell_type": "code",
   "execution_count": 6,
   "metadata": {
    "execution": {
     "iopub.execute_input": "2023-06-13T22:19:21.539569Z",
     "iopub.status.busy": "2023-06-13T22:19:21.539317Z",
     "iopub.status.idle": "2023-06-13T22:19:21.548664Z",
     "shell.execute_reply": "2023-06-13T22:19:21.548141Z"
    }
   },
   "outputs": [],
   "source": [
    "orders_types = {1:'Dine In', 2:'Pick Up', 3:'Delivery', '4':'Drive Thru'}\n",
    "orders_sources = {1:'Cashier', 2:'API', 3:'Call Center'}\n",
    "orders_statuses = {1:'Pending', 2:'Active', 3:'Declined', 4:'Closed', 5:'Returned', 6:'Joined', 7:'Void'}\n",
    "\n",
    "#---------------\n",
    "\n",
    "orders_header['type'] = orders_header['type'].map(orders_types)\n",
    "orders_header['source'] = orders_header['source'].map(orders_sources)\n",
    "orders_header['status'] = orders_header['status'].map(orders_statuses)\n"
   ]
  },
  {
   "cell_type": "code",
   "execution_count": 7,
   "metadata": {
    "execution": {
     "iopub.execute_input": "2023-06-13T22:19:21.550729Z",
     "iopub.status.busy": "2023-06-13T22:19:21.550467Z",
     "iopub.status.idle": "2023-06-13T22:19:21.567528Z",
     "shell.execute_reply": "2023-06-13T22:19:21.566939Z"
    }
   },
   "outputs": [],
   "source": [
    "orders_header['ordered_at'] = pd.to_datetime(orders_header['ordered_at'])\n"
   ]
  },
  {
   "cell_type": "code",
   "execution_count": 8,
   "metadata": {
    "execution": {
     "iopub.execute_input": "2023-06-13T22:19:21.570095Z",
     "iopub.status.busy": "2023-06-13T22:19:21.569816Z",
     "iopub.status.idle": "2023-06-13T22:19:21.645777Z",
     "shell.execute_reply": "2023-06-13T22:19:21.645085Z"
    }
   },
   "outputs": [],
   "source": [
    "orders_header.drop_duplicates(inplace=True)"
   ]
  },
  {
   "cell_type": "code",
   "execution_count": 9,
   "metadata": {
    "execution": {
     "iopub.execute_input": "2023-06-13T22:19:21.648230Z",
     "iopub.status.busy": "2023-06-13T22:19:21.648006Z",
     "iopub.status.idle": "2023-06-13T22:19:21.699509Z",
     "shell.execute_reply": "2023-06-13T22:19:21.698942Z"
    }
   },
   "outputs": [
    {
     "data": {
      "text/plain": [
       "id             0\n",
       "client_id      0\n",
       "branch_id      0\n",
       "source         0\n",
       "type           0\n",
       "status         4\n",
       "total_price    0\n",
       "created_at     0\n",
       "updated_at     0\n",
       "ordered_at     0\n",
       "dtype: int64"
      ]
     },
     "execution_count": 9,
     "metadata": {},
     "output_type": "execute_result"
    }
   ],
   "source": [
    "orders_header.isnull().sum()"
   ]
  },
  {
   "cell_type": "code",
   "execution_count": 10,
   "metadata": {
    "execution": {
     "iopub.execute_input": "2023-06-13T22:19:21.701475Z",
     "iopub.status.busy": "2023-06-13T22:19:21.701205Z",
     "iopub.status.idle": "2023-06-13T22:19:21.708407Z",
     "shell.execute_reply": "2023-06-13T22:19:21.707904Z"
    }
   },
   "outputs": [
    {
     "data": {
      "text/html": [
       "<div>\n",
       "<style scoped>\n",
       "    .dataframe tbody tr th:only-of-type {\n",
       "        vertical-align: middle;\n",
       "    }\n",
       "\n",
       "    .dataframe tbody tr th {\n",
       "        vertical-align: top;\n",
       "    }\n",
       "\n",
       "    .dataframe thead th {\n",
       "        text-align: right;\n",
       "    }\n",
       "</style>\n",
       "<table border=\"1\" class=\"dataframe\">\n",
       "  <thead>\n",
       "    <tr style=\"text-align: right;\">\n",
       "      <th></th>\n",
       "      <th>id</th>\n",
       "      <th>client_id</th>\n",
       "      <th>branch_id</th>\n",
       "      <th>source</th>\n",
       "      <th>type</th>\n",
       "      <th>status</th>\n",
       "      <th>total_price</th>\n",
       "      <th>created_at</th>\n",
       "      <th>updated_at</th>\n",
       "      <th>ordered_at</th>\n",
       "    </tr>\n",
       "  </thead>\n",
       "  <tbody>\n",
       "    <tr>\n",
       "      <th>0</th>\n",
       "      <td>4fc10c2a-55a9-45d0-ad37-9e3a48d190f8</td>\n",
       "      <td>1</td>\n",
       "      <td>975b3d24-ce3d-4801-9c11-582a817cc591</td>\n",
       "      <td>Cashier</td>\n",
       "      <td>Dine In</td>\n",
       "      <td>Closed</td>\n",
       "      <td>15.00</td>\n",
       "      <td>2022-10-02 11:03:36</td>\n",
       "      <td>2022-11-28 09:26:24</td>\n",
       "      <td>2022-10-02 14:03:36</td>\n",
       "    </tr>\n",
       "    <tr>\n",
       "      <th>1</th>\n",
       "      <td>5babceee-5385-4fa5-b25f-4f1638a70696</td>\n",
       "      <td>1</td>\n",
       "      <td>975b3d24-ce3d-4801-9c11-582a817cc591</td>\n",
       "      <td>Cashier</td>\n",
       "      <td>Dine In</td>\n",
       "      <td>Closed</td>\n",
       "      <td>6.80</td>\n",
       "      <td>2022-10-02 10:41:05</td>\n",
       "      <td>2022-11-21 07:53:39</td>\n",
       "      <td>2022-10-02 13:41:05</td>\n",
       "    </tr>\n",
       "    <tr>\n",
       "      <th>2</th>\n",
       "      <td>3c811baa-93bc-4200-9204-fdee8932f020</td>\n",
       "      <td>1</td>\n",
       "      <td>975b3d24-ce3d-4801-9c11-582a817cc591</td>\n",
       "      <td>Cashier</td>\n",
       "      <td>Dine In</td>\n",
       "      <td>Closed</td>\n",
       "      <td>5.00</td>\n",
       "      <td>2022-10-02 10:39:04</td>\n",
       "      <td>2022-10-02 10:47:48</td>\n",
       "      <td>2022-10-02 13:39:04</td>\n",
       "    </tr>\n",
       "    <tr>\n",
       "      <th>3</th>\n",
       "      <td>7e7a67f8-849d-42da-9cac-e29d3144e9ec</td>\n",
       "      <td>1</td>\n",
       "      <td>975b3d24-cb71-4df8-930e-054bcd67f90c</td>\n",
       "      <td>Cashier</td>\n",
       "      <td>Pick Up</td>\n",
       "      <td>Closed</td>\n",
       "      <td>20.75</td>\n",
       "      <td>2022-10-02 13:36:54</td>\n",
       "      <td>2022-11-28 11:43:54</td>\n",
       "      <td>2022-10-02 16:36:54</td>\n",
       "    </tr>\n",
       "    <tr>\n",
       "      <th>4</th>\n",
       "      <td>e02a78da-8a3e-4dad-8a27-ecc739f8d8a4</td>\n",
       "      <td>1</td>\n",
       "      <td>975b3d24-cb71-4df8-930e-054bcd67f90c</td>\n",
       "      <td>Cashier</td>\n",
       "      <td>Dine In</td>\n",
       "      <td>Closed</td>\n",
       "      <td>30.00</td>\n",
       "      <td>2022-10-02 13:15:22</td>\n",
       "      <td>2022-11-28 11:44:07</td>\n",
       "      <td>2022-10-02 16:15:22</td>\n",
       "    </tr>\n",
       "  </tbody>\n",
       "</table>\n",
       "</div>"
      ],
      "text/plain": [
       "                                     id  client_id  \\\n",
       "0  4fc10c2a-55a9-45d0-ad37-9e3a48d190f8          1   \n",
       "1  5babceee-5385-4fa5-b25f-4f1638a70696          1   \n",
       "2  3c811baa-93bc-4200-9204-fdee8932f020          1   \n",
       "3  7e7a67f8-849d-42da-9cac-e29d3144e9ec          1   \n",
       "4  e02a78da-8a3e-4dad-8a27-ecc739f8d8a4          1   \n",
       "\n",
       "                              branch_id   source     type  status  \\\n",
       "0  975b3d24-ce3d-4801-9c11-582a817cc591  Cashier  Dine In  Closed   \n",
       "1  975b3d24-ce3d-4801-9c11-582a817cc591  Cashier  Dine In  Closed   \n",
       "2  975b3d24-ce3d-4801-9c11-582a817cc591  Cashier  Dine In  Closed   \n",
       "3  975b3d24-cb71-4df8-930e-054bcd67f90c  Cashier  Pick Up  Closed   \n",
       "4  975b3d24-cb71-4df8-930e-054bcd67f90c  Cashier  Dine In  Closed   \n",
       "\n",
       "   total_price           created_at           updated_at          ordered_at  \n",
       "0        15.00  2022-10-02 11:03:36  2022-11-28 09:26:24 2022-10-02 14:03:36  \n",
       "1         6.80  2022-10-02 10:41:05  2022-11-21 07:53:39 2022-10-02 13:41:05  \n",
       "2         5.00  2022-10-02 10:39:04  2022-10-02 10:47:48 2022-10-02 13:39:04  \n",
       "3        20.75  2022-10-02 13:36:54  2022-11-28 11:43:54 2022-10-02 16:36:54  \n",
       "4        30.00  2022-10-02 13:15:22  2022-11-28 11:44:07 2022-10-02 16:15:22  "
      ]
     },
     "execution_count": 10,
     "metadata": {},
     "output_type": "execute_result"
    }
   ],
   "source": [
    "orders_header.head()"
   ]
  },
  {
   "cell_type": "code",
   "execution_count": 11,
   "metadata": {
    "execution": {
     "iopub.execute_input": "2023-06-13T22:19:21.710200Z",
     "iopub.status.busy": "2023-06-13T22:19:21.709941Z",
     "iopub.status.idle": "2023-06-13T22:19:21.715830Z",
     "shell.execute_reply": "2023-06-13T22:19:21.715343Z"
    }
   },
   "outputs": [],
   "source": [
    "orders_header['status'].fillna('Void', inplace=True)"
   ]
  },
  {
   "cell_type": "code",
   "execution_count": null,
   "metadata": {
    "execution": {
     "iopub.execute_input": "2023-06-12T09:27:24.282907Z",
     "iopub.status.busy": "2023-06-12T09:27:24.282593Z",
     "iopub.status.idle": "2023-06-12T09:27:24.594220Z",
     "shell.execute_reply": "2023-06-12T09:27:24.593551Z"
    }
   },
   "outputs": [],
   "source": []
  },
  {
   "attachments": {},
   "cell_type": "markdown",
   "metadata": {},
   "source": [
    "# Order Details"
   ]
  },
  {
   "cell_type": "code",
   "execution_count": 12,
   "metadata": {
    "execution": {
     "iopub.execute_input": "2023-06-13T22:19:21.717780Z",
     "iopub.status.busy": "2023-06-13T22:19:21.717547Z",
     "iopub.status.idle": "2023-06-13T22:19:21.724040Z",
     "shell.execute_reply": "2023-06-13T22:19:21.723562Z"
    }
   },
   "outputs": [
    {
     "data": {
      "text/html": [
       "<div>\n",
       "<style scoped>\n",
       "    .dataframe tbody tr th:only-of-type {\n",
       "        vertical-align: middle;\n",
       "    }\n",
       "\n",
       "    .dataframe tbody tr th {\n",
       "        vertical-align: top;\n",
       "    }\n",
       "\n",
       "    .dataframe thead th {\n",
       "        text-align: right;\n",
       "    }\n",
       "</style>\n",
       "<table border=\"1\" class=\"dataframe\">\n",
       "  <thead>\n",
       "    <tr style=\"text-align: right;\">\n",
       "      <th></th>\n",
       "      <th>id</th>\n",
       "      <th>header_id</th>\n",
       "      <th>product_id</th>\n",
       "      <th>category_id</th>\n",
       "      <th>client_id</th>\n",
       "      <th>quantity</th>\n",
       "      <th>price</th>\n",
       "      <th>created_at</th>\n",
       "      <th>updated_at</th>\n",
       "    </tr>\n",
       "  </thead>\n",
       "  <tbody>\n",
       "    <tr>\n",
       "      <th>0</th>\n",
       "      <td>62de06c9-c49b-46aa-a7b6-1c7ed5e9a57f</td>\n",
       "      <td>4fc10c2a-55a9-45d0-ad37-9e3a48d190f8</td>\n",
       "      <td>975b583e-90af-4319-87d3-022d8f1936d4</td>\n",
       "      <td>975b5737-ccc4-4c1f-8599-5e246eee4a3b</td>\n",
       "      <td>1</td>\n",
       "      <td>1</td>\n",
       "      <td>4.5</td>\n",
       "      <td>2022-10-02 11:03:36</td>\n",
       "      <td>2022-11-28 09:26:24</td>\n",
       "    </tr>\n",
       "    <tr>\n",
       "      <th>1</th>\n",
       "      <td>90bec2e5-832c-4dee-925f-316ef86e42b5</td>\n",
       "      <td>4fc10c2a-55a9-45d0-ad37-9e3a48d190f8</td>\n",
       "      <td>975b583e-96ee-41d6-9ed2-c2fb747e3f0a</td>\n",
       "      <td>975b5737-ccc4-4c1f-8599-5e246eee4a3b</td>\n",
       "      <td>1</td>\n",
       "      <td>1</td>\n",
       "      <td>5.5</td>\n",
       "      <td>2022-10-02 11:03:36</td>\n",
       "      <td>2022-11-28 09:26:24</td>\n",
       "    </tr>\n",
       "    <tr>\n",
       "      <th>2</th>\n",
       "      <td>957f6008-44fd-4a19-aa49-c977fd2b5ae7</td>\n",
       "      <td>4fc10c2a-55a9-45d0-ad37-9e3a48d190f8</td>\n",
       "      <td>975b583e-92bd-46f1-86c1-183d3a1c3c32</td>\n",
       "      <td>975b5737-ccc4-4c1f-8599-5e246eee4a3b</td>\n",
       "      <td>1</td>\n",
       "      <td>1</td>\n",
       "      <td>5.0</td>\n",
       "      <td>2022-10-02 11:03:36</td>\n",
       "      <td>2022-11-28 09:26:24</td>\n",
       "    </tr>\n",
       "    <tr>\n",
       "      <th>3</th>\n",
       "      <td>08da281d-5838-412e-a883-ac9e6891aa94</td>\n",
       "      <td>5babceee-5385-4fa5-b25f-4f1638a70696</td>\n",
       "      <td>975b583e-90af-4319-87d3-022d8f1936d4</td>\n",
       "      <td>975b5737-ccc4-4c1f-8599-5e246eee4a3b</td>\n",
       "      <td>1</td>\n",
       "      <td>1</td>\n",
       "      <td>4.5</td>\n",
       "      <td>2022-10-02 10:41:05</td>\n",
       "      <td>2022-11-21 07:53:39</td>\n",
       "    </tr>\n",
       "    <tr>\n",
       "      <th>4</th>\n",
       "      <td>7dd440dd-62ad-4196-a3d9-6dd60a8a9b03</td>\n",
       "      <td>5babceee-5385-4fa5-b25f-4f1638a70696</td>\n",
       "      <td>975b583f-2d41-4563-82d1-b09078a2e80a</td>\n",
       "      <td>975b5737-cf8c-4ef3-a445-7c4a71f349c5</td>\n",
       "      <td>1</td>\n",
       "      <td>1</td>\n",
       "      <td>0.3</td>\n",
       "      <td>2022-10-02 10:41:05</td>\n",
       "      <td>2022-11-21 07:53:39</td>\n",
       "    </tr>\n",
       "  </tbody>\n",
       "</table>\n",
       "</div>"
      ],
      "text/plain": [
       "                                     id                             header_id  \\\n",
       "0  62de06c9-c49b-46aa-a7b6-1c7ed5e9a57f  4fc10c2a-55a9-45d0-ad37-9e3a48d190f8   \n",
       "1  90bec2e5-832c-4dee-925f-316ef86e42b5  4fc10c2a-55a9-45d0-ad37-9e3a48d190f8   \n",
       "2  957f6008-44fd-4a19-aa49-c977fd2b5ae7  4fc10c2a-55a9-45d0-ad37-9e3a48d190f8   \n",
       "3  08da281d-5838-412e-a883-ac9e6891aa94  5babceee-5385-4fa5-b25f-4f1638a70696   \n",
       "4  7dd440dd-62ad-4196-a3d9-6dd60a8a9b03  5babceee-5385-4fa5-b25f-4f1638a70696   \n",
       "\n",
       "                             product_id                           category_id  \\\n",
       "0  975b583e-90af-4319-87d3-022d8f1936d4  975b5737-ccc4-4c1f-8599-5e246eee4a3b   \n",
       "1  975b583e-96ee-41d6-9ed2-c2fb747e3f0a  975b5737-ccc4-4c1f-8599-5e246eee4a3b   \n",
       "2  975b583e-92bd-46f1-86c1-183d3a1c3c32  975b5737-ccc4-4c1f-8599-5e246eee4a3b   \n",
       "3  975b583e-90af-4319-87d3-022d8f1936d4  975b5737-ccc4-4c1f-8599-5e246eee4a3b   \n",
       "4  975b583f-2d41-4563-82d1-b09078a2e80a  975b5737-cf8c-4ef3-a445-7c4a71f349c5   \n",
       "\n",
       "   client_id  quantity  price           created_at           updated_at  \n",
       "0          1         1    4.5  2022-10-02 11:03:36  2022-11-28 09:26:24  \n",
       "1          1         1    5.5  2022-10-02 11:03:36  2022-11-28 09:26:24  \n",
       "2          1         1    5.0  2022-10-02 11:03:36  2022-11-28 09:26:24  \n",
       "3          1         1    4.5  2022-10-02 10:41:05  2022-11-21 07:53:39  \n",
       "4          1         1    0.3  2022-10-02 10:41:05  2022-11-21 07:53:39  "
      ]
     },
     "execution_count": 12,
     "metadata": {},
     "output_type": "execute_result"
    }
   ],
   "source": [
    "orders_details.head()\n"
   ]
  },
  {
   "attachments": {},
   "cell_type": "markdown",
   "metadata": {},
   "source": [
    "# Products"
   ]
  },
  {
   "cell_type": "code",
   "execution_count": 13,
   "metadata": {
    "execution": {
     "iopub.execute_input": "2023-06-13T22:19:21.725862Z",
     "iopub.status.busy": "2023-06-13T22:19:21.725630Z",
     "iopub.status.idle": "2023-06-13T22:19:21.732985Z",
     "shell.execute_reply": "2023-06-13T22:19:21.732502Z"
    }
   },
   "outputs": [
    {
     "data": {
      "text/html": [
       "<div>\n",
       "<style scoped>\n",
       "    .dataframe tbody tr th:only-of-type {\n",
       "        vertical-align: middle;\n",
       "    }\n",
       "\n",
       "    .dataframe tbody tr th {\n",
       "        vertical-align: top;\n",
       "    }\n",
       "\n",
       "    .dataframe thead th {\n",
       "        text-align: right;\n",
       "    }\n",
       "</style>\n",
       "<table border=\"1\" class=\"dataframe\">\n",
       "  <thead>\n",
       "    <tr style=\"text-align: right;\">\n",
       "      <th></th>\n",
       "      <th>id</th>\n",
       "      <th>client_id</th>\n",
       "      <th>sku</th>\n",
       "      <th>slug</th>\n",
       "      <th>name</th>\n",
       "      <th>category_id</th>\n",
       "      <th>is_active</th>\n",
       "      <th>is_stock</th>\n",
       "      <th>price</th>\n",
       "      <th>created_at</th>\n",
       "      <th>updated_at</th>\n",
       "      <th>deleted_at</th>\n",
       "    </tr>\n",
       "  </thead>\n",
       "  <tbody>\n",
       "    <tr>\n",
       "      <th>0</th>\n",
       "      <td>975b583e-8e4e-4500-b416-e77dd352726a</td>\n",
       "      <td>1</td>\n",
       "      <td>psk-14</td>\n",
       "      <td>تشكس-فرايز-زنجر</td>\n",
       "      <td>تشكس فرايز زنجر</td>\n",
       "      <td>975b5737-c982-4e3f-9faf-083ca9dc56ac</td>\n",
       "      <td>True</td>\n",
       "      <td>False</td>\n",
       "      <td>5.00</td>\n",
       "      <td>2022-09-26 09:49:43</td>\n",
       "      <td>2022-10-02 10:36:36</td>\n",
       "      <td>NaN</td>\n",
       "    </tr>\n",
       "    <tr>\n",
       "      <th>1</th>\n",
       "      <td>975b583e-90a9-420a-804e-b41dddbe0971</td>\n",
       "      <td>1</td>\n",
       "      <td>psk-5</td>\n",
       "      <td>كلاسيك</td>\n",
       "      <td>كلاسيك</td>\n",
       "      <td>975b5737-c8e7-4ca6-a4b8-2c1546d5b8a1</td>\n",
       "      <td>True</td>\n",
       "      <td>False</td>\n",
       "      <td>1.50</td>\n",
       "      <td>2022-09-26 09:49:43</td>\n",
       "      <td>2022-10-02 10:36:36</td>\n",
       "      <td>NaN</td>\n",
       "    </tr>\n",
       "    <tr>\n",
       "      <th>2</th>\n",
       "      <td>975b583e-90af-4319-87d3-022d8f1936d4</td>\n",
       "      <td>1</td>\n",
       "      <td>psk-13</td>\n",
       "      <td>تشكس-ستريبس</td>\n",
       "      <td>تشكس ستريبس</td>\n",
       "      <td>975b5737-ccc4-4c1f-8599-5e246eee4a3b</td>\n",
       "      <td>True</td>\n",
       "      <td>False</td>\n",
       "      <td>4.50</td>\n",
       "      <td>2022-09-26 09:49:43</td>\n",
       "      <td>2022-10-02 10:36:36</td>\n",
       "      <td>NaN</td>\n",
       "    </tr>\n",
       "    <tr>\n",
       "      <th>3</th>\n",
       "      <td>975b583e-9145-4e05-90e7-9fa596c38888</td>\n",
       "      <td>1</td>\n",
       "      <td>psk-16</td>\n",
       "      <td>فرايز-باجبنة</td>\n",
       "      <td>فرايز باجبنة</td>\n",
       "      <td>975b5737-c982-4e3f-9faf-083ca9dc56ac</td>\n",
       "      <td>True</td>\n",
       "      <td>False</td>\n",
       "      <td>2.50</td>\n",
       "      <td>2022-09-26 09:49:43</td>\n",
       "      <td>2022-10-02 10:36:36</td>\n",
       "      <td>NaN</td>\n",
       "    </tr>\n",
       "    <tr>\n",
       "      <th>4</th>\n",
       "      <td>975b583e-91e6-424e-851d-4de6a37813f5</td>\n",
       "      <td>1</td>\n",
       "      <td>psk-9</td>\n",
       "      <td>اربيان-دجاج-l</td>\n",
       "      <td>اربيان دجاج l</td>\n",
       "      <td>975b5737-c8e7-4ca6-a4b8-2c1546d5b8a1</td>\n",
       "      <td>True</td>\n",
       "      <td>False</td>\n",
       "      <td>3.75</td>\n",
       "      <td>2022-09-26 09:49:43</td>\n",
       "      <td>2022-12-29 08:58:43</td>\n",
       "      <td>NaN</td>\n",
       "    </tr>\n",
       "  </tbody>\n",
       "</table>\n",
       "</div>"
      ],
      "text/plain": [
       "                                     id  client_id     sku             slug  \\\n",
       "0  975b583e-8e4e-4500-b416-e77dd352726a          1  psk-14  تشكس-فرايز-زنجر   \n",
       "1  975b583e-90a9-420a-804e-b41dddbe0971          1   psk-5           كلاسيك   \n",
       "2  975b583e-90af-4319-87d3-022d8f1936d4          1  psk-13      تشكس-ستريبس   \n",
       "3  975b583e-9145-4e05-90e7-9fa596c38888          1  psk-16     فرايز-باجبنة   \n",
       "4  975b583e-91e6-424e-851d-4de6a37813f5          1   psk-9    اربيان-دجاج-l   \n",
       "\n",
       "              name                           category_id  is_active  is_stock  \\\n",
       "0  تشكس فرايز زنجر  975b5737-c982-4e3f-9faf-083ca9dc56ac       True     False   \n",
       "1           كلاسيك  975b5737-c8e7-4ca6-a4b8-2c1546d5b8a1       True     False   \n",
       "2      تشكس ستريبس  975b5737-ccc4-4c1f-8599-5e246eee4a3b       True     False   \n",
       "3     فرايز باجبنة  975b5737-c982-4e3f-9faf-083ca9dc56ac       True     False   \n",
       "4    اربيان دجاج l  975b5737-c8e7-4ca6-a4b8-2c1546d5b8a1       True     False   \n",
       "\n",
       "   price           created_at           updated_at deleted_at  \n",
       "0   5.00  2022-09-26 09:49:43  2022-10-02 10:36:36        NaN  \n",
       "1   1.50  2022-09-26 09:49:43  2022-10-02 10:36:36        NaN  \n",
       "2   4.50  2022-09-26 09:49:43  2022-10-02 10:36:36        NaN  \n",
       "3   2.50  2022-09-26 09:49:43  2022-10-02 10:36:36        NaN  \n",
       "4   3.75  2022-09-26 09:49:43  2022-12-29 08:58:43        NaN  "
      ]
     },
     "execution_count": 13,
     "metadata": {},
     "output_type": "execute_result"
    }
   ],
   "source": [
    "products.head()"
   ]
  },
  {
   "cell_type": "code",
   "execution_count": 14,
   "metadata": {
    "execution": {
     "iopub.execute_input": "2023-06-13T22:19:21.734782Z",
     "iopub.status.busy": "2023-06-13T22:19:21.734549Z",
     "iopub.status.idle": "2023-06-13T22:19:21.740179Z",
     "shell.execute_reply": "2023-06-13T22:19:21.739674Z"
    }
   },
   "outputs": [],
   "source": [
    "\n",
    "if business_name == 'Shawarma 4 Chicks':\n",
    "    map_product_translation = {\n",
    "        'تشكس فرايز زنجر': 'Chicks Fries Zinger',\n",
    "        'كلاسيك': 'Classic',\n",
    "        'تشكس ستريبس': 'Chicks Strips',\n",
    "        'فرايز باجبنة': 'Fries with Cheese',\n",
    "        'اربيان دجاج l': 'Arabian Chicken L',\n",
    "        'تشكس برجر': 'Chicks Burger',\n",
    "        'تشيزي': 'Cheesy',\n",
    "        'اوريجنال': 'Original',\n",
    "        'بيج ميل': 'Big Meal',\n",
    "        'فرايز': 'Fries',\n",
    "        'ديبي برجر': 'Debbie Burger',\n",
    "        'تشكس فرايز شاورما': 'Chicks Fries Shawarma',\n",
    "        'موهيتو': 'Mojito',\n",
    "        'كوكتيل': 'Cocktail',\n",
    "        'برو': 'Brew',\n",
    "        'هوت دجاج': 'Hot Chicken',\n",
    "        'ذا بارتي': 'The Party',\n",
    "        'بيبسي': 'Pepsi',\n",
    "        'اربيان دجاج xl': 'Arabian Chicken XL',\n",
    "        'شيك دجاج': 'Chicken Shake',\n",
    "        'مياه': 'Water',\n",
    "        'سفن': '7UP',\n",
    "        'هوت صوص': 'Hot Sauce',\n",
    "        'مرندا': 'Mirinda',\n",
    "        'بيبسي دايت': 'Diet Pepsi',\n",
    "        'ثوم': 'Garlic',\n",
    "        'سفن دايت': 'Diet 7UP',\n",
    "        'مخلل': 'Pickles',\n",
    "        'جبنة': 'Cheese',\n",
    "        'تشكس صوص': 'Chicks Sauce',\n",
    "        'رانش': 'Ranch',\n",
    "        'دبس رمان': 'Pomegranate Molasses',\n",
    "        'راب شيكس': 'Wrap Chicks',\n",
    "        'صوص ثوم حار': 'Spicy Garlic Sauce',\n",
    "        'فرشلي': 'Freshly',\n",
    "        '5 اوريجنال عرض كريم 5JD': '5 Original Careem Offer 5JD',\n",
    "        'عرض بيج شيكس / عائلية  / 10JOD': 'Big Chicks Offer / Family / 10JOD',\n",
    "        'عرض 2 وجبة لاج دجاج 5 د': '2 Large Chicken Meal Offer 5 JD',\n",
    "        'وجبة مشاركة شاورما +زنجر + 2 بيبسي // كريم+ طلبات': 'Sharing Meal Shawarma + Zinger + 2 Pepsi // Careem + Orders',\n",
    "        'وجبة مشاركة برغر + زنجر + 2 بيبسي // كريم+ طلبات': 'Sharing Meal Burger + Zinger + 2 Pepsi // Careem + Orders',\n",
    "        'وجبة موظفين': 'Staff Meal',\n",
    "        'عصير موسمي': 'Seasonal Juice',\n",
    "        'وجبة لارج': 'Large Meal',\n",
    "        'بيج شيكس عرض فوديز 9 د': 'Big Chicks Fries Offer 9 JD',\n",
    "        'وجبة مشاركة برجر عرض 10 د': 'Sharing Meal Burger Offer 10 JD',\n",
    "        'عرض وجبة عائلية 10د': 'Family Meal Offer 10 JD',\n",
    "        'عرض وجبة الاصدقاء  / مشاركة شاورما 6.500 JOD': 'Friends Meal Offer / Sharing Shawarma 6.500 JOD',\n",
    "        'عرض كريم 2 وجبة لارج 5 د': 'Careem Offer 2 Large Meals 5 JD',\n",
    "        'عرض كريم XL اربيان 50%': 'Careem Offer XL Arabian 50%',\n",
    "        'عرض كريم 2 اورجينال+1 بطاط +1 بيبسي': 'Careem Offer 2 Original + 1 Fries + 1 Pepsi',\n",
    "        'شيكس برغر / طلبات /  بيبسي +بطاطا': 'Chicks Burger / Orders / Pepsi + Fries',\n",
    "        'دبي برغر / طلبات /  بيبسي +بطاطا': 'Debbie Burger / Orders / Pepsi + Fries',\n",
    "        'وجبة مشاركة شاورما + 2 بيبسي  // 8JD': 'Sharing Meal Shawarma + 2 Pepsi // 8JD',\n",
    "        'وجبة مشاركة برغر  + 2 بيبسي  // 10JD': 'Sharing Meal Burger + 2 Pepsi // 10JD',\n",
    "        'شاورما بيج 12 د / عرض كريم': 'Shawarma Big 12 JD / Careem Offer'\n",
    "    }\n",
    "    products.name = products.name.map(map_product_translation)"
   ]
  },
  {
   "cell_type": "code",
   "execution_count": 15,
   "metadata": {
    "execution": {
     "iopub.execute_input": "2023-06-13T22:19:21.742047Z",
     "iopub.status.busy": "2023-06-13T22:19:21.741798Z",
     "iopub.status.idle": "2023-06-13T22:19:21.745712Z",
     "shell.execute_reply": "2023-06-13T22:19:21.745224Z"
    }
   },
   "outputs": [
    {
     "data": {
      "text/plain": [
       "['Chicks Fries Zinger',\n",
       " 'Classic',\n",
       " 'Chicks Strips',\n",
       " 'Fries with Cheese',\n",
       " 'Arabian Chicken L',\n",
       " 'Chicks Burger',\n",
       " 'Cheesy',\n",
       " 'Original',\n",
       " 'Big Meal',\n",
       " 'Fries',\n",
       " 'Debbie Burger',\n",
       " 'Chicks Fries Shawarma',\n",
       " 'Mojito',\n",
       " 'Cocktail',\n",
       " 'Brew',\n",
       " 'Hot Chicken',\n",
       " 'The Party',\n",
       " 'Pepsi',\n",
       " 'Arabian Chicken XL',\n",
       " 'Chicken Shake',\n",
       " 'Water',\n",
       " '7UP',\n",
       " 'Hot Sauce',\n",
       " 'Mirinda',\n",
       " 'Diet Pepsi',\n",
       " 'Garlic',\n",
       " 'Diet 7UP',\n",
       " 'Pickles',\n",
       " 'Cheese',\n",
       " 'Chicks Sauce',\n",
       " 'Ranch',\n",
       " 'Pomegranate Molasses',\n",
       " 'Wrap Chicks',\n",
       " 'Spicy Garlic Sauce',\n",
       " 'Freshly',\n",
       " '5 Original Careem Offer 5JD',\n",
       " 'Big Chicks Offer / Family / 10JOD',\n",
       " '2 Large Chicken Meal Offer 5 JD',\n",
       " 'Sharing Meal Shawarma + Zinger + 2 Pepsi // Careem + Orders',\n",
       " 'Sharing Meal Burger + Zinger + 2 Pepsi // Careem + Orders',\n",
       " 'Staff Meal',\n",
       " 'Seasonal Juice',\n",
       " 'Large Meal',\n",
       " 'Big Chicks Fries Offer 9 JD',\n",
       " 'Sharing Meal Burger Offer 10 JD',\n",
       " 'Family Meal Offer 10 JD',\n",
       " 'Friends Meal Offer / Sharing Shawarma 6.500 JOD',\n",
       " 'Careem Offer 2 Large Meals 5 JD',\n",
       " 'Careem Offer XL Arabian 50%',\n",
       " 'Careem Offer 2 Original + 1 Fries + 1 Pepsi',\n",
       " 'Chicks Burger / Orders / Pepsi + Fries',\n",
       " 'Debbie Burger / Orders / Pepsi + Fries',\n",
       " 'Sharing Meal Shawarma + 2 Pepsi // 8JD',\n",
       " 'Sharing Meal Burger + 2 Pepsi // 10JD',\n",
       " 'Shawarma Big 12 JD / Careem Offer']"
      ]
     },
     "execution_count": 15,
     "metadata": {},
     "output_type": "execute_result"
    }
   ],
   "source": [
    "products.name.unique().tolist()"
   ]
  },
  {
   "cell_type": "code",
   "execution_count": 16,
   "metadata": {
    "execution": {
     "iopub.execute_input": "2023-06-13T22:19:21.747466Z",
     "iopub.status.busy": "2023-06-13T22:19:21.747237Z",
     "iopub.status.idle": "2023-06-13T22:19:21.750740Z",
     "shell.execute_reply": "2023-06-13T22:19:21.750244Z"
    }
   },
   "outputs": [],
   "source": [
    "products['slug'] = products.name.apply(lambda x: generate_slug(x))\n"
   ]
  },
  {
   "cell_type": "code",
   "execution_count": 17,
   "metadata": {
    "execution": {
     "iopub.execute_input": "2023-06-13T22:19:21.752400Z",
     "iopub.status.busy": "2023-06-13T22:19:21.752142Z",
     "iopub.status.idle": "2023-06-13T22:19:21.759405Z",
     "shell.execute_reply": "2023-06-13T22:19:21.758875Z"
    }
   },
   "outputs": [
    {
     "data": {
      "text/html": [
       "<div>\n",
       "<style scoped>\n",
       "    .dataframe tbody tr th:only-of-type {\n",
       "        vertical-align: middle;\n",
       "    }\n",
       "\n",
       "    .dataframe tbody tr th {\n",
       "        vertical-align: top;\n",
       "    }\n",
       "\n",
       "    .dataframe thead th {\n",
       "        text-align: right;\n",
       "    }\n",
       "</style>\n",
       "<table border=\"1\" class=\"dataframe\">\n",
       "  <thead>\n",
       "    <tr style=\"text-align: right;\">\n",
       "      <th></th>\n",
       "      <th>id</th>\n",
       "      <th>client_id</th>\n",
       "      <th>sku</th>\n",
       "      <th>slug</th>\n",
       "      <th>name</th>\n",
       "      <th>category_id</th>\n",
       "      <th>is_active</th>\n",
       "      <th>is_stock</th>\n",
       "      <th>price</th>\n",
       "      <th>created_at</th>\n",
       "      <th>updated_at</th>\n",
       "      <th>deleted_at</th>\n",
       "    </tr>\n",
       "  </thead>\n",
       "  <tbody>\n",
       "    <tr>\n",
       "      <th>0</th>\n",
       "      <td>975b583e-8e4e-4500-b416-e77dd352726a</td>\n",
       "      <td>1</td>\n",
       "      <td>psk-14</td>\n",
       "      <td>chicks-fries-zinger</td>\n",
       "      <td>Chicks Fries Zinger</td>\n",
       "      <td>975b5737-c982-4e3f-9faf-083ca9dc56ac</td>\n",
       "      <td>True</td>\n",
       "      <td>False</td>\n",
       "      <td>5.00</td>\n",
       "      <td>2022-09-26 09:49:43</td>\n",
       "      <td>2022-10-02 10:36:36</td>\n",
       "      <td>NaN</td>\n",
       "    </tr>\n",
       "    <tr>\n",
       "      <th>1</th>\n",
       "      <td>975b583e-90a9-420a-804e-b41dddbe0971</td>\n",
       "      <td>1</td>\n",
       "      <td>psk-5</td>\n",
       "      <td>classic</td>\n",
       "      <td>Classic</td>\n",
       "      <td>975b5737-c8e7-4ca6-a4b8-2c1546d5b8a1</td>\n",
       "      <td>True</td>\n",
       "      <td>False</td>\n",
       "      <td>1.50</td>\n",
       "      <td>2022-09-26 09:49:43</td>\n",
       "      <td>2022-10-02 10:36:36</td>\n",
       "      <td>NaN</td>\n",
       "    </tr>\n",
       "    <tr>\n",
       "      <th>2</th>\n",
       "      <td>975b583e-90af-4319-87d3-022d8f1936d4</td>\n",
       "      <td>1</td>\n",
       "      <td>psk-13</td>\n",
       "      <td>chicks-strips</td>\n",
       "      <td>Chicks Strips</td>\n",
       "      <td>975b5737-ccc4-4c1f-8599-5e246eee4a3b</td>\n",
       "      <td>True</td>\n",
       "      <td>False</td>\n",
       "      <td>4.50</td>\n",
       "      <td>2022-09-26 09:49:43</td>\n",
       "      <td>2022-10-02 10:36:36</td>\n",
       "      <td>NaN</td>\n",
       "    </tr>\n",
       "    <tr>\n",
       "      <th>3</th>\n",
       "      <td>975b583e-9145-4e05-90e7-9fa596c38888</td>\n",
       "      <td>1</td>\n",
       "      <td>psk-16</td>\n",
       "      <td>fries-with-cheese</td>\n",
       "      <td>Fries with Cheese</td>\n",
       "      <td>975b5737-c982-4e3f-9faf-083ca9dc56ac</td>\n",
       "      <td>True</td>\n",
       "      <td>False</td>\n",
       "      <td>2.50</td>\n",
       "      <td>2022-09-26 09:49:43</td>\n",
       "      <td>2022-10-02 10:36:36</td>\n",
       "      <td>NaN</td>\n",
       "    </tr>\n",
       "    <tr>\n",
       "      <th>4</th>\n",
       "      <td>975b583e-91e6-424e-851d-4de6a37813f5</td>\n",
       "      <td>1</td>\n",
       "      <td>psk-9</td>\n",
       "      <td>arabian-chicken-l</td>\n",
       "      <td>Arabian Chicken L</td>\n",
       "      <td>975b5737-c8e7-4ca6-a4b8-2c1546d5b8a1</td>\n",
       "      <td>True</td>\n",
       "      <td>False</td>\n",
       "      <td>3.75</td>\n",
       "      <td>2022-09-26 09:49:43</td>\n",
       "      <td>2022-12-29 08:58:43</td>\n",
       "      <td>NaN</td>\n",
       "    </tr>\n",
       "  </tbody>\n",
       "</table>\n",
       "</div>"
      ],
      "text/plain": [
       "                                     id  client_id     sku  \\\n",
       "0  975b583e-8e4e-4500-b416-e77dd352726a          1  psk-14   \n",
       "1  975b583e-90a9-420a-804e-b41dddbe0971          1   psk-5   \n",
       "2  975b583e-90af-4319-87d3-022d8f1936d4          1  psk-13   \n",
       "3  975b583e-9145-4e05-90e7-9fa596c38888          1  psk-16   \n",
       "4  975b583e-91e6-424e-851d-4de6a37813f5          1   psk-9   \n",
       "\n",
       "                  slug                 name  \\\n",
       "0  chicks-fries-zinger  Chicks Fries Zinger   \n",
       "1              classic              Classic   \n",
       "2        chicks-strips        Chicks Strips   \n",
       "3    fries-with-cheese    Fries with Cheese   \n",
       "4    arabian-chicken-l    Arabian Chicken L   \n",
       "\n",
       "                            category_id  is_active  is_stock  price  \\\n",
       "0  975b5737-c982-4e3f-9faf-083ca9dc56ac       True     False   5.00   \n",
       "1  975b5737-c8e7-4ca6-a4b8-2c1546d5b8a1       True     False   1.50   \n",
       "2  975b5737-ccc4-4c1f-8599-5e246eee4a3b       True     False   4.50   \n",
       "3  975b5737-c982-4e3f-9faf-083ca9dc56ac       True     False   2.50   \n",
       "4  975b5737-c8e7-4ca6-a4b8-2c1546d5b8a1       True     False   3.75   \n",
       "\n",
       "            created_at           updated_at deleted_at  \n",
       "0  2022-09-26 09:49:43  2022-10-02 10:36:36        NaN  \n",
       "1  2022-09-26 09:49:43  2022-10-02 10:36:36        NaN  \n",
       "2  2022-09-26 09:49:43  2022-10-02 10:36:36        NaN  \n",
       "3  2022-09-26 09:49:43  2022-10-02 10:36:36        NaN  \n",
       "4  2022-09-26 09:49:43  2022-12-29 08:58:43        NaN  "
      ]
     },
     "execution_count": 17,
     "metadata": {},
     "output_type": "execute_result"
    }
   ],
   "source": [
    "products.head()"
   ]
  },
  {
   "cell_type": "code",
   "execution_count": 18,
   "metadata": {
    "execution": {
     "iopub.execute_input": "2023-06-13T22:19:21.761111Z",
     "iopub.status.busy": "2023-06-13T22:19:21.760859Z",
     "iopub.status.idle": "2023-06-13T22:19:21.764783Z",
     "shell.execute_reply": "2023-06-13T22:19:21.764265Z"
    }
   },
   "outputs": [
    {
     "data": {
      "text/plain": [
       "['psk-14',\n",
       " 'psk-5',\n",
       " 'psk-13',\n",
       " 'psk-16',\n",
       " 'psk-9',\n",
       " 'psk-11',\n",
       " 'psk-6',\n",
       " 'psk-4',\n",
       " 'psk-8',\n",
       " 'psk-17',\n",
       " 'psk-12',\n",
       " 'psk-15',\n",
       " 'psk-20',\n",
       " 'psk-18',\n",
       " 'psk-3',\n",
       " 'psk-2',\n",
       " 'psk-19',\n",
       " 'psk-21',\n",
       " 'psk-10',\n",
       " 'psk-7',\n",
       " 'psk-26',\n",
       " 'psk-23',\n",
       " 'psk-30',\n",
       " 'psk-25',\n",
       " 'psk-22',\n",
       " 'psk-29',\n",
       " 'psk-24',\n",
       " 'psk-28',\n",
       " 'psk-32',\n",
       " 'psk-27',\n",
       " 'psk-31',\n",
       " 'psk-33',\n",
       " 'sk-0106',\n",
       " 'sk-0107',\n",
       " 'sk-0108',\n",
       " 'sk-0109',\n",
       " 'sk-0110',\n",
       " 'sk-0111',\n",
       " 'sk-0112',\n",
       " 'sk-0113',\n",
       " 'sk-0114',\n",
       " 'sk-0115',\n",
       " 'sk-0116',\n",
       " 'sk-0117',\n",
       " 'sk-0118',\n",
       " 'sk-0119',\n",
       " 'sk-0120',\n",
       " 'sk-0121',\n",
       " 'sk-0122',\n",
       " 'sk-0123',\n",
       " 'sk-0124',\n",
       " 'sk-0125',\n",
       " 'sk-0126',\n",
       " 'sk-0128',\n",
       " 'sk-0129',\n",
       " 'sk-0130']"
      ]
     },
     "execution_count": 18,
     "metadata": {},
     "output_type": "execute_result"
    }
   ],
   "source": [
    "products.sku.unique().tolist()"
   ]
  },
  {
   "cell_type": "code",
   "execution_count": 19,
   "metadata": {
    "execution": {
     "iopub.execute_input": "2023-06-13T22:19:21.766435Z",
     "iopub.status.busy": "2023-06-13T22:19:21.766208Z",
     "iopub.status.idle": "2023-06-13T22:19:21.771836Z",
     "shell.execute_reply": "2023-06-13T22:19:21.771334Z"
    }
   },
   "outputs": [
    {
     "data": {
      "text/html": [
       "<div>\n",
       "<style scoped>\n",
       "    .dataframe tbody tr th:only-of-type {\n",
       "        vertical-align: middle;\n",
       "    }\n",
       "\n",
       "    .dataframe tbody tr th {\n",
       "        vertical-align: top;\n",
       "    }\n",
       "\n",
       "    .dataframe thead th {\n",
       "        text-align: right;\n",
       "    }\n",
       "</style>\n",
       "<table border=\"1\" class=\"dataframe\">\n",
       "  <thead>\n",
       "    <tr style=\"text-align: right;\">\n",
       "      <th></th>\n",
       "      <th>id</th>\n",
       "      <th>client_id</th>\n",
       "      <th>sku</th>\n",
       "      <th>slug</th>\n",
       "      <th>name</th>\n",
       "      <th>category_id</th>\n",
       "      <th>is_active</th>\n",
       "      <th>is_stock</th>\n",
       "      <th>price</th>\n",
       "      <th>created_at</th>\n",
       "      <th>updated_at</th>\n",
       "      <th>deleted_at</th>\n",
       "    </tr>\n",
       "  </thead>\n",
       "  <tbody>\n",
       "  </tbody>\n",
       "</table>\n",
       "</div>"
      ],
      "text/plain": [
       "Empty DataFrame\n",
       "Columns: [id, client_id, sku, slug, name, category_id, is_active, is_stock, price, created_at, updated_at, deleted_at]\n",
       "Index: []"
      ]
     },
     "execution_count": 19,
     "metadata": {},
     "output_type": "execute_result"
    }
   ],
   "source": [
    "products[products.name.isnull()]"
   ]
  },
  {
   "cell_type": "code",
   "execution_count": 20,
   "metadata": {
    "execution": {
     "iopub.execute_input": "2023-06-13T22:19:21.773553Z",
     "iopub.status.busy": "2023-06-13T22:19:21.773212Z",
     "iopub.status.idle": "2023-06-13T22:19:21.776760Z",
     "shell.execute_reply": "2023-06-13T22:19:21.776266Z"
    }
   },
   "outputs": [
    {
     "data": {
      "text/plain": [
       "56"
      ]
     },
     "execution_count": 20,
     "metadata": {},
     "output_type": "execute_result"
    }
   ],
   "source": [
    "products.sku.nunique()"
   ]
  },
  {
   "attachments": {},
   "cell_type": "markdown",
   "metadata": {},
   "source": [
    "# Branches"
   ]
  },
  {
   "cell_type": "code",
   "execution_count": 21,
   "metadata": {
    "execution": {
     "iopub.execute_input": "2023-06-13T22:19:21.778539Z",
     "iopub.status.busy": "2023-06-13T22:19:21.778293Z",
     "iopub.status.idle": "2023-06-13T22:19:21.784410Z",
     "shell.execute_reply": "2023-06-13T22:19:21.783881Z"
    }
   },
   "outputs": [
    {
     "data": {
      "text/html": [
       "<div>\n",
       "<style scoped>\n",
       "    .dataframe tbody tr th:only-of-type {\n",
       "        vertical-align: middle;\n",
       "    }\n",
       "\n",
       "    .dataframe tbody tr th {\n",
       "        vertical-align: top;\n",
       "    }\n",
       "\n",
       "    .dataframe thead th {\n",
       "        text-align: right;\n",
       "    }\n",
       "</style>\n",
       "<table border=\"1\" class=\"dataframe\">\n",
       "  <thead>\n",
       "    <tr style=\"text-align: right;\">\n",
       "      <th></th>\n",
       "      <th>id</th>\n",
       "      <th>client_id</th>\n",
       "      <th>name</th>\n",
       "      <th>slug</th>\n",
       "      <th>opening_from</th>\n",
       "      <th>opening_to</th>\n",
       "      <th>created_at</th>\n",
       "      <th>updated_at</th>\n",
       "      <th>deleted_at</th>\n",
       "    </tr>\n",
       "  </thead>\n",
       "  <tbody>\n",
       "    <tr>\n",
       "      <th>0</th>\n",
       "      <td>975b3d24-cb71-4df8-930e-054bcd67f90c</td>\n",
       "      <td>1</td>\n",
       "      <td>4Chicks Abdoun</td>\n",
       "      <td>4chicks-abdoun</td>\n",
       "      <td>09:00</td>\n",
       "      <td>03:00</td>\n",
       "      <td>2022-09-26 08:33:56</td>\n",
       "      <td>2022-10-02 08:09:02</td>\n",
       "      <td>NaN</td>\n",
       "    </tr>\n",
       "    <tr>\n",
       "      <th>1</th>\n",
       "      <td>975b3d24-ce3d-4801-9c11-582a817cc591</td>\n",
       "      <td>1</td>\n",
       "      <td>4Chicks 7th circle</td>\n",
       "      <td>4chicks-7th-circle</td>\n",
       "      <td>10:00</td>\n",
       "      <td>03:00</td>\n",
       "      <td>2022-09-26 08:33:56</td>\n",
       "      <td>2022-10-02 08:09:24</td>\n",
       "      <td>NaN</td>\n",
       "    </tr>\n",
       "    <tr>\n",
       "      <th>2</th>\n",
       "      <td>976744f0-20ac-4dd5-a06a-6a1ee9ffa7b5</td>\n",
       "      <td>1</td>\n",
       "      <td>4Chicks Al-Jubeha</td>\n",
       "      <td>4chicks-al-jubeha</td>\n",
       "      <td>10:00</td>\n",
       "      <td>03:00</td>\n",
       "      <td>2022-10-02 08:05:40</td>\n",
       "      <td>2022-10-02 08:22:37</td>\n",
       "      <td>NaN</td>\n",
       "    </tr>\n",
       "  </tbody>\n",
       "</table>\n",
       "</div>"
      ],
      "text/plain": [
       "                                     id  client_id                name  \\\n",
       "0  975b3d24-cb71-4df8-930e-054bcd67f90c          1      4Chicks Abdoun   \n",
       "1  975b3d24-ce3d-4801-9c11-582a817cc591          1  4Chicks 7th circle   \n",
       "2  976744f0-20ac-4dd5-a06a-6a1ee9ffa7b5          1   4Chicks Al-Jubeha   \n",
       "\n",
       "                 slug opening_from opening_to           created_at  \\\n",
       "0      4chicks-abdoun        09:00      03:00  2022-09-26 08:33:56   \n",
       "1  4chicks-7th-circle        10:00      03:00  2022-09-26 08:33:56   \n",
       "2   4chicks-al-jubeha        10:00      03:00  2022-10-02 08:05:40   \n",
       "\n",
       "            updated_at  deleted_at  \n",
       "0  2022-10-02 08:09:02         NaN  \n",
       "1  2022-10-02 08:09:24         NaN  \n",
       "2  2022-10-02 08:22:37         NaN  "
      ]
     },
     "execution_count": 21,
     "metadata": {},
     "output_type": "execute_result"
    }
   ],
   "source": [
    "branches"
   ]
  },
  {
   "cell_type": "code",
   "execution_count": 22,
   "metadata": {
    "execution": {
     "iopub.execute_input": "2023-06-13T22:19:21.786261Z",
     "iopub.status.busy": "2023-06-13T22:19:21.786018Z",
     "iopub.status.idle": "2023-06-13T22:19:21.790243Z",
     "shell.execute_reply": "2023-06-13T22:19:21.789725Z"
    }
   },
   "outputs": [],
   "source": [
    "branches['opening_from'] = pd.to_datetime(branches['opening_from'])\n",
    "branches['opening_to'] = pd.to_datetime(branches['opening_to'])\n",
    "\n",
    "# branches['opening_from'] = branches['opening_from'].dt.hour\n",
    "# branches['opening_to'] = branches['opening_to'].dt.hour"
   ]
  },
  {
   "cell_type": "code",
   "execution_count": 23,
   "metadata": {
    "execution": {
     "iopub.execute_input": "2023-06-13T22:19:21.791921Z",
     "iopub.status.busy": "2023-06-13T22:19:21.791679Z",
     "iopub.status.idle": "2023-06-13T22:19:21.797983Z",
     "shell.execute_reply": "2023-06-13T22:19:21.797458Z"
    }
   },
   "outputs": [
    {
     "data": {
      "text/html": [
       "<div>\n",
       "<style scoped>\n",
       "    .dataframe tbody tr th:only-of-type {\n",
       "        vertical-align: middle;\n",
       "    }\n",
       "\n",
       "    .dataframe tbody tr th {\n",
       "        vertical-align: top;\n",
       "    }\n",
       "\n",
       "    .dataframe thead th {\n",
       "        text-align: right;\n",
       "    }\n",
       "</style>\n",
       "<table border=\"1\" class=\"dataframe\">\n",
       "  <thead>\n",
       "    <tr style=\"text-align: right;\">\n",
       "      <th></th>\n",
       "      <th>id</th>\n",
       "      <th>client_id</th>\n",
       "      <th>name</th>\n",
       "      <th>slug</th>\n",
       "      <th>opening_from</th>\n",
       "      <th>opening_to</th>\n",
       "      <th>created_at</th>\n",
       "      <th>updated_at</th>\n",
       "      <th>deleted_at</th>\n",
       "    </tr>\n",
       "  </thead>\n",
       "  <tbody>\n",
       "    <tr>\n",
       "      <th>0</th>\n",
       "      <td>975b3d24-cb71-4df8-930e-054bcd67f90c</td>\n",
       "      <td>1</td>\n",
       "      <td>4Chicks Abdoun</td>\n",
       "      <td>4chicks-abdoun</td>\n",
       "      <td>2023-06-14 09:00:00</td>\n",
       "      <td>2023-06-14 03:00:00</td>\n",
       "      <td>2022-09-26 08:33:56</td>\n",
       "      <td>2022-10-02 08:09:02</td>\n",
       "      <td>NaN</td>\n",
       "    </tr>\n",
       "    <tr>\n",
       "      <th>1</th>\n",
       "      <td>975b3d24-ce3d-4801-9c11-582a817cc591</td>\n",
       "      <td>1</td>\n",
       "      <td>4Chicks 7th circle</td>\n",
       "      <td>4chicks-7th-circle</td>\n",
       "      <td>2023-06-14 10:00:00</td>\n",
       "      <td>2023-06-14 03:00:00</td>\n",
       "      <td>2022-09-26 08:33:56</td>\n",
       "      <td>2022-10-02 08:09:24</td>\n",
       "      <td>NaN</td>\n",
       "    </tr>\n",
       "    <tr>\n",
       "      <th>2</th>\n",
       "      <td>976744f0-20ac-4dd5-a06a-6a1ee9ffa7b5</td>\n",
       "      <td>1</td>\n",
       "      <td>4Chicks Al-Jubeha</td>\n",
       "      <td>4chicks-al-jubeha</td>\n",
       "      <td>2023-06-14 10:00:00</td>\n",
       "      <td>2023-06-14 03:00:00</td>\n",
       "      <td>2022-10-02 08:05:40</td>\n",
       "      <td>2022-10-02 08:22:37</td>\n",
       "      <td>NaN</td>\n",
       "    </tr>\n",
       "  </tbody>\n",
       "</table>\n",
       "</div>"
      ],
      "text/plain": [
       "                                     id  client_id                name  \\\n",
       "0  975b3d24-cb71-4df8-930e-054bcd67f90c          1      4Chicks Abdoun   \n",
       "1  975b3d24-ce3d-4801-9c11-582a817cc591          1  4Chicks 7th circle   \n",
       "2  976744f0-20ac-4dd5-a06a-6a1ee9ffa7b5          1   4Chicks Al-Jubeha   \n",
       "\n",
       "                 slug        opening_from          opening_to  \\\n",
       "0      4chicks-abdoun 2023-06-14 09:00:00 2023-06-14 03:00:00   \n",
       "1  4chicks-7th-circle 2023-06-14 10:00:00 2023-06-14 03:00:00   \n",
       "2   4chicks-al-jubeha 2023-06-14 10:00:00 2023-06-14 03:00:00   \n",
       "\n",
       "            created_at           updated_at  deleted_at  \n",
       "0  2022-09-26 08:33:56  2022-10-02 08:09:02         NaN  \n",
       "1  2022-09-26 08:33:56  2022-10-02 08:09:24         NaN  \n",
       "2  2022-10-02 08:05:40  2022-10-02 08:22:37         NaN  "
      ]
     },
     "execution_count": 23,
     "metadata": {},
     "output_type": "execute_result"
    }
   ],
   "source": [
    "branches"
   ]
  },
  {
   "attachments": {},
   "cell_type": "markdown",
   "metadata": {},
   "source": [
    "# Categories"
   ]
  },
  {
   "cell_type": "code",
   "execution_count": 24,
   "metadata": {
    "execution": {
     "iopub.execute_input": "2023-06-13T22:19:21.799744Z",
     "iopub.status.busy": "2023-06-13T22:19:21.799495Z",
     "iopub.status.idle": "2023-06-13T22:19:21.805239Z",
     "shell.execute_reply": "2023-06-13T22:19:21.804721Z"
    }
   },
   "outputs": [
    {
     "data": {
      "text/html": [
       "<div>\n",
       "<style scoped>\n",
       "    .dataframe tbody tr th:only-of-type {\n",
       "        vertical-align: middle;\n",
       "    }\n",
       "\n",
       "    .dataframe tbody tr th {\n",
       "        vertical-align: top;\n",
       "    }\n",
       "\n",
       "    .dataframe thead th {\n",
       "        text-align: right;\n",
       "    }\n",
       "</style>\n",
       "<table border=\"1\" class=\"dataframe\">\n",
       "  <thead>\n",
       "    <tr style=\"text-align: right;\">\n",
       "      <th></th>\n",
       "      <th>id</th>\n",
       "      <th>client_id</th>\n",
       "      <th>name</th>\n",
       "      <th>slug</th>\n",
       "      <th>created_at</th>\n",
       "      <th>updated_at</th>\n",
       "      <th>deleted_at</th>\n",
       "    </tr>\n",
       "  </thead>\n",
       "  <tbody>\n",
       "    <tr>\n",
       "      <th>0</th>\n",
       "      <td>975b5737-c8e7-4ca6-a4b8-2c1546d5b8a1</td>\n",
       "      <td>1</td>\n",
       "      <td>Shawarma</td>\n",
       "      <td>شاورما</td>\n",
       "      <td>2022-09-26 09:46:50</td>\n",
       "      <td>2022-09-26 09:46:50</td>\n",
       "      <td>NaN</td>\n",
       "    </tr>\n",
       "    <tr>\n",
       "      <th>1</th>\n",
       "      <td>975b5737-c982-4e3f-9faf-083ca9dc56ac</td>\n",
       "      <td>1</td>\n",
       "      <td>Fries</td>\n",
       "      <td>فرايز</td>\n",
       "      <td>2022-09-26 09:46:50</td>\n",
       "      <td>2022-09-26 09:46:50</td>\n",
       "      <td>NaN</td>\n",
       "    </tr>\n",
       "    <tr>\n",
       "      <th>2</th>\n",
       "      <td>975b5737-cad1-4031-9319-5e3a7addba42</td>\n",
       "      <td>1</td>\n",
       "      <td>Drinks</td>\n",
       "      <td>مشروبات</td>\n",
       "      <td>2022-09-26 09:46:50</td>\n",
       "      <td>2022-09-26 09:46:50</td>\n",
       "      <td>NaN</td>\n",
       "    </tr>\n",
       "    <tr>\n",
       "      <th>3</th>\n",
       "      <td>975b5737-ccc4-4c1f-8599-5e246eee4a3b</td>\n",
       "      <td>1</td>\n",
       "      <td>Chicken burger</td>\n",
       "      <td>برغر-دجاج</td>\n",
       "      <td>2022-09-26 09:46:50</td>\n",
       "      <td>2022-09-26 09:46:50</td>\n",
       "      <td>NaN</td>\n",
       "    </tr>\n",
       "    <tr>\n",
       "      <th>4</th>\n",
       "      <td>975b5737-cf8c-4ef3-a445-7c4a71f349c5</td>\n",
       "      <td>1</td>\n",
       "      <td>Sauces</td>\n",
       "      <td>صوصات</td>\n",
       "      <td>2022-09-26 09:46:50</td>\n",
       "      <td>2022-09-26 09:46:50</td>\n",
       "      <td>NaN</td>\n",
       "    </tr>\n",
       "    <tr>\n",
       "      <th>5</th>\n",
       "      <td>975b5737-d227-4b7c-9962-3a7b09103597</td>\n",
       "      <td>1</td>\n",
       "      <td>Juices</td>\n",
       "      <td>عصائر</td>\n",
       "      <td>2022-09-26 09:46:50</td>\n",
       "      <td>2022-09-26 09:46:50</td>\n",
       "      <td>NaN</td>\n",
       "    </tr>\n",
       "  </tbody>\n",
       "</table>\n",
       "</div>"
      ],
      "text/plain": [
       "                                     id  client_id            name       slug  \\\n",
       "0  975b5737-c8e7-4ca6-a4b8-2c1546d5b8a1          1        Shawarma     شاورما   \n",
       "1  975b5737-c982-4e3f-9faf-083ca9dc56ac          1           Fries      فرايز   \n",
       "2  975b5737-cad1-4031-9319-5e3a7addba42          1          Drinks    مشروبات   \n",
       "3  975b5737-ccc4-4c1f-8599-5e246eee4a3b          1  Chicken burger  برغر-دجاج   \n",
       "4  975b5737-cf8c-4ef3-a445-7c4a71f349c5          1          Sauces      صوصات   \n",
       "5  975b5737-d227-4b7c-9962-3a7b09103597          1          Juices      عصائر   \n",
       "\n",
       "            created_at           updated_at  deleted_at  \n",
       "0  2022-09-26 09:46:50  2022-09-26 09:46:50         NaN  \n",
       "1  2022-09-26 09:46:50  2022-09-26 09:46:50         NaN  \n",
       "2  2022-09-26 09:46:50  2022-09-26 09:46:50         NaN  \n",
       "3  2022-09-26 09:46:50  2022-09-26 09:46:50         NaN  \n",
       "4  2022-09-26 09:46:50  2022-09-26 09:46:50         NaN  \n",
       "5  2022-09-26 09:46:50  2022-09-26 09:46:50         NaN  "
      ]
     },
     "execution_count": 24,
     "metadata": {},
     "output_type": "execute_result"
    }
   ],
   "source": [
    "categories"
   ]
  },
  {
   "attachments": {},
   "cell_type": "markdown",
   "metadata": {},
   "source": [
    "# To Be Removed"
   ]
  },
  {
   "cell_type": "code",
   "execution_count": 25,
   "metadata": {
    "execution": {
     "iopub.execute_input": "2023-06-13T22:19:21.807017Z",
     "iopub.status.busy": "2023-06-13T22:19:21.806789Z",
     "iopub.status.idle": "2023-06-13T22:19:21.809949Z",
     "shell.execute_reply": "2023-06-13T22:19:21.809443Z"
    }
   },
   "outputs": [],
   "source": [
    "from datetime import datetime\n",
    "products['deleted_at'] = datetime.now()\n",
    "branches['deleted_at'] = datetime.now()\n",
    "categories['deleted_at'] = datetime.now()\n"
   ]
  },
  {
   "attachments": {},
   "cell_type": "markdown",
   "metadata": {},
   "source": [
    "# Write"
   ]
  },
  {
   "cell_type": "code",
   "execution_count": 26,
   "metadata": {
    "execution": {
     "iopub.execute_input": "2023-06-13T22:19:21.811690Z",
     "iopub.status.busy": "2023-06-13T22:19:21.811445Z",
     "iopub.status.idle": "2023-06-13T22:19:22.143336Z",
     "shell.execute_reply": "2023-06-13T22:19:22.142731Z"
    }
   },
   "outputs": [],
   "source": [
    "orders_header.to_csv(f'../../data/{client_id}/processed/order_header.csv', index=False)"
   ]
  },
  {
   "cell_type": "code",
   "execution_count": 27,
   "metadata": {
    "execution": {
     "iopub.execute_input": "2023-06-13T22:19:22.145952Z",
     "iopub.status.busy": "2023-06-13T22:19:22.145672Z",
     "iopub.status.idle": "2023-06-13T22:19:22.698782Z",
     "shell.execute_reply": "2023-06-13T22:19:22.698223Z"
    }
   },
   "outputs": [],
   "source": [
    "orders_details.to_csv(f'../../data/{client_id}/processed/order_details.csv', index=False)"
   ]
  },
  {
   "cell_type": "code",
   "execution_count": 28,
   "metadata": {
    "execution": {
     "iopub.execute_input": "2023-06-13T22:19:22.701502Z",
     "iopub.status.busy": "2023-06-13T22:19:22.701269Z",
     "iopub.status.idle": "2023-06-13T22:19:22.705583Z",
     "shell.execute_reply": "2023-06-13T22:19:22.705085Z"
    }
   },
   "outputs": [],
   "source": [
    "products.to_csv(f'../../data/{client_id}/processed/products.csv', index=False)\n"
   ]
  },
  {
   "cell_type": "code",
   "execution_count": 29,
   "metadata": {
    "execution": {
     "iopub.execute_input": "2023-06-13T22:19:22.707230Z",
     "iopub.status.busy": "2023-06-13T22:19:22.706990Z",
     "iopub.status.idle": "2023-06-13T22:19:22.710314Z",
     "shell.execute_reply": "2023-06-13T22:19:22.709825Z"
    }
   },
   "outputs": [],
   "source": [
    "branches.to_csv(f'../../data/{client_id}/processed/branches.csv', index=False)"
   ]
  },
  {
   "cell_type": "code",
   "execution_count": 30,
   "metadata": {
    "execution": {
     "iopub.execute_input": "2023-06-13T22:19:22.712014Z",
     "iopub.status.busy": "2023-06-13T22:19:22.711781Z",
     "iopub.status.idle": "2023-06-13T22:19:22.714846Z",
     "shell.execute_reply": "2023-06-13T22:19:22.714372Z"
    }
   },
   "outputs": [],
   "source": [
    "categories.to_csv(f'../../data/{client_id}/processed/categories.csv', index=False)"
   ]
  },
  {
   "cell_type": "code",
   "execution_count": null,
   "metadata": {},
   "outputs": [],
   "source": []
  }
 ],
 "metadata": {
  "kernelspec": {
   "display_name": ".venv",
   "language": "python",
   "name": "python3"
  },
  "language_info": {
   "codemirror_mode": {
    "name": "ipython",
    "version": 3
   },
   "file_extension": ".py",
   "mimetype": "text/x-python",
   "name": "python",
   "nbconvert_exporter": "python",
   "pygments_lexer": "ipython3",
   "version": "3.10.6"
  }
 },
 "nbformat": 4,
 "nbformat_minor": 2
}
