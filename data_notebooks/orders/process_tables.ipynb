{
 "cells": [
  {
   "cell_type": "code",
   "execution_count": 1,
   "metadata": {
    "execution": {
     "iopub.execute_input": "2023-06-12T09:27:23.429396Z",
     "iopub.status.busy": "2023-06-12T09:27:23.429233Z",
     "iopub.status.idle": "2023-06-12T09:27:23.612243Z",
     "shell.execute_reply": "2023-06-12T09:27:23.611502Z"
    }
   },
   "outputs": [],
   "source": [
    "import pandas as pd\n"
   ]
  },
  {
   "cell_type": "code",
   "execution_count": 2,
   "metadata": {
    "execution": {
     "iopub.execute_input": "2023-06-12T09:27:23.615218Z",
     "iopub.status.busy": "2023-06-12T09:27:23.614516Z",
     "iopub.status.idle": "2023-06-12T09:27:24.076417Z",
     "shell.execute_reply": "2023-06-12T09:27:24.075819Z"
    }
   },
   "outputs": [],
   "source": [
    "#read all data\n",
    "orders_header = pd.read_csv('../../data/order_header.csv')\n",
    "orders_details = pd.read_csv('../../data/order_details.csv')\n",
    "products = pd.read_csv('../../data/products.csv')\n",
    "\n",
    "payment_methods = pd.read_csv('../../data/payment_methods.csv')\n",
    "branches = pd.read_csv('../../data/branches.csv')\n",
    "categories = pd.read_csv('../../data/categories.csv')\n",
    "\n",
    "\n",
    "\n",
    "\n"
   ]
  },
  {
   "attachments": {},
   "cell_type": "markdown",
   "metadata": {},
   "source": [
    "# Orders Headers"
   ]
  },
  {
   "cell_type": "code",
   "execution_count": 3,
   "metadata": {
    "execution": {
     "iopub.execute_input": "2023-06-12T09:27:24.078977Z",
     "iopub.status.busy": "2023-06-12T09:27:24.078665Z",
     "iopub.status.idle": "2023-06-12T09:27:24.087724Z",
     "shell.execute_reply": "2023-06-12T09:27:24.087205Z"
    }
   },
   "outputs": [
    {
     "data": {
      "text/html": [
       "<div>\n",
       "<style scoped>\n",
       "    .dataframe tbody tr th:only-of-type {\n",
       "        vertical-align: middle;\n",
       "    }\n",
       "\n",
       "    .dataframe tbody tr th {\n",
       "        vertical-align: top;\n",
       "    }\n",
       "\n",
       "    .dataframe thead th {\n",
       "        text-align: right;\n",
       "    }\n",
       "</style>\n",
       "<table border=\"1\" class=\"dataframe\">\n",
       "  <thead>\n",
       "    <tr style=\"text-align: right;\">\n",
       "      <th></th>\n",
       "      <th>order_id</th>\n",
       "      <th>branch_id</th>\n",
       "      <th>order_date</th>\n",
       "      <th>order_total_price</th>\n",
       "      <th>order_source</th>\n",
       "      <th>order_type</th>\n",
       "      <th>order_status</th>\n",
       "    </tr>\n",
       "  </thead>\n",
       "  <tbody>\n",
       "    <tr>\n",
       "      <th>0</th>\n",
       "      <td>4fc10c2a-55a9-45d0-ad37-9e3a48d190f8</td>\n",
       "      <td>975b3d24-ce3d-4801-9c11-582a817cc591</td>\n",
       "      <td>2022-10-02 14:03:36</td>\n",
       "      <td>15.00</td>\n",
       "      <td>1</td>\n",
       "      <td>1</td>\n",
       "      <td>4</td>\n",
       "    </tr>\n",
       "    <tr>\n",
       "      <th>1</th>\n",
       "      <td>5babceee-5385-4fa5-b25f-4f1638a70696</td>\n",
       "      <td>975b3d24-ce3d-4801-9c11-582a817cc591</td>\n",
       "      <td>2022-10-02 13:41:05</td>\n",
       "      <td>6.80</td>\n",
       "      <td>1</td>\n",
       "      <td>1</td>\n",
       "      <td>4</td>\n",
       "    </tr>\n",
       "    <tr>\n",
       "      <th>2</th>\n",
       "      <td>3c811baa-93bc-4200-9204-fdee8932f020</td>\n",
       "      <td>975b3d24-ce3d-4801-9c11-582a817cc591</td>\n",
       "      <td>2022-10-02 13:39:04</td>\n",
       "      <td>5.00</td>\n",
       "      <td>1</td>\n",
       "      <td>1</td>\n",
       "      <td>4</td>\n",
       "    </tr>\n",
       "    <tr>\n",
       "      <th>3</th>\n",
       "      <td>7e7a67f8-849d-42da-9cac-e29d3144e9ec</td>\n",
       "      <td>975b3d24-cb71-4df8-930e-054bcd67f90c</td>\n",
       "      <td>2022-10-02 16:36:54</td>\n",
       "      <td>20.75</td>\n",
       "      <td>1</td>\n",
       "      <td>2</td>\n",
       "      <td>4</td>\n",
       "    </tr>\n",
       "    <tr>\n",
       "      <th>4</th>\n",
       "      <td>e02a78da-8a3e-4dad-8a27-ecc739f8d8a4</td>\n",
       "      <td>975b3d24-cb71-4df8-930e-054bcd67f90c</td>\n",
       "      <td>2022-10-02 16:15:22</td>\n",
       "      <td>30.00</td>\n",
       "      <td>1</td>\n",
       "      <td>1</td>\n",
       "      <td>4</td>\n",
       "    </tr>\n",
       "  </tbody>\n",
       "</table>\n",
       "</div>"
      ],
      "text/plain": [
       "                               order_id                             branch_id  \\\n",
       "0  4fc10c2a-55a9-45d0-ad37-9e3a48d190f8  975b3d24-ce3d-4801-9c11-582a817cc591   \n",
       "1  5babceee-5385-4fa5-b25f-4f1638a70696  975b3d24-ce3d-4801-9c11-582a817cc591   \n",
       "2  3c811baa-93bc-4200-9204-fdee8932f020  975b3d24-ce3d-4801-9c11-582a817cc591   \n",
       "3  7e7a67f8-849d-42da-9cac-e29d3144e9ec  975b3d24-cb71-4df8-930e-054bcd67f90c   \n",
       "4  e02a78da-8a3e-4dad-8a27-ecc739f8d8a4  975b3d24-cb71-4df8-930e-054bcd67f90c   \n",
       "\n",
       "            order_date  order_total_price  order_source  order_type  \\\n",
       "0  2022-10-02 14:03:36              15.00             1           1   \n",
       "1  2022-10-02 13:41:05               6.80             1           1   \n",
       "2  2022-10-02 13:39:04               5.00             1           1   \n",
       "3  2022-10-02 16:36:54              20.75             1           2   \n",
       "4  2022-10-02 16:15:22              30.00             1           1   \n",
       "\n",
       "   order_status  \n",
       "0             4  \n",
       "1             4  \n",
       "2             4  \n",
       "3             4  \n",
       "4             4  "
      ]
     },
     "execution_count": 3,
     "metadata": {},
     "output_type": "execute_result"
    }
   ],
   "source": [
    "orders_header.head()"
   ]
  },
  {
   "cell_type": "code",
   "execution_count": 4,
   "metadata": {
    "execution": {
     "iopub.execute_input": "2023-06-12T09:27:24.110180Z",
     "iopub.status.busy": "2023-06-12T09:27:24.109899Z",
     "iopub.status.idle": "2023-06-12T09:27:24.119920Z",
     "shell.execute_reply": "2023-06-12T09:27:24.119410Z"
    }
   },
   "outputs": [],
   "source": [
    "orders_types = {1:'Dine In', 2:'Pick Up', 3:'Delivery', '4':'Drive Thru'}\n",
    "orders_sources = {1:'Cashier', 2:'API', 3:'Call Center'}\n",
    "orders_statuses = {1:'Pending', 2:'Active', 3:'Declined', 4:'Closed', 5:'Returned', 6:'Joined', 7:'Void'}\n",
    "\n",
    "#---------------\n",
    "\n",
    "orders_header['order_type'] = orders_header['order_type'].map(orders_types)\n",
    "orders_header['order_source'] = orders_header['order_source'].map(orders_sources)\n",
    "orders_header['order_status'] = orders_header['order_status'].map(orders_statuses)\n"
   ]
  },
  {
   "cell_type": "code",
   "execution_count": 5,
   "metadata": {
    "execution": {
     "iopub.execute_input": "2023-06-12T09:27:24.122201Z",
     "iopub.status.busy": "2023-06-12T09:27:24.121978Z",
     "iopub.status.idle": "2023-06-12T09:27:24.135849Z",
     "shell.execute_reply": "2023-06-12T09:27:24.135266Z"
    }
   },
   "outputs": [],
   "source": [
    "orders_header['order_datetime'] = pd.to_datetime(orders_header['order_date'])\n"
   ]
  },
  {
   "cell_type": "code",
   "execution_count": 6,
   "metadata": {
    "execution": {
     "iopub.execute_input": "2023-06-12T09:27:24.137866Z",
     "iopub.status.busy": "2023-06-12T09:27:24.137596Z",
     "iopub.status.idle": "2023-06-12T09:27:24.202068Z",
     "shell.execute_reply": "2023-06-12T09:27:24.201396Z"
    }
   },
   "outputs": [],
   "source": [
    "orders_header.drop_duplicates(inplace=True)"
   ]
  },
  {
   "cell_type": "code",
   "execution_count": 7,
   "metadata": {
    "execution": {
     "iopub.execute_input": "2023-06-12T09:27:24.204687Z",
     "iopub.status.busy": "2023-06-12T09:27:24.204263Z",
     "iopub.status.idle": "2023-06-12T09:27:24.250281Z",
     "shell.execute_reply": "2023-06-12T09:27:24.249659Z"
    }
   },
   "outputs": [
    {
     "data": {
      "text/plain": [
       "order_id             0\n",
       "branch_id            0\n",
       "order_date           0\n",
       "order_total_price    0\n",
       "order_source         0\n",
       "order_type           0\n",
       "order_status         4\n",
       "order_datetime       0\n",
       "dtype: int64"
      ]
     },
     "execution_count": 7,
     "metadata": {},
     "output_type": "execute_result"
    }
   ],
   "source": [
    "orders_header.isnull().sum()"
   ]
  },
  {
   "cell_type": "code",
   "execution_count": 8,
   "metadata": {
    "execution": {
     "iopub.execute_input": "2023-06-12T09:27:24.252429Z",
     "iopub.status.busy": "2023-06-12T09:27:24.252196Z",
     "iopub.status.idle": "2023-06-12T09:27:24.261883Z",
     "shell.execute_reply": "2023-06-12T09:27:24.259348Z"
    }
   },
   "outputs": [
    {
     "data": {
      "text/html": [
       "<div>\n",
       "<style scoped>\n",
       "    .dataframe tbody tr th:only-of-type {\n",
       "        vertical-align: middle;\n",
       "    }\n",
       "\n",
       "    .dataframe tbody tr th {\n",
       "        vertical-align: top;\n",
       "    }\n",
       "\n",
       "    .dataframe thead th {\n",
       "        text-align: right;\n",
       "    }\n",
       "</style>\n",
       "<table border=\"1\" class=\"dataframe\">\n",
       "  <thead>\n",
       "    <tr style=\"text-align: right;\">\n",
       "      <th></th>\n",
       "      <th>order_id</th>\n",
       "      <th>branch_id</th>\n",
       "      <th>order_date</th>\n",
       "      <th>order_total_price</th>\n",
       "      <th>order_source</th>\n",
       "      <th>order_type</th>\n",
       "      <th>order_status</th>\n",
       "      <th>order_datetime</th>\n",
       "    </tr>\n",
       "  </thead>\n",
       "  <tbody>\n",
       "    <tr>\n",
       "      <th>0</th>\n",
       "      <td>4fc10c2a-55a9-45d0-ad37-9e3a48d190f8</td>\n",
       "      <td>975b3d24-ce3d-4801-9c11-582a817cc591</td>\n",
       "      <td>2022-10-02 14:03:36</td>\n",
       "      <td>15.00</td>\n",
       "      <td>Cashier</td>\n",
       "      <td>Dine In</td>\n",
       "      <td>Closed</td>\n",
       "      <td>2022-10-02 14:03:36</td>\n",
       "    </tr>\n",
       "    <tr>\n",
       "      <th>1</th>\n",
       "      <td>5babceee-5385-4fa5-b25f-4f1638a70696</td>\n",
       "      <td>975b3d24-ce3d-4801-9c11-582a817cc591</td>\n",
       "      <td>2022-10-02 13:41:05</td>\n",
       "      <td>6.80</td>\n",
       "      <td>Cashier</td>\n",
       "      <td>Dine In</td>\n",
       "      <td>Closed</td>\n",
       "      <td>2022-10-02 13:41:05</td>\n",
       "    </tr>\n",
       "    <tr>\n",
       "      <th>2</th>\n",
       "      <td>3c811baa-93bc-4200-9204-fdee8932f020</td>\n",
       "      <td>975b3d24-ce3d-4801-9c11-582a817cc591</td>\n",
       "      <td>2022-10-02 13:39:04</td>\n",
       "      <td>5.00</td>\n",
       "      <td>Cashier</td>\n",
       "      <td>Dine In</td>\n",
       "      <td>Closed</td>\n",
       "      <td>2022-10-02 13:39:04</td>\n",
       "    </tr>\n",
       "    <tr>\n",
       "      <th>3</th>\n",
       "      <td>7e7a67f8-849d-42da-9cac-e29d3144e9ec</td>\n",
       "      <td>975b3d24-cb71-4df8-930e-054bcd67f90c</td>\n",
       "      <td>2022-10-02 16:36:54</td>\n",
       "      <td>20.75</td>\n",
       "      <td>Cashier</td>\n",
       "      <td>Pick Up</td>\n",
       "      <td>Closed</td>\n",
       "      <td>2022-10-02 16:36:54</td>\n",
       "    </tr>\n",
       "    <tr>\n",
       "      <th>4</th>\n",
       "      <td>e02a78da-8a3e-4dad-8a27-ecc739f8d8a4</td>\n",
       "      <td>975b3d24-cb71-4df8-930e-054bcd67f90c</td>\n",
       "      <td>2022-10-02 16:15:22</td>\n",
       "      <td>30.00</td>\n",
       "      <td>Cashier</td>\n",
       "      <td>Dine In</td>\n",
       "      <td>Closed</td>\n",
       "      <td>2022-10-02 16:15:22</td>\n",
       "    </tr>\n",
       "  </tbody>\n",
       "</table>\n",
       "</div>"
      ],
      "text/plain": [
       "                               order_id                             branch_id  \\\n",
       "0  4fc10c2a-55a9-45d0-ad37-9e3a48d190f8  975b3d24-ce3d-4801-9c11-582a817cc591   \n",
       "1  5babceee-5385-4fa5-b25f-4f1638a70696  975b3d24-ce3d-4801-9c11-582a817cc591   \n",
       "2  3c811baa-93bc-4200-9204-fdee8932f020  975b3d24-ce3d-4801-9c11-582a817cc591   \n",
       "3  7e7a67f8-849d-42da-9cac-e29d3144e9ec  975b3d24-cb71-4df8-930e-054bcd67f90c   \n",
       "4  e02a78da-8a3e-4dad-8a27-ecc739f8d8a4  975b3d24-cb71-4df8-930e-054bcd67f90c   \n",
       "\n",
       "            order_date  order_total_price order_source order_type  \\\n",
       "0  2022-10-02 14:03:36              15.00      Cashier    Dine In   \n",
       "1  2022-10-02 13:41:05               6.80      Cashier    Dine In   \n",
       "2  2022-10-02 13:39:04               5.00      Cashier    Dine In   \n",
       "3  2022-10-02 16:36:54              20.75      Cashier    Pick Up   \n",
       "4  2022-10-02 16:15:22              30.00      Cashier    Dine In   \n",
       "\n",
       "  order_status      order_datetime  \n",
       "0       Closed 2022-10-02 14:03:36  \n",
       "1       Closed 2022-10-02 13:41:05  \n",
       "2       Closed 2022-10-02 13:39:04  \n",
       "3       Closed 2022-10-02 16:36:54  \n",
       "4       Closed 2022-10-02 16:15:22  "
      ]
     },
     "execution_count": 8,
     "metadata": {},
     "output_type": "execute_result"
    }
   ],
   "source": [
    "orders_header.head()"
   ]
  },
  {
   "cell_type": "code",
   "execution_count": 9,
   "metadata": {
    "execution": {
     "iopub.execute_input": "2023-06-12T09:27:24.265387Z",
     "iopub.status.busy": "2023-06-12T09:27:24.265091Z",
     "iopub.status.idle": "2023-06-12T09:27:24.268360Z",
     "shell.execute_reply": "2023-06-12T09:27:24.267802Z"
    }
   },
   "outputs": [],
   "source": [
    "orders_header.rename(columns={'order_id':'order_header_id'}, inplace=True)"
   ]
  },
  {
   "cell_type": "code",
   "execution_count": 10,
   "metadata": {
    "execution": {
     "iopub.execute_input": "2023-06-12T09:27:24.270279Z",
     "iopub.status.busy": "2023-06-12T09:27:24.270011Z",
     "iopub.status.idle": "2023-06-12T09:27:24.276121Z",
     "shell.execute_reply": "2023-06-12T09:27:24.275525Z"
    }
   },
   "outputs": [],
   "source": [
    "orders_header['order_status'].fillna('Void', inplace=True)"
   ]
  },
  {
   "cell_type": "code",
   "execution_count": 11,
   "metadata": {
    "execution": {
     "iopub.execute_input": "2023-06-12T09:27:24.278219Z",
     "iopub.status.busy": "2023-06-12T09:27:24.277940Z",
     "iopub.status.idle": "2023-06-12T09:27:24.281068Z",
     "shell.execute_reply": "2023-06-12T09:27:24.280568Z"
    }
   },
   "outputs": [],
   "source": [
    "orders_header.rename(columns={'order_id':'order_header_id'}, inplace=True)"
   ]
  },
  {
   "cell_type": "code",
   "execution_count": 12,
   "metadata": {
    "execution": {
     "iopub.execute_input": "2023-06-12T09:27:24.282907Z",
     "iopub.status.busy": "2023-06-12T09:27:24.282593Z",
     "iopub.status.idle": "2023-06-12T09:27:24.594220Z",
     "shell.execute_reply": "2023-06-12T09:27:24.593551Z"
    }
   },
   "outputs": [],
   "source": [
    "orders_header.to_csv('../../data/processed/order_header.csv', index=False)"
   ]
  },
  {
   "attachments": {},
   "cell_type": "markdown",
   "metadata": {},
   "source": [
    "# Order Details"
   ]
  },
  {
   "cell_type": "code",
   "execution_count": 13,
   "metadata": {
    "execution": {
     "iopub.execute_input": "2023-06-12T09:27:24.596779Z",
     "iopub.status.busy": "2023-06-12T09:27:24.596453Z",
     "iopub.status.idle": "2023-06-12T09:27:24.604529Z",
     "shell.execute_reply": "2023-06-12T09:27:24.603981Z"
    }
   },
   "outputs": [
    {
     "data": {
      "text/html": [
       "<div>\n",
       "<style scoped>\n",
       "    .dataframe tbody tr th:only-of-type {\n",
       "        vertical-align: middle;\n",
       "    }\n",
       "\n",
       "    .dataframe tbody tr th {\n",
       "        vertical-align: top;\n",
       "    }\n",
       "\n",
       "    .dataframe thead th {\n",
       "        text-align: right;\n",
       "    }\n",
       "</style>\n",
       "<table border=\"1\" class=\"dataframe\">\n",
       "  <thead>\n",
       "    <tr style=\"text-align: right;\">\n",
       "      <th></th>\n",
       "      <th>order_id</th>\n",
       "      <th>branch_id</th>\n",
       "      <th>order_date</th>\n",
       "      <th>order_total_price</th>\n",
       "      <th>order_source</th>\n",
       "      <th>order_type</th>\n",
       "      <th>order_status</th>\n",
       "      <th>product_id</th>\n",
       "      <th>category_id</th>\n",
       "      <th>quantity</th>\n",
       "      <th>price</th>\n",
       "    </tr>\n",
       "  </thead>\n",
       "  <tbody>\n",
       "    <tr>\n",
       "      <th>0</th>\n",
       "      <td>4fc10c2a-55a9-45d0-ad37-9e3a48d190f8</td>\n",
       "      <td>975b3d24-ce3d-4801-9c11-582a817cc591</td>\n",
       "      <td>2022-10-02 14:03:36</td>\n",
       "      <td>15.0</td>\n",
       "      <td>1</td>\n",
       "      <td>1</td>\n",
       "      <td>4</td>\n",
       "      <td>975b583e-90af-4319-87d3-022d8f1936d4</td>\n",
       "      <td>975b5737-ccc4-4c1f-8599-5e246eee4a3b</td>\n",
       "      <td>1</td>\n",
       "      <td>4.5</td>\n",
       "    </tr>\n",
       "    <tr>\n",
       "      <th>1</th>\n",
       "      <td>4fc10c2a-55a9-45d0-ad37-9e3a48d190f8</td>\n",
       "      <td>975b3d24-ce3d-4801-9c11-582a817cc591</td>\n",
       "      <td>2022-10-02 14:03:36</td>\n",
       "      <td>15.0</td>\n",
       "      <td>1</td>\n",
       "      <td>1</td>\n",
       "      <td>4</td>\n",
       "      <td>975b583e-96ee-41d6-9ed2-c2fb747e3f0a</td>\n",
       "      <td>975b5737-ccc4-4c1f-8599-5e246eee4a3b</td>\n",
       "      <td>1</td>\n",
       "      <td>5.5</td>\n",
       "    </tr>\n",
       "    <tr>\n",
       "      <th>2</th>\n",
       "      <td>4fc10c2a-55a9-45d0-ad37-9e3a48d190f8</td>\n",
       "      <td>975b3d24-ce3d-4801-9c11-582a817cc591</td>\n",
       "      <td>2022-10-02 14:03:36</td>\n",
       "      <td>15.0</td>\n",
       "      <td>1</td>\n",
       "      <td>1</td>\n",
       "      <td>4</td>\n",
       "      <td>975b583e-92bd-46f1-86c1-183d3a1c3c32</td>\n",
       "      <td>975b5737-ccc4-4c1f-8599-5e246eee4a3b</td>\n",
       "      <td>1</td>\n",
       "      <td>5.0</td>\n",
       "    </tr>\n",
       "    <tr>\n",
       "      <th>3</th>\n",
       "      <td>5babceee-5385-4fa5-b25f-4f1638a70696</td>\n",
       "      <td>975b3d24-ce3d-4801-9c11-582a817cc591</td>\n",
       "      <td>2022-10-02 13:41:05</td>\n",
       "      <td>6.8</td>\n",
       "      <td>1</td>\n",
       "      <td>1</td>\n",
       "      <td>4</td>\n",
       "      <td>975b583e-90af-4319-87d3-022d8f1936d4</td>\n",
       "      <td>975b5737-ccc4-4c1f-8599-5e246eee4a3b</td>\n",
       "      <td>1</td>\n",
       "      <td>4.5</td>\n",
       "    </tr>\n",
       "    <tr>\n",
       "      <th>4</th>\n",
       "      <td>5babceee-5385-4fa5-b25f-4f1638a70696</td>\n",
       "      <td>975b3d24-ce3d-4801-9c11-582a817cc591</td>\n",
       "      <td>2022-10-02 13:41:05</td>\n",
       "      <td>6.8</td>\n",
       "      <td>1</td>\n",
       "      <td>1</td>\n",
       "      <td>4</td>\n",
       "      <td>975b583f-2d41-4563-82d1-b09078a2e80a</td>\n",
       "      <td>975b5737-cf8c-4ef3-a445-7c4a71f349c5</td>\n",
       "      <td>1</td>\n",
       "      <td>0.3</td>\n",
       "    </tr>\n",
       "  </tbody>\n",
       "</table>\n",
       "</div>"
      ],
      "text/plain": [
       "                               order_id                             branch_id  \\\n",
       "0  4fc10c2a-55a9-45d0-ad37-9e3a48d190f8  975b3d24-ce3d-4801-9c11-582a817cc591   \n",
       "1  4fc10c2a-55a9-45d0-ad37-9e3a48d190f8  975b3d24-ce3d-4801-9c11-582a817cc591   \n",
       "2  4fc10c2a-55a9-45d0-ad37-9e3a48d190f8  975b3d24-ce3d-4801-9c11-582a817cc591   \n",
       "3  5babceee-5385-4fa5-b25f-4f1638a70696  975b3d24-ce3d-4801-9c11-582a817cc591   \n",
       "4  5babceee-5385-4fa5-b25f-4f1638a70696  975b3d24-ce3d-4801-9c11-582a817cc591   \n",
       "\n",
       "            order_date  order_total_price  order_source  order_type  \\\n",
       "0  2022-10-02 14:03:36               15.0             1           1   \n",
       "1  2022-10-02 14:03:36               15.0             1           1   \n",
       "2  2022-10-02 14:03:36               15.0             1           1   \n",
       "3  2022-10-02 13:41:05                6.8             1           1   \n",
       "4  2022-10-02 13:41:05                6.8             1           1   \n",
       "\n",
       "   order_status                            product_id  \\\n",
       "0             4  975b583e-90af-4319-87d3-022d8f1936d4   \n",
       "1             4  975b583e-96ee-41d6-9ed2-c2fb747e3f0a   \n",
       "2             4  975b583e-92bd-46f1-86c1-183d3a1c3c32   \n",
       "3             4  975b583e-90af-4319-87d3-022d8f1936d4   \n",
       "4             4  975b583f-2d41-4563-82d1-b09078a2e80a   \n",
       "\n",
       "                            category_id  quantity  price  \n",
       "0  975b5737-ccc4-4c1f-8599-5e246eee4a3b         1    4.5  \n",
       "1  975b5737-ccc4-4c1f-8599-5e246eee4a3b         1    5.5  \n",
       "2  975b5737-ccc4-4c1f-8599-5e246eee4a3b         1    5.0  \n",
       "3  975b5737-ccc4-4c1f-8599-5e246eee4a3b         1    4.5  \n",
       "4  975b5737-cf8c-4ef3-a445-7c4a71f349c5         1    0.3  "
      ]
     },
     "execution_count": 13,
     "metadata": {},
     "output_type": "execute_result"
    }
   ],
   "source": [
    "orders_details.head()"
   ]
  },
  {
   "cell_type": "code",
   "execution_count": 14,
   "metadata": {
    "execution": {
     "iopub.execute_input": "2023-06-12T09:27:24.606312Z",
     "iopub.status.busy": "2023-06-12T09:27:24.606043Z",
     "iopub.status.idle": "2023-06-12T09:27:24.615594Z",
     "shell.execute_reply": "2023-06-12T09:27:24.615042Z"
    }
   },
   "outputs": [
    {
     "data": {
      "text/html": [
       "<div>\n",
       "<style scoped>\n",
       "    .dataframe tbody tr th:only-of-type {\n",
       "        vertical-align: middle;\n",
       "    }\n",
       "\n",
       "    .dataframe tbody tr th {\n",
       "        vertical-align: top;\n",
       "    }\n",
       "\n",
       "    .dataframe thead th {\n",
       "        text-align: right;\n",
       "    }\n",
       "</style>\n",
       "<table border=\"1\" class=\"dataframe\">\n",
       "  <thead>\n",
       "    <tr style=\"text-align: right;\">\n",
       "      <th></th>\n",
       "      <th>order_id</th>\n",
       "      <th>product_id</th>\n",
       "      <th>category_id</th>\n",
       "      <th>quantity</th>\n",
       "      <th>price</th>\n",
       "    </tr>\n",
       "  </thead>\n",
       "  <tbody>\n",
       "    <tr>\n",
       "      <th>0</th>\n",
       "      <td>4fc10c2a-55a9-45d0-ad37-9e3a48d190f8</td>\n",
       "      <td>975b583e-90af-4319-87d3-022d8f1936d4</td>\n",
       "      <td>975b5737-ccc4-4c1f-8599-5e246eee4a3b</td>\n",
       "      <td>1</td>\n",
       "      <td>4.5</td>\n",
       "    </tr>\n",
       "    <tr>\n",
       "      <th>1</th>\n",
       "      <td>4fc10c2a-55a9-45d0-ad37-9e3a48d190f8</td>\n",
       "      <td>975b583e-96ee-41d6-9ed2-c2fb747e3f0a</td>\n",
       "      <td>975b5737-ccc4-4c1f-8599-5e246eee4a3b</td>\n",
       "      <td>1</td>\n",
       "      <td>5.5</td>\n",
       "    </tr>\n",
       "    <tr>\n",
       "      <th>2</th>\n",
       "      <td>4fc10c2a-55a9-45d0-ad37-9e3a48d190f8</td>\n",
       "      <td>975b583e-92bd-46f1-86c1-183d3a1c3c32</td>\n",
       "      <td>975b5737-ccc4-4c1f-8599-5e246eee4a3b</td>\n",
       "      <td>1</td>\n",
       "      <td>5.0</td>\n",
       "    </tr>\n",
       "    <tr>\n",
       "      <th>3</th>\n",
       "      <td>5babceee-5385-4fa5-b25f-4f1638a70696</td>\n",
       "      <td>975b583e-90af-4319-87d3-022d8f1936d4</td>\n",
       "      <td>975b5737-ccc4-4c1f-8599-5e246eee4a3b</td>\n",
       "      <td>1</td>\n",
       "      <td>4.5</td>\n",
       "    </tr>\n",
       "    <tr>\n",
       "      <th>4</th>\n",
       "      <td>5babceee-5385-4fa5-b25f-4f1638a70696</td>\n",
       "      <td>975b583f-2d41-4563-82d1-b09078a2e80a</td>\n",
       "      <td>975b5737-cf8c-4ef3-a445-7c4a71f349c5</td>\n",
       "      <td>1</td>\n",
       "      <td>0.3</td>\n",
       "    </tr>\n",
       "  </tbody>\n",
       "</table>\n",
       "</div>"
      ],
      "text/plain": [
       "                               order_id                            product_id  \\\n",
       "0  4fc10c2a-55a9-45d0-ad37-9e3a48d190f8  975b583e-90af-4319-87d3-022d8f1936d4   \n",
       "1  4fc10c2a-55a9-45d0-ad37-9e3a48d190f8  975b583e-96ee-41d6-9ed2-c2fb747e3f0a   \n",
       "2  4fc10c2a-55a9-45d0-ad37-9e3a48d190f8  975b583e-92bd-46f1-86c1-183d3a1c3c32   \n",
       "3  5babceee-5385-4fa5-b25f-4f1638a70696  975b583e-90af-4319-87d3-022d8f1936d4   \n",
       "4  5babceee-5385-4fa5-b25f-4f1638a70696  975b583f-2d41-4563-82d1-b09078a2e80a   \n",
       "\n",
       "                            category_id  quantity  price  \n",
       "0  975b5737-ccc4-4c1f-8599-5e246eee4a3b         1    4.5  \n",
       "1  975b5737-ccc4-4c1f-8599-5e246eee4a3b         1    5.5  \n",
       "2  975b5737-ccc4-4c1f-8599-5e246eee4a3b         1    5.0  \n",
       "3  975b5737-ccc4-4c1f-8599-5e246eee4a3b         1    4.5  \n",
       "4  975b5737-cf8c-4ef3-a445-7c4a71f349c5         1    0.3  "
      ]
     },
     "execution_count": 14,
     "metadata": {},
     "output_type": "execute_result"
    }
   ],
   "source": [
    "filtered_orders_details = orders_details.drop(columns=['order_date', 'order_total_price','order_source', 'order_type', 'order_status', 'branch_id'])\n",
    "filtered_orders_details.head()\n"
   ]
  },
  {
   "cell_type": "code",
   "execution_count": 15,
   "metadata": {
    "execution": {
     "iopub.execute_input": "2023-06-12T09:27:24.617678Z",
     "iopub.status.busy": "2023-06-12T09:27:24.617297Z",
     "iopub.status.idle": "2023-06-12T09:27:25.032091Z",
     "shell.execute_reply": "2023-06-12T09:27:25.031322Z"
    }
   },
   "outputs": [],
   "source": [
    "#filtered_orders_details['order_line_id'] = filtered_orders_details['order_id'] + '-' + filtered_orders_details['product_id'].apply(lambda x: x.split('-')[1]) + \n",
    "import uuid\n",
    "filtered_orders_details['order_details_id'] = [str(uuid.uuid4()) for _ in range(len(filtered_orders_details))]\n",
    "filtered_orders_details.rename(columns={'order_id':'order_header_id'}, inplace=True)"
   ]
  },
  {
   "cell_type": "code",
   "execution_count": 16,
   "metadata": {
    "execution": {
     "iopub.execute_input": "2023-06-12T09:27:25.034588Z",
     "iopub.status.busy": "2023-06-12T09:27:25.034294Z",
     "iopub.status.idle": "2023-06-12T09:27:25.040545Z",
     "shell.execute_reply": "2023-06-12T09:27:25.040013Z"
    }
   },
   "outputs": [
    {
     "data": {
      "text/html": [
       "<div>\n",
       "<style scoped>\n",
       "    .dataframe tbody tr th:only-of-type {\n",
       "        vertical-align: middle;\n",
       "    }\n",
       "\n",
       "    .dataframe tbody tr th {\n",
       "        vertical-align: top;\n",
       "    }\n",
       "\n",
       "    .dataframe thead th {\n",
       "        text-align: right;\n",
       "    }\n",
       "</style>\n",
       "<table border=\"1\" class=\"dataframe\">\n",
       "  <thead>\n",
       "    <tr style=\"text-align: right;\">\n",
       "      <th></th>\n",
       "      <th>order_header_id</th>\n",
       "      <th>product_id</th>\n",
       "      <th>category_id</th>\n",
       "      <th>quantity</th>\n",
       "      <th>price</th>\n",
       "      <th>order_details_id</th>\n",
       "    </tr>\n",
       "  </thead>\n",
       "  <tbody>\n",
       "    <tr>\n",
       "      <th>0</th>\n",
       "      <td>4fc10c2a-55a9-45d0-ad37-9e3a48d190f8</td>\n",
       "      <td>975b583e-90af-4319-87d3-022d8f1936d4</td>\n",
       "      <td>975b5737-ccc4-4c1f-8599-5e246eee4a3b</td>\n",
       "      <td>1</td>\n",
       "      <td>4.5</td>\n",
       "      <td>c8adce92-f926-4264-979b-7808415ba1cb</td>\n",
       "    </tr>\n",
       "    <tr>\n",
       "      <th>1</th>\n",
       "      <td>4fc10c2a-55a9-45d0-ad37-9e3a48d190f8</td>\n",
       "      <td>975b583e-96ee-41d6-9ed2-c2fb747e3f0a</td>\n",
       "      <td>975b5737-ccc4-4c1f-8599-5e246eee4a3b</td>\n",
       "      <td>1</td>\n",
       "      <td>5.5</td>\n",
       "      <td>22ece602-ca98-429b-b57b-62ec4a6fc4b5</td>\n",
       "    </tr>\n",
       "    <tr>\n",
       "      <th>2</th>\n",
       "      <td>4fc10c2a-55a9-45d0-ad37-9e3a48d190f8</td>\n",
       "      <td>975b583e-92bd-46f1-86c1-183d3a1c3c32</td>\n",
       "      <td>975b5737-ccc4-4c1f-8599-5e246eee4a3b</td>\n",
       "      <td>1</td>\n",
       "      <td>5.0</td>\n",
       "      <td>773458d5-31ba-47a5-a814-668856a8dc1b</td>\n",
       "    </tr>\n",
       "    <tr>\n",
       "      <th>3</th>\n",
       "      <td>5babceee-5385-4fa5-b25f-4f1638a70696</td>\n",
       "      <td>975b583e-90af-4319-87d3-022d8f1936d4</td>\n",
       "      <td>975b5737-ccc4-4c1f-8599-5e246eee4a3b</td>\n",
       "      <td>1</td>\n",
       "      <td>4.5</td>\n",
       "      <td>41451823-c3ba-4ced-9558-616315228d39</td>\n",
       "    </tr>\n",
       "    <tr>\n",
       "      <th>4</th>\n",
       "      <td>5babceee-5385-4fa5-b25f-4f1638a70696</td>\n",
       "      <td>975b583f-2d41-4563-82d1-b09078a2e80a</td>\n",
       "      <td>975b5737-cf8c-4ef3-a445-7c4a71f349c5</td>\n",
       "      <td>1</td>\n",
       "      <td>0.3</td>\n",
       "      <td>634f4a73-b164-4cef-949a-658cdb03797e</td>\n",
       "    </tr>\n",
       "  </tbody>\n",
       "</table>\n",
       "</div>"
      ],
      "text/plain": [
       "                        order_header_id                            product_id  \\\n",
       "0  4fc10c2a-55a9-45d0-ad37-9e3a48d190f8  975b583e-90af-4319-87d3-022d8f1936d4   \n",
       "1  4fc10c2a-55a9-45d0-ad37-9e3a48d190f8  975b583e-96ee-41d6-9ed2-c2fb747e3f0a   \n",
       "2  4fc10c2a-55a9-45d0-ad37-9e3a48d190f8  975b583e-92bd-46f1-86c1-183d3a1c3c32   \n",
       "3  5babceee-5385-4fa5-b25f-4f1638a70696  975b583e-90af-4319-87d3-022d8f1936d4   \n",
       "4  5babceee-5385-4fa5-b25f-4f1638a70696  975b583f-2d41-4563-82d1-b09078a2e80a   \n",
       "\n",
       "                            category_id  quantity  price  \\\n",
       "0  975b5737-ccc4-4c1f-8599-5e246eee4a3b         1    4.5   \n",
       "1  975b5737-ccc4-4c1f-8599-5e246eee4a3b         1    5.5   \n",
       "2  975b5737-ccc4-4c1f-8599-5e246eee4a3b         1    5.0   \n",
       "3  975b5737-ccc4-4c1f-8599-5e246eee4a3b         1    4.5   \n",
       "4  975b5737-cf8c-4ef3-a445-7c4a71f349c5         1    0.3   \n",
       "\n",
       "                       order_details_id  \n",
       "0  c8adce92-f926-4264-979b-7808415ba1cb  \n",
       "1  22ece602-ca98-429b-b57b-62ec4a6fc4b5  \n",
       "2  773458d5-31ba-47a5-a814-668856a8dc1b  \n",
       "3  41451823-c3ba-4ced-9558-616315228d39  \n",
       "4  634f4a73-b164-4cef-949a-658cdb03797e  "
      ]
     },
     "execution_count": 16,
     "metadata": {},
     "output_type": "execute_result"
    }
   ],
   "source": [
    "filtered_orders_details.head()"
   ]
  },
  {
   "cell_type": "code",
   "execution_count": 17,
   "metadata": {
    "execution": {
     "iopub.execute_input": "2023-06-12T09:27:25.042600Z",
     "iopub.status.busy": "2023-06-12T09:27:25.042326Z",
     "iopub.status.idle": "2023-06-12T09:27:25.149208Z",
     "shell.execute_reply": "2023-06-12T09:27:25.148572Z"
    }
   },
   "outputs": [],
   "source": [
    "filtered_orders_details.drop_duplicates(inplace=True)"
   ]
  },
  {
   "cell_type": "code",
   "execution_count": 18,
   "metadata": {
    "execution": {
     "iopub.execute_input": "2023-06-12T09:27:25.151462Z",
     "iopub.status.busy": "2023-06-12T09:27:25.151179Z",
     "iopub.status.idle": "2023-06-12T09:27:25.623142Z",
     "shell.execute_reply": "2023-06-12T09:27:25.622434Z"
    }
   },
   "outputs": [],
   "source": [
    "filtered_orders_details.to_csv('../../data/processed/order_details.csv', index=False)"
   ]
  },
  {
   "attachments": {},
   "cell_type": "markdown",
   "metadata": {},
   "source": [
    "# Products"
   ]
  },
  {
   "cell_type": "code",
   "execution_count": 19,
   "metadata": {
    "execution": {
     "iopub.execute_input": "2023-06-12T09:27:25.625921Z",
     "iopub.status.busy": "2023-06-12T09:27:25.625331Z",
     "iopub.status.idle": "2023-06-12T09:27:25.633233Z",
     "shell.execute_reply": "2023-06-12T09:27:25.632579Z"
    }
   },
   "outputs": [
    {
     "data": {
      "text/html": [
       "<div>\n",
       "<style scoped>\n",
       "    .dataframe tbody tr th:only-of-type {\n",
       "        vertical-align: middle;\n",
       "    }\n",
       "\n",
       "    .dataframe tbody tr th {\n",
       "        vertical-align: top;\n",
       "    }\n",
       "\n",
       "    .dataframe thead th {\n",
       "        text-align: right;\n",
       "    }\n",
       "</style>\n",
       "<table border=\"1\" class=\"dataframe\">\n",
       "  <thead>\n",
       "    <tr style=\"text-align: right;\">\n",
       "      <th></th>\n",
       "      <th>product_id</th>\n",
       "      <th>product_sku</th>\n",
       "      <th>product_name</th>\n",
       "      <th>category_name</th>\n",
       "      <th>category_id</th>\n",
       "      <th>is_active</th>\n",
       "      <th>is_stock_product</th>\n",
       "      <th>price</th>\n",
       "    </tr>\n",
       "  </thead>\n",
       "  <tbody>\n",
       "    <tr>\n",
       "      <th>0</th>\n",
       "      <td>975b583e-8e4e-4500-b416-e77dd352726a</td>\n",
       "      <td>psk-14</td>\n",
       "      <td>تشكس فرايز زنجر</td>\n",
       "      <td>Fries</td>\n",
       "      <td>975b5737-c982-4e3f-9faf-083ca9dc56ac</td>\n",
       "      <td>True</td>\n",
       "      <td>False</td>\n",
       "      <td>5.00</td>\n",
       "    </tr>\n",
       "    <tr>\n",
       "      <th>1</th>\n",
       "      <td>975b583e-90a9-420a-804e-b41dddbe0971</td>\n",
       "      <td>psk-5</td>\n",
       "      <td>كلاسيك</td>\n",
       "      <td>Shawarma</td>\n",
       "      <td>975b5737-c8e7-4ca6-a4b8-2c1546d5b8a1</td>\n",
       "      <td>True</td>\n",
       "      <td>False</td>\n",
       "      <td>1.50</td>\n",
       "    </tr>\n",
       "    <tr>\n",
       "      <th>2</th>\n",
       "      <td>975b583e-90af-4319-87d3-022d8f1936d4</td>\n",
       "      <td>psk-13</td>\n",
       "      <td>تشكس ستريبس</td>\n",
       "      <td>Chicken burger</td>\n",
       "      <td>975b5737-ccc4-4c1f-8599-5e246eee4a3b</td>\n",
       "      <td>True</td>\n",
       "      <td>False</td>\n",
       "      <td>4.50</td>\n",
       "    </tr>\n",
       "    <tr>\n",
       "      <th>3</th>\n",
       "      <td>975b583e-9145-4e05-90e7-9fa596c38888</td>\n",
       "      <td>psk-16</td>\n",
       "      <td>فرايز باجبنة</td>\n",
       "      <td>Fries</td>\n",
       "      <td>975b5737-c982-4e3f-9faf-083ca9dc56ac</td>\n",
       "      <td>True</td>\n",
       "      <td>False</td>\n",
       "      <td>2.50</td>\n",
       "    </tr>\n",
       "    <tr>\n",
       "      <th>4</th>\n",
       "      <td>975b583e-91e6-424e-851d-4de6a37813f5</td>\n",
       "      <td>psk-9</td>\n",
       "      <td>اربيان دجاج l</td>\n",
       "      <td>Shawarma</td>\n",
       "      <td>975b5737-c8e7-4ca6-a4b8-2c1546d5b8a1</td>\n",
       "      <td>True</td>\n",
       "      <td>False</td>\n",
       "      <td>3.75</td>\n",
       "    </tr>\n",
       "  </tbody>\n",
       "</table>\n",
       "</div>"
      ],
      "text/plain": [
       "                             product_id product_sku     product_name  \\\n",
       "0  975b583e-8e4e-4500-b416-e77dd352726a      psk-14  تشكس فرايز زنجر   \n",
       "1  975b583e-90a9-420a-804e-b41dddbe0971       psk-5           كلاسيك   \n",
       "2  975b583e-90af-4319-87d3-022d8f1936d4      psk-13      تشكس ستريبس   \n",
       "3  975b583e-9145-4e05-90e7-9fa596c38888      psk-16     فرايز باجبنة   \n",
       "4  975b583e-91e6-424e-851d-4de6a37813f5       psk-9    اربيان دجاج l   \n",
       "\n",
       "    category_name                           category_id  is_active  \\\n",
       "0           Fries  975b5737-c982-4e3f-9faf-083ca9dc56ac       True   \n",
       "1        Shawarma  975b5737-c8e7-4ca6-a4b8-2c1546d5b8a1       True   \n",
       "2  Chicken burger  975b5737-ccc4-4c1f-8599-5e246eee4a3b       True   \n",
       "3           Fries  975b5737-c982-4e3f-9faf-083ca9dc56ac       True   \n",
       "4        Shawarma  975b5737-c8e7-4ca6-a4b8-2c1546d5b8a1       True   \n",
       "\n",
       "   is_stock_product  price  \n",
       "0             False   5.00  \n",
       "1             False   1.50  \n",
       "2             False   4.50  \n",
       "3             False   2.50  \n",
       "4             False   3.75  "
      ]
     },
     "execution_count": 19,
     "metadata": {},
     "output_type": "execute_result"
    }
   ],
   "source": [
    "products.head()"
   ]
  },
  {
   "cell_type": "code",
   "execution_count": 20,
   "metadata": {
    "execution": {
     "iopub.execute_input": "2023-06-12T09:27:25.635396Z",
     "iopub.status.busy": "2023-06-12T09:27:25.635099Z",
     "iopub.status.idle": "2023-06-12T09:27:25.642624Z",
     "shell.execute_reply": "2023-06-12T09:27:25.642048Z"
    }
   },
   "outputs": [
    {
     "data": {
      "text/html": [
       "<div>\n",
       "<style scoped>\n",
       "    .dataframe tbody tr th:only-of-type {\n",
       "        vertical-align: middle;\n",
       "    }\n",
       "\n",
       "    .dataframe tbody tr th {\n",
       "        vertical-align: top;\n",
       "    }\n",
       "\n",
       "    .dataframe thead th {\n",
       "        text-align: right;\n",
       "    }\n",
       "</style>\n",
       "<table border=\"1\" class=\"dataframe\">\n",
       "  <thead>\n",
       "    <tr style=\"text-align: right;\">\n",
       "      <th></th>\n",
       "      <th>product_id</th>\n",
       "      <th>product_sku</th>\n",
       "      <th>product_name</th>\n",
       "      <th>category_name</th>\n",
       "      <th>category_id</th>\n",
       "      <th>is_active</th>\n",
       "      <th>is_stock_product</th>\n",
       "      <th>price</th>\n",
       "    </tr>\n",
       "  </thead>\n",
       "  <tbody>\n",
       "    <tr>\n",
       "      <th>0</th>\n",
       "      <td>975b583e-8e4e-4500-b416-e77dd352726a</td>\n",
       "      <td>psk-14</td>\n",
       "      <td>تشكس فرايز زنجر</td>\n",
       "      <td>Fries</td>\n",
       "      <td>975b5737-c982-4e3f-9faf-083ca9dc56ac</td>\n",
       "      <td>True</td>\n",
       "      <td>False</td>\n",
       "      <td>5.00</td>\n",
       "    </tr>\n",
       "    <tr>\n",
       "      <th>1</th>\n",
       "      <td>975b583e-90a9-420a-804e-b41dddbe0971</td>\n",
       "      <td>psk-5</td>\n",
       "      <td>كلاسيك</td>\n",
       "      <td>Shawarma</td>\n",
       "      <td>975b5737-c8e7-4ca6-a4b8-2c1546d5b8a1</td>\n",
       "      <td>True</td>\n",
       "      <td>False</td>\n",
       "      <td>1.50</td>\n",
       "    </tr>\n",
       "    <tr>\n",
       "      <th>2</th>\n",
       "      <td>975b583e-90af-4319-87d3-022d8f1936d4</td>\n",
       "      <td>psk-13</td>\n",
       "      <td>تشكس ستريبس</td>\n",
       "      <td>Chicken burger</td>\n",
       "      <td>975b5737-ccc4-4c1f-8599-5e246eee4a3b</td>\n",
       "      <td>True</td>\n",
       "      <td>False</td>\n",
       "      <td>4.50</td>\n",
       "    </tr>\n",
       "    <tr>\n",
       "      <th>3</th>\n",
       "      <td>975b583e-9145-4e05-90e7-9fa596c38888</td>\n",
       "      <td>psk-16</td>\n",
       "      <td>فرايز باجبنة</td>\n",
       "      <td>Fries</td>\n",
       "      <td>975b5737-c982-4e3f-9faf-083ca9dc56ac</td>\n",
       "      <td>True</td>\n",
       "      <td>False</td>\n",
       "      <td>2.50</td>\n",
       "    </tr>\n",
       "    <tr>\n",
       "      <th>4</th>\n",
       "      <td>975b583e-91e6-424e-851d-4de6a37813f5</td>\n",
       "      <td>psk-9</td>\n",
       "      <td>اربيان دجاج l</td>\n",
       "      <td>Shawarma</td>\n",
       "      <td>975b5737-c8e7-4ca6-a4b8-2c1546d5b8a1</td>\n",
       "      <td>True</td>\n",
       "      <td>False</td>\n",
       "      <td>3.75</td>\n",
       "    </tr>\n",
       "  </tbody>\n",
       "</table>\n",
       "</div>"
      ],
      "text/plain": [
       "                             product_id product_sku     product_name  \\\n",
       "0  975b583e-8e4e-4500-b416-e77dd352726a      psk-14  تشكس فرايز زنجر   \n",
       "1  975b583e-90a9-420a-804e-b41dddbe0971       psk-5           كلاسيك   \n",
       "2  975b583e-90af-4319-87d3-022d8f1936d4      psk-13      تشكس ستريبس   \n",
       "3  975b583e-9145-4e05-90e7-9fa596c38888      psk-16     فرايز باجبنة   \n",
       "4  975b583e-91e6-424e-851d-4de6a37813f5       psk-9    اربيان دجاج l   \n",
       "\n",
       "    category_name                           category_id  is_active  \\\n",
       "0           Fries  975b5737-c982-4e3f-9faf-083ca9dc56ac       True   \n",
       "1        Shawarma  975b5737-c8e7-4ca6-a4b8-2c1546d5b8a1       True   \n",
       "2  Chicken burger  975b5737-ccc4-4c1f-8599-5e246eee4a3b       True   \n",
       "3           Fries  975b5737-c982-4e3f-9faf-083ca9dc56ac       True   \n",
       "4        Shawarma  975b5737-c8e7-4ca6-a4b8-2c1546d5b8a1       True   \n",
       "\n",
       "   is_stock_product  price  \n",
       "0             False   5.00  \n",
       "1             False   1.50  \n",
       "2             False   4.50  \n",
       "3             False   2.50  \n",
       "4             False   3.75  "
      ]
     },
     "execution_count": 20,
     "metadata": {},
     "output_type": "execute_result"
    }
   ],
   "source": [
    "products.head()"
   ]
  },
  {
   "cell_type": "code",
   "execution_count": 21,
   "metadata": {
    "execution": {
     "iopub.execute_input": "2023-06-12T09:27:25.644868Z",
     "iopub.status.busy": "2023-06-12T09:27:25.644576Z",
     "iopub.status.idle": "2023-06-12T09:27:25.648751Z",
     "shell.execute_reply": "2023-06-12T09:27:25.648227Z"
    }
   },
   "outputs": [
    {
     "data": {
      "text/plain": [
       "array(['تشكس فرايز زنجر', 'كلاسيك', 'تشكس ستريبس', 'فرايز باجبنة',\n",
       "       'اربيان دجاج l', 'تشكس برجر', 'تشيزي', 'اوريجنال', 'بيج ميل',\n",
       "       'فرايز', 'ديبي برجر', 'تشكس فرايز شاورما', 'موهيتو', 'كوكتيل',\n",
       "       'برو', 'هوت دجاج', 'ذا بارتي', 'بيبسي', 'اربيان دجاج xl',\n",
       "       'شيك دجاج', 'مياه', 'سفن', 'هوت صوص', 'مرندا', 'بيبسي دايت', 'ثوم',\n",
       "       'سفن دايت', 'مخلل', 'جبنة', 'تشكس صوص', 'رانش', 'دبس رمان',\n",
       "       'راب شيكس', 'صوص ثوم حار', 'فرشلي', '5 اوريجنال عرض كريم 5JD',\n",
       "       'عرض بيج شيكس / عائلية  / 10JOD', 'عرض 2 وجبة لاج دجاج 5 د',\n",
       "       'وجبة مشاركة شاورما +زنجر + 2 بيبسي // كريم+ طلبات',\n",
       "       'وجبة مشاركة برغر + زنجر + 2 بيبسي // كريم+ طلبات', 'وجبة موظفين',\n",
       "       'عصير موسمي', 'وجبة لارج', 'بيج شيكس عرض فوديز 9 د',\n",
       "       'وجبة مشاركة برجر عرض 10 د', 'عرض وجبة عائلية 10د',\n",
       "       'عرض وجبة الاصدقاء  / مشاركة شاورما 6.500 JOD',\n",
       "       'عرض كريم 2 وجبة لارج 5 د', 'عرض كريم XL اربيان 50%',\n",
       "       'عرض كريم 2 اورجينال+1 بطاط +1 بيبسي',\n",
       "       'شيكس برغر / طلبات /  بيبسي +بطاطا',\n",
       "       'دبي برغر / طلبات /  بيبسي +بطاطا',\n",
       "       'وجبة مشاركة شاورما + 2 بيبسي  // 8JD',\n",
       "       'وجبة مشاركة برغر  + 2 بيبسي  // 10JD',\n",
       "       'شاورما بيج 12 د / عرض كريم'], dtype=object)"
      ]
     },
     "execution_count": 21,
     "metadata": {},
     "output_type": "execute_result"
    }
   ],
   "source": [
    "products.product_name.unique()"
   ]
  },
  {
   "cell_type": "code",
   "execution_count": 22,
   "metadata": {
    "execution": {
     "iopub.execute_input": "2023-06-12T09:27:25.650551Z",
     "iopub.status.busy": "2023-06-12T09:27:25.650382Z",
     "iopub.status.idle": "2023-06-12T09:27:25.661104Z",
     "shell.execute_reply": "2023-06-12T09:27:25.660577Z"
    }
   },
   "outputs": [],
   "source": [
    "from dotenv import load_dotenv\n",
    "import os\n",
    "\n",
    "load_dotenv()\n",
    "business_name = os.getenv(\"business_name\")\n",
    "if business_name == 'Shawarma 4 Chicks':\n",
    "    map_product_translation = {\n",
    "        'تشكس فرايز زنجر': 'Chicks Fries Zinger',\n",
    "        'كلاسيك': 'Classic',\n",
    "        'تشكس ستريبس': 'Chicks Strips',\n",
    "        'فرايز باجبنة': 'Fries with Cheese',\n",
    "        'اربيان دجاج l': 'Arabian Chicken L',\n",
    "        'تشكس برجر': 'Chicks Burger',\n",
    "        'تشيزي': 'Cheesy',\n",
    "        'اوريجنال': 'Original',\n",
    "        'بيج ميل': 'Big Meal',\n",
    "        'فرايز': 'Fries',\n",
    "        'ديبي برجر': 'Debbie Burger',\n",
    "        'تشكس فرايز شاورما': 'Chicks Fries Shawarma',\n",
    "        'موهيتو': 'Mojito',\n",
    "        'كوكتيل': 'Cocktail',\n",
    "        'برو': 'Brew',\n",
    "        'هوت دجاج': 'Hot Chicken',\n",
    "        'ذا بارتي': 'The Party',\n",
    "        'بيبسي': 'Pepsi',\n",
    "        'اربيان دجاج xl': 'Arabian Chicken XL',\n",
    "        'شيك دجاج': 'Chicken Shake',\n",
    "        'مياه': 'Water',\n",
    "        'سفن': '7UP',\n",
    "        'هوت صوص': 'Hot Sauce',\n",
    "        'مرندا': 'Mirinda',\n",
    "        'بيبسي دايت': 'Diet Pepsi',\n",
    "        'ثوم': 'Garlic',\n",
    "        'سفن دايت': 'Diet 7UP',\n",
    "        'مخلل': 'Pickles',\n",
    "        'جبنة': 'Cheese',\n",
    "        'تشكس صوص': 'Chicks Sauce',\n",
    "        'رانش': 'Ranch',\n",
    "        'دبس رمان': 'Pomegranate Molasses',\n",
    "        'راب شيكس': 'Wrap Chicks',\n",
    "        'صوص ثوم حار': 'Spicy Garlic Sauce',\n",
    "        'فرشلي': 'Freshly',\n",
    "        '5 اوريجنال عرض كريم 5JD': '5 Original Careem Offer 5JD',\n",
    "        'عرض بيج شيكس / عائلية  / 10JOD': 'Big Chicks Offer / Family / 10JOD',\n",
    "        'عرض 2 وجبة لاج دجاج 5 د': '2 Large Chicken Meal Offer 5 JD',\n",
    "        'وجبة مشاركة شاورما +زنجر + 2 بيبسي // كريم+ طلبات': 'Sharing Meal Shawarma + Zinger + 2 Pepsi // Careem + Orders',\n",
    "        'وجبة مشاركة برغر + زنجر + 2 بيبسي // كريم+ طلبات': 'Sharing Meal Burger + Zinger + 2 Pepsi // Careem + Orders',\n",
    "        'وجبة موظفين': 'Staff Meal',\n",
    "        'عصير موسمي': 'Seasonal Juice',\n",
    "        'وجبة لارج': 'Large Meal',\n",
    "        'بيج شيكس عرض فوديز 9 د': 'Big Chicks Fries Offer 9 JD',\n",
    "        'وجبة مشاركة برجر عرض 10 د': 'Sharing Meal Burger Offer 10 JD',\n",
    "        'عرض وجبة عائلية 10د': 'Family Meal Offer 10 JD',\n",
    "        'عرض وجبة الاصدقاء  / مشاركة شاورما 6.500 JOD': 'Friends Meal Offer / Sharing Shawarma 6.500 JOD',\n",
    "        'عرض كريم 2 وجبة لارج 5 د': 'Careem Offer 2 Large Meals 5 JD',\n",
    "        'عرض كريم XL اربيان 50%': 'Careem Offer XL Arabian 50%',\n",
    "        'عرض كريم 2 اورجينال+1 بطاط +1 بيبسي': 'Careem Offer 2 Original + 1 Fries + 1 Pepsi',\n",
    "        'شيكس برغر / طلبات /  بيبسي +بطاطا': 'Chicks Burger / Orders / Pepsi + Fries',\n",
    "        'دبي برغر / طلبات /  بيبسي +بطاطا': 'Debbie Burger / Orders / Pepsi + Fries',\n",
    "        'وجبة مشاركة شاورما + 2 بيبسي  // 8JD': 'Sharing Meal Shawarma + 2 Pepsi // 8JD',\n",
    "        'وجبة مشاركة برغر  + 2 بيبسي  // 10JD': 'Sharing Meal Burger + 2 Pepsi // 10JD',\n",
    "        'شاورما بيج 12 د / عرض كريم': 'Shawarma Big 12 JD / Careem Offer'\n",
    "    }\n",
    "    products.product_name = products.product_name.map(map_product_translation)"
   ]
  },
  {
   "cell_type": "code",
   "execution_count": 23,
   "metadata": {
    "execution": {
     "iopub.execute_input": "2023-06-12T09:27:25.663231Z",
     "iopub.status.busy": "2023-06-12T09:27:25.662903Z",
     "iopub.status.idle": "2023-06-12T09:27:25.667082Z",
     "shell.execute_reply": "2023-06-12T09:27:25.666556Z"
    }
   },
   "outputs": [
    {
     "data": {
      "text/plain": [
       "['Chicks Fries Zinger',\n",
       " 'Classic',\n",
       " 'Chicks Strips',\n",
       " 'Fries with Cheese',\n",
       " 'Arabian Chicken L',\n",
       " 'Chicks Burger',\n",
       " 'Cheesy',\n",
       " 'Original',\n",
       " 'Big Meal',\n",
       " 'Fries',\n",
       " 'Debbie Burger',\n",
       " 'Chicks Fries Shawarma',\n",
       " 'Mojito',\n",
       " 'Cocktail',\n",
       " 'Brew',\n",
       " 'Hot Chicken',\n",
       " 'The Party',\n",
       " 'Pepsi',\n",
       " 'Arabian Chicken XL',\n",
       " 'Chicken Shake',\n",
       " 'Water',\n",
       " '7UP',\n",
       " 'Hot Sauce',\n",
       " 'Mirinda',\n",
       " 'Diet Pepsi',\n",
       " 'Garlic',\n",
       " 'Diet 7UP',\n",
       " 'Pickles',\n",
       " 'Cheese',\n",
       " 'Chicks Sauce',\n",
       " 'Ranch',\n",
       " 'Pomegranate Molasses',\n",
       " 'Wrap Chicks',\n",
       " 'Spicy Garlic Sauce',\n",
       " 'Freshly',\n",
       " '5 Original Careem Offer 5JD',\n",
       " 'Big Chicks Offer / Family / 10JOD',\n",
       " '2 Large Chicken Meal Offer 5 JD',\n",
       " 'Sharing Meal Shawarma + Zinger + 2 Pepsi // Careem + Orders',\n",
       " 'Sharing Meal Burger + Zinger + 2 Pepsi // Careem + Orders',\n",
       " 'Staff Meal',\n",
       " 'Seasonal Juice',\n",
       " 'Large Meal',\n",
       " 'Big Chicks Fries Offer 9 JD',\n",
       " 'Sharing Meal Burger Offer 10 JD',\n",
       " 'Family Meal Offer 10 JD',\n",
       " 'Friends Meal Offer / Sharing Shawarma 6.500 JOD',\n",
       " 'Careem Offer 2 Large Meals 5 JD',\n",
       " 'Careem Offer XL Arabian 50%',\n",
       " 'Careem Offer 2 Original + 1 Fries + 1 Pepsi',\n",
       " 'Chicks Burger / Orders / Pepsi + Fries',\n",
       " 'Debbie Burger / Orders / Pepsi + Fries',\n",
       " 'Sharing Meal Shawarma + 2 Pepsi // 8JD',\n",
       " 'Sharing Meal Burger + 2 Pepsi // 10JD',\n",
       " 'Shawarma Big 12 JD / Careem Offer']"
      ]
     },
     "execution_count": 23,
     "metadata": {},
     "output_type": "execute_result"
    }
   ],
   "source": [
    "products.product_name.unique().tolist()"
   ]
  },
  {
   "cell_type": "code",
   "execution_count": 24,
   "metadata": {
    "execution": {
     "iopub.execute_input": "2023-06-12T09:27:25.668960Z",
     "iopub.status.busy": "2023-06-12T09:27:25.668700Z",
     "iopub.status.idle": "2023-06-12T09:27:25.672729Z",
     "shell.execute_reply": "2023-06-12T09:27:25.672195Z"
    }
   },
   "outputs": [
    {
     "data": {
      "text/plain": [
       "['psk-14',\n",
       " 'psk-5',\n",
       " 'psk-13',\n",
       " 'psk-16',\n",
       " 'psk-9',\n",
       " 'psk-11',\n",
       " 'psk-6',\n",
       " 'psk-4',\n",
       " 'psk-8',\n",
       " 'psk-17',\n",
       " 'psk-12',\n",
       " 'psk-15',\n",
       " 'psk-20',\n",
       " 'psk-18',\n",
       " 'psk-3',\n",
       " 'psk-2',\n",
       " 'psk-19',\n",
       " 'psk-21',\n",
       " 'psk-10',\n",
       " 'psk-7',\n",
       " 'psk-26',\n",
       " 'psk-23',\n",
       " 'psk-30',\n",
       " 'psk-25',\n",
       " 'psk-22',\n",
       " 'psk-29',\n",
       " 'psk-24',\n",
       " 'psk-28',\n",
       " 'psk-32',\n",
       " 'psk-27',\n",
       " 'psk-31',\n",
       " 'psk-33',\n",
       " 'sk-0106',\n",
       " 'sk-0107',\n",
       " 'sk-0108',\n",
       " 'sk-0109',\n",
       " 'sk-0110',\n",
       " 'sk-0111',\n",
       " 'sk-0112',\n",
       " 'sk-0113',\n",
       " 'sk-0114',\n",
       " 'sk-0115',\n",
       " 'sk-0116',\n",
       " 'sk-0117',\n",
       " 'sk-0118',\n",
       " 'sk-0119',\n",
       " 'sk-0120',\n",
       " 'sk-0121',\n",
       " 'sk-0122',\n",
       " 'sk-0123',\n",
       " 'sk-0124',\n",
       " 'sk-0125',\n",
       " 'sk-0126',\n",
       " 'sk-0128',\n",
       " 'sk-0129',\n",
       " 'sk-0130']"
      ]
     },
     "execution_count": 24,
     "metadata": {},
     "output_type": "execute_result"
    }
   ],
   "source": [
    "products.product_sku.unique().tolist()"
   ]
  },
  {
   "cell_type": "code",
   "execution_count": 25,
   "metadata": {
    "execution": {
     "iopub.execute_input": "2023-06-12T09:27:25.674597Z",
     "iopub.status.busy": "2023-06-12T09:27:25.674288Z",
     "iopub.status.idle": "2023-06-12T09:27:25.680141Z",
     "shell.execute_reply": "2023-06-12T09:27:25.679597Z"
    }
   },
   "outputs": [
    {
     "data": {
      "text/html": [
       "<div>\n",
       "<style scoped>\n",
       "    .dataframe tbody tr th:only-of-type {\n",
       "        vertical-align: middle;\n",
       "    }\n",
       "\n",
       "    .dataframe tbody tr th {\n",
       "        vertical-align: top;\n",
       "    }\n",
       "\n",
       "    .dataframe thead th {\n",
       "        text-align: right;\n",
       "    }\n",
       "</style>\n",
       "<table border=\"1\" class=\"dataframe\">\n",
       "  <thead>\n",
       "    <tr style=\"text-align: right;\">\n",
       "      <th></th>\n",
       "      <th>product_id</th>\n",
       "      <th>product_sku</th>\n",
       "      <th>product_name</th>\n",
       "      <th>category_name</th>\n",
       "      <th>category_id</th>\n",
       "      <th>is_active</th>\n",
       "      <th>is_stock_product</th>\n",
       "      <th>price</th>\n",
       "    </tr>\n",
       "  </thead>\n",
       "  <tbody>\n",
       "  </tbody>\n",
       "</table>\n",
       "</div>"
      ],
      "text/plain": [
       "Empty DataFrame\n",
       "Columns: [product_id, product_sku, product_name, category_name, category_id, is_active, is_stock_product, price]\n",
       "Index: []"
      ]
     },
     "execution_count": 25,
     "metadata": {},
     "output_type": "execute_result"
    }
   ],
   "source": [
    "products[products.product_name.isnull()]"
   ]
  },
  {
   "cell_type": "code",
   "execution_count": 26,
   "metadata": {
    "execution": {
     "iopub.execute_input": "2023-06-12T09:27:25.682238Z",
     "iopub.status.busy": "2023-06-12T09:27:25.681975Z",
     "iopub.status.idle": "2023-06-12T09:27:25.685762Z",
     "shell.execute_reply": "2023-06-12T09:27:25.685240Z"
    }
   },
   "outputs": [
    {
     "data": {
      "text/plain": [
       "56"
      ]
     },
     "execution_count": 26,
     "metadata": {},
     "output_type": "execute_result"
    }
   ],
   "source": [
    "products.product_sku.nunique()"
   ]
  },
  {
   "cell_type": "code",
   "execution_count": 27,
   "metadata": {
    "execution": {
     "iopub.execute_input": "2023-06-12T09:27:25.687533Z",
     "iopub.status.busy": "2023-06-12T09:27:25.687350Z",
     "iopub.status.idle": "2023-06-12T09:27:25.690980Z",
     "shell.execute_reply": "2023-06-12T09:27:25.690485Z"
    }
   },
   "outputs": [],
   "source": [
    "products.to_csv('../../data/processed/products.csv', index=False)"
   ]
  },
  {
   "attachments": {},
   "cell_type": "markdown",
   "metadata": {},
   "source": [
    "# Branches"
   ]
  },
  {
   "cell_type": "code",
   "execution_count": 28,
   "metadata": {
    "execution": {
     "iopub.execute_input": "2023-06-12T09:27:25.692876Z",
     "iopub.status.busy": "2023-06-12T09:27:25.692665Z",
     "iopub.status.idle": "2023-06-12T09:27:25.698211Z",
     "shell.execute_reply": "2023-06-12T09:27:25.697671Z"
    }
   },
   "outputs": [
    {
     "data": {
      "text/html": [
       "<div>\n",
       "<style scoped>\n",
       "    .dataframe tbody tr th:only-of-type {\n",
       "        vertical-align: middle;\n",
       "    }\n",
       "\n",
       "    .dataframe tbody tr th {\n",
       "        vertical-align: top;\n",
       "    }\n",
       "\n",
       "    .dataframe thead th {\n",
       "        text-align: right;\n",
       "    }\n",
       "</style>\n",
       "<table border=\"1\" class=\"dataframe\">\n",
       "  <thead>\n",
       "    <tr style=\"text-align: right;\">\n",
       "      <th></th>\n",
       "      <th>branch_id</th>\n",
       "      <th>branch_name</th>\n",
       "      <th>opening_from</th>\n",
       "      <th>opening_to</th>\n",
       "    </tr>\n",
       "  </thead>\n",
       "  <tbody>\n",
       "    <tr>\n",
       "      <th>0</th>\n",
       "      <td>975b3d24-cb71-4df8-930e-054bcd67f90c</td>\n",
       "      <td>4Chicks Abdoun</td>\n",
       "      <td>09:00</td>\n",
       "      <td>03:00</td>\n",
       "    </tr>\n",
       "    <tr>\n",
       "      <th>1</th>\n",
       "      <td>975b3d24-ce3d-4801-9c11-582a817cc591</td>\n",
       "      <td>4Chicks 7th circle</td>\n",
       "      <td>10:00</td>\n",
       "      <td>03:00</td>\n",
       "    </tr>\n",
       "    <tr>\n",
       "      <th>2</th>\n",
       "      <td>976744f0-20ac-4dd5-a06a-6a1ee9ffa7b5</td>\n",
       "      <td>4Chicks Al-Jubeha</td>\n",
       "      <td>10:00</td>\n",
       "      <td>03:00</td>\n",
       "    </tr>\n",
       "  </tbody>\n",
       "</table>\n",
       "</div>"
      ],
      "text/plain": [
       "                              branch_id         branch_name opening_from  \\\n",
       "0  975b3d24-cb71-4df8-930e-054bcd67f90c      4Chicks Abdoun        09:00   \n",
       "1  975b3d24-ce3d-4801-9c11-582a817cc591  4Chicks 7th circle        10:00   \n",
       "2  976744f0-20ac-4dd5-a06a-6a1ee9ffa7b5   4Chicks Al-Jubeha        10:00   \n",
       "\n",
       "  opening_to  \n",
       "0      03:00  \n",
       "1      03:00  \n",
       "2      03:00  "
      ]
     },
     "execution_count": 28,
     "metadata": {},
     "output_type": "execute_result"
    }
   ],
   "source": [
    "branches"
   ]
  },
  {
   "cell_type": "code",
   "execution_count": 29,
   "metadata": {
    "execution": {
     "iopub.execute_input": "2023-06-12T09:27:25.700154Z",
     "iopub.status.busy": "2023-06-12T09:27:25.699896Z",
     "iopub.status.idle": "2023-06-12T09:27:25.705088Z",
     "shell.execute_reply": "2023-06-12T09:27:25.704560Z"
    }
   },
   "outputs": [],
   "source": [
    "branches['opening_from'] = pd.to_datetime(branches['opening_from'])\n",
    "branches['opening_to'] = pd.to_datetime(branches['opening_to'])\n",
    "\n",
    "branches['opening_from'] = branches['opening_from'].dt.hour\n",
    "branches['opening_to'] = branches['opening_to'].dt.hour"
   ]
  },
  {
   "cell_type": "code",
   "execution_count": 30,
   "metadata": {
    "execution": {
     "iopub.execute_input": "2023-06-12T09:27:25.706908Z",
     "iopub.status.busy": "2023-06-12T09:27:25.706633Z",
     "iopub.status.idle": "2023-06-12T09:27:25.710219Z",
     "shell.execute_reply": "2023-06-12T09:27:25.709475Z"
    }
   },
   "outputs": [],
   "source": [
    "branches.to_csv('../../data/processed/branches.csv', index=False)"
   ]
  },
  {
   "attachments": {},
   "cell_type": "markdown",
   "metadata": {},
   "source": [
    "# Categories"
   ]
  },
  {
   "cell_type": "code",
   "execution_count": 31,
   "metadata": {
    "execution": {
     "iopub.execute_input": "2023-06-12T09:27:25.712116Z",
     "iopub.status.busy": "2023-06-12T09:27:25.711848Z",
     "iopub.status.idle": "2023-06-12T09:27:25.716861Z",
     "shell.execute_reply": "2023-06-12T09:27:25.716337Z"
    }
   },
   "outputs": [
    {
     "data": {
      "text/html": [
       "<div>\n",
       "<style scoped>\n",
       "    .dataframe tbody tr th:only-of-type {\n",
       "        vertical-align: middle;\n",
       "    }\n",
       "\n",
       "    .dataframe tbody tr th {\n",
       "        vertical-align: top;\n",
       "    }\n",
       "\n",
       "    .dataframe thead th {\n",
       "        text-align: right;\n",
       "    }\n",
       "</style>\n",
       "<table border=\"1\" class=\"dataframe\">\n",
       "  <thead>\n",
       "    <tr style=\"text-align: right;\">\n",
       "      <th></th>\n",
       "      <th>category_id</th>\n",
       "      <th>category_name</th>\n",
       "    </tr>\n",
       "  </thead>\n",
       "  <tbody>\n",
       "    <tr>\n",
       "      <th>0</th>\n",
       "      <td>975b5737-c8e7-4ca6-a4b8-2c1546d5b8a1</td>\n",
       "      <td>Shawarma</td>\n",
       "    </tr>\n",
       "    <tr>\n",
       "      <th>1</th>\n",
       "      <td>975b5737-c982-4e3f-9faf-083ca9dc56ac</td>\n",
       "      <td>Fries</td>\n",
       "    </tr>\n",
       "    <tr>\n",
       "      <th>2</th>\n",
       "      <td>975b5737-cad1-4031-9319-5e3a7addba42</td>\n",
       "      <td>Drinks</td>\n",
       "    </tr>\n",
       "    <tr>\n",
       "      <th>3</th>\n",
       "      <td>975b5737-ccc4-4c1f-8599-5e246eee4a3b</td>\n",
       "      <td>Chicken burger</td>\n",
       "    </tr>\n",
       "    <tr>\n",
       "      <th>4</th>\n",
       "      <td>975b5737-cf8c-4ef3-a445-7c4a71f349c5</td>\n",
       "      <td>Sauces</td>\n",
       "    </tr>\n",
       "    <tr>\n",
       "      <th>5</th>\n",
       "      <td>975b5737-d227-4b7c-9962-3a7b09103597</td>\n",
       "      <td>Juices</td>\n",
       "    </tr>\n",
       "  </tbody>\n",
       "</table>\n",
       "</div>"
      ],
      "text/plain": [
       "                            category_id   category_name\n",
       "0  975b5737-c8e7-4ca6-a4b8-2c1546d5b8a1        Shawarma\n",
       "1  975b5737-c982-4e3f-9faf-083ca9dc56ac           Fries\n",
       "2  975b5737-cad1-4031-9319-5e3a7addba42          Drinks\n",
       "3  975b5737-ccc4-4c1f-8599-5e246eee4a3b  Chicken burger\n",
       "4  975b5737-cf8c-4ef3-a445-7c4a71f349c5          Sauces\n",
       "5  975b5737-d227-4b7c-9962-3a7b09103597          Juices"
      ]
     },
     "execution_count": 31,
     "metadata": {},
     "output_type": "execute_result"
    }
   ],
   "source": [
    "categories"
   ]
  },
  {
   "cell_type": "code",
   "execution_count": 32,
   "metadata": {
    "execution": {
     "iopub.execute_input": "2023-06-12T09:27:25.718838Z",
     "iopub.status.busy": "2023-06-12T09:27:25.718574Z",
     "iopub.status.idle": "2023-06-12T09:27:25.721794Z",
     "shell.execute_reply": "2023-06-12T09:27:25.721229Z"
    }
   },
   "outputs": [],
   "source": [
    "categories.to_csv('../../data/processed/categories.csv', index=False)"
   ]
  },
  {
   "cell_type": "code",
   "execution_count": 33,
   "metadata": {
    "execution": {
     "iopub.execute_input": "2023-06-12T09:27:25.723842Z",
     "iopub.status.busy": "2023-06-12T09:27:25.723486Z",
     "iopub.status.idle": "2023-06-12T09:27:25.726119Z",
     "shell.execute_reply": "2023-06-12T09:27:25.725566Z"
    }
   },
   "outputs": [],
   "source": [
    "# def check_values_exist(list1, list2):\n",
    "#     return all(value in list2 for value in list1)\n",
    "\n",
    "# check_values_exist(products.category_id.unique(), categories.category_id.unique())"
   ]
  }
 ],
 "metadata": {
  "kernelspec": {
   "display_name": ".venv",
   "language": "python",
   "name": "python3"
  },
  "language_info": {
   "codemirror_mode": {
    "name": "ipython",
    "version": 3
   },
   "file_extension": ".py",
   "mimetype": "text/x-python",
   "name": "python",
   "nbconvert_exporter": "python",
   "pygments_lexer": "ipython3",
   "version": "3.10.6"
  }
 },
 "nbformat": 4,
 "nbformat_minor": 2
}
