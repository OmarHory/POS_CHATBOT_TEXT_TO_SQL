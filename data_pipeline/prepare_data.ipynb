{
 "cells": [
  {
   "cell_type": "code",
   "execution_count": null,
   "metadata": {},
   "outputs": [],
   "source": [
    "import os, sys\n",
    "\n",
    "sys.path.append('..')"
   ]
  },
  {
   "cell_type": "code",
   "execution_count": 20,
   "metadata": {
    "execution": {
     "iopub.execute_input": "2023-06-13T22:16:35.091135Z",
     "iopub.status.busy": "2023-06-13T22:16:35.090938Z",
     "iopub.status.idle": "2023-06-13T22:16:35.604925Z",
     "shell.execute_reply": "2023-06-13T22:16:35.604272Z"
    }
   },
   "outputs": [],
   "source": [
    "import pandas as pd\n",
    "import argparse\n",
    "from datetime import date,datetime\n",
    "from datetime import timedelta\n",
    "from sqlalchemy import create_engine\n",
    "from sqlalchemy.orm import sessionmaker\n",
    "from src.repositories.client_repository import ClientRepository\n",
    "\n",
    "from utils import *\n",
    "from dotenv import load_dotenv\n",
    "\n"
   ]
  },
  {
   "cell_type": "code",
   "execution_count": null,
   "metadata": {
    "execution": {
     "iopub.execute_input": "2023-06-13T22:16:35.607979Z",
     "iopub.status.busy": "2023-06-13T22:16:35.607709Z",
     "iopub.status.idle": "2023-06-13T22:16:35.618044Z",
     "shell.execute_reply": "2023-06-13T22:16:35.617368Z"
    }
   },
   "outputs": [],
   "source": [
    "pd.set_option('display.max_columns', None)\n",
    "load_dotenv()\n"
   ]
  },
  {
   "attachments": {},
   "cell_type": "markdown",
   "metadata": {},
   "source": [
    "## Get Client Information"
   ]
  },
  {
   "cell_type": "code",
   "execution_count": null,
   "metadata": {},
   "outputs": [],
   "source": [
    "# parser = argparse.ArgumentParser()\n",
    "# parser.add_argument('--client-id', type=int, required=True, help='Client ID')\n",
    "# args = parser.parse_args()\n",
    "\n",
    "# # Get environment variables\n",
    "# client_id = args.client_id"
   ]
  },
  {
   "cell_type": "code",
   "execution_count": null,
   "metadata": {
    "execution": {
     "iopub.execute_input": "2023-06-13T22:16:35.643239Z",
     "iopub.status.busy": "2023-06-13T22:16:35.642984Z",
     "iopub.status.idle": "2023-06-13T22:16:35.647708Z",
     "shell.execute_reply": "2023-06-13T22:16:35.646797Z"
    }
   },
   "outputs": [],
   "source": [
    "\n",
    "client_id = 2\n",
    "\n",
    "engine = create_engine(os.environ['DATABASE_URI'])\n",
    "session = sessionmaker(bind=engine)\n",
    "client_repo = ClientRepository(session=session())\n",
    "client = client_repo.fetch_client(client_id)\n",
    "token = client.token\n",
    "client_settings = client.settings\n",
    "\n",
    "client_timezone_offset = int(client_settings['client_timezone_offset'])\n",
    "category_name_col = str(client_settings['category_name_col'])"
   ]
  },
  {
   "cell_type": "code",
   "execution_count": null,
   "metadata": {},
   "outputs": [],
   "source": [
    "client_settings"
   ]
  },
  {
   "attachments": {},
   "cell_type": "markdown",
   "metadata": {},
   "source": [
    "# Branches"
   ]
  },
  {
   "cell_type": "code",
   "execution_count": null,
   "metadata": {
    "execution": {
     "iopub.execute_input": "2023-06-13T22:16:35.650668Z",
     "iopub.status.busy": "2023-06-13T22:16:35.650451Z",
     "iopub.status.idle": "2023-06-13T22:16:36.760684Z",
     "shell.execute_reply": "2023-06-13T22:16:36.759506Z"
    }
   },
   "outputs": [],
   "source": [
    "last_page = call_foodics('branches', 1, client_id, token, return_last_page=True)\n",
    "\n",
    "list_responses = call_foodics('branches', last_page, client_id, token)\n",
    "\n"
   ]
  },
  {
   "cell_type": "code",
   "execution_count": null,
   "metadata": {
    "execution": {
     "iopub.execute_input": "2023-06-13T22:16:36.764016Z",
     "iopub.status.busy": "2023-06-13T22:16:36.763822Z",
     "iopub.status.idle": "2023-06-13T22:16:36.788667Z",
     "shell.execute_reply": "2023-06-13T22:16:36.788021Z"
    }
   },
   "outputs": [],
   "source": [
    "df_branches = pd.DataFrame([item for sublist in list_responses for item in sublist])\n",
    "df_branches['client_id'] = client_id\n",
    "df_branches['slug'] = df_branches.name.apply(lambda x: generate_slug(x))\n",
    "df_branches"
   ]
  },
  {
   "cell_type": "code",
   "execution_count": null,
   "metadata": {
    "execution": {
     "iopub.execute_input": "2023-06-13T22:16:36.791050Z",
     "iopub.status.busy": "2023-06-13T22:16:36.790871Z",
     "iopub.status.idle": "2023-06-13T22:16:36.798954Z",
     "shell.execute_reply": "2023-06-13T22:16:36.798313Z"
    }
   },
   "outputs": [],
   "source": [
    "df_branches = df_branches[['id', 'client_id', 'name', 'slug', 'opening_from', 'opening_to', 'created_at', 'updated_at', 'deleted_at']]"
   ]
  },
  {
   "cell_type": "code",
   "execution_count": null,
   "metadata": {
    "execution": {
     "iopub.execute_input": "2023-06-13T22:16:36.801459Z",
     "iopub.status.busy": "2023-06-13T22:16:36.801249Z",
     "iopub.status.idle": "2023-06-13T22:16:36.808152Z",
     "shell.execute_reply": "2023-06-13T22:16:36.807602Z"
    }
   },
   "outputs": [],
   "source": [
    "df_branches"
   ]
  },
  {
   "attachments": {},
   "cell_type": "markdown",
   "metadata": {},
   "source": [
    "# Products"
   ]
  },
  {
   "cell_type": "code",
   "execution_count": null,
   "metadata": {
    "execution": {
     "iopub.execute_input": "2023-06-13T22:16:36.810113Z",
     "iopub.status.busy": "2023-06-13T22:16:36.809936Z",
     "iopub.status.idle": "2023-06-13T22:16:39.301182Z",
     "shell.execute_reply": "2023-06-13T22:16:39.300491Z"
    }
   },
   "outputs": [],
   "source": [
    "last_page = call_foodics('products', 1, client_id,token, return_last_page=True)\n",
    "\n",
    "list_responses = call_foodics('products', last_page, client_id,token, includables='category')"
   ]
  },
  {
   "cell_type": "code",
   "execution_count": null,
   "metadata": {
    "execution": {
     "iopub.execute_input": "2023-06-13T22:16:39.304401Z",
     "iopub.status.busy": "2023-06-13T22:16:39.304162Z",
     "iopub.status.idle": "2023-06-13T22:16:39.312814Z",
     "shell.execute_reply": "2023-06-13T22:16:39.311100Z"
    }
   },
   "outputs": [],
   "source": [
    "df_products = pd.DataFrame([item for sublist in list_responses for item in sublist])\n",
    "df_products['client_id'] = client_id\n",
    "df_products['slug'] = df_products.name.apply(lambda x: generate_slug(x))"
   ]
  },
  {
   "cell_type": "code",
   "execution_count": null,
   "metadata": {
    "execution": {
     "iopub.execute_input": "2023-06-13T22:16:39.332728Z",
     "iopub.status.busy": "2023-06-13T22:16:39.332515Z",
     "iopub.status.idle": "2023-06-13T22:16:39.349917Z",
     "shell.execute_reply": "2023-06-13T22:16:39.349262Z"
    }
   },
   "outputs": [],
   "source": [
    "print(category_name_col)\n",
    "\n",
    "df_products['category_name'] = df_products['category'].apply(lambda x: x[category_name_col])\n",
    "df_products = df_products[~df_products.category_name.isna()]\n",
    "df_products['category_name'] = df_products['category_name'].apply(lambda x: x.capitalize())\n",
    "\n",
    "df_products['category_id'] = df_products['category'].apply(lambda x: x['id'])\n",
    "df_products.rename(columns={'sku':\"sku\"}, inplace=True)\n",
    "df_products.drop('category', axis=1, inplace=True)\n",
    "# df_products = df_products[df_products.deleted_at.isna()]\n",
    "df_products.head()"
   ]
  },
  {
   "cell_type": "code",
   "execution_count": null,
   "metadata": {
    "execution": {
     "iopub.execute_input": "2023-06-13T22:16:39.352420Z",
     "iopub.status.busy": "2023-06-13T22:16:39.352194Z",
     "iopub.status.idle": "2023-06-13T22:16:39.357302Z",
     "shell.execute_reply": "2023-06-13T22:16:39.356681Z"
    }
   },
   "outputs": [],
   "source": [
    "df_products = df_products[['id', 'client_id', 'sku', 'slug', 'name', 'category_id', 'is_active', 'is_stock_product', 'price', 'created_at', 'updated_at', 'deleted_at']]"
   ]
  },
  {
   "cell_type": "code",
   "execution_count": null,
   "metadata": {
    "execution": {
     "iopub.execute_input": "2023-06-13T22:16:39.359463Z",
     "iopub.status.busy": "2023-06-13T22:16:39.359296Z",
     "iopub.status.idle": "2023-06-13T22:16:39.363057Z",
     "shell.execute_reply": "2023-06-13T22:16:39.362280Z"
    }
   },
   "outputs": [],
   "source": [
    "\n",
    "df_products = df_products.rename(columns={'is_stock_product':\"is_stock\"})"
   ]
  },
  {
   "cell_type": "code",
   "execution_count": null,
   "metadata": {
    "execution": {
     "iopub.execute_input": "2023-06-13T22:16:39.365349Z",
     "iopub.status.busy": "2023-06-13T22:16:39.365148Z",
     "iopub.status.idle": "2023-06-13T22:16:39.373968Z",
     "shell.execute_reply": "2023-06-13T22:16:39.373411Z"
    }
   },
   "outputs": [],
   "source": [
    "df_products.head()"
   ]
  },
  {
   "attachments": {},
   "cell_type": "markdown",
   "metadata": {},
   "source": [
    "# Categories"
   ]
  },
  {
   "cell_type": "code",
   "execution_count": null,
   "metadata": {
    "execution": {
     "iopub.execute_input": "2023-06-13T22:16:39.376455Z",
     "iopub.status.busy": "2023-06-13T22:16:39.376240Z",
     "iopub.status.idle": "2023-06-13T22:16:40.590382Z",
     "shell.execute_reply": "2023-06-13T22:16:40.589565Z"
    }
   },
   "outputs": [],
   "source": [
    "last_page = call_foodics('categories', 1, client_id,token, return_last_page=True)\n",
    "\n",
    "\n",
    "list_responses = call_foodics('categories', last_page, client_id, token,) "
   ]
  },
  {
   "cell_type": "code",
   "execution_count": null,
   "metadata": {
    "execution": {
     "iopub.execute_input": "2023-06-13T22:16:40.593659Z",
     "iopub.status.busy": "2023-06-13T22:16:40.593427Z",
     "iopub.status.idle": "2023-06-13T22:16:40.603864Z",
     "shell.execute_reply": "2023-06-13T22:16:40.603227Z"
    }
   },
   "outputs": [],
   "source": [
    "df_categories = pd.DataFrame([item for sublist in list_responses for item in sublist])\n",
    "df_categories['client_id'] = client_id\n",
    "df_categories['slug'] = df_categories.name.apply(lambda x: generate_slug(x))\n",
    "df_categories.head()"
   ]
  },
  {
   "cell_type": "code",
   "execution_count": null,
   "metadata": {
    "execution": {
     "iopub.execute_input": "2023-06-13T22:16:40.606190Z",
     "iopub.status.busy": "2023-06-13T22:16:40.606017Z",
     "iopub.status.idle": "2023-06-13T22:16:40.614504Z",
     "shell.execute_reply": "2023-06-13T22:16:40.613829Z"
    }
   },
   "outputs": [],
   "source": [
    "cats_to_be_deleted = df_categories[~df_categories.deleted_at.isna()]\n",
    "cats_to_be_deleted.head()"
   ]
  },
  {
   "cell_type": "code",
   "execution_count": null,
   "metadata": {
    "execution": {
     "iopub.execute_input": "2023-06-13T22:16:40.616568Z",
     "iopub.status.busy": "2023-06-13T22:16:40.616369Z",
     "iopub.status.idle": "2023-06-13T22:16:40.619752Z",
     "shell.execute_reply": "2023-06-13T22:16:40.619201Z"
    }
   },
   "outputs": [],
   "source": [
    "df_categories = df_categories[df_categories.deleted_at.isna()]"
   ]
  },
  {
   "cell_type": "code",
   "execution_count": null,
   "metadata": {
    "execution": {
     "iopub.execute_input": "2023-06-13T22:16:40.621873Z",
     "iopub.status.busy": "2023-06-13T22:16:40.621714Z",
     "iopub.status.idle": "2023-06-13T22:16:40.625700Z",
     "shell.execute_reply": "2023-06-13T22:16:40.625093Z"
    }
   },
   "outputs": [],
   "source": [
    "df_categories = df_categories[['id', 'client_id', category_name_col, 'slug', 'created_at', 'updated_at', 'deleted_at']].rename(columns={category_name_col:\"name\"})\n"
   ]
  },
  {
   "cell_type": "code",
   "execution_count": null,
   "metadata": {
    "execution": {
     "iopub.execute_input": "2023-06-13T22:16:40.627853Z",
     "iopub.status.busy": "2023-06-13T22:16:40.627711Z",
     "iopub.status.idle": "2023-06-13T22:16:40.634175Z",
     "shell.execute_reply": "2023-06-13T22:16:40.633569Z"
    }
   },
   "outputs": [],
   "source": [
    "df_categories"
   ]
  },
  {
   "cell_type": "code",
   "execution_count": null,
   "metadata": {
    "execution": {
     "iopub.execute_input": "2023-06-13T22:16:40.636219Z",
     "iopub.status.busy": "2023-06-13T22:16:40.636073Z",
     "iopub.status.idle": "2023-06-13T22:16:40.639718Z",
     "shell.execute_reply": "2023-06-13T22:16:40.639139Z"
    }
   },
   "outputs": [],
   "source": [
    "df_categories.name = df_categories.name.apply(lambda x: x.capitalize())"
   ]
  },
  {
   "cell_type": "code",
   "execution_count": null,
   "metadata": {
    "execution": {
     "iopub.execute_input": "2023-06-13T22:16:40.641771Z",
     "iopub.status.busy": "2023-06-13T22:16:40.641621Z",
     "iopub.status.idle": "2023-06-13T22:16:40.644831Z",
     "shell.execute_reply": "2023-06-13T22:16:40.644141Z"
    }
   },
   "outputs": [],
   "source": [
    "print(df_categories['name'].tolist())"
   ]
  },
  {
   "attachments": {},
   "cell_type": "markdown",
   "metadata": {},
   "source": [
    "# Orders"
   ]
  },
  {
   "cell_type": "code",
   "execution_count": null,
   "metadata": {
    "execution": {
     "iopub.execute_input": "2023-06-13T22:16:40.646980Z",
     "iopub.status.busy": "2023-06-13T22:16:40.646811Z",
     "iopub.status.idle": "2023-06-13T22:16:48.391238Z",
     "shell.execute_reply": "2023-06-13T22:16:48.390364Z"
    }
   },
   "outputs": [],
   "source": [
    "filter = {}\n",
    "path = f'../../data/{client_id}/raw/orders_final_include.csv'\n",
    "\n",
    "\n",
    "if os.path.exists(path):\n",
    "    print('orders_final_include.csv already exists')\n",
    "    df_orders = pd.read_csv(path)\n",
    "    df_orders.reset_index(drop=True, inplace=True)  \n",
    "else:\n",
    "    print('orders_final_include.csv does not exist')\n",
    "    includables = 'branch,products.product,products.options.modifier_option'\n",
    "    # call the foodics api to get the orders\n",
    "    last_page = call_foodics('orders', last_page, client_id, token, includables=includables, filter=filter, return_last_page=True)\n",
    "    print('last_page: ', last_page)\n",
    "\n",
    "    #temp\n",
    "    last_page = 5\n",
    "    \n",
    "    list_responses = call_foodics('orders', last_page, client_id, token, includables=includables, filter=filter)\n",
    "    df_orders = pd.DataFrame([item for sublist in list_responses for item in sublist])\n",
    "    df_orders.to_csv(path, index=False)\n",
    "\n",
    "# TODO: remove this line after testing\n",
    "df_orders = pd.read_csv(path)\n",
    "df_orders.reset_index(drop=True, inplace=True)\n",
    "    "
   ]
  },
  {
   "attachments": {},
   "cell_type": "markdown",
   "metadata": {},
   "source": [
    "### Process Datetime columns"
   ]
  },
  {
   "cell_type": "code",
   "execution_count": null,
   "metadata": {
    "execution": {
     "iopub.execute_input": "2023-06-13T22:16:48.395153Z",
     "iopub.status.busy": "2023-06-13T22:16:48.394987Z",
     "iopub.status.idle": "2023-06-13T22:16:48.439066Z",
     "shell.execute_reply": "2023-06-13T22:16:48.438288Z"
    }
   },
   "outputs": [],
   "source": [
    "df_orders.created_at = pd.to_datetime(df_orders.created_at)\n",
    "max_date = df_orders.created_at.max().date().strftime('%Y-%m-%d')\n",
    "max_date"
   ]
  },
  {
   "cell_type": "code",
   "execution_count": null,
   "metadata": {
    "execution": {
     "iopub.execute_input": "2023-06-13T22:16:48.441194Z",
     "iopub.status.busy": "2023-06-13T22:16:48.441011Z",
     "iopub.status.idle": "2023-06-13T22:16:48.445219Z",
     "shell.execute_reply": "2023-06-13T22:16:48.444656Z"
    }
   },
   "outputs": [],
   "source": [
    "today = date.today().strftime('%Y-%m-%d')\n",
    "today"
   ]
  },
  {
   "cell_type": "code",
   "execution_count": null,
   "metadata": {
    "execution": {
     "iopub.execute_input": "2023-06-13T22:16:48.478761Z",
     "iopub.status.busy": "2023-06-13T22:16:48.478607Z",
     "iopub.status.idle": "2023-06-13T22:16:48.494739Z",
     "shell.execute_reply": "2023-06-13T22:16:48.494063Z"
    }
   },
   "outputs": [],
   "source": [
    "df_orders.head()"
   ]
  },
  {
   "cell_type": "code",
   "execution_count": null,
   "metadata": {
    "execution": {
     "iopub.execute_input": "2023-06-13T22:16:48.496836Z",
     "iopub.status.busy": "2023-06-13T22:16:48.496682Z",
     "iopub.status.idle": "2023-06-13T22:16:48.594325Z",
     "shell.execute_reply": "2023-06-13T22:16:48.593569Z"
    }
   },
   "outputs": [],
   "source": [
    "df_orders['branch'] = df_orders['branch'].astype(str)"
   ]
  },
  {
   "cell_type": "code",
   "execution_count": null,
   "metadata": {
    "execution": {
     "iopub.execute_input": "2023-06-13T22:16:48.597042Z",
     "iopub.status.busy": "2023-06-13T22:16:48.596871Z",
     "iopub.status.idle": "2023-06-13T22:16:52.384380Z",
     "shell.execute_reply": "2023-06-13T22:16:52.383339Z"
    }
   },
   "outputs": [],
   "source": [
    "df_orders['branch_id'] = df_orders['branch'].apply(lambda x: eval(x)['id'])\n",
    "df_orders['client_id'] = client_id"
   ]
  },
  {
   "cell_type": "code",
   "execution_count": null,
   "metadata": {
    "execution": {
     "iopub.execute_input": "2023-06-13T22:16:52.387111Z",
     "iopub.status.busy": "2023-06-13T22:16:52.386926Z",
     "iopub.status.idle": "2023-06-13T22:16:52.457594Z",
     "shell.execute_reply": "2023-06-13T22:16:52.456887Z"
    }
   },
   "outputs": [],
   "source": [
    "orders_header = df_orders[['id', 'client_id', 'branch_id',  'source', 'type', 'status', 'total_price', 'created_at', 'updated_at']]\n",
    "orders_header.isnull().sum()"
   ]
  },
  {
   "cell_type": "code",
   "execution_count": null,
   "metadata": {
    "execution": {
     "iopub.execute_input": "2023-06-13T22:16:52.459681Z",
     "iopub.status.busy": "2023-06-13T22:16:52.459508Z",
     "iopub.status.idle": "2023-06-13T22:16:52.466560Z",
     "shell.execute_reply": "2023-06-13T22:16:52.465996Z"
    }
   },
   "outputs": [],
   "source": [
    "orders_header.head()"
   ]
  },
  {
   "cell_type": "code",
   "execution_count": null,
   "metadata": {
    "execution": {
     "iopub.execute_input": "2023-06-13T22:16:52.468543Z",
     "iopub.status.busy": "2023-06-13T22:16:52.468368Z",
     "iopub.status.idle": "2023-06-13T22:16:52.472197Z",
     "shell.execute_reply": "2023-06-13T22:16:52.471538Z"
    }
   },
   "outputs": [],
   "source": [
    "orders_header['ordered_at'] = orders_header['created_at']"
   ]
  },
  {
   "attachments": {},
   "cell_type": "markdown",
   "metadata": {},
   "source": [
    "# Order Details"
   ]
  },
  {
   "cell_type": "code",
   "execution_count": null,
   "metadata": {
    "execution": {
     "iopub.execute_input": "2023-06-13T22:16:52.483781Z",
     "iopub.status.busy": "2023-06-13T22:16:52.483612Z",
     "iopub.status.idle": "2023-06-13T22:16:52.500109Z",
     "shell.execute_reply": "2023-06-13T22:16:52.499472Z"
    }
   },
   "outputs": [],
   "source": [
    "df_orders.head()"
   ]
  },
  {
   "cell_type": "code",
   "execution_count": null,
   "metadata": {
    "execution": {
     "iopub.execute_input": "2023-06-13T22:16:52.502067Z",
     "iopub.status.busy": "2023-06-13T22:16:52.501900Z",
     "iopub.status.idle": "2023-06-13T22:18:00.530292Z",
     "shell.execute_reply": "2023-06-13T22:18:00.529675Z"
    }
   },
   "outputs": [],
   "source": [
    "# I want to create a dataframe with the following columns:\n",
    "# order_id, product_id, category_id, quantity, price\n",
    "\n",
    "# I will create a list of dictionaries, where each dictionary is a row in the dataframe\n",
    "# I will then convert the list of dictionaries to a dataframe\n",
    "import sys\n",
    "import uuid\n",
    "\n",
    "need_unavailable_category = False\n",
    "\n",
    "list_order_details = []\n",
    "length_orders = len(df_orders)\n",
    "for index, row in df_orders.iterrows():\n",
    "\n",
    "    order_header_id = row['id']\n",
    "    branch_id = eval(row['branch'])['id']\n",
    "    created_at = row['created_at']\n",
    "    updated_at = row['updated_at']\n",
    "    total_price = row['total_price']\n",
    "\n",
    "\n",
    "    for order_product in eval(row['products']):\n",
    "        order_details_id = str(uuid.uuid4())\n",
    "\n",
    "        product_id = order_product['product']['id']\n",
    "        try:\n",
    "            category_id = df_products[df_products['id'] == product_id]['category_id'].values[0]\n",
    "        except:\n",
    "            need_unavailable_category = True\n",
    "            category_id = '00000000-0000-0000-0000-000000000000'\n",
    "        \n",
    "        quantity = order_product['quantity']\n",
    "        price = order_product['total_price']\n",
    "\n",
    "        list_order_details.append({\n",
    "                                   'id':order_details_id,\n",
    "                                   'header_id':order_header_id,\n",
    "                                   'product_id':product_id,\n",
    "                                   'category_id':category_id,\n",
    "                                   'client_id':client_id, \n",
    "                                   'quantity':quantity,\n",
    "                                   'price':price,\n",
    "                                   'created_at':created_at,\n",
    "                                   'updated_at':updated_at})\n"
   ]
  },
  {
   "cell_type": "code",
   "execution_count": null,
   "metadata": {
    "execution": {
     "iopub.execute_input": "2023-06-13T22:18:00.533321Z",
     "iopub.status.busy": "2023-06-13T22:18:00.532950Z",
     "iopub.status.idle": "2023-06-13T22:18:00.540392Z",
     "shell.execute_reply": "2023-06-13T22:18:00.539871Z"
    }
   },
   "outputs": [],
   "source": [
    "if need_unavailable_category:\n",
    "    print(\"Yes, we need to add the unavailable category, make sure to add it in the .env\")\n",
    "    new_row = pd.DataFrame({'id': '00000000-0000-0000-0000-000000000000', 'name': 'Not Available', 'slug':\"not-available\", 'client_id':client_id}, index=[df_categories.index.max()+1])\n",
    "    today = date.today().strftime('%Y-%m-%d')\n",
    "    df_categories = pd.concat([df_categories, new_row], ignore_index=True)\n",
    "    df_categories.created_at = df_categories.created_at.fillna(datetime.now().strftime('%Y-%m-%d %H:%M:%S'))\n",
    "    df_categories.updated_at = df_categories.updated_at.fillna(datetime.now().strftime('%Y-%m-%d %H:%M:%S'))\n",
    "    df_categories.deleted_at = df_categories.deleted_at.fillna(method='ffill')\n",
    "\n",
    "\n",
    "\n",
    "df_categories"
   ]
  },
  {
   "cell_type": "code",
   "execution_count": null,
   "metadata": {
    "execution": {
     "iopub.execute_input": "2023-06-13T22:18:00.542349Z",
     "iopub.status.busy": "2023-06-13T22:18:00.542096Z",
     "iopub.status.idle": "2023-06-13T22:18:00.805066Z",
     "shell.execute_reply": "2023-06-13T22:18:00.804474Z"
    }
   },
   "outputs": [],
   "source": [
    "orders_details = pd.DataFrame(list_order_details)"
   ]
  },
  {
   "cell_type": "code",
   "execution_count": null,
   "metadata": {
    "execution": {
     "iopub.execute_input": "2023-06-13T22:18:00.808029Z",
     "iopub.status.busy": "2023-06-13T22:18:00.807434Z",
     "iopub.status.idle": "2023-06-13T22:18:00.814766Z",
     "shell.execute_reply": "2023-06-13T22:18:00.814221Z"
    }
   },
   "outputs": [],
   "source": [
    "orders_details.head()"
   ]
  },
  {
   "cell_type": "code",
   "execution_count": null,
   "metadata": {
    "execution": {
     "iopub.execute_input": "2023-06-13T22:18:00.816531Z",
     "iopub.status.busy": "2023-06-13T22:18:00.816281Z",
     "iopub.status.idle": "2023-06-13T22:18:00.826967Z",
     "shell.execute_reply": "2023-06-13T22:18:00.826463Z"
    }
   },
   "outputs": [],
   "source": [
    "orders_details[orders_details.category_id.isna()].sort_values('created_at')"
   ]
  },
  {
   "attachments": {},
   "cell_type": "markdown",
   "metadata": {},
   "source": [
    "# Order Details Options"
   ]
  },
  {
   "cell_type": "code",
   "execution_count": null,
   "metadata": {},
   "outputs": [],
   "source": [
    "df_options = pd.DataFrame(eval(df_orders.head()['products'][0])[0]['options'])\n",
    "df_options.head()\n",
    "\n",
    "#iterate over the df_orders dataframe and then iterate over the products column and then iterate over the options column\n",
    "# and then iterate over the modifier_option column\n",
    "\n",
    "list_order_options = []\n",
    "for index, row in df_orders.iterrows():\n",
    "    order_header_id = row['id']\n",
    "    for order_product in eval(row['products']):\n",
    "        product_id = order_product['product']['id']\n",
    "        for order_option in order_product['options']:\n",
    "            modifer_option = order_option['modifier_option']\n",
    "            #get from modifier_option\n",
    "            option_name = modifer_option['name']\n",
    "            option_name_localized = modifer_option['name_localized']\n",
    "            option_sku = modifer_option['sku']\n",
    "\n",
    "            option_id = order_option['id']\n",
    "            option_quantity = order_option['quantity']\n",
    "            option_partition = order_option['partition']\n",
    "            option_unit_price = order_option['unit_price']\n",
    "            option_total_price = order_option['total_price']\n",
    "            option_total_cost = order_option['total_cost']\n",
    "        \n",
    "\n",
    "            # get order_details_id by filtering df_order_details on product_id and order_header_id\n",
    "            order_details_id = orders_details[(orders_details['product_id'] == product_id) & (orders_details['header_id'] == order_header_id)]['id'].values[0]\n",
    "\n",
    "            list_order_options.append({\n",
    "                'order_details_id': order_details_id,\n",
    "                'option_id': option_id,\n",
    "                'option_name': option_name,\n",
    "                'option_name_localized': option_name_localized,\n",
    "                'option_sku': option_sku,\n",
    "                'option_quantity': option_quantity,\n",
    "                'option_partition': option_partition,\n",
    "                'option_unit_price': option_unit_price,\n",
    "                'option_total_price': option_total_price,\n",
    "                'option_total_cost': option_total_cost,\n",
    "            })\n",
    "                                        \n",
    "df_options = pd.DataFrame(list_order_options)"
   ]
  },
  {
   "cell_type": "code",
   "execution_count": null,
   "metadata": {},
   "outputs": [],
   "source": [
    "# filter df_options on order_details_id and option_id\n",
    "df_orders[df_orders['id'] == '0002d85a-c450-4e76-9055-95ed0e8fbef0']['total_price']"
   ]
  },
  {
   "cell_type": "code",
   "execution_count": null,
   "metadata": {},
   "outputs": [],
   "source": [
    "#grab an id from order_details\n",
    "order_details_id = orders_details['id'].values[0]\n",
    "\n",
    "df_options[df_options['order_details_id'] == order_details_id]\n",
    "\n",
    "orders_details[orders_details['id'] == order_details_id]"
   ]
  },
  {
   "cell_type": "code",
   "execution_count": null,
   "metadata": {},
   "outputs": [],
   "source": [
    "# There is no need to recalculate the order_details price by summing product price and options price. The products array comes with total price already calculated for each order details.\n",
    "\n",
    "## KEEP THIS CODE FOR REFERENCE IF WE WANT TO MANUALLY CALCULATE THE ORDER_DETAILS PRICE##\n",
    "# we need to adjust all order_details price coloumn, to be the sum of the column value and the sum of the df_options total_price column\n",
    "# loop over the df_options dataframe and for each order_details_id, sum the total_price column and then update the orders_details dataframe\n",
    "\n",
    "# for index, row in df_options.iterrows():\n",
    "#     order_details_id = row['order_details_id']\n",
    "#     total_price = row['option_total_price']\n",
    "#     orders_details.loc[orders_details['id'] == order_details_id, 'price'] += total_price\n",
    "    \n",
    "# orders_details[orders_details['id'] == order_details_id]"
   ]
  },
  {
   "attachments": {},
   "cell_type": "markdown",
   "metadata": {},
   "source": [
    "## Change Data Timezone from UTC to Asia/Amm"
   ]
  },
  {
   "cell_type": "code",
   "execution_count": null,
   "metadata": {
    "execution": {
     "iopub.execute_input": "2023-06-13T22:18:00.889502Z",
     "iopub.status.busy": "2023-06-13T22:18:00.889256Z",
     "iopub.status.idle": "2023-06-13T22:18:00.896371Z",
     "shell.execute_reply": "2023-06-13T22:18:00.895865Z"
    }
   },
   "outputs": [],
   "source": [
    "orders_header.head()"
   ]
  },
  {
   "cell_type": "code",
   "execution_count": null,
   "metadata": {
    "execution": {
     "iopub.execute_input": "2023-06-13T22:18:00.898211Z",
     "iopub.status.busy": "2023-06-13T22:18:00.897949Z",
     "iopub.status.idle": "2023-06-13T22:18:00.904830Z",
     "shell.execute_reply": "2023-06-13T22:18:00.904329Z"
    }
   },
   "outputs": [],
   "source": [
    "orders_details.head()"
   ]
  },
  {
   "cell_type": "code",
   "execution_count": null,
   "metadata": {
    "execution": {
     "iopub.execute_input": "2023-06-13T22:18:00.906772Z",
     "iopub.status.busy": "2023-06-13T22:18:00.906357Z",
     "iopub.status.idle": "2023-06-13T22:18:01.029234Z",
     "shell.execute_reply": "2023-06-13T22:18:01.028668Z"
    }
   },
   "outputs": [],
   "source": [
    "# import pytz\n",
    "\n",
    "orders_header['ordered_at'] = pd.to_datetime(orders_header['ordered_at'])\n",
    "\n",
    "time_difference = timedelta(hours=client_timezone_offset)\n",
    "\n",
    "orders_header['ordered_at'] += time_difference"
   ]
  },
  {
   "cell_type": "code",
   "execution_count": null,
   "metadata": {
    "execution": {
     "iopub.execute_input": "2023-06-13T22:18:01.031331Z",
     "iopub.status.busy": "2023-06-13T22:18:01.031119Z",
     "iopub.status.idle": "2023-06-13T22:18:01.038416Z",
     "shell.execute_reply": "2023-06-13T22:18:01.037896Z"
    }
   },
   "outputs": [],
   "source": [
    "orders_header.head()"
   ]
  },
  {
   "attachments": {},
   "cell_type": "markdown",
   "metadata": {},
   "source": [
    "# Write to CSV"
   ]
  },
  {
   "cell_type": "code",
   "execution_count": null,
   "metadata": {
    "execution": {
     "iopub.execute_input": "2023-06-13T22:18:01.040402Z",
     "iopub.status.busy": "2023-06-13T22:18:01.040149Z",
     "iopub.status.idle": "2023-06-13T22:18:01.044332Z",
     "shell.execute_reply": "2023-06-13T22:18:01.043888Z"
    }
   },
   "outputs": [],
   "source": [
    "df_products.to_csv(f'../../data/{client_id}/raw/products.csv', index=False)"
   ]
  },
  {
   "cell_type": "code",
   "execution_count": null,
   "metadata": {
    "execution": {
     "iopub.execute_input": "2023-06-13T22:18:01.046047Z",
     "iopub.status.busy": "2023-06-13T22:18:01.045835Z",
     "iopub.status.idle": "2023-06-13T22:18:01.760790Z",
     "shell.execute_reply": "2023-06-13T22:18:01.760126Z"
    }
   },
   "outputs": [],
   "source": [
    "orders_details.to_csv(f'../../data/{client_id}/raw/order_details.csv', index=False)"
   ]
  },
  {
   "cell_type": "code",
   "execution_count": null,
   "metadata": {
    "execution": {
     "iopub.execute_input": "2023-06-13T22:18:01.763335Z",
     "iopub.status.busy": "2023-06-13T22:18:01.763034Z",
     "iopub.status.idle": "2023-06-13T22:18:02.136526Z",
     "shell.execute_reply": "2023-06-13T22:18:02.135922Z"
    }
   },
   "outputs": [],
   "source": [
    "orders_header.to_csv(f'../../data/{client_id}/raw/order_header.csv', index=False)"
   ]
  },
  {
   "cell_type": "code",
   "execution_count": null,
   "metadata": {
    "execution": {
     "iopub.execute_input": "2023-06-13T22:18:02.138879Z",
     "iopub.status.busy": "2023-06-13T22:18:02.138668Z",
     "iopub.status.idle": "2023-06-13T22:18:02.142316Z",
     "shell.execute_reply": "2023-06-13T22:18:02.141820Z"
    }
   },
   "outputs": [],
   "source": [
    "df_categories.to_csv(f'../../data/{client_id}/raw/categories.csv', index=False)"
   ]
  },
  {
   "cell_type": "code",
   "execution_count": null,
   "metadata": {
    "execution": {
     "iopub.execute_input": "2023-06-13T22:18:02.144352Z",
     "iopub.status.busy": "2023-06-13T22:18:02.143991Z",
     "iopub.status.idle": "2023-06-13T22:18:02.147223Z",
     "shell.execute_reply": "2023-06-13T22:18:02.146719Z"
    }
   },
   "outputs": [],
   "source": [
    "df_branches.to_csv(f'../../data/{client_id}/raw/branches.csv', index=False)"
   ]
  },
  {
   "cell_type": "code",
   "execution_count": null,
   "metadata": {},
   "outputs": [],
   "source": [
    "df_options.to_csv(f'../../data/{client_id}/raw/options.csv', index=False)"
   ]
  },
  {
   "attachments": {},
   "cell_type": "markdown",
   "metadata": {},
   "source": [
    "# Display all"
   ]
  },
  {
   "cell_type": "code",
   "execution_count": null,
   "metadata": {
    "execution": {
     "iopub.execute_input": "2023-06-13T22:18:02.149355Z",
     "iopub.status.busy": "2023-06-13T22:18:02.148889Z",
     "iopub.status.idle": "2023-06-13T22:18:02.156692Z",
     "shell.execute_reply": "2023-06-13T22:18:02.156183Z"
    }
   },
   "outputs": [],
   "source": [
    "df_products.head()"
   ]
  },
  {
   "cell_type": "code",
   "execution_count": null,
   "metadata": {
    "execution": {
     "iopub.execute_input": "2023-06-13T22:18:02.158453Z",
     "iopub.status.busy": "2023-06-13T22:18:02.158159Z",
     "iopub.status.idle": "2023-06-13T22:18:02.164767Z",
     "shell.execute_reply": "2023-06-13T22:18:02.164266Z"
    }
   },
   "outputs": [],
   "source": [
    "orders_details.head()"
   ]
  },
  {
   "cell_type": "code",
   "execution_count": null,
   "metadata": {
    "execution": {
     "iopub.execute_input": "2023-06-13T22:18:02.166439Z",
     "iopub.status.busy": "2023-06-13T22:18:02.166192Z",
     "iopub.status.idle": "2023-06-13T22:18:02.173030Z",
     "shell.execute_reply": "2023-06-13T22:18:02.172516Z"
    }
   },
   "outputs": [],
   "source": [
    "orders_header.head()"
   ]
  },
  {
   "cell_type": "code",
   "execution_count": null,
   "metadata": {
    "execution": {
     "iopub.execute_input": "2023-06-13T22:18:02.174815Z",
     "iopub.status.busy": "2023-06-13T22:18:02.174567Z",
     "iopub.status.idle": "2023-06-13T22:18:02.180470Z",
     "shell.execute_reply": "2023-06-13T22:18:02.179963Z"
    }
   },
   "outputs": [],
   "source": [
    "df_branches.head()"
   ]
  },
  {
   "cell_type": "code",
   "execution_count": null,
   "metadata": {
    "execution": {
     "iopub.execute_input": "2023-06-13T22:18:02.182416Z",
     "iopub.status.busy": "2023-06-13T22:18:02.182080Z",
     "iopub.status.idle": "2023-06-13T22:18:02.187994Z",
     "shell.execute_reply": "2023-06-13T22:18:02.187480Z"
    }
   },
   "outputs": [],
   "source": [
    "df_categories.head()"
   ]
  },
  {
   "cell_type": "code",
   "execution_count": null,
   "metadata": {},
   "outputs": [],
   "source": [
    "df_options.head()"
   ]
  }
 ],
 "metadata": {
  "kernelspec": {
   "display_name": ".venv",
   "language": "python",
   "name": "python3"
  },
  "language_info": {
   "codemirror_mode": {
    "name": "ipython",
    "version": 3
   },
   "file_extension": ".py",
   "mimetype": "text/x-python",
   "name": "python",
   "nbconvert_exporter": "python",
   "pygments_lexer": "ipython3",
   "version": "3.10.11"
  }
 },
 "nbformat": 4,
 "nbformat_minor": 2
}
